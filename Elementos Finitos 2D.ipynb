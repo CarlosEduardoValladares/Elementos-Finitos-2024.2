{
 "cells": [
  {
   "cell_type": "code",
   "execution_count": 1,
   "metadata": {},
   "outputs": [],
   "source": [
    "using LinearAlgebra\n",
    "using Plots\n",
    "using GaussQuadrature\n",
    "using SparseArrays\n",
    "using DataFrames\n",
    "using Printf"
   ]
  },
  {
   "cell_type": "markdown",
   "metadata": {},
   "source": [
    "## Base"
   ]
  },
  {
   "cell_type": "code",
   "execution_count": 2,
   "metadata": {},
   "outputs": [
    {
     "data": {
      "text/plain": [
       "∂ϕ (generic function with 1 method)"
      ]
     },
     "execution_count": 2,
     "metadata": {},
     "output_type": "execute_result"
    }
   ],
   "source": [
    "function ϕ(a::Int64)::Function\n",
    "    if a == 1\n",
    "        return (ξ₁::Float64, ξ₂::Float64) -> (1.0-ξ₁)*(1.0-ξ₂)/4.0\n",
    "        \n",
    "    elseif a == 2\n",
    "        return (ξ₁::Float64, ξ₂::Float64) -> (1.0+ξ₁)*(1.0-ξ₂)/4.0\n",
    "        \n",
    "    elseif a == 3\n",
    "        return (ξ₁::Float64, ξ₂::Float64) -> (1.0+ξ₁)*(1.0+ξ₂)/4.0\n",
    "        \n",
    "    elseif a == 4\n",
    "        return (ξ₁::Float64, ξ₂::Float64) -> (1.0-ξ₁)*(1.0+ξ₂)/4.0\n",
    "        \n",
    "    end\n",
    "end\n",
    "\n",
    "function ∂ϕ(variable::Int64, a::Int64)::Function\n",
    "    if variable == 1\n",
    "        if a == 1\n",
    "            return (ξ₁::Float64, ξ₂::Float64) -> -(1.0-ξ₂)/4.0\n",
    "        elseif a == 2\n",
    "            return (ξ₁::Float64, ξ₂::Float64) ->  (1.0-ξ₂)/4.0\n",
    "        elseif a == 3\n",
    "            return (ξ₁::Float64, ξ₂::Float64) ->  (1.0+ξ₂)/4.0\n",
    "        elseif a == 4\n",
    "            return (ξ₁::Float64, ξ₂::Float64) -> -(1.0+ξ₂)/4.0\n",
    "        end\n",
    "        \n",
    "    elseif variable == 2\n",
    "        if a == 1\n",
    "            return (ξ₁::Float64, ξ₂::Float64) -> -(1.0-ξ₁)/4.0\n",
    "        elseif a == 2\n",
    "            return (ξ₁::Float64, ξ₂::Float64) -> -(1.0+ξ₁)/4.0\n",
    "        elseif a == 3\n",
    "            return (ξ₁::Float64, ξ₂::Float64) ->  (1.0+ξ₁)/4.0\n",
    "        elseif a == 4\n",
    "            return (ξ₁::Float64, ξ₂::Float64) ->  (1.0-ξ₁)/4.0\n",
    "        end\n",
    "        \n",
    "    end\n",
    "end"
   ]
  },
  {
   "cell_type": "code",
   "execution_count": 3,
   "metadata": {},
   "outputs": [
    {
     "data": {
      "text/plain": [
       "mapper_to_x (generic function with 1 method)"
      ]
     },
     "execution_count": 3,
     "metadata": {},
     "output_type": "execute_result"
    }
   ],
   "source": [
    "function mapper_to_x(h::Float64, pᵉ::Float64)::Function\n",
    "    return (ξ::Float64) -> (h/2)*(ξ+1) + pᵉ\n",
    "end"
   ]
  },
  {
   "cell_type": "code",
   "execution_count": 4,
   "metadata": {},
   "outputs": [
    {
     "data": {
      "text/plain": [
       "quadratura_F_2D (generic function with 1 method)"
      ]
     },
     "execution_count": 4,
     "metadata": {},
     "output_type": "execute_result"
    }
   ],
   "source": [
    "function quadratura_phis_K_2D(f1::Function, f2::Function, P::Vector{Float64}, W::Vector{Float64})::Float64\n",
    "    quadratura = 0.0\n",
    "    \n",
    "    for (ξ₁, w₁) in zip(P, W)\n",
    "        for (ξ₂, w₂) in zip(P, W)\n",
    "            quadratura += (w₁*w₂) * (f1(ξ₁, ξ₂) * f2(ξ₁, ξ₂))\n",
    "        end\n",
    "    end\n",
    "    \n",
    "    return quadratura\n",
    "end\n",
    "\n",
    "function quadratura_F_2D(f1::Function, f2::Function, h::Vector{Float64}, pᵉ::Vector{Float64}, P::Vector{Float64}, W::Vector{Float64})::Float64\n",
    "    quadratura = 0.0\n",
    "    \n",
    "    ξ_to_x1 = mapper_to_x(h[1], pᵉ[1])\n",
    "    ξ_to_x2 = mapper_to_x(h[2], pᵉ[2])\n",
    "    \n",
    "    for (ξ₁, w₁) in zip(P, W)\n",
    "        for (ξ₂, w₂) in zip(P, W)            \n",
    "            quadratura += (w₁*w₂) * f1(ξ_to_x1(ξ₁), ξ_to_x2(ξ₂)) * f2(ξ₁, ξ₂)\n",
    "        end\n",
    "    end\n",
    "    \n",
    "    return quadratura\n",
    "end"
   ]
  },
  {
   "cell_type": "code",
   "execution_count": 5,
   "metadata": {},
   "outputs": [
    {
     "data": {
      "text/plain": [
       "monta_F_local_2D (generic function with 1 method)"
      ]
     },
     "execution_count": 5,
     "metadata": {},
     "output_type": "execute_result"
    }
   ],
   "source": [
    "function monta_K_local_2D(α::Float64, β::Float64, h::Vector{Float64}, P::Vector{Float64}, W::Vector{Float64})::Matrix{Float64}\n",
    "    K_local = zeros(4, 4)\n",
    "    \n",
    "    for a in 1:4\n",
    "        for b in 1:4\n",
    "            K_local[a, b] = (α*h[2]/h[1]  ) * quadratura_phis_K_2D(∂ϕ(1,b), ∂ϕ(1,a), P, W) +\n",
    "                            (α*h[1]/h[2]  ) * quadratura_phis_K_2D(∂ϕ(2,b), ∂ϕ(2,a), P, W) +\n",
    "                            (β*h[1]*h[2]/4) * quadratura_phis_K_2D( ϕ(  b),  ϕ(  a), P, W)\n",
    "        end\n",
    "    end\n",
    "    \n",
    "    return K_local\n",
    "end\n",
    "\n",
    "function monta_F_local_2D(α::Float64, β::Float64, f::Function, h::Vector{Float64}, pᵉ::Vector{Float64}, P::Vector{Float64}, W::Vector{Float64})\n",
    "    F_local = zeros(4)\n",
    "    \n",
    "    for a in 1:4\n",
    "         F_local[a] = (h[1]*h[2]/4) * quadratura_F_2D(f, ϕ(a), h, pᵉ, P, W)\n",
    "    end\n",
    "    \n",
    "    return F_local    \n",
    "end"
   ]
  },
  {
   "cell_type": "code",
   "execution_count": 6,
   "metadata": {},
   "outputs": [
    {
     "data": {
      "text/plain": [
       "4×4 Matrix{Float64}:\n",
       "  4.0  -1.0  -2.0  -1.0\n",
       " -1.0   4.0  -1.0  -2.0\n",
       " -2.0  -1.0   4.0  -1.0\n",
       " -1.0  -2.0  -1.0   4.0"
      ]
     },
     "metadata": {},
     "output_type": "display_data"
    },
    {
     "data": {
      "text/plain": [
       "4-element Vector{Float64}:\n",
       " 1.0\n",
       " 1.0\n",
       " 1.0\n",
       " 1.0"
      ]
     },
     "metadata": {},
     "output_type": "display_data"
    }
   ],
   "source": [
    "# Teste 1\n",
    "\n",
    "h = [1/4; 1/4]\n",
    "α = 6.0\n",
    "β = 0.0\n",
    "\n",
    "f = (x1::Float64, x2::Float64) -> 4/(h[1]*h[2])\n",
    "pᵉ = [0.0; 0.0]\n",
    "P, W = legendre(2)\n",
    "\n",
    "display(monta_K_local_2D(α, β, h, P, W))\n",
    "display(monta_F_local_2D(α, β, f, h, pᵉ, P, W))"
   ]
  },
  {
   "cell_type": "code",
   "execution_count": 7,
   "metadata": {
    "scrolled": true
   },
   "outputs": [
    {
     "data": {
      "text/plain": [
       "4×4 Matrix{Float64}:\n",
       " 4.0  2.0  1.0  2.0\n",
       " 2.0  4.0  2.0  1.0\n",
       " 1.0  2.0  4.0  2.0\n",
       " 2.0  1.0  2.0  4.0"
      ]
     },
     "metadata": {},
     "output_type": "display_data"
    },
    {
     "data": {
      "text/plain": [
       "4-element Vector{Float64}:\n",
       "  4.0\n",
       "  8.0\n",
       " 16.0\n",
       "  8.0"
      ]
     },
     "metadata": {},
     "output_type": "display_data"
    }
   ],
   "source": [
    "# Teste 2\n",
    "\n",
    "h = [1/4; 1/4]\n",
    "α = 0.0\n",
    "β = (9.0 * 4.0)/ (h[1] * h[2])\n",
    "\n",
    "f = (x1::Float64, x2::Float64) -> (16/(h[1]*h[2])^2)*9*x1*x2\n",
    "pᵉ = [0.0; 0.0]\n",
    "P, W = legendre(2)\n",
    "\n",
    "display(monta_K_local_2D(α, β, h, P, W))\n",
    "display(monta_F_local_2D(α, β, f, h, pᵉ, P, W))"
   ]
  },
  {
   "cell_type": "code",
   "execution_count": 8,
   "metadata": {},
   "outputs": [
    {
     "data": {
      "text/plain": [
       "monta_LG (generic function with 1 method)"
      ]
     },
     "execution_count": 8,
     "metadata": {},
     "output_type": "execute_result"
    }
   ],
   "source": [
    "function monta_LG(Nx1::Int64, Nx2::Int64)::Matrix{Int64}\n",
    "    vec_line = (line::Int64) -> (Nx1+1)*line .+ (1:Nx1)\n",
    "    vec = vec_line.(0:Nx2-1)\n",
    "    \n",
    "    get_LG_column = (corner_index::Int64) -> [corner_index; corner_index + 1;\n",
    "                                              corner_index + Nx1+2; corner_index + Nx1+1]\n",
    "    \n",
    "    flat_matrix = Iterators.flatten(map(x -> get_LG_column.(x), vec))\n",
    "    matrix = reshape(collect(Iterators.flatten(flat_matrix)), (4, Nx1*Nx2))\n",
    "    \n",
    "    return matrix\n",
    "end"
   ]
  },
  {
   "cell_type": "code",
   "execution_count": 9,
   "metadata": {},
   "outputs": [
    {
     "data": {
      "text/plain": [
       "4×16 Matrix{Int64}:\n",
       " 1  2  3   4   6   7   8   9  11  12  13  14  16  17  18  19\n",
       " 2  3  4   5   7   8   9  10  12  13  14  15  17  18  19  20\n",
       " 7  8  9  10  12  13  14  15  17  18  19  20  22  23  24  25\n",
       " 6  7  8   9  11  12  13  14  16  17  18  19  21  22  23  24"
      ]
     },
     "execution_count": 9,
     "metadata": {},
     "output_type": "execute_result"
    }
   ],
   "source": [
    "monta_LG(4, 4)"
   ]
  },
  {
   "cell_type": "code",
   "execution_count": 10,
   "metadata": {},
   "outputs": [
    {
     "data": {
      "text/plain": [
       "monta_EQ (generic function with 1 method)"
      ]
     },
     "execution_count": 10,
     "metadata": {},
     "output_type": "execute_result"
    }
   ],
   "source": [
    "function monta_EQ(Nx1::Int64, Nx2::Int64)::Tuple{Int64, Vector{Int64}}\n",
    "    m = (Nx1-1)*(Nx2-1)\n",
    "    get_EQ_column = (column_index::Int64) -> [m+1; column_index:(Nx1-1):m ;m+1]\n",
    "    \n",
    "    lateral_column = repeat([m+1], Nx2+1)\n",
    "    flat_matrix = collect(Iterators.flatten([lateral_column; get_EQ_column.(1:Nx1-1); lateral_column]))::Vector{Int64}\n",
    "    \n",
    "    return (m, flat_matrix)\n",
    "end"
   ]
  },
  {
   "cell_type": "code",
   "execution_count": 11,
   "metadata": {},
   "outputs": [
    {
     "data": {
      "text/plain": [
       "(6, [7, 7, 7, 7, 7, 1, 4, 7, 7, 2, 5, 7, 7, 3, 6, 7, 7, 7, 7, 7])"
      ]
     },
     "execution_count": 11,
     "metadata": {},
     "output_type": "execute_result"
    }
   ],
   "source": [
    "monta_EQ(4, 3)"
   ]
  },
  {
   "cell_type": "code",
   "execution_count": 12,
   "metadata": {},
   "outputs": [
    {
     "data": {
      "text/plain": [
       "(9, [10, 10, 10, 10, 10, 10, 1, 4, 7, 10  …  10, 3, 6, 9, 10, 10, 10, 10, 10, 10])"
      ]
     },
     "execution_count": 12,
     "metadata": {},
     "output_type": "execute_result"
    }
   ],
   "source": [
    "monta_EQ(4, 4)"
   ]
  },
  {
   "cell_type": "code",
   "execution_count": 14,
   "metadata": {},
   "outputs": [
    {
     "data": {
      "text/plain": [
       "monta_F_global_2D (generic function with 1 method)"
      ]
     },
     "execution_count": 14,
     "metadata": {},
     "output_type": "execute_result"
    }
   ],
   "source": [
    "function monta_F_global_2D(α::Float64, β::Float64, f::Function, Nx1::Int64, Nx2::Int64, m::Int64, EQoLG::Matrix{Int64})::Vector{Float64}\n",
    "    h = [1/Nx1; 1/Nx2]    \n",
    "    F_global = zeros(m+1)\n",
    "    \n",
    "    P, W = legendre(5)\n",
    "    \n",
    "    for j in 1:Nx2\n",
    "        for i in 1:Nx1\n",
    "            pᵉ = [(i-1)*h[1]; (j-1)*h[2]]\n",
    "            e = (j-1)*Nx1 + i\n",
    "            F_local = monta_F_local_2D(α, β, f, h, pᵉ, P, W)\n",
    "            \n",
    "            display(e)\n",
    "            for a in 1:4\n",
    "                index = EQoLG[a, e]\n",
    "                F_global[index] += F_local[a, e]\n",
    "            end\n",
    "        end\n",
    "    end\n",
    "end\n"
   ]
  },
  {
   "cell_type": "code",
   "execution_count": 17,
   "metadata": {},
   "outputs": [
    {
     "data": {
      "text/plain": [
       "1"
      ]
     },
     "metadata": {},
     "output_type": "display_data"
    },
    {
     "data": {
      "text/plain": [
       "2"
      ]
     },
     "metadata": {},
     "output_type": "display_data"
    },
    {
     "ename": "LoadError",
     "evalue": "BoundsError: attempt to access 4-element Vector{Float64} at index [1, 2]",
     "output_type": "error",
     "traceback": [
      "BoundsError: attempt to access 4-element Vector{Float64} at index [1, 2]",
      "",
      "Stacktrace:",
      " [1] throw_boundserror(A::Vector{Float64}, I::Tuple{Int64, Int64})",
      "   @ Base ./essentials.jl:14",
      " [2] checkbounds",
      "   @ ./abstractarray.jl:699 [inlined]",
      " [3] getindex",
      "   @ ./array.jl:918 [inlined]",
      " [4] monta_F_global_2D(α::Float64, β::Float64, f::Function, Nx1::Int64, Nx2::Int64, m::Int64, EQoLG::Matrix{Int64})",
      "   @ Main ./In[14]:16",
      " [5] top-level scope",
      "   @ In[17]:11"
     ]
    }
   ],
   "source": [
    "α = 1.0\n",
    "β = 1.0\n",
    "\n",
    "h = [1/4; 1/4]\n",
    "f = (x1::Float64, x2::Float64) -> 4/(h[1]*h[2])\n",
    "Nx1 = 4\n",
    "Nx2 = 3\n",
    "m, EQ = monta_EQ(Nx1, Nx2)\n",
    "LG = monta_LG(Nx1, Nx2)\n",
    "\n",
    "monta_F_global_2D(α, β, f, Nx1, Nx2, m, EQ[LG])"
   ]
  },
  {
   "cell_type": "code",
   "execution_count": null,
   "metadata": {},
   "outputs": [],
   "source": []
  }
 ],
 "metadata": {
  "kernelspec": {
   "display_name": "Julia 1.11.1",
   "language": "julia",
   "name": "julia-1.11"
  },
  "language_info": {
   "file_extension": ".jl",
   "mimetype": "application/julia",
   "name": "julia",
   "version": "1.11.1"
  }
 },
 "nbformat": 4,
 "nbformat_minor": 2
}
