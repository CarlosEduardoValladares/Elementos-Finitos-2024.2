{
 "cells": [
  {
   "cell_type": "code",
   "execution_count": 1,
   "metadata": {},
   "outputs": [],
   "source": [
    "using LinearAlgebra\n",
    "using Plots\n",
    "using GaussQuadrature\n",
    "using SparseArrays\n",
    "using DataFrames\n",
    "using Printf"
   ]
  },
  {
   "cell_type": "markdown",
   "metadata": {},
   "source": [
    "## Base"
   ]
  },
  {
   "cell_type": "code",
   "execution_count": 2,
   "metadata": {},
   "outputs": [
    {
     "data": {
      "text/plain": [
       "∂ϕ (generic function with 1 method)"
      ]
     },
     "execution_count": 2,
     "metadata": {},
     "output_type": "execute_result"
    }
   ],
   "source": [
    "function ϕ(a::Int64)::Function\n",
    "    if a == 1\n",
    "        return (ξ₁::Float64, ξ₂::Float64) -> (1.0-ξ₁)*(1.0-ξ₂)/4.0\n",
    "        \n",
    "    elseif a == 2\n",
    "        return (ξ₁::Float64, ξ₂::Float64) -> (1.0+ξ₁)*(1.0-ξ₂)/4.0\n",
    "        \n",
    "    elseif a == 3\n",
    "        return (ξ₁::Float64, ξ₂::Float64) -> (1.0+ξ₁)*(1.0+ξ₂)/4.0\n",
    "        \n",
    "    elseif a == 4\n",
    "        return (ξ₁::Float64, ξ₂::Float64) -> (1.0-ξ₁)*(1.0+ξ₂)/4.0\n",
    "        \n",
    "    end\n",
    "end\n",
    "\n",
    "function ∂ϕ(variable::Int64, a)::Function\n",
    "    if variable == 1\n",
    "        if a == 1\n",
    "            return (ξ₁::Float64, ξ₂::Float64) -> -(1.0-ξ₂)/4.0\n",
    "        elseif a == 2\n",
    "            return (ξ₁::Float64, ξ₂::Float64) ->  (1.0-ξ₂)/4.0\n",
    "        elseif a == 3\n",
    "            return (ξ₁::Float64, ξ₂::Float64) ->  (1.0+ξ₂)/4.0\n",
    "        elseif a == 4\n",
    "            return (ξ₁::Float64, ξ₂::Float64) -> -(1.0+ξ₂)/4.0\n",
    "        end\n",
    "        \n",
    "    elseif variable == 2\n",
    "        if a == 1\n",
    "            return (ξ₁::Float64, ξ₂::Float64) -> -(1.0-ξ₁)/4.0\n",
    "        elseif a == 2\n",
    "            return (ξ₁::Float64, ξ₂::Float64) -> -(1.0+ξ₁)/4.0\n",
    "        elseif a == 3\n",
    "            return (ξ₁::Float64, ξ₂::Float64) ->  (1.0+ξ₁)/4.0\n",
    "        elseif a == 4\n",
    "            return (ξ₁::Float64, ξ₂::Float64) ->  (1.0-ξ₁)/4.0\n",
    "        end\n",
    "        \n",
    "    end\n",
    "end"
   ]
  },
  {
   "cell_type": "code",
   "execution_count": 10,
   "metadata": {},
   "outputs": [
    {
     "data": {
      "text/plain": [
       "quadratura_phis_K_2D (generic function with 1 method)"
      ]
     },
     "execution_count": 10,
     "metadata": {},
     "output_type": "execute_result"
    }
   ],
   "source": [
    "function quadratura_phis_K_2D(f1::Function, f2::Function, P::Vector{Float64}, W::Vector{Float64})::Float64\n",
    "    quadratura = 0\n",
    "    \n",
    "    for (ξ₁, w₁) in zip(P, W)\n",
    "        for (ξ₂, w₂) in zip(P, W)\n",
    "            quadratura += (w₁*w₂) * (f1(ξ₁, ξ₂) * f2(ξ₁, ξ₂))\n",
    "            #@printf(\"%f | %f | %f | %f \\n\", ξ₁, ξ₂, w₁, w₂)\n",
    "        end\n",
    "    end\n",
    "    \n",
    "    return quadratura\n",
    "end"
   ]
  },
  {
   "cell_type": "code",
   "execution_count": 4,
   "metadata": {},
   "outputs": [
    {
     "data": {
      "text/plain": [
       "monta_K_local_2D (generic function with 1 method)"
      ]
     },
     "execution_count": 4,
     "metadata": {},
     "output_type": "execute_result"
    }
   ],
   "source": [
    "function monta_K_local_2D(α::Float64, β::Float64, h₁::Float64, h₂::Float64, P::Vector{Float64}, W::Vector{Float64})::Matrix{Float64}\n",
    "    K_local = zeros(4, 4)\n",
    "    \n",
    "    for a in 1:4\n",
    "        for b in 1:4\n",
    "            K_local[a, b] =   (α*h₂/h₁  ) * quadratura_phis_K_2D(∂ϕ(1,b), ∂ϕ(1,a), P, W)\n",
    "                            + (α*h₁/h₂  ) * quadratura_phis_K_2D(∂ϕ(2,b), ∂ϕ(2,a), P, W)\n",
    "                            + (β*h₁*h₂/4) * quadratura_phis_K_2D( ϕ(  b),  ϕ(  a), P, W)\n",
    "        end\n",
    "    end\n",
    "    \n",
    "    return K_local\n",
    "end"
   ]
  },
  {
   "cell_type": "code",
   "execution_count": 11,
   "metadata": {},
   "outputs": [
    {
     "data": {
      "text/plain": [
       "4×4 Matrix{Float64}:\n",
       "  2.0  -2.0  -1.0   1.0\n",
       " -2.0   2.0   1.0  -1.0\n",
       " -1.0   1.0   2.0  -2.0\n",
       "  1.0  -1.0  -2.0   2.0"
      ]
     },
     "metadata": {},
     "output_type": "display_data"
    }
   ],
   "source": [
    "α = 6.0\n",
    "β = 0.0\n",
    "h₁ = 1/4\n",
    "h₂ = 1/4\n",
    "P, W = legendre(2)\n",
    "\n",
    "#quadratura_phis_K_2D( ϕ(  1),  ϕ(  1), P, W)\n",
    "display(monta_K_local_2D(α, β, h₁, h₂, P, W))"
   ]
  },
  {
   "cell_type": "code",
   "execution_count": null,
   "metadata": {},
   "outputs": [],
   "source": []
  }
 ],
 "metadata": {
  "kernelspec": {
   "display_name": "Julia 1.11.0",
   "language": "julia",
   "name": "julia-1.11"
  },
  "language_info": {
   "file_extension": ".jl",
   "mimetype": "application/julia",
   "name": "julia",
   "version": "1.11.0"
  }
 },
 "nbformat": 4,
 "nbformat_minor": 2
}
