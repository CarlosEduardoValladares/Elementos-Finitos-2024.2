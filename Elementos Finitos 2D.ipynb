{
 "cells": [
  {
   "cell_type": "code",
   "execution_count": 1,
   "metadata": {},
   "outputs": [],
   "source": [
    "using LinearAlgebra\n",
    "using Plots\n",
    "using GaussQuadrature\n",
    "using SparseArrays\n",
    "using DataFrames\n",
    "using Printf"
   ]
  },
  {
   "cell_type": "markdown",
   "metadata": {},
   "source": [
    "## Base"
   ]
  },
  {
   "cell_type": "code",
   "execution_count": 2,
   "metadata": {},
   "outputs": [
    {
     "data": {
      "text/plain": [
       "∂ϕ (generic function with 1 method)"
      ]
     },
     "execution_count": 2,
     "metadata": {},
     "output_type": "execute_result"
    }
   ],
   "source": [
    "function ϕ(a::Int64)::Function\n",
    "    if a == 1\n",
    "        return (ξ₁::Float64, ξ₂::Float64) -> (1.0-ξ₁)*(1.0-ξ₂)/4.0\n",
    "        \n",
    "    elseif a == 2\n",
    "        return (ξ₁::Float64, ξ₂::Float64) -> (1.0+ξ₁)*(1.0-ξ₂)/4.0\n",
    "        \n",
    "    elseif a == 3\n",
    "        return (ξ₁::Float64, ξ₂::Float64) -> (1.0+ξ₁)*(1.0+ξ₂)/4.0\n",
    "        \n",
    "    elseif a == 4\n",
    "        return (ξ₁::Float64, ξ₂::Float64) -> (1.0-ξ₁)*(1.0+ξ₂)/4.0\n",
    "        \n",
    "    end\n",
    "end\n",
    "\n",
    "function ∂ϕ(variable::Int64, a::Int64)::Function\n",
    "    if variable == 1\n",
    "        if a == 1\n",
    "            return (ξ₁::Float64, ξ₂::Float64) -> -(1.0-ξ₂)/4.0\n",
    "        elseif a == 2\n",
    "            return (ξ₁::Float64, ξ₂::Float64) ->  (1.0-ξ₂)/4.0\n",
    "        elseif a == 3\n",
    "            return (ξ₁::Float64, ξ₂::Float64) ->  (1.0+ξ₂)/4.0\n",
    "        elseif a == 4\n",
    "            return (ξ₁::Float64, ξ₂::Float64) -> -(1.0+ξ₂)/4.0\n",
    "        end\n",
    "        \n",
    "    elseif variable == 2\n",
    "        if a == 1\n",
    "            return (ξ₁::Float64, ξ₂::Float64) -> -(1.0-ξ₁)/4.0\n",
    "        elseif a == 2\n",
    "            return (ξ₁::Float64, ξ₂::Float64) -> -(1.0+ξ₁)/4.0\n",
    "        elseif a == 3\n",
    "            return (ξ₁::Float64, ξ₂::Float64) ->  (1.0+ξ₁)/4.0\n",
    "        elseif a == 4\n",
    "            return (ξ₁::Float64, ξ₂::Float64) ->  (1.0-ξ₁)/4.0\n",
    "        end\n",
    "        \n",
    "    end\n",
    "end"
   ]
  },
  {
   "cell_type": "code",
   "execution_count": 3,
   "metadata": {},
   "outputs": [
    {
     "data": {
      "text/plain": [
       "mapper_to_x (generic function with 1 method)"
      ]
     },
     "execution_count": 3,
     "metadata": {},
     "output_type": "execute_result"
    }
   ],
   "source": [
    "function mapper_to_x(h::Float64, pᵉ::Float64)::Float64\n",
    "    return (ξ::Float64) -> ((h/2)*(ξ+1)) + pᵉ\n",
    "end"
   ]
  },
  {
   "cell_type": "code",
   "execution_count": 4,
   "metadata": {},
   "outputs": [
    {
     "data": {
      "text/plain": [
       "quadratura_F_2D (generic function with 1 method)"
      ]
     },
     "execution_count": 4,
     "metadata": {},
     "output_type": "execute_result"
    }
   ],
   "source": [
    "function quadratura_phis_K_2D(f1::Function, f2::Function, P::Vector{Float64}, W::Vector{Float64})::Float64\n",
    "    quadratura = 0\n",
    "    \n",
    "    for (ξ₁, w₁) in zip(P, W)\n",
    "        for (ξ₂, w₂) in zip(P, W)\n",
    "            quadratura += (w₁*w₂) * (f1(ξ₁, ξ₂) * f2(ξ₁, ξ₂))\n",
    "            #@printf(\"%f | %f | %f | %f \\n\", ξ₁, ξ₂, w₁, w₂)\n",
    "        end\n",
    "    end\n",
    "    \n",
    "    return quadratura\n",
    "end\n",
    "\n",
    "function quadratura_F_2D(f1::Function, f2::Function, h::Vector{Float64}, pᵉ::Vector{Float64}, P::Vector{Float64}, W::Vector{Float64})::Float64\n",
    "    quadratura = 0\n",
    "    \n",
    "    ξ_to_x1 = mapper_to_x(h[1], pᵉ[1])\n",
    "    ξ_to_x2 = mapper_to_x(h[2], pᵉ[2])\n",
    "    \n",
    "    for (ξ₁, w₁) in zip(P, W)\n",
    "        for (ξ₂, w₂) in zip(P, W)            \n",
    "            quadratura += (w₁*w₂) * f1(ξ_to_x1(ξ₁), ξ_to_x2(ξ₂)) * f2(ξ₁, ξ₂)\n",
    "        end\n",
    "    end\n",
    "end"
   ]
  },
  {
   "cell_type": "code",
   "execution_count": 5,
   "metadata": {},
   "outputs": [
    {
     "data": {
      "text/plain": [
       "monta_F_local_2D (generic function with 1 method)"
      ]
     },
     "execution_count": 5,
     "metadata": {},
     "output_type": "execute_result"
    }
   ],
   "source": [
    "function monta_K_local_2D(α::Float64, β::Float64, h::Vector{Float64}, P::Vector{Float64}, W::Vector{Float64})::Matrix{Float64}\n",
    "    K_local = zeros(4, 4)\n",
    "    \n",
    "    for a in 1:4\n",
    "        for b in 1:4\n",
    "            K_local[a, b] = (α*h[2]/h[1]  ) * quadratura_phis_K_2D(∂ϕ(1,b), ∂ϕ(1,a), P, W) +\n",
    "                            (α*h[1]/h[2]  ) * quadratura_phis_K_2D(∂ϕ(2,b), ∂ϕ(2,a), P, W) +\n",
    "                            (β*h[1]*h[2]/4) * quadratura_phis_K_2D( ϕ(  b),  ϕ(  a), P, W)\n",
    "        end\n",
    "    end\n",
    "    \n",
    "    return K_local\n",
    "end\n",
    "\n",
    "function monta_F_local_2D(α::Float64, β::Float64, f::Function, h::Vector{Float64}, pᵉ::Vector{Float64}, P::Vector{Float64}, W::Vector{Float64})\n",
    "    F_local = zeros(4)\n",
    "    \n",
    "    for a in 1:4\n",
    "         F_local[a] = (h[1]*h[2]/4) * quadratura_F_2D(f, ϕ(a), h, pᵉ, P, W)\n",
    "    end\n",
    "    \n",
    "    return F_local    \n",
    "end"
   ]
  },
  {
   "cell_type": "code",
   "execution_count": 6,
   "metadata": {},
   "outputs": [
    {
     "data": {
      "text/plain": [
       "4×4 Matrix{Float64}:\n",
       "  4.0  -1.0  -2.0  -1.0\n",
       " -1.0   4.0  -1.0  -2.0\n",
       " -2.0  -1.0   4.0  -1.0\n",
       " -1.0  -2.0  -1.0   4.0"
      ]
     },
     "metadata": {},
     "output_type": "display_data"
    },
    {
     "ename": "LoadError",
     "evalue": "MethodError: \u001b[0mCannot `convert` an object of type \u001b[92mvar\"#25#26\"{Float64, Float64}\u001b[39m\u001b[0m to an object of type \u001b[91mFloat64\u001b[39m\nThe function `convert` exists, but no method is defined for this combination of argument types.\n\n\u001b[0mClosest candidates are:\n\u001b[0m  convert(::Type{Float64}, \u001b[91m::Measures.AbsoluteLength\u001b[39m)\n\u001b[0m\u001b[90m   @\u001b[39m \u001b[36mMeasures\u001b[39m \u001b[90m~/.julia/packages/Measures/PKOxJ/src/\u001b[39m\u001b[90m\u001b[4mlength.jl:12\u001b[24m\u001b[39m\n\u001b[0m  convert(::Type{T}, \u001b[91m::T\u001b[39m) where T<:Number\n\u001b[0m\u001b[90m   @\u001b[39m \u001b[90mBase\u001b[39m \u001b[90m\u001b[4mnumber.jl:6\u001b[24m\u001b[39m\n\u001b[0m  convert(::Type{T}, \u001b[91m::CartesianIndex{1}\u001b[39m) where T<:Number\n\u001b[0m\u001b[90m   @\u001b[39m \u001b[90mBase\u001b[39m \u001b[90m\u001b[4mmultidimensional.jl:136\u001b[24m\u001b[39m\n\u001b[0m  ...\n",
     "output_type": "error",
     "traceback": [
      "MethodError: \u001b[0mCannot `convert` an object of type \u001b[92mvar\"#25#26\"{Float64, Float64}\u001b[39m\u001b[0m to an object of type \u001b[91mFloat64\u001b[39m\nThe function `convert` exists, but no method is defined for this combination of argument types.\n\n\u001b[0mClosest candidates are:\n\u001b[0m  convert(::Type{Float64}, \u001b[91m::Measures.AbsoluteLength\u001b[39m)\n\u001b[0m\u001b[90m   @\u001b[39m \u001b[36mMeasures\u001b[39m \u001b[90m~/.julia/packages/Measures/PKOxJ/src/\u001b[39m\u001b[90m\u001b[4mlength.jl:12\u001b[24m\u001b[39m\n\u001b[0m  convert(::Type{T}, \u001b[91m::T\u001b[39m) where T<:Number\n\u001b[0m\u001b[90m   @\u001b[39m \u001b[90mBase\u001b[39m \u001b[90m\u001b[4mnumber.jl:6\u001b[24m\u001b[39m\n\u001b[0m  convert(::Type{T}, \u001b[91m::CartesianIndex{1}\u001b[39m) where T<:Number\n\u001b[0m\u001b[90m   @\u001b[39m \u001b[90mBase\u001b[39m \u001b[90m\u001b[4mmultidimensional.jl:136\u001b[24m\u001b[39m\n\u001b[0m  ...\n",
      "",
      "Stacktrace:",
      " [1] mapper_to_x(h::Float64, pᵉ::Float64)",
      "   @ Main ./In[3]:2",
      " [2] quadratura_F_2D(f1::var\"#27#28\", f2::var\"#1#5\", h::Vector{Float64}, pᵉ::Vector{Float64}, P::Vector{Float64}, W::Vector{Float64})",
      "   @ Main ./In[4]:17",
      " [3] monta_F_local_2D(α::Float64, β::Float64, f::Function, h::Vector{Float64}, pᵉ::Vector{Float64}, P::Vector{Float64}, W::Vector{Float64})",
      "   @ Main ./In[5]:19",
      " [4] top-level scope",
      "   @ In[6]:9"
     ]
    }
   ],
   "source": [
    "α = 6.0\n",
    "β = 0.0\n",
    "h = [1/4; 1/4]\n",
    "f = (x1::Float64, x2::Float64) -> 4/(h[1]*h[2])\n",
    "pᵉ = [0.0; 0.0]\n",
    "P, W = legendre(2)\n",
    "\n",
    "display(monta_K_local_2D(α, β, h, P, W))\n",
    "display(monta_F_local_2D(α, β, f, h, pᵉ, P, W))"
   ]
  }
 ],
 "metadata": {
  "kernelspec": {
   "display_name": "Julia 1.11.1",
   "language": "julia",
   "name": "julia-1.11"
  },
  "language_info": {
   "file_extension": ".jl",
   "mimetype": "application/julia",
   "name": "julia",
   "version": "1.11.1"
  }
 },
 "nbformat": 4,
 "nbformat_minor": 2
}
