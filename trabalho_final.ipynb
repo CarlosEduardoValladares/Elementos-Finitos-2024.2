{
 "cells": [
  {
   "cell_type": "markdown",
   "id": "1ba91d42",
   "metadata": {},
   "source": [
    "## Imports"
   ]
  },
  {
   "cell_type": "code",
   "execution_count": 1,
   "id": "9b835693",
   "metadata": {},
   "outputs": [],
   "source": [
    "using LinearAlgebra\n",
    "using Plots\n",
    "using GaussQuadrature\n",
    "using SparseArrays"
   ]
  },
  {
   "cell_type": "markdown",
   "id": "7fcb9b18",
   "metadata": {},
   "source": [
    "## Base"
   ]
  },
  {
   "cell_type": "code",
   "execution_count": 2,
   "id": "06e179e2",
   "metadata": {},
   "outputs": [
    {
     "data": {
      "text/plain": [
       "dϕ₂ (generic function with 1 method)"
      ]
     },
     "execution_count": 2,
     "metadata": {},
     "output_type": "execute_result"
    }
   ],
   "source": [
    "function ϕ₁(ξ::Float64)\n",
    "    return (1.0 - ξ)/2.0\n",
    "end\n",
    "\n",
    "function ϕ₂(ξ::Float64)\n",
    "    return (1.0 + ξ)/2.0\n",
    "end\n",
    "\n",
    "function dϕ₁(ξ::Float64)\n",
    "    return -1.0/2.0\n",
    "end\n",
    "\n",
    "function dϕ₂(ξ::Float64)\n",
    "    return 1.0/2.0\n",
    "end"
   ]
  },
  {
   "cell_type": "markdown",
   "id": "977b03c4",
   "metadata": {},
   "source": [
    "## Mapeamento"
   ]
  },
  {
   "cell_type": "code",
   "execution_count": 3,
   "id": "d4b77127",
   "metadata": {},
   "outputs": [
    {
     "data": {
      "text/plain": [
       "map_ξ_to_x (generic function with 1 method)"
      ]
     },
     "execution_count": 3,
     "metadata": {},
     "output_type": "execute_result"
    }
   ],
   "source": [
    "function map_index_to_coord(index::Int64, ne::Int64)::Float64\n",
    "    return (index-1)/ne\n",
    "end\n",
    "\n",
    "function map_ξ_to_x(ξ::Float64, x_i_inf::Float64, h::Float64)\n",
    "    return x_i_inf + ((h*(ξ+1))/2.0)\n",
    "end"
   ]
  },
  {
   "cell_type": "markdown",
   "id": "e5812201",
   "metadata": {},
   "source": [
    "## DoF Handlers"
   ]
  },
  {
   "cell_type": "code",
   "execution_count": 4,
   "id": "9ab93df0",
   "metadata": {},
   "outputs": [
    {
     "data": {
      "text/plain": [
       "monta_EQ (generic function with 1 method)"
      ]
     },
     "execution_count": 4,
     "metadata": {},
     "output_type": "execute_result"
    }
   ],
   "source": [
    "function monta_LG(ne::Int64)::Matrix{Int64}\n",
    "    return transpose(hcat(1:ne, 2:ne+1))\n",
    "end\n",
    "\n",
    "function monta_EQ(ne::Int64)::Tuple{Int64, Vector{Int64}}\n",
    "    m = ne-1\n",
    "    return (m, vcat(m+1, 1:m, m+1))\n",
    "end"
   ]
  },
  {
   "cell_type": "markdown",
   "id": "dfa37fad",
   "metadata": {},
   "source": [
    "## Quadraturas"
   ]
  },
  {
   "cell_type": "code",
   "execution_count": 10,
   "id": "a4ec8e72",
   "metadata": {},
   "outputs": [
    {
     "data": {
      "text/plain": [
       "quadrature_non_linearity (generic function with 1 method)"
      ]
     },
     "execution_count": 10,
     "metadata": {},
     "output_type": "execute_result"
    }
   ],
   "source": [
    "function quadrature_without_map(func1::Function, func2::Function, P::Vector{Float64}, W::Vector{Float64})::Float64\n",
    "    quad = 0.0\n",
    "    \n",
    "    for (ξ, W) in zip(P, W)\n",
    "         quad += W * (func1(ξ) * func2(ξ)) \n",
    "    end\n",
    "    \n",
    "    return quad\n",
    "end\n",
    "\n",
    "function quadrature_with_map(func1::Function, func2::Function, e::Int64, ne::Int64, P::Vector{Float64}, W::Vector{Float64})::Float64\n",
    "    h = 1.0/ne\n",
    "    x_i_inf = map_index_to_coord(e, ne)\n",
    "    \n",
    "    quad = 0.0\n",
    "    \n",
    "    for (ξ, W) in zip(P, W)\n",
    "         quad += W*(func1(map_ξ_to_x(ξ, x_i_inf, h)) * func2(ξ)) \n",
    "    end\n",
    "    \n",
    "    return quad\n",
    "end\n",
    "\n",
    "function quadrature_non_linearity(func1::Function, func2::Function, e::Int64, c̄::Vector{Float64}, EQoLG::Matrix{Float64}, P::Vector{Float64}, W::Vector{Float64})::Float64\n",
    "    \n",
    "    quad = 0.0\n",
    "    \n",
    "    for (ξ, W) in zip(P, W)\n",
    "         quad += W * (func1(c̄[EQoLG[1, e]] * ϕ₁(ξ) + c̄[EQoLG[2, e]] * ϕ₂(ξ))) * func2(ξ) \n",
    "    end\n",
    "    \n",
    "    return quad\n",
    "end"
   ]
  },
  {
   "cell_type": "markdown",
   "id": "2d6bc3cd",
   "metadata": {},
   "source": [
    "## Montagem local"
   ]
  },
  {
   "cell_type": "code",
   "execution_count": 12,
   "id": "aaae7281",
   "metadata": {},
   "outputs": [
    {
     "data": {
      "text/plain": [
       "monta_G_local! (generic function with 2 methods)"
      ]
     },
     "execution_count": 12,
     "metadata": {},
     "output_type": "execute_result"
    }
   ],
   "source": [
    "function monta_F_local!(Fᵉ::Vector{Float64}, f::Function, e::Int64, ne::Int64, h::Float64, P::Vector{Float64}, W::Vector{Float64})::Vector{Float64}\n",
    "    \n",
    "    Fᵉ[1] = h/2 * quadrature_with_map(f, ϕ₁, e, ne, P, W)\n",
    "    Fᵉ[2] = h/2 * quadrature_with_map(f, ϕ₂, e, ne, P, W)\n",
    "\n",
    "    return\n",
    "end\n",
    "\n",
    "function monta_K_local!(Kᵉ::Matrix{Float64}, α::Float64, β::Float64, h::Float64, P::Vector{Float64}, W::Vector{Float64})::Matrix{Float64}\n",
    "    \n",
    "    Kᵉ[1, 1] = (2*α/h) * quadrature_without_map(dϕ₁, dϕ₁, P, W) + (β*h/2) * quadrature_without_map(ϕ₁, ϕ₁, P, W)\n",
    "    Kᵉ[1, 2] = (2*α/h) * quadrature_without_map(dϕ₁, dϕ₂, P, W) + (β*h/2) * quadrature_without_map(ϕ₁, ϕ₂, P, W)\n",
    "    Kᵉ[2, 1] = K_local[1, 2]\n",
    "    Kᵉ[2, 2] = (2*α/h) * quadrature_without_map(dϕ₂, dϕ₂, P, W) + (β*h/2) * quadrature_without_map(ϕ₂, ϕ₂, P, W)    \n",
    "    \n",
    "    return\n",
    "end\n",
    "\n",
    "function monta_G_local!(Gᵉ::Vector{Float64}, g::Function, e::Int64, c̄::Vector{Float64}, EQoLG::Matrix{Float64}, P::Vector{Float64}, W::Vector{Float64})::Vector{Float64}\n",
    "    \n",
    "    Gᵉ[1] = quadrature_non_linearity(g, dϕ₁, e, c̄, EQoLG, P, W)\n",
    "    Gᵉ[2] = quadrature_non_linearity(g, dϕ₂, e, c̄, EQoLG, P, W)\n",
    "    \n",
    "    return\n",
    "    \n",
    "end"
   ]
  },
  {
   "cell_type": "markdown",
   "id": "5bf84f25",
   "metadata": {},
   "source": [
    "## Montagem global"
   ]
  },
  {
   "cell_type": "code",
   "execution_count": 14,
   "id": "2b96f131",
   "metadata": {},
   "outputs": [
    {
     "data": {
      "text/plain": [
       "monta_G_global (generic function with 1 method)"
      ]
     },
     "execution_count": 14,
     "metadata": {},
     "output_type": "execute_result"
    }
   ],
   "source": [
    "function monta_F_global(f::Function, m::Int64, ne::Int64, npg::Int64, EQoLG::Matrix{Float64})\n",
    "    h = 1.0/ne\n",
    "    \n",
    "    F_global = zeros(m+1)\n",
    "    F_local = zeros(2)\n",
    "    P, W = legendre(npg)\n",
    "\n",
    "    for e in 1:ne\n",
    "        monta_F_local!(F_local, f, e, ne, h, P, W)\n",
    "            \n",
    "        for i in 1:2\n",
    "            index = EQoLG[i, e]\n",
    "            F_global[index] += F_local[i]\n",
    "        end\n",
    "    end\n",
    "    \n",
    "    return F_global[1:m]\n",
    "end\n",
    "\n",
    "function monta_K_global(α::Float64, β::Float64, ne::Int64, npg::Int64, EQoLG::Matrix{Float64})\n",
    "    h = 1.0/ne\n",
    "    \n",
    "    K_global = spzeros(m+1,m+1)\n",
    "    K_local = zeros(2, 2)\n",
    "    P, W = legendre(npg)\n",
    "    \n",
    "    monta_K_local!(K_local, α, β, h, P, W)\n",
    "    \n",
    "    for e in 1:ne\n",
    "        for i in 1:2\n",
    "            for j in 1:2\n",
    "                i_global = EQoLG[i, e]\n",
    "                j_global = EQoLG[j, e]\n",
    "                \n",
    "                K_global[i_global, j_global] += K_local[i, j]\n",
    "            end\n",
    "        end\n",
    "    end    \n",
    "    \n",
    "    return K_global[1:m, 1:m]\n",
    "    \n",
    "end\n",
    "\n",
    "function monta_G_global(g::Function, c̄::Vector{Float64}, ne::Int64, m::Int64, npg::Int64, EQoLG::Matrix{Float64})\n",
    "    \n",
    "    G_global = zeros(m+1)\n",
    "    G_local = zeros(2)\n",
    "    P, W = legendre(npg)\n",
    "    \n",
    "    for e in 1:ne\n",
    "        monta_G_local!(G_local, e, c̄, EQoLG, P, W)\n",
    "        \n",
    "        for i in 1:2\n",
    "            index = EQoLG[i, e]\n",
    "            G_global[index] += G_local[i]\n",
    "        end\n",
    "    end\n",
    "    \n",
    "    return G_global[1:m]\n",
    "end"
   ]
  },
  {
   "cell_type": "markdown",
   "id": "dd7fd242",
   "metadata": {},
   "source": [
    "## Solver"
   ]
  },
  {
   "cell_type": "code",
   "execution_count": 18,
   "id": "c6b2247d",
   "metadata": {},
   "outputs": [
    {
     "data": {
      "text/plain": [
       "solve_system (generic function with 1 method)"
      ]
     },
     "execution_count": 18,
     "metadata": {},
     "output_type": "execute_result"
    }
   ],
   "source": [
    "function solve_system()\n",
    "    \n",
    "    LG = monta_LG(ne)\n",
    "    m, EQ = monta_EQ(ne)\n",
    "    EQoLG = EQ[LG]\n",
    "    \n",
    "    npg_K = 2\n",
    "    npg_F = 5\n",
    "    npg_G = 5\n",
    "\n",
    "    K = monta_K_global(α, β, ne, npg_K, EQoLG) \n",
    "    \n",
    "    N = ne\n",
    "    τ = T/N\n",
    "    t = 0:τ:T\n",
    "    \n",
    "    #caso inicial\n",
    "    Cⁿ = zeros(m, 1)\n",
    "    Cⁿ_1 = zeros(m, 1)\n",
    "    \n",
    "    #interpolando C0    \n",
    "    Cⁿ_1 = u_0.(get_point.(1:m, m))\n",
    "    \n",
    "    #t1 predição\n",
    "    c̄ = [Cⁿ_1; 0]\n",
    "    G = monta_G_global(g, c̄, ne, m, npg_G, EQoLG)\n",
    "    Fⁿ_meio = monta_F_global((x) -> f(x, (t[1]+t[2])/2, α, β), m, ne, npg_F, EQoLG )\n",
    "    \n",
    "    Cⁿ = K \\ (τ * Fⁿ_meio + K * Cⁿ_1 - τ * G)\n",
    "\n",
    "    #t1 correção\n",
    "\n",
    "    c = 1/2 * (Cⁿ + Cⁿ_1)\n",
    "    G = monta_G_global(g, [c; 0], ne, m, npg_G, EQoLG)\n",
    "\n",
    "    Cⁿ = K \\ (τ * Fⁿ_meio + K * Cⁿ_1 - τ * G)\n",
    "\n",
    "    erros_iteracoes = []\n",
    "    push!(erros_iteracoes, erro_L2_parabolico_2((x) -> u(x, t[1], α, β),[Cⁿ_1;0], ne))\n",
    "\n",
    "    Cⁿ_2 = Cⁿ_1\n",
    "    Cⁿ_1 = Cⁿ\n",
    "    \n",
    "    #display(ne)\n",
    "    #display(EQoLG)\n",
    "    #display(M)\n",
    "    #display(K)\n",
    "    #display(A)\n",
    "    #display(B)\n",
    "    \n",
    "    for n in 2:N\n",
    "        \n",
    "        c = (3*Cⁿ_1 - Cⁿ_2)/2    \n",
    "        G = monta_G_global(g, [c; 0], ne, m, npg_G, EQoLG)\n",
    "\n",
    "        #display(\"Cn-1\")\n",
    "        #display(Cⁿ_1)\n",
    "        #display(\"t_medio\")\n",
    "        #display((t[n]+t[n+1])/2)\n",
    "        \n",
    "        Fⁿ_meio = monta_F_global((x) -> f(x, (t[n]+t[n+1])/2, α, β), ne, EQoLG)\n",
    "        \n",
    "        #display(\"Fn_meio\")\n",
    "        #display(Fⁿ_meio)\n",
    "        \n",
    "        Cⁿ = K \\ (τ * Fⁿ_meio + K * Cⁿ_1 - τ * G)\n",
    "        \n",
    "        #display(\"Cn\")\n",
    "        #display(Cⁿ)  \n",
    "        \n",
    "        uh = monta_uh(Cⁿ)\n",
    "        Cⁿ_2 = Cⁿ_1\n",
    "        Cⁿ_1 = Cⁿ\n",
    "        \n",
    "        #display(\"uh:\")\n",
    "        #display(uh)\n",
    "        display(plot_exact_and_numerical(ne, u, t[n+1], α, β, uh, true))\n",
    "\n",
    "        erro = erro_L2_parabolico_2((x) -> u(x, t[n+1], α, β), uh, ne)\n",
    "        push!(erros_iteracoes, erro)\n",
    "    end\n",
    "    \n",
    "    display(\"Erros L2\")\n",
    "    display(erros_iteracoes)\n",
    "    display(\"Máximo erro L2\")\n",
    "    display(maximum(erros_iteracoes))\n",
    "    return\n",
    "end"
   ]
  },
  {
   "cell_type": "markdown",
   "id": "5ac96b03",
   "metadata": {},
   "source": [
    "## Erro L2"
   ]
  },
  {
   "cell_type": "code",
   "execution_count": 17,
   "id": "973bbcb8",
   "metadata": {},
   "outputs": [
    {
     "data": {
      "text/plain": [
       "erro_L2 (generic function with 1 method)"
      ]
     },
     "execution_count": 17,
     "metadata": {},
     "output_type": "execute_result"
    }
   ],
   "source": [
    "function erro_L2(u, c̄, ne, npg)\n",
    "    h = 1.0/ne\n",
    "    \n",
    "    P, W = legendre(npg)\n",
    "    erro_quadrado = 0\n",
    "\n",
    "    for e in 1:ne\n",
    "        x_i_inf = get_point(e, ne)\n",
    "\n",
    "        for (ξ, W) in zip(P, W)\n",
    "            erro_quadrado += W * (u(map_ξ_to_x(ξ, x_i_inf, h)) - c̄[e]*ϕ₁(ξ) - c̄[e+1]*ϕ₂(ξ))^2 \n",
    "        end\n",
    "    end\n",
    "    \n",
    "    return sqrt(erro_quadrado * h/2)    \n",
    "end"
   ]
  },
  {
   "cell_type": "code",
   "execution_count": null,
   "id": "fb050610",
   "metadata": {},
   "outputs": [],
   "source": []
  }
 ],
 "metadata": {
  "kernelspec": {
   "display_name": "Julia 1.11.1",
   "language": "julia",
   "name": "julia-1.11"
  },
  "language_info": {
   "file_extension": ".jl",
   "mimetype": "application/julia",
   "name": "julia",
   "version": "1.11.1"
  }
 },
 "nbformat": 4,
 "nbformat_minor": 5
}
