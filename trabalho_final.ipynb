{
 "cells": [
  {
   "cell_type": "markdown",
   "id": "1ba91d42",
   "metadata": {},
   "source": [
    "## Imports"
   ]
  },
  {
   "cell_type": "code",
   "execution_count": 1,
   "id": "9b835693",
   "metadata": {},
   "outputs": [],
   "source": [
    "using LinearAlgebra\n",
    "using Plots\n",
    "using GaussQuadrature\n",
    "using SparseArrays"
   ]
  },
  {
   "cell_type": "markdown",
   "id": "7fcb9b18",
   "metadata": {},
   "source": [
    "## Base"
   ]
  },
  {
   "cell_type": "code",
   "execution_count": 2,
   "id": "06e179e2",
   "metadata": {},
   "outputs": [
    {
     "data": {
      "text/plain": [
       "dϕ₂ (generic function with 1 method)"
      ]
     },
     "execution_count": 2,
     "metadata": {},
     "output_type": "execute_result"
    }
   ],
   "source": [
    "function ϕ₁(ξ::Float64)\n",
    "    return (1.0 - ξ)/2.0\n",
    "end\n",
    "\n",
    "function ϕ₂(ξ::Float64)\n",
    "    return (1.0 + ξ)/2.0\n",
    "end\n",
    "\n",
    "function dϕ₁(ξ::Float64)\n",
    "    return -1.0/2.0\n",
    "end\n",
    "\n",
    "function dϕ₂(ξ::Float64)\n",
    "    return 1.0/2.0\n",
    "end"
   ]
  },
  {
   "cell_type": "markdown",
   "id": "977b03c4",
   "metadata": {},
   "source": [
    "## Mapeamento"
   ]
  },
  {
   "cell_type": "code",
   "execution_count": 3,
   "id": "d4b77127",
   "metadata": {},
   "outputs": [
    {
     "data": {
      "text/plain": [
       "map_ξ_to_x (generic function with 1 method)"
      ]
     },
     "execution_count": 3,
     "metadata": {},
     "output_type": "execute_result"
    }
   ],
   "source": [
    "function map_index_to_coord(index::Int64, ne::Int64)::Float64\n",
    "    return (index-1)/ne\n",
    "end\n",
    "\n",
    "function map_ξ_to_x(ξ::Float64, x_i_inf::Float64, h::Float64)\n",
    "    return x_i_inf + ((h*(ξ+1))/2.0)\n",
    "end"
   ]
  },
  {
   "cell_type": "markdown",
   "id": "e5812201",
   "metadata": {},
   "source": [
    "## DoF Handlers"
   ]
  },
  {
   "cell_type": "code",
   "execution_count": 4,
   "id": "9ab93df0",
   "metadata": {},
   "outputs": [
    {
     "data": {
      "text/plain": [
       "monta_EQ (generic function with 1 method)"
      ]
     },
     "execution_count": 4,
     "metadata": {},
     "output_type": "execute_result"
    }
   ],
   "source": [
    "function monta_LG(ne::Int64)::Matrix{Int64}\n",
    "    return transpose(hcat(1:ne, 2:ne+1))\n",
    "end\n",
    "\n",
    "function monta_EQ(ne::Int64)::Tuple{Int64, Vector{Int64}}\n",
    "    m = ne-1\n",
    "    return (m, vcat(m+1, 1:m, m+1))\n",
    "end"
   ]
  },
  {
   "cell_type": "markdown",
   "id": "dfa37fad",
   "metadata": {},
   "source": [
    "## Quadraturas"
   ]
  },
  {
   "cell_type": "code",
   "execution_count": 5,
   "id": "a4ec8e72",
   "metadata": {},
   "outputs": [
    {
     "data": {
      "text/plain": [
       "quadrature_non_linearity (generic function with 1 method)"
      ]
     },
     "execution_count": 5,
     "metadata": {},
     "output_type": "execute_result"
    }
   ],
   "source": [
    "function quadrature_without_map(func1::Function, func2::Function, P::Vector{Float64}, W::Vector{Float64})::Float64\n",
    "    quad = 0.0\n",
    "    \n",
    "    for (ξ, W) in zip(P, W)\n",
    "         quad += W * (func1(ξ) * func2(ξ)) \n",
    "    end\n",
    "    \n",
    "    return quad\n",
    "end\n",
    "\n",
    "function quadrature_with_map(func1::Function, func2::Function, e::Int64, ne::Int64, P::Vector{Float64}, W::Vector{Float64})::Float64\n",
    "    h = 1.0/ne\n",
    "    x_i_inf = map_index_to_coord(e, ne)\n",
    "    \n",
    "    quad = 0.0\n",
    "    \n",
    "    for (ξ, W) in zip(P, W)\n",
    "         quad += W*(func1(map_ξ_to_x(ξ, x_i_inf, h)) * func2(ξ)) \n",
    "    end\n",
    "    \n",
    "    return quad\n",
    "end\n",
    "\n",
    "function quadrature_non_linearity(func1::Function, func2::Function, e::Int64, c̄::Vector{Float64}, EQoLG::Matrix{Int64}, P::Vector{Float64}, W::Vector{Float64})::Float64\n",
    "    \n",
    "    quad = 0.0\n",
    "    \n",
    "    for (ξ, W) in zip(P, W)\n",
    "         quad += W * (func1(c̄[EQoLG[1, e]] * ϕ₁(ξ) + c̄[EQoLG[2, e]] * ϕ₂(ξ))) * func2(ξ) \n",
    "    end\n",
    "    \n",
    "    return quad\n",
    "end"
   ]
  },
  {
   "cell_type": "markdown",
   "id": "2d6bc3cd",
   "metadata": {},
   "source": [
    "## Montagem local"
   ]
  },
  {
   "cell_type": "code",
   "execution_count": 6,
   "id": "aaae7281",
   "metadata": {},
   "outputs": [
    {
     "data": {
      "text/plain": [
       "monta_G_local! (generic function with 1 method)"
      ]
     },
     "execution_count": 6,
     "metadata": {},
     "output_type": "execute_result"
    }
   ],
   "source": [
    "function monta_F_local!(Fᵉ::Vector{Float64}, f::Function, e::Int64, ne::Int64, h::Float64, P::Vector{Float64}, W::Vector{Float64})\n",
    "    \n",
    "    Fᵉ[1] = h/2 * quadrature_with_map(f, ϕ₁, e, ne, P, W)\n",
    "    Fᵉ[2] = h/2 * quadrature_with_map(f, ϕ₂, e, ne, P, W)\n",
    "\n",
    "    return\n",
    "end\n",
    "\n",
    "function monta_K_local!(Kᵉ::Matrix{Float64}, α::Float64, β::Float64, h::Float64, P::Vector{Float64}, W::Vector{Float64})\n",
    "    \n",
    "    Kᵉ[1, 1] = (2*α/h) * quadrature_without_map(dϕ₁, dϕ₁, P, W) + (β*h/2) * quadrature_without_map(ϕ₁, ϕ₁, P, W)\n",
    "    Kᵉ[1, 2] = (2*α/h) * quadrature_without_map(dϕ₁, dϕ₂, P, W) + (β*h/2) * quadrature_without_map(ϕ₁, ϕ₂, P, W)\n",
    "    Kᵉ[2, 1] = Kᵉ[1, 2]\n",
    "    Kᵉ[2, 2] = (2*α/h) * quadrature_without_map(dϕ₂, dϕ₂, P, W) + (β*h/2) * quadrature_without_map(ϕ₂, ϕ₂, P, W)    \n",
    "    \n",
    "    return\n",
    "end\n",
    "\n",
    "function monta_G_local!(Gᵉ::Vector{Float64}, g::Function, e::Int64, c̄::Vector{Float64}, EQoLG::Matrix{Int64}, h::Float64, P::Vector{Float64}, W::Vector{Float64})\n",
    "    \n",
    "    Gᵉ[1] = quadrature_non_linearity(g, dϕ₁, e, c̄, EQoLG, P, W)\n",
    "    Gᵉ[2] = quadrature_non_linearity(g, dϕ₂, e, c̄, EQoLG, P, W)\n",
    "    \n",
    "    return\n",
    "    \n",
    "end"
   ]
  },
  {
   "cell_type": "code",
   "execution_count": 7,
   "id": "8a2f857e",
   "metadata": {},
   "outputs": [
    {
     "data": {
      "text/plain": [
       "0.75"
      ]
     },
     "execution_count": 7,
     "metadata": {},
     "output_type": "execute_result"
    }
   ],
   "source": [
    "map_index_to_coord(4, 4)"
   ]
  },
  {
   "cell_type": "markdown",
   "id": "5ac96b03",
   "metadata": {},
   "source": [
    "## Erro L2"
   ]
  },
  {
   "cell_type": "code",
   "execution_count": 8,
   "id": "973bbcb8",
   "metadata": {},
   "outputs": [
    {
     "data": {
      "text/plain": [
       "erro_L2 (generic function with 1 method)"
      ]
     },
     "execution_count": 8,
     "metadata": {},
     "output_type": "execute_result"
    }
   ],
   "source": [
    "function erro_L2(u::Function, c̄::Vector{Float64}, ne::Int64, npg::Int64, EQoLG::Matrix{Int64})::Float64\n",
    "    h = 1.0/ne\n",
    "    \n",
    "    P, W = legendre(npg)\n",
    "    erro_quadrado = 0\n",
    "\n",
    "    for e in 1:ne\n",
    "        x_i_inf = map_index_to_coord(e, ne)\n",
    "\n",
    "        index1 = EQoLG[1, e]\n",
    "        index2 = EQoLG[2, e]\n",
    "        \n",
    "        for (ξ, W) in zip(P, W)\n",
    "            erro_quadrado += W * (u(map_ξ_to_x(ξ, x_i_inf, h)) - c̄[index1]*ϕ₁(ξ) - c̄[index2]*ϕ₂(ξ))^2 \n",
    "        end\n",
    "    end\n",
    "    \n",
    "    return sqrt(erro_quadrado * h/2)    \n",
    "end"
   ]
  },
  {
   "cell_type": "markdown",
   "id": "5bf84f25",
   "metadata": {},
   "source": [
    "## Montagem global"
   ]
  },
  {
   "cell_type": "code",
   "execution_count": 9,
   "id": "2b96f131",
   "metadata": {},
   "outputs": [
    {
     "data": {
      "text/plain": [
       "monta_G_global! (generic function with 1 method)"
      ]
     },
     "execution_count": 9,
     "metadata": {},
     "output_type": "execute_result"
    }
   ],
   "source": [
    "function monta_F_global!(F::Vector{Float64}, Fᵉ::Vector{Float64}, f::Function, m::Int64, ne::Int64, npg::Int64, EQoLG::Matrix{Int64})\n",
    "    h = 1.0/ne\n",
    "    \n",
    "    # Resetando estrutura\n",
    "    F .= zero(Float64)\n",
    "    \n",
    "    P, W = legendre(npg)\n",
    "\n",
    "    for e in 1:ne\n",
    "        monta_F_local!(Fᵉ, f, e, ne, h, P, W)\n",
    "            \n",
    "        for i in 1:2\n",
    "            index = EQoLG[i, e]\n",
    "            F[index] += Fᵉ[i]\n",
    "        end\n",
    "    end\n",
    "    \n",
    "    return\n",
    "end\n",
    "\n",
    "function monta_K_global!(K::SparseMatrixCSC{Float64}, Kᵉ::Matrix{Float64}, α::Float64, β::Float64, ne::Int64, npg::Int64, EQoLG::Matrix{Int64})\n",
    "    h = 1.0/ne\n",
    "    \n",
    "    P, W = legendre(npg)\n",
    "    \n",
    "    # Resetando estrutura\n",
    "    K .= zero(Float64)\n",
    "    \n",
    "    monta_K_local!(Kᵉ, α, β, h, P, W)\n",
    "    \n",
    "    for e in 1:ne\n",
    "        for i in 1:2\n",
    "            for j in 1:2\n",
    "                i_global = EQoLG[i, e]\n",
    "                j_global = EQoLG[j, e]\n",
    "                \n",
    "                K[i_global, j_global] += Kᵉ[i, j]\n",
    "            end\n",
    "        end\n",
    "    end    \n",
    "    \n",
    "    return\n",
    "    \n",
    "end\n",
    "\n",
    "function monta_G_global!(G::Vector{Float64}, Gᵉ::Vector{Float64}, g::Function, c̄::Vector{Float64}, ne::Int64, m::Int64, npg::Int64, EQoLG::Matrix{Int64})\n",
    "    h = 1.0/ne\n",
    "    \n",
    "    P, W = legendre(npg)\n",
    "    \n",
    "    # Resetando estrutura\n",
    "    G .= zero(Float64)\n",
    "    \n",
    "    for e in 1:ne\n",
    "        monta_G_local!(Gᵉ, g, e, c̄, EQoLG, h, P, W)\n",
    "        \n",
    "        for i in 1:2\n",
    "            index = EQoLG[i, e]\n",
    "            G[index] += Gᵉ[i]\n",
    "        end\n",
    "    end\n",
    "    \n",
    "    return\n",
    "end"
   ]
  },
  {
   "cell_type": "markdown",
   "id": "f6565679",
   "metadata": {},
   "source": [
    "## Plot"
   ]
  },
  {
   "cell_type": "code",
   "execution_count": 10,
   "id": "b0f3d53a",
   "metadata": {},
   "outputs": [
    {
     "data": {
      "text/plain": [
       "plot_error_curves (generic function with 1 method)"
      ]
     },
     "execution_count": 10,
     "metadata": {},
     "output_type": "execute_result"
    }
   ],
   "source": [
    "function plot_exact_and_numerical(ne::Int64, u::Function, sol_on_points::Vector{Float64}, isContinous::Bool)\n",
    "    points = map_index_to_coord.(1:ne+1, ne)\n",
    "    p = plot(u, range(0, 1, 100), lw=3, label=\"Solução Exata\")\n",
    "    \n",
    "    if(isContinous)\n",
    "        plot!(p, points, sol_on_points, lw=3, markershape=:circle, label=\"Solução Numérica\")\n",
    "        \n",
    "    else \n",
    "        plot!(p, points, sol_on_points, lw=3, seriestype=:scatter, label=\"Solução Numérica\")\n",
    "    end\n",
    "    \n",
    "    display(p)    \n",
    "    return nothing\n",
    "end\n",
    "\n",
    "function plot_error_curves(h::Vector{Float64}, erros::Vector{Float64})\n",
    "   plot(h, erros, lw=3, label=\"Erro\", xscale = :log10, yscale = :log10, markershape=:circle)\n",
    "   display(plot!(h, h.^2, lw=3, label=\"h²\", xscale = :log10, yscale = :log10, legend=:topleft)) \n",
    "end"
   ]
  },
  {
   "cell_type": "markdown",
   "id": "dd7fd242",
   "metadata": {},
   "source": [
    "## Solver"
   ]
  },
  {
   "cell_type": "code",
   "execution_count": 11,
   "id": "c6b2247d",
   "metadata": {},
   "outputs": [
    {
     "data": {
      "text/plain": [
       "solve_problem (generic function with 1 method)"
      ]
     },
     "execution_count": 11,
     "metadata": {},
     "output_type": "execute_result"
    }
   ],
   "source": [
    "function solve_problem(α::Float64, β::Float64, ne::Int64, T::Float64, g::Function, f::Function, u::Function, u_0::Function, npgs::Vector{Int64})::Float64\n",
    "    \n",
    "    LG = monta_LG(ne)\n",
    "    m, EQ = monta_EQ(ne)\n",
    "    EQoLG = EQ[LG]\n",
    "    \n",
    "    npg_K, npg_F, npg_G, npg_erro = npgs\n",
    "\n",
    "    K̄ = spzeros(m+1, m+1)\n",
    "    F̄ = zeros(m+1)\n",
    "    Ḡ = zeros(m+1)\n",
    "    \n",
    "    Kᵉ = zeros(2, 2)\n",
    "    Fᵉ = zeros(2)\n",
    "    Gᵉ = zeros(2)\n",
    "    \n",
    "    monta_K_global!(K̄, Kᵉ, α, β, ne, npg_K, EQoLG) \n",
    "    \n",
    "    N = ne\n",
    "    τ = T * 1.0/ne\n",
    "    t = 0:τ:T\n",
    "    \n",
    "    #caso inicial\n",
    "    Cⁿ = zeros(m, 1)\n",
    "    Cⁿ_1 = zeros(m, 1)\n",
    "    \n",
    "    #interpolando C0    \n",
    "    Cⁿ_1 = u_0.(map_index_to_coord.(1:m, ne))\n",
    "    \n",
    "    #t1 predição\n",
    "    monta_G_global!(Ḡ, Gᵉ, g, [Cⁿ_1; 0], ne, m, npg_G, EQoLG)\n",
    "    monta_F_global!(F̄, Fᵉ, (x) -> f(x, (t[1]+t[2])/2), m, ne, npg_F, EQoLG)\n",
    "    \n",
    "    K = @view K̄[1:m, 1:m]\n",
    "    F = @view F̄[1:m]\n",
    "    G = @view Ḡ[1:m]\n",
    "    \n",
    "    Cⁿ = collect(K \\ (τ * F + K * Cⁿ_1 - τ * G))\n",
    "\n",
    "    #t1 correção\n",
    "\n",
    "    c = 1/2 * (Cⁿ + Cⁿ_1)\n",
    "    \n",
    "    monta_G_global!(Ḡ, Gᵉ, g, [c; 0], ne, m, npg_G, EQoLG)\n",
    "\n",
    "    K = @view K̄[1:m, 1:m]\n",
    "    F = @view F̄[1:m]\n",
    "    G = @view Ḡ[1:m]\n",
    "    \n",
    "    Cⁿ = collect(K \\ (τ * F + K * Cⁿ_1 - τ * G))\n",
    "\n",
    "    erros_iteracoes = []\n",
    "    push!(erros_iteracoes, erro_L2((x) -> u(x, t[1]), [Cⁿ_1;0], ne, npg_erro, EQoLG))\n",
    "\n",
    "    Cⁿ_2 = Cⁿ_1\n",
    "    Cⁿ_1 = Cⁿ\n",
    "    \n",
    "    for n in 2:N\n",
    "        \n",
    "        c = (3*Cⁿ_1 - Cⁿ_2)/2\n",
    "        \n",
    "        monta_G_global!(Ḡ, Gᵉ, g, [c; 0], ne, m, npg_G, EQoLG)        \n",
    "        monta_F_global!(F̄, Fᵉ, (x) -> f(x, (t[n]+t[n+1])/2), m, ne, npg_F, EQoLG)\n",
    "        \n",
    "        K = @view K̄[1:m, 1:m]\n",
    "        F = @view F̄[1:m]\n",
    "        G = @view Ḡ[1:m]\n",
    "        \n",
    "        Cⁿ = collect(K \\ (τ * F + K * Cⁿ_1 - τ * G))\n",
    "        \n",
    "        Cⁿ_2 = Cⁿ_1\n",
    "        Cⁿ_1 = Cⁿ\n",
    "        \n",
    "        #plot_exact_and_numerical(ne, (x) -> (u(x, t[n+1])), [0; Cⁿ ;0], true)\n",
    "\n",
    "        erro = erro_L2((x) -> u(x, t[n+1]), [Cⁿ; 0], ne, npg_erro, EQoLG)\n",
    "        push!(erros_iteracoes, erro)\n",
    "    end\n",
    "    \n",
    "    return maximum(erros_iteracoes)\n",
    "end"
   ]
  },
  {
   "cell_type": "code",
   "execution_count": 16,
   "id": "fb050610",
   "metadata": {
    "scrolled": false
   },
   "outputs": [
    {
     "data": {
      "text/plain": [
       "get_convergence_test_data (generic function with 1 method)"
      ]
     },
     "execution_count": 16,
     "metadata": {},
     "output_type": "execute_result"
    }
   ],
   "source": [
    "#Teste\n",
    "\n",
    "function get_test_data(test_num::Int64)\n",
    "    if(test_num == 1)\n",
    "        α = 1.0\n",
    "        β = 1.0\n",
    "\n",
    "        u  = (x, t) -> (x^2 - x)*t\n",
    "        u0 = (x) -> 0.0\n",
    "        g  = (s) -> 0.0\n",
    "        f  = (x, t) -> x^2 - x - 2.0\n",
    "\n",
    "        T = 1.0\n",
    "        ne = 4\n",
    "        npgs = [2, 5, 5, 5]\n",
    "        \n",
    "        return [α, β, ne, T, g, f, u, u0, npgs]\n",
    "    end\n",
    "    \n",
    "    if(test_num == 2)\n",
    "        α = 1.0\n",
    "        β = 1.0\n",
    "        \n",
    "        u  = (x, t) -> sin(π * x) * t\n",
    "        u0 = (x) -> 0.0\n",
    "        g  = (s) -> 0.0\n",
    "        f  = (x, t) -> sin(π*x) + π^2 * sin(π*x)\n",
    "\n",
    "        T = 1.0\n",
    "        ne = 4\n",
    "        npgs = [2, 5, 5, 5]\n",
    "        \n",
    "        return [α, β, ne, T, g, f, u, u0, npgs]\n",
    "    end\n",
    "end\n",
    "\n",
    "function get_convergence_test_data(case_num::Int64, test_size::Int64)    \n",
    "    data = get_test_data(case_num)\n",
    "    data[3] = test_size\n",
    "    return data\n",
    "end"
   ]
  },
  {
   "cell_type": "code",
   "execution_count": 13,
   "id": "375a4ac1",
   "metadata": {},
   "outputs": [
    {
     "data": {
      "text/plain": [
       "convergencia (generic function with 1 method)"
      ]
     },
     "execution_count": 13,
     "metadata": {},
     "output_type": "execute_result"
    }
   ],
   "source": [
    "function convergencia(α::Float64, β::Float64, n_testes::Int64, T::Float64, g::Function, f::Function, u::Function, u_0::Function, npgs::Vector{Int64})#::Matrix{Float64}\n",
    "    erros = zeros(n_testes)\n",
    "    h_list = zeros(n_testes)\n",
    "    \n",
    "    for n in 1:n_testes\n",
    "        ne = 2^n\n",
    "        \n",
    "        erro = solve_problem(α, β, ne, T, g, f, u, u_0, npgs)\n",
    "        erros[n] = erro\n",
    "        h_list[n] = 1.0/ne        \n",
    "    end\n",
    "    \n",
    "    return h_list, erros\n",
    "end"
   ]
  },
  {
   "cell_type": "code",
   "execution_count": 17,
   "id": "6f50db6a",
   "metadata": {
    "scrolled": false
   },
   "outputs": [
    {
     "data": {
      "text/plain": [
       "0.03654207308936446"
      ]
     },
     "metadata": {},
     "output_type": "display_data"
    },
    {
     "data": {
      "image/png": "[encoded data removed]",
      "image/svg+xml": [
       "<?xml version=\"1.0\" encoding=\"utf-8\"?>\n",
       "<svg xmlns=\"http://www.w3.org/2000/svg\" xmlns:xlink=\"http://www.w3.org/1999/xlink\" width=\"600\" height=\"400\" viewBox=\"0 0 2400 1600\">\n",
       "<defs>\n",
       "  <clipPath id=\"clip540\">\n",
       "    <rect x=\"0\" y=\"0\" width=\"2400\" height=\"1600\"/>\n",
       "  </clipPath>\n",
       "</defs>\n",
       "<path clip-path=\"url(#clip540)\" d=\"M0 1600 L2400 1600 L2400 0 L0 0  Z\" fill=\"#ffffff\" fill-rule=\"evenodd\" fill-opacity=\"1\"/>\n",
       "<defs>\n",
       "  <clipPath id=\"clip541\">\n",
       "    <rect x=\"480\" y=\"0\" width=\"1681\" height=\"1600\"/>\n",
       "  </clipPath>\n",
       "</defs>\n",
       "<path clip-path=\"url(#clip540)\" d=\"M189.496 1474.16 L2352.76 1474.16 L2352.76 47.2441 L189.496 47.2441  Z\" fill=\"#ffffff\" fill-rule=\"evenodd\" fill-opacity=\"1\"/>\n",
       "<defs>\n",
       "  <clipPath id=\"clip542\">\n",
       "    <rect x=\"189\" y=\"47\" width=\"2164\" height=\"1428\"/>\n",
       "  </clipPath>\n",
       "</defs>\n",
       "<polyline clip-path=\"url(#clip542)\" style=\"stroke:#000000; stroke-linecap:round; stroke-linejoin:round; stroke-width:2; stroke-opacity:0.1; fill:none\" points=\"646.096,1474.16 646.096,47.2441 \"/>\n",
       "<polyline clip-path=\"url(#clip542)\" style=\"stroke:#000000; stroke-linecap:round; stroke-linejoin:round; stroke-width:2; stroke-opacity:0.1; fill:none\" points=\"1614.59,1474.16 1614.59,47.2441 \"/>\n",
       "<polyline clip-path=\"url(#clip542)\" style=\"stroke:#000000; stroke-linecap:round; stroke-linejoin:round; stroke-width:2; stroke-opacity:0.1; fill:none\" points=\"189.496,1116.78 2352.76,1116.78 \"/>\n",
       "<polyline clip-path=\"url(#clip542)\" style=\"stroke:#000000; stroke-linecap:round; stroke-linejoin:round; stroke-width:2; stroke-opacity:0.1; fill:none\" points=\"189.496,511.031 2352.76,511.031 \"/>\n",
       "<polyline clip-path=\"url(#clip540)\" style=\"stroke:#000000; stroke-linecap:round; stroke-linejoin:round; stroke-width:4; stroke-opacity:1; fill:none\" points=\"189.496,1474.16 2352.76,1474.16 \"/>\n",
       "<polyline clip-path=\"url(#clip540)\" style=\"stroke:#000000; stroke-linecap:round; stroke-linejoin:round; stroke-width:4; stroke-opacity:1; fill:none\" points=\"646.096,1474.16 646.096,1455.27 \"/>\n",
       "<polyline clip-path=\"url(#clip540)\" style=\"stroke:#000000; stroke-linecap:round; stroke-linejoin:round; stroke-width:4; stroke-opacity:1; fill:none\" points=\"1614.59,1474.16 1614.59,1455.27 \"/>\n",
       "<path clip-path=\"url(#clip540)\" d=\"M596.362 1548.29 L604.001 1548.29 L604.001 1521.92 L595.691 1523.59 L595.691 1519.33 L603.955 1517.66 L608.631 1517.66 L608.631 1548.29 L616.27 1548.29 L616.27 1552.22 L596.362 1552.22 L596.362 1548.29 Z\" fill=\"#000000\" fill-rule=\"nonzero\" fill-opacity=\"1\" /><path clip-path=\"url(#clip540)\" d=\"M635.714 1520.74 Q632.103 1520.74 630.274 1524.31 Q628.469 1527.85 628.469 1534.98 Q628.469 1542.09 630.274 1545.65 Q632.103 1549.19 635.714 1549.19 Q639.348 1549.19 641.154 1545.65 Q642.982 1542.09 642.982 1534.98 Q642.982 1527.85 641.154 1524.31 Q639.348 1520.74 635.714 1520.74 M635.714 1517.04 Q641.524 1517.04 644.58 1521.65 Q647.658 1526.23 647.658 1534.98 Q647.658 1543.71 644.58 1548.31 Q641.524 1552.9 635.714 1552.9 Q629.904 1552.9 626.825 1548.31 Q623.769 1543.71 623.769 1534.98 Q623.769 1526.23 626.825 1521.65 Q629.904 1517.04 635.714 1517.04 Z\" fill=\"#000000\" fill-rule=\"nonzero\" fill-opacity=\"1\" /><path clip-path=\"url(#clip540)\" d=\"M647.658 1511.14 L671.77 1511.14 L671.77 1514.34 L647.658 1514.34 L647.658 1511.14 Z\" fill=\"#000000\" fill-rule=\"nonzero\" fill-opacity=\"1\" /><path clip-path=\"url(#clip540)\" d=\"M683.243 1521.62 L696.502 1521.62 L696.502 1524.81 L678.672 1524.81 L678.672 1521.62 Q680.835 1519.38 684.559 1515.62 Q688.302 1511.84 689.261 1510.75 Q691.085 1508.7 691.8 1507.29 Q692.534 1505.86 692.534 1504.48 Q692.534 1502.24 690.954 1500.83 Q689.393 1499.42 686.872 1499.42 Q685.086 1499.42 683.092 1500.04 Q681.117 1500.67 678.86 1501.93 L678.86 1498.09 Q681.155 1497.17 683.149 1496.7 Q685.142 1496.23 686.797 1496.23 Q691.161 1496.23 693.756 1498.41 Q696.352 1500.59 696.352 1504.24 Q696.352 1505.97 695.693 1507.53 Q695.054 1509.07 693.342 1511.18 Q692.872 1511.72 690.352 1514.34 Q687.832 1516.93 683.243 1521.62 Z\" fill=\"#000000\" fill-rule=\"nonzero\" fill-opacity=\"1\" /><path clip-path=\"url(#clip540)\" d=\"M1564.7 1548.29 L1572.34 1548.29 L1572.34 1521.92 L1564.03 1523.59 L1564.03 1519.33 L1572.29 1517.66 L1576.97 1517.66 L1576.97 1548.29 L1584.61 1548.29 L1584.61 1552.22 L1564.7 1552.22 L1564.7 1548.29 Z\" fill=\"#000000\" fill-rule=\"nonzero\" fill-opacity=\"1\" /><path clip-path=\"url(#clip540)\" d=\"M1604.05 1520.74 Q1600.44 1520.74 1598.61 1524.31 Q1596.81 1527.85 1596.81 1534.98 Q1596.81 1542.09 1598.61 1545.65 Q1600.44 1549.19 1604.05 1549.19 Q1607.69 1549.19 1609.49 1545.65 Q1611.32 1542.09 1611.32 1534.98 Q1611.32 1527.85 1609.49 1524.31 Q1607.69 1520.74 1604.05 1520.74 M1604.05 1517.04 Q1609.86 1517.04 1612.92 1521.65 Q1616 1526.23 1616 1534.98 Q1616 1543.71 1612.92 1548.31 Q1609.86 1552.9 1604.05 1552.9 Q1598.24 1552.9 1595.16 1548.31 Q1592.11 1543.71 1592.11 1534.98 Q1592.11 1526.23 1595.16 1521.65 Q1598.24 1517.04 1604.05 1517.04 Z\" fill=\"#000000\" fill-rule=\"nonzero\" fill-opacity=\"1\" /><path clip-path=\"url(#clip540)\" d=\"M1616 1511.14 L1640.11 1511.14 L1640.11 1514.34 L1616 1514.34 L1616 1511.14 Z\" fill=\"#000000\" fill-rule=\"nonzero\" fill-opacity=\"1\" /><path clip-path=\"url(#clip540)\" d=\"M1648.97 1521.62 L1655.17 1521.62 L1655.17 1500.19 L1648.42 1501.55 L1648.42 1498.09 L1655.14 1496.73 L1658.94 1496.73 L1658.94 1521.62 L1665.14 1521.62 L1665.14 1524.81 L1648.97 1524.81 L1648.97 1521.62 Z\" fill=\"#000000\" fill-rule=\"nonzero\" fill-opacity=\"1\" /><polyline clip-path=\"url(#clip540)\" style=\"stroke:#000000; stroke-linecap:round; stroke-linejoin:round; stroke-width:4; stroke-opacity:1; fill:none\" points=\"189.496,1474.16 189.496,47.2441 \"/>\n",
       "<polyline clip-path=\"url(#clip540)\" style=\"stroke:#000000; stroke-linecap:round; stroke-linejoin:round; stroke-width:4; stroke-opacity:1; fill:none\" points=\"189.496,1116.78 208.394,1116.78 \"/>\n",
       "<polyline clip-path=\"url(#clip540)\" style=\"stroke:#000000; stroke-linecap:round; stroke-linejoin:round; stroke-width:4; stroke-opacity:1; fill:none\" points=\"189.496,511.031 208.394,511.031 \"/>\n",
       "<path clip-path=\"url(#clip540)\" d=\"M51.6634 1136.57 L59.3023 1136.57 L59.3023 1110.21 L50.9921 1111.88 L50.9921 1107.62 L59.256 1105.95 L63.9319 1105.95 L63.9319 1136.57 L71.5707 1136.57 L71.5707 1140.51 L51.6634 1140.51 L51.6634 1136.57 Z\" fill=\"#000000\" fill-rule=\"nonzero\" fill-opacity=\"1\" /><path clip-path=\"url(#clip540)\" d=\"M91.0151 1109.03 Q87.404 1109.03 85.5753 1112.59 Q83.7697 1116.13 83.7697 1123.26 Q83.7697 1130.37 85.5753 1133.94 Q87.404 1137.48 91.0151 1137.48 Q94.6493 1137.48 96.4548 1133.94 Q98.2835 1130.37 98.2835 1123.26 Q98.2835 1116.13 96.4548 1112.59 Q94.6493 1109.03 91.0151 1109.03 M91.0151 1105.32 Q96.8252 1105.32 99.8808 1109.93 Q102.959 1114.51 102.959 1123.26 Q102.959 1131.99 99.8808 1136.6 Q96.8252 1141.18 91.0151 1141.18 Q85.2049 1141.18 82.1262 1136.6 Q79.0707 1131.99 79.0707 1123.26 Q79.0707 1114.51 82.1262 1109.93 Q85.2049 1105.32 91.0151 1105.32 Z\" fill=\"#000000\" fill-rule=\"nonzero\" fill-opacity=\"1\" /><path clip-path=\"url(#clip540)\" d=\"M102.959 1099.43 L127.071 1099.43 L127.071 1102.62 L102.959 1102.62 L102.959 1099.43 Z\" fill=\"#000000\" fill-rule=\"nonzero\" fill-opacity=\"1\" /><path clip-path=\"url(#clip540)\" d=\"M145.71 1088.33 L136.118 1103.32 L145.71 1103.32 L145.71 1088.33 M144.713 1085.02 L149.49 1085.02 L149.49 1103.32 L153.496 1103.32 L153.496 1106.48 L149.49 1106.48 L149.49 1113.1 L145.71 1113.1 L145.71 1106.48 L133.033 1106.48 L133.033 1102.81 L144.713 1085.02 Z\" fill=\"#000000\" fill-rule=\"nonzero\" fill-opacity=\"1\" /><path clip-path=\"url(#clip540)\" d=\"M53.3561 530.823 L60.995 530.823 L60.995 504.458 L52.6848 506.124 L52.6848 501.865 L60.9487 500.198 L65.6246 500.198 L65.6246 530.823 L73.2634 530.823 L73.2634 534.758 L53.3561 534.758 L53.3561 530.823 Z\" fill=\"#000000\" fill-rule=\"nonzero\" fill-opacity=\"1\" /><path clip-path=\"url(#clip540)\" d=\"M92.7078 503.277 Q89.0967 503.277 87.268 506.842 Q85.4624 510.383 85.4624 517.513 Q85.4624 524.619 87.268 528.184 Q89.0967 531.726 92.7078 531.726 Q96.342 531.726 98.1475 528.184 Q99.9762 524.619 99.9762 517.513 Q99.9762 510.383 98.1475 506.842 Q96.342 503.277 92.7078 503.277 M92.7078 499.573 Q98.5179 499.573 101.573 504.18 Q104.652 508.763 104.652 517.513 Q104.652 526.24 101.573 530.846 Q98.5179 535.43 92.7078 535.43 Q86.8976 535.43 83.8189 530.846 Q80.7634 526.24 80.7634 517.513 Q80.7634 508.763 83.8189 504.18 Q86.8976 499.573 92.7078 499.573 Z\" fill=\"#000000\" fill-rule=\"nonzero\" fill-opacity=\"1\" /><path clip-path=\"url(#clip540)\" d=\"M104.652 493.675 L128.764 493.675 L128.764 496.872 L104.652 496.872 L104.652 493.675 Z\" fill=\"#000000\" fill-rule=\"nonzero\" fill-opacity=\"1\" /><path clip-path=\"url(#clip540)\" d=\"M140.236 504.151 L153.496 504.151 L153.496 507.348 L135.666 507.348 L135.666 504.151 Q137.829 501.912 141.553 498.151 Q145.296 494.371 146.255 493.28 Q148.079 491.23 148.794 489.819 Q149.527 488.39 149.527 487.017 Q149.527 484.779 147.948 483.368 Q146.387 481.957 143.866 481.957 Q142.08 481.957 140.086 482.578 Q138.111 483.199 135.854 484.459 L135.854 480.622 Q138.149 479.7 140.142 479.23 Q142.136 478.76 143.791 478.76 Q148.155 478.76 150.75 480.942 Q153.345 483.123 153.345 486.772 Q153.345 488.502 152.687 490.064 Q152.048 491.606 150.336 493.712 Q149.866 494.258 147.346 496.872 Q144.826 499.467 140.236 504.151 Z\" fill=\"#000000\" fill-rule=\"nonzero\" fill-opacity=\"1\" /><polyline clip-path=\"url(#clip542)\" style=\"stroke:#009af9; stroke-linecap:round; stroke-linejoin:round; stroke-width:12; stroke-opacity:1; fill:none\" points=\"2291.53,161.052 1999.99,340.574 1708.44,522.254 1416.9,704.438 1125.35,886.746 833.809,1069.08 542.265,1251.43 250.72,1433.78 \"/>\n",
       "<circle clip-path=\"url(#clip542)\" cx=\"2291.53\" cy=\"161.052\" r=\"14.4\" fill=\"#009af9\" fill-rule=\"evenodd\" fill-opacity=\"1\" stroke=\"#000000\" stroke-opacity=\"1\" stroke-width=\"3.2\"/>\n",
       "<circle clip-path=\"url(#clip542)\" cx=\"1999.99\" cy=\"340.574\" r=\"14.4\" fill=\"#009af9\" fill-rule=\"evenodd\" fill-opacity=\"1\" stroke=\"#000000\" stroke-opacity=\"1\" stroke-width=\"3.2\"/>\n",
       "<circle clip-path=\"url(#clip542)\" cx=\"1708.44\" cy=\"522.254\" r=\"14.4\" fill=\"#009af9\" fill-rule=\"evenodd\" fill-opacity=\"1\" stroke=\"#000000\" stroke-opacity=\"1\" stroke-width=\"3.2\"/>\n",
       "<circle clip-path=\"url(#clip542)\" cx=\"1416.9\" cy=\"704.438\" r=\"14.4\" fill=\"#009af9\" fill-rule=\"evenodd\" fill-opacity=\"1\" stroke=\"#000000\" stroke-opacity=\"1\" stroke-width=\"3.2\"/>\n",
       "<circle clip-path=\"url(#clip542)\" cx=\"1125.35\" cy=\"886.746\" r=\"14.4\" fill=\"#009af9\" fill-rule=\"evenodd\" fill-opacity=\"1\" stroke=\"#000000\" stroke-opacity=\"1\" stroke-width=\"3.2\"/>\n",
       "<circle clip-path=\"url(#clip542)\" cx=\"833.809\" cy=\"1069.08\" r=\"14.4\" fill=\"#009af9\" fill-rule=\"evenodd\" fill-opacity=\"1\" stroke=\"#000000\" stroke-opacity=\"1\" stroke-width=\"3.2\"/>\n",
       "<circle clip-path=\"url(#clip542)\" cx=\"542.265\" cy=\"1251.43\" r=\"14.4\" fill=\"#009af9\" fill-rule=\"evenodd\" fill-opacity=\"1\" stroke=\"#000000\" stroke-opacity=\"1\" stroke-width=\"3.2\"/>\n",
       "<circle clip-path=\"url(#clip542)\" cx=\"250.72\" cy=\"1433.78\" r=\"14.4\" fill=\"#009af9\" fill-rule=\"evenodd\" fill-opacity=\"1\" stroke=\"#000000\" stroke-opacity=\"1\" stroke-width=\"3.2\"/>\n",
       "<polyline clip-path=\"url(#clip542)\" style=\"stroke:#e26f46; stroke-linecap:round; stroke-linejoin:round; stroke-width:12; stroke-opacity:1; fill:none\" points=\"2291.53,87.6286 1999.99,269.978 1708.44,452.327 1416.9,634.677 1125.35,817.026 833.809,999.375 542.265,1181.72 250.72,1364.07 \"/>\n",
       "<path clip-path=\"url(#clip540)\" d=\"M261.605 250.328 L566.75 250.328 L566.75 94.8081 L261.605 94.8081  Z\" fill=\"#ffffff\" fill-rule=\"evenodd\" fill-opacity=\"1\"/>\n",
       "<polyline clip-path=\"url(#clip540)\" style=\"stroke:#000000; stroke-linecap:round; stroke-linejoin:round; stroke-width:4; stroke-opacity:1; fill:none\" points=\"261.605,250.328 566.75,250.328 566.75,94.8081 261.605,94.8081 261.605,250.328 \"/>\n",
       "<polyline clip-path=\"url(#clip540)\" style=\"stroke:#009af9; stroke-linecap:round; stroke-linejoin:round; stroke-width:12; stroke-opacity:1; fill:none\" points=\"285.641,146.648 429.858,146.648 \"/>\n",
       "<circle clip-path=\"url(#clip540)\" cx=\"357.749\" cy=\"146.648\" r=\"20.0302\" fill=\"#009af9\" fill-rule=\"evenodd\" fill-opacity=\"1\" stroke=\"#000000\" stroke-opacity=\"1\" stroke-width=\"4.55111\"/>\n",
       "<path clip-path=\"url(#clip540)\" d=\"M453.894 129.368 L475.746 129.368 L475.746 133.303 L458.57 133.303 L458.57 143.535 L475.029 143.535 L475.029 147.47 L458.57 147.47 L458.57 159.993 L476.163 159.993 L476.163 163.928 L453.894 163.928 L453.894 129.368 Z\" fill=\"#000000\" fill-rule=\"nonzero\" fill-opacity=\"1\" /><path clip-path=\"url(#clip540)\" d=\"M498.686 141.984 Q497.968 141.567 497.112 141.382 Q496.278 141.174 495.26 141.174 Q491.649 141.174 489.704 143.535 Q487.783 145.873 487.783 150.271 L487.783 163.928 L483.501 163.928 L483.501 138.002 L487.783 138.002 L487.783 142.03 Q489.126 139.669 491.278 138.535 Q493.431 137.377 496.51 137.377 Q496.95 137.377 497.482 137.447 Q498.014 137.493 498.663 137.609 L498.686 141.984 Z\" fill=\"#000000\" fill-rule=\"nonzero\" fill-opacity=\"1\" /><path clip-path=\"url(#clip540)\" d=\"M517.343 141.984 Q516.626 141.567 515.769 141.382 Q514.936 141.174 513.917 141.174 Q510.306 141.174 508.362 143.535 Q506.44 145.873 506.44 150.271 L506.44 163.928 L502.158 163.928 L502.158 138.002 L506.44 138.002 L506.44 142.03 Q507.783 139.669 509.936 138.535 Q512.088 137.377 515.167 137.377 Q515.607 137.377 516.139 137.447 Q516.672 137.493 517.32 137.609 L517.343 141.984 Z\" fill=\"#000000\" fill-rule=\"nonzero\" fill-opacity=\"1\" /><path clip-path=\"url(#clip540)\" d=\"M530.815 140.988 Q527.389 140.988 525.399 143.674 Q523.408 146.336 523.408 150.988 Q523.408 155.641 525.375 158.326 Q527.366 160.988 530.815 160.988 Q534.218 160.988 536.209 158.303 Q538.199 155.618 538.199 150.988 Q538.199 146.382 536.209 143.697 Q534.218 140.988 530.815 140.988 M530.815 137.377 Q536.371 137.377 539.542 140.988 Q542.713 144.6 542.713 150.988 Q542.713 157.354 539.542 160.988 Q536.371 164.599 530.815 164.599 Q525.237 164.599 522.065 160.988 Q518.917 157.354 518.917 150.988 Q518.917 144.6 522.065 140.988 Q525.237 137.377 530.815 137.377 Z\" fill=\"#000000\" fill-rule=\"nonzero\" fill-opacity=\"1\" /><polyline clip-path=\"url(#clip540)\" style=\"stroke:#e26f46; stroke-linecap:round; stroke-linejoin:round; stroke-width:12; stroke-opacity:1; fill:none\" points=\"285.641,198.488 429.858,198.488 \"/>\n",
       "<path clip-path=\"url(#clip540)\" d=\"M475.607 200.12 L475.607 215.768 L471.348 215.768 L471.348 200.259 Q471.348 196.578 469.913 194.75 Q468.478 192.921 465.607 192.921 Q462.158 192.921 460.167 195.12 Q458.177 197.319 458.177 201.115 L458.177 215.768 L453.894 215.768 L453.894 179.75 L458.177 179.75 L458.177 193.87 Q459.705 191.532 461.765 190.375 Q463.848 189.217 466.556 189.217 Q471.024 189.217 473.316 191.995 Q475.607 194.75 475.607 200.12 Z\" fill=\"#000000\" fill-rule=\"nonzero\" fill-opacity=\"1\" /><path clip-path=\"url(#clip540)\" d=\"M485.839 197.666 L495.653 197.666 L495.653 200.305 L481.811 200.305 L481.811 197.759 Q482.598 197.041 484.056 195.745 Q492.019 188.685 492.019 186.509 Q492.019 184.981 490.815 184.055 Q489.612 183.106 487.644 183.106 Q486.44 183.106 485.028 183.523 Q483.616 183.916 481.95 184.727 L481.95 181.879 Q483.732 181.231 485.26 180.907 Q486.811 180.583 488.13 180.583 Q491.487 180.583 493.501 182.111 Q495.515 183.639 495.515 186.139 Q495.515 189.356 487.853 195.93 Q486.556 197.041 485.839 197.666 Z\" fill=\"#000000\" fill-rule=\"nonzero\" fill-opacity=\"1\" /></svg>\n"
      ],
      "text/html": [
       "<?xml version=\"1.0\" encoding=\"utf-8\"?>\n",
       "<svg xmlns=\"http://www.w3.org/2000/svg\" xmlns:xlink=\"http://www.w3.org/1999/xlink\" width=\"600\" height=\"400\" viewBox=\"0 0 2400 1600\">\n",
       "<defs>\n",
       "  <clipPath id=\"clip590\">\n",
       "    <rect x=\"0\" y=\"0\" width=\"2400\" height=\"1600\"/>\n",
       "  </clipPath>\n",
       "</defs>\n",
       "<path clip-path=\"url(#clip590)\" d=\"M0 1600 L2400 1600 L2400 0 L0 0  Z\" fill=\"#ffffff\" fill-rule=\"evenodd\" fill-opacity=\"1\"/>\n",
       "<defs>\n",
       "  <clipPath id=\"clip591\">\n",
       "    <rect x=\"480\" y=\"0\" width=\"1681\" height=\"1600\"/>\n",
       "  </clipPath>\n",
       "</defs>\n",
       "<path clip-path=\"url(#clip590)\" d=\"M189.496 1474.16 L2352.76 1474.16 L2352.76 47.2441 L189.496 47.2441  Z\" fill=\"#ffffff\" fill-rule=\"evenodd\" fill-opacity=\"1\"/>\n",
       "<defs>\n",
       "  <clipPath id=\"clip592\">\n",
       "    <rect x=\"189\" y=\"47\" width=\"2164\" height=\"1428\"/>\n",
       "  </clipPath>\n",
       "</defs>\n",
       "<polyline clip-path=\"url(#clip592)\" style=\"stroke:#000000; stroke-linecap:round; stroke-linejoin:round; stroke-width:2; stroke-opacity:0.1; fill:none\" points=\"646.096,1474.16 646.096,47.2441 \"/>\n",
       "<polyline clip-path=\"url(#clip592)\" style=\"stroke:#000000; stroke-linecap:round; stroke-linejoin:round; stroke-width:2; stroke-opacity:0.1; fill:none\" points=\"1614.59,1474.16 1614.59,47.2441 \"/>\n",
       "<polyline clip-path=\"url(#clip592)\" style=\"stroke:#000000; stroke-linecap:round; stroke-linejoin:round; stroke-width:2; stroke-opacity:0.1; fill:none\" points=\"189.496,1116.78 2352.76,1116.78 \"/>\n",
       "<polyline clip-path=\"url(#clip592)\" style=\"stroke:#000000; stroke-linecap:round; stroke-linejoin:round; stroke-width:2; stroke-opacity:0.1; fill:none\" points=\"189.496,511.031 2352.76,511.031 \"/>\n",
       "<polyline clip-path=\"url(#clip590)\" style=\"stroke:#000000; stroke-linecap:round; stroke-linejoin:round; stroke-width:4; stroke-opacity:1; fill:none\" points=\"189.496,1474.16 2352.76,1474.16 \"/>\n",
       "<polyline clip-path=\"url(#clip590)\" style=\"stroke:#000000; stroke-linecap:round; stroke-linejoin:round; stroke-width:4; stroke-opacity:1; fill:none\" points=\"646.096,1474.16 646.096,1455.27 \"/>\n",
       "<polyline clip-path=\"url(#clip590)\" style=\"stroke:#000000; stroke-linecap:round; stroke-linejoin:round; stroke-width:4; stroke-opacity:1; fill:none\" points=\"1614.59,1474.16 1614.59,1455.27 \"/>\n",
       "<path clip-path=\"url(#clip590)\" d=\"M596.362 1548.29 L604.001 1548.29 L604.001 1521.92 L595.691 1523.59 L595.691 1519.33 L603.955 1517.66 L608.631 1517.66 L608.631 1548.29 L616.27 1548.29 L616.27 1552.22 L596.362 1552.22 L596.362 1548.29 Z\" fill=\"#000000\" fill-rule=\"nonzero\" fill-opacity=\"1\" /><path clip-path=\"url(#clip590)\" d=\"M635.714 1520.74 Q632.103 1520.74 630.274 1524.31 Q628.469 1527.85 628.469 1534.98 Q628.469 1542.09 630.274 1545.65 Q632.103 1549.19 635.714 1549.19 Q639.348 1549.19 641.154 1545.65 Q642.982 1542.09 642.982 1534.98 Q642.982 1527.85 641.154 1524.31 Q639.348 1520.74 635.714 1520.74 M635.714 1517.04 Q641.524 1517.04 644.58 1521.65 Q647.658 1526.23 647.658 1534.98 Q647.658 1543.71 644.58 1548.31 Q641.524 1552.9 635.714 1552.9 Q629.904 1552.9 626.825 1548.31 Q623.769 1543.71 623.769 1534.98 Q623.769 1526.23 626.825 1521.65 Q629.904 1517.04 635.714 1517.04 Z\" fill=\"#000000\" fill-rule=\"nonzero\" fill-opacity=\"1\" /><path clip-path=\"url(#clip590)\" d=\"M647.658 1511.14 L671.77 1511.14 L671.77 1514.34 L647.658 1514.34 L647.658 1511.14 Z\" fill=\"#000000\" fill-rule=\"nonzero\" fill-opacity=\"1\" /><path clip-path=\"url(#clip590)\" d=\"M683.243 1521.62 L696.502 1521.62 L696.502 1524.81 L678.672 1524.81 L678.672 1521.62 Q680.835 1519.38 684.559 1515.62 Q688.302 1511.84 689.261 1510.75 Q691.085 1508.7 691.8 1507.29 Q692.534 1505.86 692.534 1504.48 Q692.534 1502.24 690.954 1500.83 Q689.393 1499.42 686.872 1499.42 Q685.086 1499.42 683.092 1500.04 Q681.117 1500.67 678.86 1501.93 L678.86 1498.09 Q681.155 1497.17 683.149 1496.7 Q685.142 1496.23 686.797 1496.23 Q691.161 1496.23 693.756 1498.41 Q696.352 1500.59 696.352 1504.24 Q696.352 1505.97 695.693 1507.53 Q695.054 1509.07 693.342 1511.18 Q692.872 1511.72 690.352 1514.34 Q687.832 1516.93 683.243 1521.62 Z\" fill=\"#000000\" fill-rule=\"nonzero\" fill-opacity=\"1\" /><path clip-path=\"url(#clip590)\" d=\"M1564.7 1548.29 L1572.34 1548.29 L1572.34 1521.92 L1564.03 1523.59 L1564.03 1519.33 L1572.29 1517.66 L1576.97 1517.66 L1576.97 1548.29 L1584.61 1548.29 L1584.61 1552.22 L1564.7 1552.22 L1564.7 1548.29 Z\" fill=\"#000000\" fill-rule=\"nonzero\" fill-opacity=\"1\" /><path clip-path=\"url(#clip590)\" d=\"M1604.05 1520.74 Q1600.44 1520.74 1598.61 1524.31 Q1596.81 1527.85 1596.81 1534.98 Q1596.81 1542.09 1598.61 1545.65 Q1600.44 1549.19 1604.05 1549.19 Q1607.69 1549.19 1609.49 1545.65 Q1611.32 1542.09 1611.32 1534.98 Q1611.32 1527.85 1609.49 1524.31 Q1607.69 1520.74 1604.05 1520.74 M1604.05 1517.04 Q1609.86 1517.04 1612.92 1521.65 Q1616 1526.23 1616 1534.98 Q1616 1543.71 1612.92 1548.31 Q1609.86 1552.9 1604.05 1552.9 Q1598.24 1552.9 1595.16 1548.31 Q1592.11 1543.71 1592.11 1534.98 Q1592.11 1526.23 1595.16 1521.65 Q1598.24 1517.04 1604.05 1517.04 Z\" fill=\"#000000\" fill-rule=\"nonzero\" fill-opacity=\"1\" /><path clip-path=\"url(#clip590)\" d=\"M1616 1511.14 L1640.11 1511.14 L1640.11 1514.34 L1616 1514.34 L1616 1511.14 Z\" fill=\"#000000\" fill-rule=\"nonzero\" fill-opacity=\"1\" /><path clip-path=\"url(#clip590)\" d=\"M1648.97 1521.62 L1655.17 1521.62 L1655.17 1500.19 L1648.42 1501.55 L1648.42 1498.09 L1655.14 1496.73 L1658.94 1496.73 L1658.94 1521.62 L1665.14 1521.62 L1665.14 1524.81 L1648.97 1524.81 L1648.97 1521.62 Z\" fill=\"#000000\" fill-rule=\"nonzero\" fill-opacity=\"1\" /><polyline clip-path=\"url(#clip590)\" style=\"stroke:#000000; stroke-linecap:round; stroke-linejoin:round; stroke-width:4; stroke-opacity:1; fill:none\" points=\"189.496,1474.16 189.496,47.2441 \"/>\n",
       "<polyline clip-path=\"url(#clip590)\" style=\"stroke:#000000; stroke-linecap:round; stroke-linejoin:round; stroke-width:4; stroke-opacity:1; fill:none\" points=\"189.496,1116.78 208.394,1116.78 \"/>\n",
       "<polyline clip-path=\"url(#clip590)\" style=\"stroke:#000000; stroke-linecap:round; stroke-linejoin:round; stroke-width:4; stroke-opacity:1; fill:none\" points=\"189.496,511.031 208.394,511.031 \"/>\n",
       "<path clip-path=\"url(#clip590)\" d=\"M51.6634 1136.57 L59.3023 1136.57 L59.3023 1110.21 L50.9921 1111.88 L50.9921 1107.62 L59.256 1105.95 L63.9319 1105.95 L63.9319 1136.57 L71.5707 1136.57 L71.5707 1140.51 L51.6634 1140.51 L51.6634 1136.57 Z\" fill=\"#000000\" fill-rule=\"nonzero\" fill-opacity=\"1\" /><path clip-path=\"url(#clip590)\" d=\"M91.0151 1109.03 Q87.404 1109.03 85.5753 1112.59 Q83.7697 1116.13 83.7697 1123.26 Q83.7697 1130.37 85.5753 1133.94 Q87.404 1137.48 91.0151 1137.48 Q94.6493 1137.48 96.4548 1133.94 Q98.2835 1130.37 98.2835 1123.26 Q98.2835 1116.13 96.4548 1112.59 Q94.6493 1109.03 91.0151 1109.03 M91.0151 1105.32 Q96.8252 1105.32 99.8808 1109.93 Q102.959 1114.51 102.959 1123.26 Q102.959 1131.99 99.8808 1136.6 Q96.8252 1141.18 91.0151 1141.18 Q85.2049 1141.18 82.1262 1136.6 Q79.0707 1131.99 79.0707 1123.26 Q79.0707 1114.51 82.1262 1109.93 Q85.2049 1105.32 91.0151 1105.32 Z\" fill=\"#000000\" fill-rule=\"nonzero\" fill-opacity=\"1\" /><path clip-path=\"url(#clip590)\" d=\"M102.959 1099.43 L127.071 1099.43 L127.071 1102.62 L102.959 1102.62 L102.959 1099.43 Z\" fill=\"#000000\" fill-rule=\"nonzero\" fill-opacity=\"1\" /><path clip-path=\"url(#clip590)\" d=\"M145.71 1088.33 L136.118 1103.32 L145.71 1103.32 L145.71 1088.33 M144.713 1085.02 L149.49 1085.02 L149.49 1103.32 L153.496 1103.32 L153.496 1106.48 L149.49 1106.48 L149.49 1113.1 L145.71 1113.1 L145.71 1106.48 L133.033 1106.48 L133.033 1102.81 L144.713 1085.02 Z\" fill=\"#000000\" fill-rule=\"nonzero\" fill-opacity=\"1\" /><path clip-path=\"url(#clip590)\" d=\"M53.3561 530.823 L60.995 530.823 L60.995 504.458 L52.6848 506.124 L52.6848 501.865 L60.9487 500.198 L65.6246 500.198 L65.6246 530.823 L73.2634 530.823 L73.2634 534.758 L53.3561 534.758 L53.3561 530.823 Z\" fill=\"#000000\" fill-rule=\"nonzero\" fill-opacity=\"1\" /><path clip-path=\"url(#clip590)\" d=\"M92.7078 503.277 Q89.0967 503.277 87.268 506.842 Q85.4624 510.383 85.4624 517.513 Q85.4624 524.619 87.268 528.184 Q89.0967 531.726 92.7078 531.726 Q96.342 531.726 98.1475 528.184 Q99.9762 524.619 99.9762 517.513 Q99.9762 510.383 98.1475 506.842 Q96.342 503.277 92.7078 503.277 M92.7078 499.573 Q98.5179 499.573 101.573 504.18 Q104.652 508.763 104.652 517.513 Q104.652 526.24 101.573 530.846 Q98.5179 535.43 92.7078 535.43 Q86.8976 535.43 83.8189 530.846 Q80.7634 526.24 80.7634 517.513 Q80.7634 508.763 83.8189 504.18 Q86.8976 499.573 92.7078 499.573 Z\" fill=\"#000000\" fill-rule=\"nonzero\" fill-opacity=\"1\" /><path clip-path=\"url(#clip590)\" d=\"M104.652 493.675 L128.764 493.675 L128.764 496.872 L104.652 496.872 L104.652 493.675 Z\" fill=\"#000000\" fill-rule=\"nonzero\" fill-opacity=\"1\" /><path clip-path=\"url(#clip590)\" d=\"M140.236 504.151 L153.496 504.151 L153.496 507.348 L135.666 507.348 L135.666 504.151 Q137.829 501.912 141.553 498.151 Q145.296 494.371 146.255 493.28 Q148.079 491.23 148.794 489.819 Q149.527 488.39 149.527 487.017 Q149.527 484.779 147.948 483.368 Q146.387 481.957 143.866 481.957 Q142.08 481.957 140.086 482.578 Q138.111 483.199 135.854 484.459 L135.854 480.622 Q138.149 479.7 140.142 479.23 Q142.136 478.76 143.791 478.76 Q148.155 478.76 150.75 480.942 Q153.345 483.123 153.345 486.772 Q153.345 488.502 152.687 490.064 Q152.048 491.606 150.336 493.712 Q149.866 494.258 147.346 496.872 Q144.826 499.467 140.236 504.151 Z\" fill=\"#000000\" fill-rule=\"nonzero\" fill-opacity=\"1\" /><polyline clip-path=\"url(#clip592)\" style=\"stroke:#009af9; stroke-linecap:round; stroke-linejoin:round; stroke-width:12; stroke-opacity:1; fill:none\" points=\"2291.53,161.052 1999.99,340.574 1708.44,522.254 1416.9,704.438 1125.35,886.746 833.809,1069.08 542.265,1251.43 250.72,1433.78 \"/>\n",
       "<circle clip-path=\"url(#clip592)\" cx=\"2291.53\" cy=\"161.052\" r=\"14.4\" fill=\"#009af9\" fill-rule=\"evenodd\" fill-opacity=\"1\" stroke=\"#000000\" stroke-opacity=\"1\" stroke-width=\"3.2\"/>\n",
       "<circle clip-path=\"url(#clip592)\" cx=\"1999.99\" cy=\"340.574\" r=\"14.4\" fill=\"#009af9\" fill-rule=\"evenodd\" fill-opacity=\"1\" stroke=\"#000000\" stroke-opacity=\"1\" stroke-width=\"3.2\"/>\n",
       "<circle clip-path=\"url(#clip592)\" cx=\"1708.44\" cy=\"522.254\" r=\"14.4\" fill=\"#009af9\" fill-rule=\"evenodd\" fill-opacity=\"1\" stroke=\"#000000\" stroke-opacity=\"1\" stroke-width=\"3.2\"/>\n",
       "<circle clip-path=\"url(#clip592)\" cx=\"1416.9\" cy=\"704.438\" r=\"14.4\" fill=\"#009af9\" fill-rule=\"evenodd\" fill-opacity=\"1\" stroke=\"#000000\" stroke-opacity=\"1\" stroke-width=\"3.2\"/>\n",
       "<circle clip-path=\"url(#clip592)\" cx=\"1125.35\" cy=\"886.746\" r=\"14.4\" fill=\"#009af9\" fill-rule=\"evenodd\" fill-opacity=\"1\" stroke=\"#000000\" stroke-opacity=\"1\" stroke-width=\"3.2\"/>\n",
       "<circle clip-path=\"url(#clip592)\" cx=\"833.809\" cy=\"1069.08\" r=\"14.4\" fill=\"#009af9\" fill-rule=\"evenodd\" fill-opacity=\"1\" stroke=\"#000000\" stroke-opacity=\"1\" stroke-width=\"3.2\"/>\n",
       "<circle clip-path=\"url(#clip592)\" cx=\"542.265\" cy=\"1251.43\" r=\"14.4\" fill=\"#009af9\" fill-rule=\"evenodd\" fill-opacity=\"1\" stroke=\"#000000\" stroke-opacity=\"1\" stroke-width=\"3.2\"/>\n",
       "<circle clip-path=\"url(#clip592)\" cx=\"250.72\" cy=\"1433.78\" r=\"14.4\" fill=\"#009af9\" fill-rule=\"evenodd\" fill-opacity=\"1\" stroke=\"#000000\" stroke-opacity=\"1\" stroke-width=\"3.2\"/>\n",
       "<polyline clip-path=\"url(#clip592)\" style=\"stroke:#e26f46; stroke-linecap:round; stroke-linejoin:round; stroke-width:12; stroke-opacity:1; fill:none\" points=\"2291.53,87.6286 1999.99,269.978 1708.44,452.327 1416.9,634.677 1125.35,817.026 833.809,999.375 542.265,1181.72 250.72,1364.07 \"/>\n",
       "<path clip-path=\"url(#clip590)\" d=\"M261.605 250.328 L566.75 250.328 L566.75 94.8081 L261.605 94.8081  Z\" fill=\"#ffffff\" fill-rule=\"evenodd\" fill-opacity=\"1\"/>\n",
       "<polyline clip-path=\"url(#clip590)\" style=\"stroke:#000000; stroke-linecap:round; stroke-linejoin:round; stroke-width:4; stroke-opacity:1; fill:none\" points=\"261.605,250.328 566.75,250.328 566.75,94.8081 261.605,94.8081 261.605,250.328 \"/>\n",
       "<polyline clip-path=\"url(#clip590)\" style=\"stroke:#009af9; stroke-linecap:round; stroke-linejoin:round; stroke-width:12; stroke-opacity:1; fill:none\" points=\"285.641,146.648 429.858,146.648 \"/>\n",
       "<circle clip-path=\"url(#clip590)\" cx=\"357.749\" cy=\"146.648\" r=\"20.0302\" fill=\"#009af9\" fill-rule=\"evenodd\" fill-opacity=\"1\" stroke=\"#000000\" stroke-opacity=\"1\" stroke-width=\"4.55111\"/>\n",
       "<path clip-path=\"url(#clip590)\" d=\"M453.894 129.368 L475.746 129.368 L475.746 133.303 L458.57 133.303 L458.57 143.535 L475.029 143.535 L475.029 147.47 L458.57 147.47 L458.57 159.993 L476.163 159.993 L476.163 163.928 L453.894 163.928 L453.894 129.368 Z\" fill=\"#000000\" fill-rule=\"nonzero\" fill-opacity=\"1\" /><path clip-path=\"url(#clip590)\" d=\"M498.686 141.984 Q497.968 141.567 497.112 141.382 Q496.278 141.174 495.26 141.174 Q491.649 141.174 489.704 143.535 Q487.783 145.873 487.783 150.271 L487.783 163.928 L483.501 163.928 L483.501 138.002 L487.783 138.002 L487.783 142.03 Q489.126 139.669 491.278 138.535 Q493.431 137.377 496.51 137.377 Q496.95 137.377 497.482 137.447 Q498.014 137.493 498.663 137.609 L498.686 141.984 Z\" fill=\"#000000\" fill-rule=\"nonzero\" fill-opacity=\"1\" /><path clip-path=\"url(#clip590)\" d=\"M517.343 141.984 Q516.626 141.567 515.769 141.382 Q514.936 141.174 513.917 141.174 Q510.306 141.174 508.362 143.535 Q506.44 145.873 506.44 150.271 L506.44 163.928 L502.158 163.928 L502.158 138.002 L506.44 138.002 L506.44 142.03 Q507.783 139.669 509.936 138.535 Q512.088 137.377 515.167 137.377 Q515.607 137.377 516.139 137.447 Q516.672 137.493 517.32 137.609 L517.343 141.984 Z\" fill=\"#000000\" fill-rule=\"nonzero\" fill-opacity=\"1\" /><path clip-path=\"url(#clip590)\" d=\"M530.815 140.988 Q527.389 140.988 525.399 143.674 Q523.408 146.336 523.408 150.988 Q523.408 155.641 525.375 158.326 Q527.366 160.988 530.815 160.988 Q534.218 160.988 536.209 158.303 Q538.199 155.618 538.199 150.988 Q538.199 146.382 536.209 143.697 Q534.218 140.988 530.815 140.988 M530.815 137.377 Q536.371 137.377 539.542 140.988 Q542.713 144.6 542.713 150.988 Q542.713 157.354 539.542 160.988 Q536.371 164.599 530.815 164.599 Q525.237 164.599 522.065 160.988 Q518.917 157.354 518.917 150.988 Q518.917 144.6 522.065 140.988 Q525.237 137.377 530.815 137.377 Z\" fill=\"#000000\" fill-rule=\"nonzero\" fill-opacity=\"1\" /><polyline clip-path=\"url(#clip590)\" style=\"stroke:#e26f46; stroke-linecap:round; stroke-linejoin:round; stroke-width:12; stroke-opacity:1; fill:none\" points=\"285.641,198.488 429.858,198.488 \"/>\n",
       "<path clip-path=\"url(#clip590)\" d=\"M475.607 200.12 L475.607 215.768 L471.348 215.768 L471.348 200.259 Q471.348 196.578 469.913 194.75 Q468.478 192.921 465.607 192.921 Q462.158 192.921 460.167 195.12 Q458.177 197.319 458.177 201.115 L458.177 215.768 L453.894 215.768 L453.894 179.75 L458.177 179.75 L458.177 193.87 Q459.705 191.532 461.765 190.375 Q463.848 189.217 466.556 189.217 Q471.024 189.217 473.316 191.995 Q475.607 194.75 475.607 200.12 Z\" fill=\"#000000\" fill-rule=\"nonzero\" fill-opacity=\"1\" /><path clip-path=\"url(#clip590)\" d=\"M485.839 197.666 L495.653 197.666 L495.653 200.305 L481.811 200.305 L481.811 197.759 Q482.598 197.041 484.056 195.745 Q492.019 188.685 492.019 186.509 Q492.019 184.981 490.815 184.055 Q489.612 183.106 487.644 183.106 Q486.44 183.106 485.028 183.523 Q483.616 183.916 481.95 184.727 L481.95 181.879 Q483.732 181.231 485.26 180.907 Q486.811 180.583 488.13 180.583 Q491.487 180.583 493.501 182.111 Q495.515 183.639 495.515 186.139 Q495.515 189.356 487.853 195.93 Q486.556 197.041 485.839 197.666 Z\" fill=\"#000000\" fill-rule=\"nonzero\" fill-opacity=\"1\" /></svg>\n"
      ]
     },
     "metadata": {},
     "output_type": "display_data"
    },
    {
     "data": {
      "text/plain": [
       "8-element Vector{Float64}:\n",
       " 0.5\n",
       " 0.25\n",
       " 0.125\n",
       " 0.0625\n",
       " 0.03125\n",
       " 0.015625\n",
       " 0.0078125\n",
       " 0.00390625"
      ]
     },
     "metadata": {},
     "output_type": "display_data"
    },
    {
     "data": {
      "text/plain": [
       "8-element Vector{Float64}:\n",
       " 0.14306074758302456\n",
       " 0.03654207308936446\n",
       " 0.009182152348950274\n",
       " 0.002298426253163585\n",
       " 0.0005747866733774783\n",
       " 0.00014370791757222827\n",
       " 3.592769991013887e-5\n",
       " 8.98198469368731e-6"
      ]
     },
     "metadata": {},
     "output_type": "display_data"
    }
   ],
   "source": [
    "display(solve_problem(get_test_data(2)...))\n",
    "\n",
    "h_list, errors_list = convergencia(get_convergence_test_data(2, 8)...)\n",
    "plot_error_curves(h_list, errors_list)\n",
    "\n",
    "display(h_list)\n",
    "display(errors_list)"
   ]
  },
  {
   "cell_type": "code",
   "execution_count": 18,
   "id": "3f76b84f",
   "metadata": {},
   "outputs": [
    {
     "data": {
      "text/plain": [
       "0.010743010677693513"
      ]
     },
     "metadata": {},
     "output_type": "display_data"
    },
    {
     "data": {
      "image/png": "[encoded data removed]",
      "image/svg+xml": [
       "<?xml version=\"1.0\" encoding=\"utf-8\"?>\n",
       "<svg xmlns=\"http://www.w3.org/2000/svg\" xmlns:xlink=\"http://www.w3.org/1999/xlink\" width=\"600\" height=\"400\" viewBox=\"0 0 2400 1600\">\n",
       "<defs>\n",
       "  <clipPath id=\"clip630\">\n",
       "    <rect x=\"0\" y=\"0\" width=\"2400\" height=\"1600\"/>\n",
       "  </clipPath>\n",
       "</defs>\n",
       "<path clip-path=\"url(#clip630)\" d=\"M0 1600 L2400 1600 L2400 0 L0 0  Z\" fill=\"#ffffff\" fill-rule=\"evenodd\" fill-opacity=\"1\"/>\n",
       "<defs>\n",
       "  <clipPath id=\"clip631\">\n",
       "    <rect x=\"480\" y=\"0\" width=\"1681\" height=\"1600\"/>\n",
       "  </clipPath>\n",
       "</defs>\n",
       "<path clip-path=\"url(#clip630)\" d=\"M189.496 1474.16 L2352.76 1474.16 L2352.76 47.2441 L189.496 47.2441  Z\" fill=\"#ffffff\" fill-rule=\"evenodd\" fill-opacity=\"1\"/>\n",
       "<defs>\n",
       "  <clipPath id=\"clip632\">\n",
       "    <rect x=\"189\" y=\"47\" width=\"2164\" height=\"1428\"/>\n",
       "  </clipPath>\n",
       "</defs>\n",
       "<polyline clip-path=\"url(#clip632)\" style=\"stroke:#000000; stroke-linecap:round; stroke-linejoin:round; stroke-width:2; stroke-opacity:0.1; fill:none\" points=\"646.096,1474.16 646.096,47.2441 \"/>\n",
       "<polyline clip-path=\"url(#clip632)\" style=\"stroke:#000000; stroke-linecap:round; stroke-linejoin:round; stroke-width:2; stroke-opacity:0.1; fill:none\" points=\"1614.59,1474.16 1614.59,47.2441 \"/>\n",
       "<polyline clip-path=\"url(#clip632)\" style=\"stroke:#000000; stroke-linecap:round; stroke-linejoin:round; stroke-width:2; stroke-opacity:0.1; fill:none\" points=\"189.496,1005.97 2352.76,1005.97 \"/>\n",
       "<polyline clip-path=\"url(#clip632)\" style=\"stroke:#000000; stroke-linecap:round; stroke-linejoin:round; stroke-width:2; stroke-opacity:0.1; fill:none\" points=\"189.496,465.442 2352.76,465.442 \"/>\n",
       "<polyline clip-path=\"url(#clip630)\" style=\"stroke:#000000; stroke-linecap:round; stroke-linejoin:round; stroke-width:4; stroke-opacity:1; fill:none\" points=\"189.496,1474.16 2352.76,1474.16 \"/>\n",
       "<polyline clip-path=\"url(#clip630)\" style=\"stroke:#000000; stroke-linecap:round; stroke-linejoin:round; stroke-width:4; stroke-opacity:1; fill:none\" points=\"646.096,1474.16 646.096,1455.27 \"/>\n",
       "<polyline clip-path=\"url(#clip630)\" style=\"stroke:#000000; stroke-linecap:round; stroke-linejoin:round; stroke-width:4; stroke-opacity:1; fill:none\" points=\"1614.59,1474.16 1614.59,1455.27 \"/>\n",
       "<path clip-path=\"url(#clip630)\" d=\"M596.362 1548.29 L604.001 1548.29 L604.001 1521.92 L595.691 1523.59 L595.691 1519.33 L603.955 1517.66 L608.631 1517.66 L608.631 1548.29 L616.27 1548.29 L616.27 1552.22 L596.362 1552.22 L596.362 1548.29 Z\" fill=\"#000000\" fill-rule=\"nonzero\" fill-opacity=\"1\" /><path clip-path=\"url(#clip630)\" d=\"M635.714 1520.74 Q632.103 1520.74 630.274 1524.31 Q628.469 1527.85 628.469 1534.98 Q628.469 1542.09 630.274 1545.65 Q632.103 1549.19 635.714 1549.19 Q639.348 1549.19 641.154 1545.65 Q642.982 1542.09 642.982 1534.98 Q642.982 1527.85 641.154 1524.31 Q639.348 1520.74 635.714 1520.74 M635.714 1517.04 Q641.524 1517.04 644.58 1521.65 Q647.658 1526.23 647.658 1534.98 Q647.658 1543.71 644.58 1548.31 Q641.524 1552.9 635.714 1552.9 Q629.904 1552.9 626.825 1548.31 Q623.769 1543.71 623.769 1534.98 Q623.769 1526.23 626.825 1521.65 Q629.904 1517.04 635.714 1517.04 Z\" fill=\"#000000\" fill-rule=\"nonzero\" fill-opacity=\"1\" /><path clip-path=\"url(#clip630)\" d=\"M647.658 1511.14 L671.77 1511.14 L671.77 1514.34 L647.658 1514.34 L647.658 1511.14 Z\" fill=\"#000000\" fill-rule=\"nonzero\" fill-opacity=\"1\" /><path clip-path=\"url(#clip630)\" d=\"M683.243 1521.62 L696.502 1521.62 L696.502 1524.81 L678.672 1524.81 L678.672 1521.62 Q680.835 1519.38 684.559 1515.62 Q688.302 1511.84 689.261 1510.75 Q691.085 1508.7 691.8 1507.29 Q692.534 1505.86 692.534 1504.48 Q692.534 1502.24 690.954 1500.83 Q689.393 1499.42 686.872 1499.42 Q685.086 1499.42 683.092 1500.04 Q681.117 1500.67 678.86 1501.93 L678.86 1498.09 Q681.155 1497.17 683.149 1496.7 Q685.142 1496.23 686.797 1496.23 Q691.161 1496.23 693.756 1498.41 Q696.352 1500.59 696.352 1504.24 Q696.352 1505.97 695.693 1507.53 Q695.054 1509.07 693.342 1511.18 Q692.872 1511.72 690.352 1514.34 Q687.832 1516.93 683.243 1521.62 Z\" fill=\"#000000\" fill-rule=\"nonzero\" fill-opacity=\"1\" /><path clip-path=\"url(#clip630)\" d=\"M1564.7 1548.29 L1572.34 1548.29 L1572.34 1521.92 L1564.03 1523.59 L1564.03 1519.33 L1572.29 1517.66 L1576.97 1517.66 L1576.97 1548.29 L1584.61 1548.29 L1584.61 1552.22 L1564.7 1552.22 L1564.7 1548.29 Z\" fill=\"#000000\" fill-rule=\"nonzero\" fill-opacity=\"1\" /><path clip-path=\"url(#clip630)\" d=\"M1604.05 1520.74 Q1600.44 1520.74 1598.61 1524.31 Q1596.81 1527.85 1596.81 1534.98 Q1596.81 1542.09 1598.61 1545.65 Q1600.44 1549.19 1604.05 1549.19 Q1607.69 1549.19 1609.49 1545.65 Q1611.32 1542.09 1611.32 1534.98 Q1611.32 1527.85 1609.49 1524.31 Q1607.69 1520.74 1604.05 1520.74 M1604.05 1517.04 Q1609.86 1517.04 1612.92 1521.65 Q1616 1526.23 1616 1534.98 Q1616 1543.71 1612.92 1548.31 Q1609.86 1552.9 1604.05 1552.9 Q1598.24 1552.9 1595.16 1548.31 Q1592.11 1543.71 1592.11 1534.98 Q1592.11 1526.23 1595.16 1521.65 Q1598.24 1517.04 1604.05 1517.04 Z\" fill=\"#000000\" fill-rule=\"nonzero\" fill-opacity=\"1\" /><path clip-path=\"url(#clip630)\" d=\"M1616 1511.14 L1640.11 1511.14 L1640.11 1514.34 L1616 1514.34 L1616 1511.14 Z\" fill=\"#000000\" fill-rule=\"nonzero\" fill-opacity=\"1\" /><path clip-path=\"url(#clip630)\" d=\"M1648.97 1521.62 L1655.17 1521.62 L1655.17 1500.19 L1648.42 1501.55 L1648.42 1498.09 L1655.14 1496.73 L1658.94 1496.73 L1658.94 1521.62 L1665.14 1521.62 L1665.14 1524.81 L1648.97 1524.81 L1648.97 1521.62 Z\" fill=\"#000000\" fill-rule=\"nonzero\" fill-opacity=\"1\" /><polyline clip-path=\"url(#clip630)\" style=\"stroke:#000000; stroke-linecap:round; stroke-linejoin:round; stroke-width:4; stroke-opacity:1; fill:none\" points=\"189.496,1474.16 189.496,47.2441 \"/>\n",
       "<polyline clip-path=\"url(#clip630)\" style=\"stroke:#000000; stroke-linecap:round; stroke-linejoin:round; stroke-width:4; stroke-opacity:1; fill:none\" points=\"189.496,1005.97 208.394,1005.97 \"/>\n",
       "<polyline clip-path=\"url(#clip630)\" style=\"stroke:#000000; stroke-linecap:round; stroke-linejoin:round; stroke-width:4; stroke-opacity:1; fill:none\" points=\"189.496,465.442 208.394,465.442 \"/>\n",
       "<path clip-path=\"url(#clip630)\" d=\"M51.6634 1025.76 L59.3023 1025.76 L59.3023 999.397 L50.9921 1001.06 L50.9921 996.804 L59.256 995.138 L63.9319 995.138 L63.9319 1025.76 L71.5707 1025.76 L71.5707 1029.7 L51.6634 1029.7 L51.6634 1025.76 Z\" fill=\"#000000\" fill-rule=\"nonzero\" fill-opacity=\"1\" /><path clip-path=\"url(#clip630)\" d=\"M91.0151 998.216 Q87.404 998.216 85.5753 1001.78 Q83.7697 1005.32 83.7697 1012.45 Q83.7697 1019.56 85.5753 1023.12 Q87.404 1026.67 91.0151 1026.67 Q94.6493 1026.67 96.4548 1023.12 Q98.2835 1019.56 98.2835 1012.45 Q98.2835 1005.32 96.4548 1001.78 Q94.6493 998.216 91.0151 998.216 M91.0151 994.513 Q96.8252 994.513 99.8808 999.119 Q102.959 1003.7 102.959 1012.45 Q102.959 1021.18 99.8808 1025.79 Q96.8252 1030.37 91.0151 1030.37 Q85.2049 1030.37 82.1262 1025.79 Q79.0707 1021.18 79.0707 1012.45 Q79.0707 1003.7 82.1262 999.119 Q85.2049 994.513 91.0151 994.513 Z\" fill=\"#000000\" fill-rule=\"nonzero\" fill-opacity=\"1\" /><path clip-path=\"url(#clip630)\" d=\"M102.959 988.614 L127.071 988.614 L127.071 991.811 L102.959 991.811 L102.959 988.614 Z\" fill=\"#000000\" fill-rule=\"nonzero\" fill-opacity=\"1\" /><path clip-path=\"url(#clip630)\" d=\"M145.71 977.517 L136.118 992.507 L145.71 992.507 L145.71 977.517 M144.713 974.207 L149.49 974.207 L149.49 992.507 L153.496 992.507 L153.496 995.667 L149.49 995.667 L149.49 1002.29 L145.71 1002.29 L145.71 995.667 L133.033 995.667 L133.033 991.999 L144.713 974.207 Z\" fill=\"#000000\" fill-rule=\"nonzero\" fill-opacity=\"1\" /><path clip-path=\"url(#clip630)\" d=\"M53.3561 485.234 L60.995 485.234 L60.995 458.869 L52.6848 460.535 L52.6848 456.276 L60.9487 454.609 L65.6246 454.609 L65.6246 485.234 L73.2634 485.234 L73.2634 489.169 L53.3561 489.169 L53.3561 485.234 Z\" fill=\"#000000\" fill-rule=\"nonzero\" fill-opacity=\"1\" /><path clip-path=\"url(#clip630)\" d=\"M92.7078 457.688 Q89.0967 457.688 87.268 461.253 Q85.4624 464.794 85.4624 471.924 Q85.4624 479.03 87.268 482.595 Q89.0967 486.137 92.7078 486.137 Q96.342 486.137 98.1475 482.595 Q99.9762 479.03 99.9762 471.924 Q99.9762 464.794 98.1475 461.253 Q96.342 457.688 92.7078 457.688 M92.7078 453.984 Q98.5179 453.984 101.573 458.591 Q104.652 463.174 104.652 471.924 Q104.652 480.651 101.573 485.257 Q98.5179 489.841 92.7078 489.841 Q86.8976 489.841 83.8189 485.257 Q80.7634 480.651 80.7634 471.924 Q80.7634 463.174 83.8189 458.591 Q86.8976 453.984 92.7078 453.984 Z\" fill=\"#000000\" fill-rule=\"nonzero\" fill-opacity=\"1\" /><path clip-path=\"url(#clip630)\" d=\"M104.652 448.086 L128.764 448.086 L128.764 451.283 L104.652 451.283 L104.652 448.086 Z\" fill=\"#000000\" fill-rule=\"nonzero\" fill-opacity=\"1\" /><path clip-path=\"url(#clip630)\" d=\"M140.236 458.562 L153.496 458.562 L153.496 461.759 L135.666 461.759 L135.666 458.562 Q137.829 456.323 141.553 452.562 Q145.296 448.782 146.255 447.691 Q148.079 445.641 148.794 444.23 Q149.527 442.801 149.527 441.428 Q149.527 439.19 147.948 437.779 Q146.387 436.368 143.866 436.368 Q142.08 436.368 140.086 436.989 Q138.111 437.61 135.854 438.87 L135.854 435.033 Q138.149 434.111 140.142 433.641 Q142.136 433.171 143.791 433.171 Q148.155 433.171 150.75 435.353 Q153.345 437.534 153.345 441.183 Q153.345 442.913 152.687 444.475 Q152.048 446.017 150.336 448.123 Q149.866 448.669 147.346 451.283 Q144.826 453.878 140.236 458.562 Z\" fill=\"#000000\" fill-rule=\"nonzero\" fill-opacity=\"1\" /><polyline clip-path=\"url(#clip632)\" style=\"stroke:#009af9; stroke-linecap:round; stroke-linejoin:round; stroke-width:12; stroke-opacity:1; fill:none\" points=\"2291.53,292.928 1999.99,457.029 1708.44,620.09 1416.9,782.891 1125.35,945.628 833.809,1108.35 542.265,1271.06 250.72,1433.78 \"/>\n",
       "<circle clip-path=\"url(#clip632)\" cx=\"2291.53\" cy=\"292.928\" r=\"14.4\" fill=\"#009af9\" fill-rule=\"evenodd\" fill-opacity=\"1\" stroke=\"#000000\" stroke-opacity=\"1\" stroke-width=\"3.2\"/>\n",
       "<circle clip-path=\"url(#clip632)\" cx=\"1999.99\" cy=\"457.029\" r=\"14.4\" fill=\"#009af9\" fill-rule=\"evenodd\" fill-opacity=\"1\" stroke=\"#000000\" stroke-opacity=\"1\" stroke-width=\"3.2\"/>\n",
       "<circle clip-path=\"url(#clip632)\" cx=\"1708.44\" cy=\"620.09\" r=\"14.4\" fill=\"#009af9\" fill-rule=\"evenodd\" fill-opacity=\"1\" stroke=\"#000000\" stroke-opacity=\"1\" stroke-width=\"3.2\"/>\n",
       "<circle clip-path=\"url(#clip632)\" cx=\"1416.9\" cy=\"782.891\" r=\"14.4\" fill=\"#009af9\" fill-rule=\"evenodd\" fill-opacity=\"1\" stroke=\"#000000\" stroke-opacity=\"1\" stroke-width=\"3.2\"/>\n",
       "<circle clip-path=\"url(#clip632)\" cx=\"1125.35\" cy=\"945.628\" r=\"14.4\" fill=\"#009af9\" fill-rule=\"evenodd\" fill-opacity=\"1\" stroke=\"#000000\" stroke-opacity=\"1\" stroke-width=\"3.2\"/>\n",
       "<circle clip-path=\"url(#clip632)\" cx=\"833.809\" cy=\"1108.35\" r=\"14.4\" fill=\"#009af9\" fill-rule=\"evenodd\" fill-opacity=\"1\" stroke=\"#000000\" stroke-opacity=\"1\" stroke-width=\"3.2\"/>\n",
       "<circle clip-path=\"url(#clip632)\" cx=\"542.265\" cy=\"1271.06\" r=\"14.4\" fill=\"#009af9\" fill-rule=\"evenodd\" fill-opacity=\"1\" stroke=\"#000000\" stroke-opacity=\"1\" stroke-width=\"3.2\"/>\n",
       "<circle clip-path=\"url(#clip632)\" cx=\"250.72\" cy=\"1433.78\" r=\"14.4\" fill=\"#009af9\" fill-rule=\"evenodd\" fill-opacity=\"1\" stroke=\"#000000\" stroke-opacity=\"1\" stroke-width=\"3.2\"/>\n",
       "<polyline clip-path=\"url(#clip632)\" style=\"stroke:#e26f46; stroke-linecap:round; stroke-linejoin:round; stroke-width:12; stroke-opacity:1; fill:none\" points=\"2291.53,87.6286 1999.99,250.344 1708.44,413.059 1416.9,575.774 1125.35,738.49 833.809,901.205 542.265,1063.92 250.72,1226.64 \"/>\n",
       "<path clip-path=\"url(#clip630)\" d=\"M261.605 250.328 L566.75 250.328 L566.75 94.8081 L261.605 94.8081  Z\" fill=\"#ffffff\" fill-rule=\"evenodd\" fill-opacity=\"1\"/>\n",
       "<polyline clip-path=\"url(#clip630)\" style=\"stroke:#000000; stroke-linecap:round; stroke-linejoin:round; stroke-width:4; stroke-opacity:1; fill:none\" points=\"261.605,250.328 566.75,250.328 566.75,94.8081 261.605,94.8081 261.605,250.328 \"/>\n",
       "<polyline clip-path=\"url(#clip630)\" style=\"stroke:#009af9; stroke-linecap:round; stroke-linejoin:round; stroke-width:12; stroke-opacity:1; fill:none\" points=\"285.641,146.648 429.858,146.648 \"/>\n",
       "<circle clip-path=\"url(#clip630)\" cx=\"357.749\" cy=\"146.648\" r=\"20.0302\" fill=\"#009af9\" fill-rule=\"evenodd\" fill-opacity=\"1\" stroke=\"#000000\" stroke-opacity=\"1\" stroke-width=\"4.55111\"/>\n",
       "<path clip-path=\"url(#clip630)\" d=\"M453.894 129.368 L475.746 129.368 L475.746 133.303 L458.57 133.303 L458.57 143.535 L475.029 143.535 L475.029 147.47 L458.57 147.47 L458.57 159.993 L476.163 159.993 L476.163 163.928 L453.894 163.928 L453.894 129.368 Z\" fill=\"#000000\" fill-rule=\"nonzero\" fill-opacity=\"1\" /><path clip-path=\"url(#clip630)\" d=\"M498.686 141.984 Q497.968 141.567 497.112 141.382 Q496.278 141.174 495.26 141.174 Q491.649 141.174 489.704 143.535 Q487.783 145.873 487.783 150.271 L487.783 163.928 L483.501 163.928 L483.501 138.002 L487.783 138.002 L487.783 142.03 Q489.126 139.669 491.278 138.535 Q493.431 137.377 496.51 137.377 Q496.95 137.377 497.482 137.447 Q498.014 137.493 498.663 137.609 L498.686 141.984 Z\" fill=\"#000000\" fill-rule=\"nonzero\" fill-opacity=\"1\" /><path clip-path=\"url(#clip630)\" d=\"M517.343 141.984 Q516.626 141.567 515.769 141.382 Q514.936 141.174 513.917 141.174 Q510.306 141.174 508.362 143.535 Q506.44 145.873 506.44 150.271 L506.44 163.928 L502.158 163.928 L502.158 138.002 L506.44 138.002 L506.44 142.03 Q507.783 139.669 509.936 138.535 Q512.088 137.377 515.167 137.377 Q515.607 137.377 516.139 137.447 Q516.672 137.493 517.32 137.609 L517.343 141.984 Z\" fill=\"#000000\" fill-rule=\"nonzero\" fill-opacity=\"1\" /><path clip-path=\"url(#clip630)\" d=\"M530.815 140.988 Q527.389 140.988 525.399 143.674 Q523.408 146.336 523.408 150.988 Q523.408 155.641 525.375 158.326 Q527.366 160.988 530.815 160.988 Q534.218 160.988 536.209 158.303 Q538.199 155.618 538.199 150.988 Q538.199 146.382 536.209 143.697 Q534.218 140.988 530.815 140.988 M530.815 137.377 Q536.371 137.377 539.542 140.988 Q542.713 144.6 542.713 150.988 Q542.713 157.354 539.542 160.988 Q536.371 164.599 530.815 164.599 Q525.237 164.599 522.065 160.988 Q518.917 157.354 518.917 150.988 Q518.917 144.6 522.065 140.988 Q525.237 137.377 530.815 137.377 Z\" fill=\"#000000\" fill-rule=\"nonzero\" fill-opacity=\"1\" /><polyline clip-path=\"url(#clip630)\" style=\"stroke:#e26f46; stroke-linecap:round; stroke-linejoin:round; stroke-width:12; stroke-opacity:1; fill:none\" points=\"285.641,198.488 429.858,198.488 \"/>\n",
       "<path clip-path=\"url(#clip630)\" d=\"M475.607 200.12 L475.607 215.768 L471.348 215.768 L471.348 200.259 Q471.348 196.578 469.913 194.75 Q468.478 192.921 465.607 192.921 Q462.158 192.921 460.167 195.12 Q458.177 197.319 458.177 201.115 L458.177 215.768 L453.894 215.768 L453.894 179.75 L458.177 179.75 L458.177 193.87 Q459.705 191.532 461.765 190.375 Q463.848 189.217 466.556 189.217 Q471.024 189.217 473.316 191.995 Q475.607 194.75 475.607 200.12 Z\" fill=\"#000000\" fill-rule=\"nonzero\" fill-opacity=\"1\" /><path clip-path=\"url(#clip630)\" d=\"M485.839 197.666 L495.653 197.666 L495.653 200.305 L481.811 200.305 L481.811 197.759 Q482.598 197.041 484.056 195.745 Q492.019 188.685 492.019 186.509 Q492.019 184.981 490.815 184.055 Q489.612 183.106 487.644 183.106 Q486.44 183.106 485.028 183.523 Q483.616 183.916 481.95 184.727 L481.95 181.879 Q483.732 181.231 485.26 180.907 Q486.811 180.583 488.13 180.583 Q491.487 180.583 493.501 182.111 Q495.515 183.639 495.515 186.139 Q495.515 189.356 487.853 195.93 Q486.556 197.041 485.839 197.666 Z\" fill=\"#000000\" fill-rule=\"nonzero\" fill-opacity=\"1\" /></svg>\n"
      ],
      "text/html": [
       "<?xml version=\"1.0\" encoding=\"utf-8\"?>\n",
       "<svg xmlns=\"http://www.w3.org/2000/svg\" xmlns:xlink=\"http://www.w3.org/1999/xlink\" width=\"600\" height=\"400\" viewBox=\"0 0 2400 1600\">\n",
       "<defs>\n",
       "  <clipPath id=\"clip680\">\n",
       "    <rect x=\"0\" y=\"0\" width=\"2400\" height=\"1600\"/>\n",
       "  </clipPath>\n",
       "</defs>\n",
       "<path clip-path=\"url(#clip680)\" d=\"M0 1600 L2400 1600 L2400 0 L0 0  Z\" fill=\"#ffffff\" fill-rule=\"evenodd\" fill-opacity=\"1\"/>\n",
       "<defs>\n",
       "  <clipPath id=\"clip681\">\n",
       "    <rect x=\"480\" y=\"0\" width=\"1681\" height=\"1600\"/>\n",
       "  </clipPath>\n",
       "</defs>\n",
       "<path clip-path=\"url(#clip680)\" d=\"M189.496 1474.16 L2352.76 1474.16 L2352.76 47.2441 L189.496 47.2441  Z\" fill=\"#ffffff\" fill-rule=\"evenodd\" fill-opacity=\"1\"/>\n",
       "<defs>\n",
       "  <clipPath id=\"clip682\">\n",
       "    <rect x=\"189\" y=\"47\" width=\"2164\" height=\"1428\"/>\n",
       "  </clipPath>\n",
       "</defs>\n",
       "<polyline clip-path=\"url(#clip682)\" style=\"stroke:#000000; stroke-linecap:round; stroke-linejoin:round; stroke-width:2; stroke-opacity:0.1; fill:none\" points=\"646.096,1474.16 646.096,47.2441 \"/>\n",
       "<polyline clip-path=\"url(#clip682)\" style=\"stroke:#000000; stroke-linecap:round; stroke-linejoin:round; stroke-width:2; stroke-opacity:0.1; fill:none\" points=\"1614.59,1474.16 1614.59,47.2441 \"/>\n",
       "<polyline clip-path=\"url(#clip682)\" style=\"stroke:#000000; stroke-linecap:round; stroke-linejoin:round; stroke-width:2; stroke-opacity:0.1; fill:none\" points=\"189.496,1005.97 2352.76,1005.97 \"/>\n",
       "<polyline clip-path=\"url(#clip682)\" style=\"stroke:#000000; stroke-linecap:round; stroke-linejoin:round; stroke-width:2; stroke-opacity:0.1; fill:none\" points=\"189.496,465.442 2352.76,465.442 \"/>\n",
       "<polyline clip-path=\"url(#clip680)\" style=\"stroke:#000000; stroke-linecap:round; stroke-linejoin:round; stroke-width:4; stroke-opacity:1; fill:none\" points=\"189.496,1474.16 2352.76,1474.16 \"/>\n",
       "<polyline clip-path=\"url(#clip680)\" style=\"stroke:#000000; stroke-linecap:round; stroke-linejoin:round; stroke-width:4; stroke-opacity:1; fill:none\" points=\"646.096,1474.16 646.096,1455.27 \"/>\n",
       "<polyline clip-path=\"url(#clip680)\" style=\"stroke:#000000; stroke-linecap:round; stroke-linejoin:round; stroke-width:4; stroke-opacity:1; fill:none\" points=\"1614.59,1474.16 1614.59,1455.27 \"/>\n",
       "<path clip-path=\"url(#clip680)\" d=\"M596.362 1548.29 L604.001 1548.29 L604.001 1521.92 L595.691 1523.59 L595.691 1519.33 L603.955 1517.66 L608.631 1517.66 L608.631 1548.29 L616.27 1548.29 L616.27 1552.22 L596.362 1552.22 L596.362 1548.29 Z\" fill=\"#000000\" fill-rule=\"nonzero\" fill-opacity=\"1\" /><path clip-path=\"url(#clip680)\" d=\"M635.714 1520.74 Q632.103 1520.74 630.274 1524.31 Q628.469 1527.85 628.469 1534.98 Q628.469 1542.09 630.274 1545.65 Q632.103 1549.19 635.714 1549.19 Q639.348 1549.19 641.154 1545.65 Q642.982 1542.09 642.982 1534.98 Q642.982 1527.85 641.154 1524.31 Q639.348 1520.74 635.714 1520.74 M635.714 1517.04 Q641.524 1517.04 644.58 1521.65 Q647.658 1526.23 647.658 1534.98 Q647.658 1543.71 644.58 1548.31 Q641.524 1552.9 635.714 1552.9 Q629.904 1552.9 626.825 1548.31 Q623.769 1543.71 623.769 1534.98 Q623.769 1526.23 626.825 1521.65 Q629.904 1517.04 635.714 1517.04 Z\" fill=\"#000000\" fill-rule=\"nonzero\" fill-opacity=\"1\" /><path clip-path=\"url(#clip680)\" d=\"M647.658 1511.14 L671.77 1511.14 L671.77 1514.34 L647.658 1514.34 L647.658 1511.14 Z\" fill=\"#000000\" fill-rule=\"nonzero\" fill-opacity=\"1\" /><path clip-path=\"url(#clip680)\" d=\"M683.243 1521.62 L696.502 1521.62 L696.502 1524.81 L678.672 1524.81 L678.672 1521.62 Q680.835 1519.38 684.559 1515.62 Q688.302 1511.84 689.261 1510.75 Q691.085 1508.7 691.8 1507.29 Q692.534 1505.86 692.534 1504.48 Q692.534 1502.24 690.954 1500.83 Q689.393 1499.42 686.872 1499.42 Q685.086 1499.42 683.092 1500.04 Q681.117 1500.67 678.86 1501.93 L678.86 1498.09 Q681.155 1497.17 683.149 1496.7 Q685.142 1496.23 686.797 1496.23 Q691.161 1496.23 693.756 1498.41 Q696.352 1500.59 696.352 1504.24 Q696.352 1505.97 695.693 1507.53 Q695.054 1509.07 693.342 1511.18 Q692.872 1511.72 690.352 1514.34 Q687.832 1516.93 683.243 1521.62 Z\" fill=\"#000000\" fill-rule=\"nonzero\" fill-opacity=\"1\" /><path clip-path=\"url(#clip680)\" d=\"M1564.7 1548.29 L1572.34 1548.29 L1572.34 1521.92 L1564.03 1523.59 L1564.03 1519.33 L1572.29 1517.66 L1576.97 1517.66 L1576.97 1548.29 L1584.61 1548.29 L1584.61 1552.22 L1564.7 1552.22 L1564.7 1548.29 Z\" fill=\"#000000\" fill-rule=\"nonzero\" fill-opacity=\"1\" /><path clip-path=\"url(#clip680)\" d=\"M1604.05 1520.74 Q1600.44 1520.74 1598.61 1524.31 Q1596.81 1527.85 1596.81 1534.98 Q1596.81 1542.09 1598.61 1545.65 Q1600.44 1549.19 1604.05 1549.19 Q1607.69 1549.19 1609.49 1545.65 Q1611.32 1542.09 1611.32 1534.98 Q1611.32 1527.85 1609.49 1524.31 Q1607.69 1520.74 1604.05 1520.74 M1604.05 1517.04 Q1609.86 1517.04 1612.92 1521.65 Q1616 1526.23 1616 1534.98 Q1616 1543.71 1612.92 1548.31 Q1609.86 1552.9 1604.05 1552.9 Q1598.24 1552.9 1595.16 1548.31 Q1592.11 1543.71 1592.11 1534.98 Q1592.11 1526.23 1595.16 1521.65 Q1598.24 1517.04 1604.05 1517.04 Z\" fill=\"#000000\" fill-rule=\"nonzero\" fill-opacity=\"1\" /><path clip-path=\"url(#clip680)\" d=\"M1616 1511.14 L1640.11 1511.14 L1640.11 1514.34 L1616 1514.34 L1616 1511.14 Z\" fill=\"#000000\" fill-rule=\"nonzero\" fill-opacity=\"1\" /><path clip-path=\"url(#clip680)\" d=\"M1648.97 1521.62 L1655.17 1521.62 L1655.17 1500.19 L1648.42 1501.55 L1648.42 1498.09 L1655.14 1496.73 L1658.94 1496.73 L1658.94 1521.62 L1665.14 1521.62 L1665.14 1524.81 L1648.97 1524.81 L1648.97 1521.62 Z\" fill=\"#000000\" fill-rule=\"nonzero\" fill-opacity=\"1\" /><polyline clip-path=\"url(#clip680)\" style=\"stroke:#000000; stroke-linecap:round; stroke-linejoin:round; stroke-width:4; stroke-opacity:1; fill:none\" points=\"189.496,1474.16 189.496,47.2441 \"/>\n",
       "<polyline clip-path=\"url(#clip680)\" style=\"stroke:#000000; stroke-linecap:round; stroke-linejoin:round; stroke-width:4; stroke-opacity:1; fill:none\" points=\"189.496,1005.97 208.394,1005.97 \"/>\n",
       "<polyline clip-path=\"url(#clip680)\" style=\"stroke:#000000; stroke-linecap:round; stroke-linejoin:round; stroke-width:4; stroke-opacity:1; fill:none\" points=\"189.496,465.442 208.394,465.442 \"/>\n",
       "<path clip-path=\"url(#clip680)\" d=\"M51.6634 1025.76 L59.3023 1025.76 L59.3023 999.397 L50.9921 1001.06 L50.9921 996.804 L59.256 995.138 L63.9319 995.138 L63.9319 1025.76 L71.5707 1025.76 L71.5707 1029.7 L51.6634 1029.7 L51.6634 1025.76 Z\" fill=\"#000000\" fill-rule=\"nonzero\" fill-opacity=\"1\" /><path clip-path=\"url(#clip680)\" d=\"M91.0151 998.216 Q87.404 998.216 85.5753 1001.78 Q83.7697 1005.32 83.7697 1012.45 Q83.7697 1019.56 85.5753 1023.12 Q87.404 1026.67 91.0151 1026.67 Q94.6493 1026.67 96.4548 1023.12 Q98.2835 1019.56 98.2835 1012.45 Q98.2835 1005.32 96.4548 1001.78 Q94.6493 998.216 91.0151 998.216 M91.0151 994.513 Q96.8252 994.513 99.8808 999.119 Q102.959 1003.7 102.959 1012.45 Q102.959 1021.18 99.8808 1025.79 Q96.8252 1030.37 91.0151 1030.37 Q85.2049 1030.37 82.1262 1025.79 Q79.0707 1021.18 79.0707 1012.45 Q79.0707 1003.7 82.1262 999.119 Q85.2049 994.513 91.0151 994.513 Z\" fill=\"#000000\" fill-rule=\"nonzero\" fill-opacity=\"1\" /><path clip-path=\"url(#clip680)\" d=\"M102.959 988.614 L127.071 988.614 L127.071 991.811 L102.959 991.811 L102.959 988.614 Z\" fill=\"#000000\" fill-rule=\"nonzero\" fill-opacity=\"1\" /><path clip-path=\"url(#clip680)\" d=\"M145.71 977.517 L136.118 992.507 L145.71 992.507 L145.71 977.517 M144.713 974.207 L149.49 974.207 L149.49 992.507 L153.496 992.507 L153.496 995.667 L149.49 995.667 L149.49 1002.29 L145.71 1002.29 L145.71 995.667 L133.033 995.667 L133.033 991.999 L144.713 974.207 Z\" fill=\"#000000\" fill-rule=\"nonzero\" fill-opacity=\"1\" /><path clip-path=\"url(#clip680)\" d=\"M53.3561 485.234 L60.995 485.234 L60.995 458.869 L52.6848 460.535 L52.6848 456.276 L60.9487 454.609 L65.6246 454.609 L65.6246 485.234 L73.2634 485.234 L73.2634 489.169 L53.3561 489.169 L53.3561 485.234 Z\" fill=\"#000000\" fill-rule=\"nonzero\" fill-opacity=\"1\" /><path clip-path=\"url(#clip680)\" d=\"M92.7078 457.688 Q89.0967 457.688 87.268 461.253 Q85.4624 464.794 85.4624 471.924 Q85.4624 479.03 87.268 482.595 Q89.0967 486.137 92.7078 486.137 Q96.342 486.137 98.1475 482.595 Q99.9762 479.03 99.9762 471.924 Q99.9762 464.794 98.1475 461.253 Q96.342 457.688 92.7078 457.688 M92.7078 453.984 Q98.5179 453.984 101.573 458.591 Q104.652 463.174 104.652 471.924 Q104.652 480.651 101.573 485.257 Q98.5179 489.841 92.7078 489.841 Q86.8976 489.841 83.8189 485.257 Q80.7634 480.651 80.7634 471.924 Q80.7634 463.174 83.8189 458.591 Q86.8976 453.984 92.7078 453.984 Z\" fill=\"#000000\" fill-rule=\"nonzero\" fill-opacity=\"1\" /><path clip-path=\"url(#clip680)\" d=\"M104.652 448.086 L128.764 448.086 L128.764 451.283 L104.652 451.283 L104.652 448.086 Z\" fill=\"#000000\" fill-rule=\"nonzero\" fill-opacity=\"1\" /><path clip-path=\"url(#clip680)\" d=\"M140.236 458.562 L153.496 458.562 L153.496 461.759 L135.666 461.759 L135.666 458.562 Q137.829 456.323 141.553 452.562 Q145.296 448.782 146.255 447.691 Q148.079 445.641 148.794 444.23 Q149.527 442.801 149.527 441.428 Q149.527 439.19 147.948 437.779 Q146.387 436.368 143.866 436.368 Q142.08 436.368 140.086 436.989 Q138.111 437.61 135.854 438.87 L135.854 435.033 Q138.149 434.111 140.142 433.641 Q142.136 433.171 143.791 433.171 Q148.155 433.171 150.75 435.353 Q153.345 437.534 153.345 441.183 Q153.345 442.913 152.687 444.475 Q152.048 446.017 150.336 448.123 Q149.866 448.669 147.346 451.283 Q144.826 453.878 140.236 458.562 Z\" fill=\"#000000\" fill-rule=\"nonzero\" fill-opacity=\"1\" /><polyline clip-path=\"url(#clip682)\" style=\"stroke:#009af9; stroke-linecap:round; stroke-linejoin:round; stroke-width:12; stroke-opacity:1; fill:none\" points=\"2291.53,292.928 1999.99,457.029 1708.44,620.09 1416.9,782.891 1125.35,945.628 833.809,1108.35 542.265,1271.06 250.72,1433.78 \"/>\n",
       "<circle clip-path=\"url(#clip682)\" cx=\"2291.53\" cy=\"292.928\" r=\"14.4\" fill=\"#009af9\" fill-rule=\"evenodd\" fill-opacity=\"1\" stroke=\"#000000\" stroke-opacity=\"1\" stroke-width=\"3.2\"/>\n",
       "<circle clip-path=\"url(#clip682)\" cx=\"1999.99\" cy=\"457.029\" r=\"14.4\" fill=\"#009af9\" fill-rule=\"evenodd\" fill-opacity=\"1\" stroke=\"#000000\" stroke-opacity=\"1\" stroke-width=\"3.2\"/>\n",
       "<circle clip-path=\"url(#clip682)\" cx=\"1708.44\" cy=\"620.09\" r=\"14.4\" fill=\"#009af9\" fill-rule=\"evenodd\" fill-opacity=\"1\" stroke=\"#000000\" stroke-opacity=\"1\" stroke-width=\"3.2\"/>\n",
       "<circle clip-path=\"url(#clip682)\" cx=\"1416.9\" cy=\"782.891\" r=\"14.4\" fill=\"#009af9\" fill-rule=\"evenodd\" fill-opacity=\"1\" stroke=\"#000000\" stroke-opacity=\"1\" stroke-width=\"3.2\"/>\n",
       "<circle clip-path=\"url(#clip682)\" cx=\"1125.35\" cy=\"945.628\" r=\"14.4\" fill=\"#009af9\" fill-rule=\"evenodd\" fill-opacity=\"1\" stroke=\"#000000\" stroke-opacity=\"1\" stroke-width=\"3.2\"/>\n",
       "<circle clip-path=\"url(#clip682)\" cx=\"833.809\" cy=\"1108.35\" r=\"14.4\" fill=\"#009af9\" fill-rule=\"evenodd\" fill-opacity=\"1\" stroke=\"#000000\" stroke-opacity=\"1\" stroke-width=\"3.2\"/>\n",
       "<circle clip-path=\"url(#clip682)\" cx=\"542.265\" cy=\"1271.06\" r=\"14.4\" fill=\"#009af9\" fill-rule=\"evenodd\" fill-opacity=\"1\" stroke=\"#000000\" stroke-opacity=\"1\" stroke-width=\"3.2\"/>\n",
       "<circle clip-path=\"url(#clip682)\" cx=\"250.72\" cy=\"1433.78\" r=\"14.4\" fill=\"#009af9\" fill-rule=\"evenodd\" fill-opacity=\"1\" stroke=\"#000000\" stroke-opacity=\"1\" stroke-width=\"3.2\"/>\n",
       "<polyline clip-path=\"url(#clip682)\" style=\"stroke:#e26f46; stroke-linecap:round; stroke-linejoin:round; stroke-width:12; stroke-opacity:1; fill:none\" points=\"2291.53,87.6286 1999.99,250.344 1708.44,413.059 1416.9,575.774 1125.35,738.49 833.809,901.205 542.265,1063.92 250.72,1226.64 \"/>\n",
       "<path clip-path=\"url(#clip680)\" d=\"M261.605 250.328 L566.75 250.328 L566.75 94.8081 L261.605 94.8081  Z\" fill=\"#ffffff\" fill-rule=\"evenodd\" fill-opacity=\"1\"/>\n",
       "<polyline clip-path=\"url(#clip680)\" style=\"stroke:#000000; stroke-linecap:round; stroke-linejoin:round; stroke-width:4; stroke-opacity:1; fill:none\" points=\"261.605,250.328 566.75,250.328 566.75,94.8081 261.605,94.8081 261.605,250.328 \"/>\n",
       "<polyline clip-path=\"url(#clip680)\" style=\"stroke:#009af9; stroke-linecap:round; stroke-linejoin:round; stroke-width:12; stroke-opacity:1; fill:none\" points=\"285.641,146.648 429.858,146.648 \"/>\n",
       "<circle clip-path=\"url(#clip680)\" cx=\"357.749\" cy=\"146.648\" r=\"20.0302\" fill=\"#009af9\" fill-rule=\"evenodd\" fill-opacity=\"1\" stroke=\"#000000\" stroke-opacity=\"1\" stroke-width=\"4.55111\"/>\n",
       "<path clip-path=\"url(#clip680)\" d=\"M453.894 129.368 L475.746 129.368 L475.746 133.303 L458.57 133.303 L458.57 143.535 L475.029 143.535 L475.029 147.47 L458.57 147.47 L458.57 159.993 L476.163 159.993 L476.163 163.928 L453.894 163.928 L453.894 129.368 Z\" fill=\"#000000\" fill-rule=\"nonzero\" fill-opacity=\"1\" /><path clip-path=\"url(#clip680)\" d=\"M498.686 141.984 Q497.968 141.567 497.112 141.382 Q496.278 141.174 495.26 141.174 Q491.649 141.174 489.704 143.535 Q487.783 145.873 487.783 150.271 L487.783 163.928 L483.501 163.928 L483.501 138.002 L487.783 138.002 L487.783 142.03 Q489.126 139.669 491.278 138.535 Q493.431 137.377 496.51 137.377 Q496.95 137.377 497.482 137.447 Q498.014 137.493 498.663 137.609 L498.686 141.984 Z\" fill=\"#000000\" fill-rule=\"nonzero\" fill-opacity=\"1\" /><path clip-path=\"url(#clip680)\" d=\"M517.343 141.984 Q516.626 141.567 515.769 141.382 Q514.936 141.174 513.917 141.174 Q510.306 141.174 508.362 143.535 Q506.44 145.873 506.44 150.271 L506.44 163.928 L502.158 163.928 L502.158 138.002 L506.44 138.002 L506.44 142.03 Q507.783 139.669 509.936 138.535 Q512.088 137.377 515.167 137.377 Q515.607 137.377 516.139 137.447 Q516.672 137.493 517.32 137.609 L517.343 141.984 Z\" fill=\"#000000\" fill-rule=\"nonzero\" fill-opacity=\"1\" /><path clip-path=\"url(#clip680)\" d=\"M530.815 140.988 Q527.389 140.988 525.399 143.674 Q523.408 146.336 523.408 150.988 Q523.408 155.641 525.375 158.326 Q527.366 160.988 530.815 160.988 Q534.218 160.988 536.209 158.303 Q538.199 155.618 538.199 150.988 Q538.199 146.382 536.209 143.697 Q534.218 140.988 530.815 140.988 M530.815 137.377 Q536.371 137.377 539.542 140.988 Q542.713 144.6 542.713 150.988 Q542.713 157.354 539.542 160.988 Q536.371 164.599 530.815 164.599 Q525.237 164.599 522.065 160.988 Q518.917 157.354 518.917 150.988 Q518.917 144.6 522.065 140.988 Q525.237 137.377 530.815 137.377 Z\" fill=\"#000000\" fill-rule=\"nonzero\" fill-opacity=\"1\" /><polyline clip-path=\"url(#clip680)\" style=\"stroke:#e26f46; stroke-linecap:round; stroke-linejoin:round; stroke-width:12; stroke-opacity:1; fill:none\" points=\"285.641,198.488 429.858,198.488 \"/>\n",
       "<path clip-path=\"url(#clip680)\" d=\"M475.607 200.12 L475.607 215.768 L471.348 215.768 L471.348 200.259 Q471.348 196.578 469.913 194.75 Q468.478 192.921 465.607 192.921 Q462.158 192.921 460.167 195.12 Q458.177 197.319 458.177 201.115 L458.177 215.768 L453.894 215.768 L453.894 179.75 L458.177 179.75 L458.177 193.87 Q459.705 191.532 461.765 190.375 Q463.848 189.217 466.556 189.217 Q471.024 189.217 473.316 191.995 Q475.607 194.75 475.607 200.12 Z\" fill=\"#000000\" fill-rule=\"nonzero\" fill-opacity=\"1\" /><path clip-path=\"url(#clip680)\" d=\"M485.839 197.666 L495.653 197.666 L495.653 200.305 L481.811 200.305 L481.811 197.759 Q482.598 197.041 484.056 195.745 Q492.019 188.685 492.019 186.509 Q492.019 184.981 490.815 184.055 Q489.612 183.106 487.644 183.106 Q486.44 183.106 485.028 183.523 Q483.616 183.916 481.95 184.727 L481.95 181.879 Q483.732 181.231 485.26 180.907 Q486.811 180.583 488.13 180.583 Q491.487 180.583 493.501 182.111 Q495.515 183.639 495.515 186.139 Q495.515 189.356 487.853 195.93 Q486.556 197.041 485.839 197.666 Z\" fill=\"#000000\" fill-rule=\"nonzero\" fill-opacity=\"1\" /></svg>\n"
      ]
     },
     "metadata": {},
     "output_type": "display_data"
    },
    {
     "data": {
      "text/plain": [
       "8-element Vector{Float64}:\n",
       " 0.5\n",
       " 0.25\n",
       " 0.125\n",
       " 0.0625\n",
       " 0.03125\n",
       " 0.015625\n",
       " 0.0078125\n",
       " 0.00390625"
      ]
     },
     "metadata": {},
     "output_type": "display_data"
    },
    {
     "data": {
      "text/plain": [
       "8-element Vector{Float64}:\n",
       " 0.04348238097921159\n",
       " 0.010743010677693513\n",
       " 0.0026778734368088863\n",
       " 0.0006689773116647823\n",
       " 0.00016721365912275162\n",
       " 4.180149798829526e-5\n",
       " 1.0450258753703209e-5\n",
       " 2.6125605465557472e-6"
      ]
     },
     "metadata": {},
     "output_type": "display_data"
    }
   ],
   "source": [
    "display(solve_problem(get_test_data(1)...))\n",
    "\n",
    "h_list, errors_list = convergencia(get_convergence_test_data(1, 8)...)\n",
    "plot_error_curves(h_list, errors_list)\n",
    "\n",
    "display(h_list)\n",
    "display(errors_list)"
   ]
  },
  {
   "cell_type": "code",
   "execution_count": null,
   "id": "ed526c7f",
   "metadata": {},
   "outputs": [],
   "source": []
  }
 ],
 "metadata": {
  "kernelspec": {
   "display_name": "Julia 1.11.1",
   "language": "julia",
   "name": "julia-1.11"
  },
  "language_info": {
   "file_extension": ".jl",
   "mimetype": "application/julia",
   "name": "julia",
   "version": "1.11.1"
  }
 },
 "nbformat": 4,
 "nbformat_minor": 5
}
