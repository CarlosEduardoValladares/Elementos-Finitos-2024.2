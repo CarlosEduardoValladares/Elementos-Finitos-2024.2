{
 "cells": [
  {
   "cell_type": "markdown",
   "id": "1ba91d42",
   "metadata": {},
   "source": [
    "## Imports"
   ]
  },
  {
   "cell_type": "code",
   "execution_count": 1,
   "id": "9b835693",
   "metadata": {},
   "outputs": [],
   "source": [
    "using LinearAlgebra\n",
    "using Plots\n",
    "using GaussQuadrature\n",
    "using SparseArrays"
   ]
  },
  {
   "cell_type": "markdown",
   "id": "7fcb9b18",
   "metadata": {},
   "source": [
    "## Base"
   ]
  },
  {
   "cell_type": "code",
   "execution_count": 2,
   "id": "06e179e2",
   "metadata": {},
   "outputs": [
    {
     "data": {
      "text/plain": [
       "dϕ₂ (generic function with 1 method)"
      ]
     },
     "execution_count": 2,
     "metadata": {},
     "output_type": "execute_result"
    }
   ],
   "source": [
    "function ϕ₁(ξ::Float64)\n",
    "    return (1.0 - ξ)/2.0\n",
    "end\n",
    "\n",
    "function ϕ₂(ξ::Float64)\n",
    "    return (1.0 + ξ)/2.0\n",
    "end\n",
    "\n",
    "function dϕ₁(ξ::Float64)\n",
    "    return -1.0/2.0\n",
    "end\n",
    "\n",
    "function dϕ₂(ξ::Float64)\n",
    "    return 1.0/2.0\n",
    "end"
   ]
  },
  {
   "cell_type": "markdown",
   "id": "977b03c4",
   "metadata": {},
   "source": [
    "## Mapeamento"
   ]
  },
  {
   "cell_type": "code",
   "execution_count": 3,
   "id": "d4b77127",
   "metadata": {},
   "outputs": [
    {
     "data": {
      "text/plain": [
       "map_ξ_to_x (generic function with 1 method)"
      ]
     },
     "execution_count": 3,
     "metadata": {},
     "output_type": "execute_result"
    }
   ],
   "source": [
    "function map_index_to_coord(index::Int64, ne::Int64)::Float64\n",
    "    return (index-1)/ne\n",
    "end\n",
    "\n",
    "function map_ξ_to_x(ξ::Float64, x_i_inf::Float64, h::Float64)\n",
    "    return x_i_inf + ((h*(ξ+1))/2.0)\n",
    "end"
   ]
  },
  {
   "cell_type": "markdown",
   "id": "e5812201",
   "metadata": {},
   "source": [
    "## DoF Handlers"
   ]
  },
  {
   "cell_type": "code",
   "execution_count": 4,
   "id": "9ab93df0",
   "metadata": {},
   "outputs": [
    {
     "data": {
      "text/plain": [
       "monta_EQ (generic function with 1 method)"
      ]
     },
     "execution_count": 4,
     "metadata": {},
     "output_type": "execute_result"
    }
   ],
   "source": [
    "function monta_LG(ne::Int64)::Matrix{Int64}\n",
    "    return transpose(hcat(1:ne, 2:ne+1))\n",
    "end\n",
    "\n",
    "function monta_EQ(ne::Int64)::Tuple{Int64, Vector{Int64}}\n",
    "    m = ne-1\n",
    "    return (m, vcat(m+1, 1:m, m+1))\n",
    "end"
   ]
  },
  {
   "cell_type": "markdown",
   "id": "dfa37fad",
   "metadata": {},
   "source": [
    "## Quadraturas"
   ]
  },
  {
   "cell_type": "code",
   "execution_count": 5,
   "id": "a4ec8e72",
   "metadata": {},
   "outputs": [
    {
     "data": {
      "text/plain": [
       "quadrature_non_linearity (generic function with 1 method)"
      ]
     },
     "execution_count": 5,
     "metadata": {},
     "output_type": "execute_result"
    }
   ],
   "source": [
    "function quadrature_without_map(func1::Function, func2::Function, P::Vector{Float64}, W::Vector{Float64})::Float64\n",
    "    quad = 0.0\n",
    "    \n",
    "    for (ξ, W) in zip(P, W)\n",
    "         quad += W * (func1(ξ) * func2(ξ)) \n",
    "    end\n",
    "    \n",
    "    return quad\n",
    "end\n",
    "\n",
    "function quadrature_with_map(func1::Function, func2::Function, e::Int64, ne::Int64, P::Vector{Float64}, W::Vector{Float64})::Float64\n",
    "    h = 1.0/ne\n",
    "    x_i_inf = map_index_to_coord(e, ne)\n",
    "    \n",
    "    quad = 0.0\n",
    "    \n",
    "    for (ξ, W) in zip(P, W)\n",
    "         quad += W*(func1(map_ξ_to_x(ξ, x_i_inf, h)) * func2(ξ)) \n",
    "    end\n",
    "    \n",
    "    return quad\n",
    "end\n",
    "\n",
    "function quadrature_non_linearity(func1::Function, func2::Function, e::Int64, c̄::Vector{Float64}, EQoLG::Matrix{Int64}, P::Vector{Float64}, W::Vector{Float64})::Float64\n",
    "    \n",
    "    quad = 0.0\n",
    "    \n",
    "    for (ξ, W) in zip(P, W)\n",
    "         quad += W * (func1(c̄[EQoLG[1, e]] * ϕ₁(ξ) + c̄[EQoLG[2, e]] * ϕ₂(ξ))) * func2(ξ) \n",
    "    end\n",
    "    \n",
    "    return quad\n",
    "end"
   ]
  },
  {
   "cell_type": "markdown",
   "id": "2d6bc3cd",
   "metadata": {},
   "source": [
    "## Montagem local"
   ]
  },
  {
   "cell_type": "code",
   "execution_count": 6,
   "id": "aaae7281",
   "metadata": {},
   "outputs": [
    {
     "data": {
      "text/plain": [
       "monta_G_local! (generic function with 1 method)"
      ]
     },
     "execution_count": 6,
     "metadata": {},
     "output_type": "execute_result"
    }
   ],
   "source": [
    "function monta_F_local!(Fᵉ::Vector{Float64}, f::Function, e::Int64, ne::Int64, h::Float64, P::Vector{Float64}, W::Vector{Float64})\n",
    "    \n",
    "    Fᵉ[1] = h/2 * quadrature_with_map(f, ϕ₁, e, ne, P, W)\n",
    "    Fᵉ[2] = h/2 * quadrature_with_map(f, ϕ₂, e, ne, P, W)\n",
    "\n",
    "    return\n",
    "end\n",
    "\n",
    "function monta_K_local!(Kᵉ::Matrix{Float64}, α::Float64, β::Float64, h::Float64, P::Vector{Float64}, W::Vector{Float64})\n",
    "    \n",
    "    Kᵉ[1, 1] = (2*α/h) * quadrature_without_map(dϕ₁, dϕ₁, P, W) + (β*h/2) * quadrature_without_map(ϕ₁, ϕ₁, P, W)\n",
    "    Kᵉ[1, 2] = (2*α/h) * quadrature_without_map(dϕ₁, dϕ₂, P, W) + (β*h/2) * quadrature_without_map(ϕ₁, ϕ₂, P, W)\n",
    "    Kᵉ[2, 1] = Kᵉ[1, 2]\n",
    "    Kᵉ[2, 2] = (2*α/h) * quadrature_without_map(dϕ₂, dϕ₂, P, W) + (β*h/2) * quadrature_without_map(ϕ₂, ϕ₂, P, W)    \n",
    "    \n",
    "    return\n",
    "end\n",
    "\n",
    "function monta_G_local!(Gᵉ::Vector{Float64}, g::Function, e::Int64, c̄::Vector{Float64}, EQoLG::Matrix{Int64}, h::Float64, P::Vector{Float64}, W::Vector{Float64})\n",
    "    \n",
    "    Gᵉ[1] = quadrature_non_linearity(g, dϕ₁, e, c̄, EQoLG, P, W)\n",
    "    Gᵉ[2] = quadrature_non_linearity(g, dϕ₂, e, c̄, EQoLG, P, W)\n",
    "    \n",
    "    return\n",
    "    \n",
    "end"
   ]
  },
  {
   "cell_type": "markdown",
   "id": "5ac96b03",
   "metadata": {},
   "source": [
    "## Erro L2"
   ]
  },
  {
   "cell_type": "code",
   "execution_count": 7,
   "id": "973bbcb8",
   "metadata": {},
   "outputs": [
    {
     "data": {
      "text/plain": [
       "erro_L2 (generic function with 1 method)"
      ]
     },
     "execution_count": 7,
     "metadata": {},
     "output_type": "execute_result"
    }
   ],
   "source": [
    "function erro_L2(u, c̄, ne, npg)\n",
    "    h = 1.0/ne\n",
    "    \n",
    "    P, W = legendre(npg)\n",
    "    erro_quadrado = 0\n",
    "\n",
    "    for e in 1:ne-1\n",
    "        x_i_inf = map_index_to_coord(e, ne)\n",
    "\n",
    "        for (ξ, W) in zip(P, W)\n",
    "            erro_quadrado += W * (u(map_ξ_to_x(ξ, x_i_inf, h)) - c̄[e]*ϕ₁(ξ) - c̄[e+1]*ϕ₂(ξ))^2 \n",
    "        end\n",
    "    end\n",
    "    \n",
    "    return sqrt(erro_quadrado * h/2)    \n",
    "end"
   ]
  },
  {
   "cell_type": "markdown",
   "id": "5bf84f25",
   "metadata": {},
   "source": [
    "## Montagem global"
   ]
  },
  {
   "cell_type": "code",
   "execution_count": 8,
   "id": "2b96f131",
   "metadata": {},
   "outputs": [
    {
     "data": {
      "text/plain": [
       "monta_G_global! (generic function with 1 method)"
      ]
     },
     "execution_count": 8,
     "metadata": {},
     "output_type": "execute_result"
    }
   ],
   "source": [
    "function monta_F_global!(F::Vector{Float64}, Fᵉ::Vector{Float64}, f::Function, m::Int64, ne::Int64, npg::Int64, EQoLG::Matrix{Int64})\n",
    "    h = 1.0/ne\n",
    "    \n",
    "    # Resetando estrutura\n",
    "    F .= zero(Float64)\n",
    "    \n",
    "    P, W = legendre(npg)\n",
    "\n",
    "    for e in 1:ne\n",
    "        monta_F_local!(Fᵉ, f, e, ne, h, P, W)\n",
    "            \n",
    "        for i in 1:2\n",
    "            index = EQoLG[i, e]\n",
    "            F[index] += Fᵉ[i]\n",
    "        end\n",
    "    end\n",
    "    \n",
    "    return\n",
    "end\n",
    "\n",
    "function monta_K_global!(K::SparseMatrixCSC{Float64}, Kᵉ::Matrix{Float64}, α::Float64, β::Float64, ne::Int64, npg::Int64, EQoLG::Matrix{Int64})\n",
    "    h = 1.0/ne\n",
    "    \n",
    "    P, W = legendre(npg)\n",
    "    \n",
    "    # Resetando estrutura\n",
    "    K .= zero(Float64)\n",
    "    \n",
    "    monta_K_local!(Kᵉ, α, β, h, P, W)\n",
    "    \n",
    "    for e in 1:ne\n",
    "        for i in 1:2\n",
    "            for j in 1:2\n",
    "                i_global = EQoLG[i, e]\n",
    "                j_global = EQoLG[j, e]\n",
    "                \n",
    "                K[i_global, j_global] += Kᵉ[i, j]\n",
    "            end\n",
    "        end\n",
    "    end    \n",
    "    \n",
    "    return\n",
    "    \n",
    "end\n",
    "\n",
    "function monta_G_global!(G::Vector{Float64}, Gᵉ::Vector{Float64}, g::Function, c̄::Vector{Float64}, ne::Int64, m::Int64, npg::Int64, EQoLG::Matrix{Int64})\n",
    "    h = 1.0/ne\n",
    "    \n",
    "    P, W = legendre(npg)\n",
    "    \n",
    "    # Resetando estrutura\n",
    "    G .= zero(Float64)\n",
    "    \n",
    "    for e in 1:ne\n",
    "        monta_G_local!(Gᵉ, g, e, c̄, EQoLG, h, P, W)\n",
    "        \n",
    "        for i in 1:2\n",
    "            index = EQoLG[i, e]\n",
    "            G[index] += Gᵉ[i]\n",
    "        end\n",
    "    end\n",
    "    \n",
    "    return\n",
    "end"
   ]
  },
  {
   "cell_type": "markdown",
   "id": "f6565679",
   "metadata": {},
   "source": [
    "## Plot"
   ]
  },
  {
   "cell_type": "code",
   "execution_count": 9,
   "id": "b0f3d53a",
   "metadata": {},
   "outputs": [
    {
     "data": {
      "text/plain": [
       "plot_error_curves (generic function with 1 method)"
      ]
     },
     "execution_count": 9,
     "metadata": {},
     "output_type": "execute_result"
    }
   ],
   "source": [
    "function plot_exact_and_numerical(ne::Int64, u::Function, sol_on_points::Vector{Float64}, isContinous::Bool)\n",
    "    points = map_index_to_coord.(1:ne+1, ne)\n",
    "    p = plot(u, range(0, 1, 100), lw=3, label=\"Solução Exata\")\n",
    "    \n",
    "    if(isContinous)\n",
    "        plot!(p, points, sol_on_points, lw=3, markershape=:circle, label=\"Solução Numérica\")\n",
    "        \n",
    "    else \n",
    "        plot!(p, points, sol_on_points, lw=3, seriestype=:scatter, label=\"Solução Numérica\")\n",
    "    end\n",
    "    \n",
    "    display(p)    \n",
    "    return nothing\n",
    "end\n",
    "\n",
    "function plot_error_curves(h::Vector{Float64}, erros::Vector{Float64})\n",
    "   plot(h, erros, lw=3, label=\"Erro\", xscale = :log10, yscale = :log10, markershape=:circle)\n",
    "   display(plot!(h, h.^2, lw=3, label=\"h²\", xscale = :log10, yscale = :log10, legend=:topleft)) \n",
    "end"
   ]
  },
  {
   "cell_type": "markdown",
   "id": "dd7fd242",
   "metadata": {},
   "source": [
    "## Solver"
   ]
  },
  {
   "cell_type": "code",
   "execution_count": 10,
   "id": "c6b2247d",
   "metadata": {},
   "outputs": [
    {
     "data": {
      "text/plain": [
       "solve_problem (generic function with 1 method)"
      ]
     },
     "execution_count": 10,
     "metadata": {},
     "output_type": "execute_result"
    }
   ],
   "source": [
    "function solve_problem(α::Float64, β::Float64, ne::Int64, T::Float64, g::Function, f::Function, u::Function, u_0::Function, npgs::Vector{Int64})::Float64\n",
    "    \n",
    "    LG = monta_LG(ne)\n",
    "    m, EQ = monta_EQ(ne)\n",
    "    EQoLG = EQ[LG]\n",
    "    \n",
    "    npg_K, npg_F, npg_G, npg_erro = npgs\n",
    "\n",
    "    K̄ = spzeros(m+1, m+1)\n",
    "    F̄ = zeros(m+1)\n",
    "    Ḡ = zeros(m+1)\n",
    "    \n",
    "    Kᵉ = zeros(2, 2)\n",
    "    Fᵉ = zeros(2)\n",
    "    Gᵉ = zeros(2)\n",
    "    \n",
    "    monta_K_global!(K̄, Kᵉ, α, β, ne, npg_K, EQoLG) \n",
    "    \n",
    "    N = ne\n",
    "    τ = T/N\n",
    "    t = 0:τ:T\n",
    "    \n",
    "    #caso inicial\n",
    "    Cⁿ = zeros(m, 1)\n",
    "    Cⁿ_1 = zeros(m, 1)\n",
    "    \n",
    "    #interpolando C0    \n",
    "    Cⁿ_1 = u_0.(map_index_to_coord.(1:m, ne))\n",
    "    \n",
    "    #t1 predição\n",
    "    monta_G_global!(Ḡ, Gᵉ, g, [Cⁿ_1; 0], ne, m, npg_G, EQoLG)\n",
    "    monta_F_global!(F̄, Fᵉ, (x) -> f(x, (t[1]+t[2])/2), m, ne, npg_F, EQoLG)\n",
    "    \n",
    "    K = @view K̄[1:m, 1:m]\n",
    "    F = @view F̄[1:m]\n",
    "    G = @view Ḡ[1:m]\n",
    "    \n",
    "    Cⁿ = K \\ (τ * F + K * Cⁿ_1 - τ * G)\n",
    "\n",
    "    #t1 correção\n",
    "\n",
    "    c = 1/2 * (Cⁿ + Cⁿ_1)\n",
    "    monta_G_global!(Ḡ, Gᵉ, g, [c; 0], ne, m, npg_G, EQoLG)\n",
    "\n",
    "    K = @view K̄[1:m, 1:m]\n",
    "    F = @view F̄[1:m]\n",
    "    G = @view Ḡ[1:m]\n",
    "    \n",
    "    Cⁿ = K \\ (τ * F + K * Cⁿ_1 - τ * G)\n",
    "\n",
    "    erros_iteracoes = []\n",
    "    push!(erros_iteracoes, erro_L2((x) -> u(x, t[1]), [Cⁿ_1;0], ne, npg_erro))\n",
    "\n",
    "    Cⁿ_2 = Cⁿ_1\n",
    "    Cⁿ_1 = Cⁿ\n",
    "    \n",
    "    for n in 2:N\n",
    "        \n",
    "        c = (3*Cⁿ_1 - Cⁿ_2)/2    \n",
    "        monta_G_global!(Ḡ, Gᵉ, g, [c; 0], ne, m, npg_G, EQoLG)        \n",
    "        monta_F_global!(F̄, Fᵉ, (x) -> f(x, (t[n]+t[n+1])/2), m, ne, npg_F, EQoLG)\n",
    "        \n",
    "        K = @view K̄[1:m, 1:m]\n",
    "        F = @view F̄[1:m]\n",
    "        G = @view Ḡ[1:m]\n",
    "        \n",
    "        Cⁿ = K \\ (τ * F + K * Cⁿ_1 - τ * G)  \n",
    "        \n",
    "        Cⁿ_2 = Cⁿ_1\n",
    "        Cⁿ_1 = Cⁿ\n",
    "        \n",
    "        #plot_exact_and_numerical(ne, (x) -> (u(x, t[n+1])), [0; Cⁿ ;0], true)\n",
    "\n",
    "        erro = erro_L2((x) -> u(x, t[n+1]), [Cⁿ; 0], ne, npg_erro)\n",
    "        push!(erros_iteracoes, erro)\n",
    "    end\n",
    "    \n",
    "    return maximum(erros_iteracoes)\n",
    "end"
   ]
  },
  {
   "cell_type": "code",
   "execution_count": 11,
   "id": "fb050610",
   "metadata": {
    "scrolled": false
   },
   "outputs": [
    {
     "data": {
      "text/plain": [
       "0.09442378375077849"
      ]
     },
     "execution_count": 11,
     "metadata": {},
     "output_type": "execute_result"
    }
   ],
   "source": [
    "#Teste\n",
    "\n",
    "α = 1.0\n",
    "β = 1.0\n",
    "\n",
    "u  = (x, t) -> (x^2 - x)*t\n",
    "u0 = (x) -> 0.0\n",
    "g  = (s) -> 0.0\n",
    "f  = (x, t) -> x^2 - x - 2.0\n",
    "\n",
    "T = 1.0\n",
    "ne = 4\n",
    "npgs = [2, 5, 5, 5]\n",
    "\n",
    "solve_problem(α, β, ne, T, g, f, u, u0, npgs)"
   ]
  },
  {
   "cell_type": "code",
   "execution_count": 12,
   "id": "375a4ac1",
   "metadata": {},
   "outputs": [
    {
     "data": {
      "text/plain": [
       "convergencia (generic function with 1 method)"
      ]
     },
     "execution_count": 12,
     "metadata": {},
     "output_type": "execute_result"
    }
   ],
   "source": [
    "function convergencia(n_testes::Int64, α::Float64, β::Float64, T::Float64, g::Function, f::Function, u::Function, u_0::Function, npgs::Vector{Int64})#::Matrix{Float64}\n",
    "    erros = zeros(n_testes-1)\n",
    "    h_list = zeros(n_testes-1)\n",
    "    \n",
    "    for n in 2:n_testes\n",
    "        ne = 2^n\n",
    "        \n",
    "        erro = solve_problem(α, β, ne, T, g, f, u, u0, npgs)\n",
    "        erros[n-1] = erro\n",
    "        h_list[n-1] = 1.0/ne        \n",
    "    end\n",
    "    \n",
    "    return h_list, erros\n",
    "end"
   ]
  },
  {
   "cell_type": "code",
   "execution_count": 13,
   "id": "6f50db6a",
   "metadata": {},
   "outputs": [
    {
     "data": {
      "image/png": "[encoded data removed]",
      "image/svg+xml": [
       "<?xml version=\"1.0\" encoding=\"utf-8\"?>\n",
       "<svg xmlns=\"http://www.w3.org/2000/svg\" xmlns:xlink=\"http://www.w3.org/1999/xlink\" width=\"600\" height=\"400\" viewBox=\"0 0 2400 1600\">\n",
       "<defs>\n",
       "  <clipPath id=\"clip000\">\n",
       "    <rect x=\"0\" y=\"0\" width=\"2400\" height=\"1600\"/>\n",
       "  </clipPath>\n",
       "</defs>\n",
       "<path clip-path=\"url(#clip000)\" d=\"M0 1600 L2400 1600 L2400 0 L0 0  Z\" fill=\"#ffffff\" fill-rule=\"evenodd\" fill-opacity=\"1\"/>\n",
       "<defs>\n",
       "  <clipPath id=\"clip001\">\n",
       "    <rect x=\"480\" y=\"0\" width=\"1681\" height=\"1600\"/>\n",
       "  </clipPath>\n",
       "</defs>\n",
       "<path clip-path=\"url(#clip000)\" d=\"M189.496 1474.16 L2352.76 1474.16 L2352.76 47.2441 L189.496 47.2441  Z\" fill=\"#ffffff\" fill-rule=\"evenodd\" fill-opacity=\"1\"/>\n",
       "<defs>\n",
       "  <clipPath id=\"clip002\">\n",
       "    <rect x=\"189\" y=\"47\" width=\"2164\" height=\"1428\"/>\n",
       "  </clipPath>\n",
       "</defs>\n",
       "<polyline clip-path=\"url(#clip002)\" style=\"stroke:#000000; stroke-linecap:round; stroke-linejoin:round; stroke-width:2; stroke-opacity:0.1; fill:none\" points=\"711.993,1474.16 711.993,47.2441 \"/>\n",
       "<polyline clip-path=\"url(#clip002)\" style=\"stroke:#000000; stroke-linecap:round; stroke-linejoin:round; stroke-width:2; stroke-opacity:0.1; fill:none\" points=\"1841.9,1474.16 1841.9,47.2441 \"/>\n",
       "<polyline clip-path=\"url(#clip002)\" style=\"stroke:#000000; stroke-linecap:round; stroke-linejoin:round; stroke-width:2; stroke-opacity:0.1; fill:none\" points=\"189.496,1143.9 2352.76,1143.9 \"/>\n",
       "<polyline clip-path=\"url(#clip002)\" style=\"stroke:#000000; stroke-linecap:round; stroke-linejoin:round; stroke-width:2; stroke-opacity:0.1; fill:none\" points=\"189.496,433.82 2352.76,433.82 \"/>\n",
       "<polyline clip-path=\"url(#clip000)\" style=\"stroke:#000000; stroke-linecap:round; stroke-linejoin:round; stroke-width:4; stroke-opacity:1; fill:none\" points=\"189.496,1474.16 2352.76,1474.16 \"/>\n",
       "<polyline clip-path=\"url(#clip000)\" style=\"stroke:#000000; stroke-linecap:round; stroke-linejoin:round; stroke-width:4; stroke-opacity:1; fill:none\" points=\"711.993,1474.16 711.993,1455.27 \"/>\n",
       "<polyline clip-path=\"url(#clip000)\" style=\"stroke:#000000; stroke-linecap:round; stroke-linejoin:round; stroke-width:4; stroke-opacity:1; fill:none\" points=\"1841.9,1474.16 1841.9,1455.27 \"/>\n",
       "<path clip-path=\"url(#clip000)\" d=\"M662.258 1548.29 L669.897 1548.29 L669.897 1521.92 L661.587 1523.59 L661.587 1519.33 L669.851 1517.66 L674.527 1517.66 L674.527 1548.29 L682.166 1548.29 L682.166 1552.22 L662.258 1552.22 L662.258 1548.29 Z\" fill=\"#000000\" fill-rule=\"nonzero\" fill-opacity=\"1\" /><path clip-path=\"url(#clip000)\" d=\"M701.61 1520.74 Q697.999 1520.74 696.17 1524.31 Q694.365 1527.85 694.365 1534.98 Q694.365 1542.09 696.17 1545.65 Q697.999 1549.19 701.61 1549.19 Q705.244 1549.19 707.05 1545.65 Q708.878 1542.09 708.878 1534.98 Q708.878 1527.85 707.05 1524.31 Q705.244 1520.74 701.61 1520.74 M701.61 1517.04 Q707.42 1517.04 710.476 1521.65 Q713.554 1526.23 713.554 1534.98 Q713.554 1543.71 710.476 1548.31 Q707.42 1552.9 701.61 1552.9 Q695.8 1552.9 692.721 1548.31 Q689.666 1543.71 689.666 1534.98 Q689.666 1526.23 692.721 1521.65 Q695.8 1517.04 701.61 1517.04 Z\" fill=\"#000000\" fill-rule=\"nonzero\" fill-opacity=\"1\" /><path clip-path=\"url(#clip000)\" d=\"M713.554 1511.14 L737.666 1511.14 L737.666 1514.34 L713.554 1514.34 L713.554 1511.14 Z\" fill=\"#000000\" fill-rule=\"nonzero\" fill-opacity=\"1\" /><path clip-path=\"url(#clip000)\" d=\"M749.139 1521.62 L762.398 1521.62 L762.398 1524.81 L744.568 1524.81 L744.568 1521.62 Q746.731 1519.38 750.455 1515.62 Q754.198 1511.84 755.157 1510.75 Q756.981 1508.7 757.696 1507.29 Q758.43 1505.86 758.43 1504.48 Q758.43 1502.24 756.85 1500.83 Q755.289 1499.42 752.768 1499.42 Q750.982 1499.42 748.988 1500.04 Q747.013 1500.67 744.756 1501.93 L744.756 1498.09 Q747.051 1497.17 749.045 1496.7 Q751.038 1496.23 752.693 1496.23 Q757.057 1496.23 759.652 1498.41 Q762.248 1500.59 762.248 1504.24 Q762.248 1505.97 761.589 1507.53 Q760.95 1509.07 759.238 1511.18 Q758.768 1511.72 756.248 1514.34 Q753.728 1516.93 749.139 1521.62 Z\" fill=\"#000000\" fill-rule=\"nonzero\" fill-opacity=\"1\" /><path clip-path=\"url(#clip000)\" d=\"M1792.01 1548.29 L1799.65 1548.29 L1799.65 1521.92 L1791.34 1523.59 L1791.34 1519.33 L1799.61 1517.66 L1804.28 1517.66 L1804.28 1548.29 L1811.92 1548.29 L1811.92 1552.22 L1792.01 1552.22 L1792.01 1548.29 Z\" fill=\"#000000\" fill-rule=\"nonzero\" fill-opacity=\"1\" /><path clip-path=\"url(#clip000)\" d=\"M1831.36 1520.74 Q1827.75 1520.74 1825.92 1524.31 Q1824.12 1527.85 1824.12 1534.98 Q1824.12 1542.09 1825.92 1545.65 Q1827.75 1549.19 1831.36 1549.19 Q1835 1549.19 1836.8 1545.65 Q1838.63 1542.09 1838.63 1534.98 Q1838.63 1527.85 1836.8 1524.31 Q1835 1520.74 1831.36 1520.74 M1831.36 1517.04 Q1837.17 1517.04 1840.23 1521.65 Q1843.31 1526.23 1843.31 1534.98 Q1843.31 1543.71 1840.23 1548.31 Q1837.17 1552.9 1831.36 1552.9 Q1825.55 1552.9 1822.48 1548.31 Q1819.42 1543.71 1819.42 1534.98 Q1819.42 1526.23 1822.48 1521.65 Q1825.55 1517.04 1831.36 1517.04 Z\" fill=\"#000000\" fill-rule=\"nonzero\" fill-opacity=\"1\" /><path clip-path=\"url(#clip000)\" d=\"M1843.31 1511.14 L1867.42 1511.14 L1867.42 1514.34 L1843.31 1514.34 L1843.31 1511.14 Z\" fill=\"#000000\" fill-rule=\"nonzero\" fill-opacity=\"1\" /><path clip-path=\"url(#clip000)\" d=\"M1876.28 1521.62 L1882.49 1521.62 L1882.49 1500.19 L1875.73 1501.55 L1875.73 1498.09 L1882.45 1496.73 L1886.25 1496.73 L1886.25 1521.62 L1892.45 1521.62 L1892.45 1524.81 L1876.28 1524.81 L1876.28 1521.62 Z\" fill=\"#000000\" fill-rule=\"nonzero\" fill-opacity=\"1\" /><polyline clip-path=\"url(#clip000)\" style=\"stroke:#000000; stroke-linecap:round; stroke-linejoin:round; stroke-width:4; stroke-opacity:1; fill:none\" points=\"189.496,1474.16 189.496,47.2441 \"/>\n",
       "<polyline clip-path=\"url(#clip000)\" style=\"stroke:#000000; stroke-linecap:round; stroke-linejoin:round; stroke-width:4; stroke-opacity:1; fill:none\" points=\"189.496,1143.9 208.394,1143.9 \"/>\n",
       "<polyline clip-path=\"url(#clip000)\" style=\"stroke:#000000; stroke-linecap:round; stroke-linejoin:round; stroke-width:4; stroke-opacity:1; fill:none\" points=\"189.496,433.82 208.394,433.82 \"/>\n",
       "<path clip-path=\"url(#clip000)\" d=\"M51.6634 1163.69 L59.3023 1163.69 L59.3023 1137.32 L50.9921 1138.99 L50.9921 1134.73 L59.256 1133.07 L63.9319 1133.07 L63.9319 1163.69 L71.5707 1163.69 L71.5707 1167.63 L51.6634 1167.63 L51.6634 1163.69 Z\" fill=\"#000000\" fill-rule=\"nonzero\" fill-opacity=\"1\" /><path clip-path=\"url(#clip000)\" d=\"M91.0151 1136.14 Q87.404 1136.14 85.5753 1139.71 Q83.7697 1143.25 83.7697 1150.38 Q83.7697 1157.49 85.5753 1161.05 Q87.404 1164.59 91.0151 1164.59 Q94.6493 1164.59 96.4548 1161.05 Q98.2835 1157.49 98.2835 1150.38 Q98.2835 1143.25 96.4548 1139.71 Q94.6493 1136.14 91.0151 1136.14 M91.0151 1132.44 Q96.8252 1132.44 99.8808 1137.05 Q102.959 1141.63 102.959 1150.38 Q102.959 1159.11 99.8808 1163.71 Q96.8252 1168.3 91.0151 1168.3 Q85.2049 1168.3 82.1262 1163.71 Q79.0707 1159.11 79.0707 1150.38 Q79.0707 1141.63 82.1262 1137.05 Q85.2049 1132.44 91.0151 1132.44 Z\" fill=\"#000000\" fill-rule=\"nonzero\" fill-opacity=\"1\" /><path clip-path=\"url(#clip000)\" d=\"M102.959 1126.54 L127.071 1126.54 L127.071 1129.74 L102.959 1129.74 L102.959 1126.54 Z\" fill=\"#000000\" fill-rule=\"nonzero\" fill-opacity=\"1\" /><path clip-path=\"url(#clip000)\" d=\"M145.71 1115.45 L136.118 1130.44 L145.71 1130.44 L145.71 1115.45 M144.713 1112.14 L149.49 1112.14 L149.49 1130.44 L153.496 1130.44 L153.496 1133.59 L149.49 1133.59 L149.49 1140.22 L145.71 1140.22 L145.71 1133.59 L133.033 1133.59 L133.033 1129.93 L144.713 1112.14 Z\" fill=\"#000000\" fill-rule=\"nonzero\" fill-opacity=\"1\" /><path clip-path=\"url(#clip000)\" d=\"M53.3561 453.613 L60.995 453.613 L60.995 427.247 L52.6848 428.914 L52.6848 424.655 L60.9487 422.988 L65.6246 422.988 L65.6246 453.613 L73.2634 453.613 L73.2634 457.548 L53.3561 457.548 L53.3561 453.613 Z\" fill=\"#000000\" fill-rule=\"nonzero\" fill-opacity=\"1\" /><path clip-path=\"url(#clip000)\" d=\"M92.7078 426.067 Q89.0967 426.067 87.268 429.631 Q85.4624 433.173 85.4624 440.303 Q85.4624 447.409 87.268 450.974 Q89.0967 454.516 92.7078 454.516 Q96.342 454.516 98.1475 450.974 Q99.9762 447.409 99.9762 440.303 Q99.9762 433.173 98.1475 429.631 Q96.342 426.067 92.7078 426.067 M92.7078 422.363 Q98.5179 422.363 101.573 426.969 Q104.652 431.553 104.652 440.303 Q104.652 449.03 101.573 453.636 Q98.5179 458.219 92.7078 458.219 Q86.8976 458.219 83.8189 453.636 Q80.7634 449.03 80.7634 440.303 Q80.7634 431.553 83.8189 426.969 Q86.8976 422.363 92.7078 422.363 Z\" fill=\"#000000\" fill-rule=\"nonzero\" fill-opacity=\"1\" /><path clip-path=\"url(#clip000)\" d=\"M104.652 416.464 L128.764 416.464 L128.764 419.662 L104.652 419.662 L104.652 416.464 Z\" fill=\"#000000\" fill-rule=\"nonzero\" fill-opacity=\"1\" /><path clip-path=\"url(#clip000)\" d=\"M140.236 426.94 L153.496 426.94 L153.496 430.138 L135.666 430.138 L135.666 426.94 Q137.829 424.702 141.553 420.941 Q145.296 417.16 146.255 416.069 Q148.079 414.019 148.794 412.609 Q149.527 411.179 149.527 409.806 Q149.527 407.568 147.948 406.158 Q146.387 404.747 143.866 404.747 Q142.08 404.747 140.086 405.368 Q138.111 405.988 135.854 407.249 L135.854 403.412 Q138.149 402.49 140.142 402.02 Q142.136 401.55 143.791 401.55 Q148.155 401.55 150.75 403.731 Q153.345 405.913 153.345 409.562 Q153.345 411.292 152.687 412.853 Q152.048 414.395 150.336 416.502 Q149.866 417.047 147.346 419.662 Q144.826 422.257 140.236 426.94 Z\" fill=\"#000000\" fill-rule=\"nonzero\" fill-opacity=\"1\" /><polyline clip-path=\"url(#clip002)\" style=\"stroke:#009af9; stroke-linecap:round; stroke-linejoin:round; stroke-width:12; stroke-opacity:1; fill:none\" points=\"2291.53,87.6286 1951.4,159.73 1611.26,250.825 1271.13,350.158 930.991,453.344 590.855,558.396 250.72,664.365 \"/>\n",
       "<circle clip-path=\"url(#clip002)\" cx=\"2291.53\" cy=\"87.6286\" r=\"14.4\" fill=\"#009af9\" fill-rule=\"evenodd\" fill-opacity=\"1\" stroke=\"#000000\" stroke-opacity=\"1\" stroke-width=\"3.2\"/>\n",
       "<circle clip-path=\"url(#clip002)\" cx=\"1951.4\" cy=\"159.73\" r=\"14.4\" fill=\"#009af9\" fill-rule=\"evenodd\" fill-opacity=\"1\" stroke=\"#000000\" stroke-opacity=\"1\" stroke-width=\"3.2\"/>\n",
       "<circle clip-path=\"url(#clip002)\" cx=\"1611.26\" cy=\"250.825\" r=\"14.4\" fill=\"#009af9\" fill-rule=\"evenodd\" fill-opacity=\"1\" stroke=\"#000000\" stroke-opacity=\"1\" stroke-width=\"3.2\"/>\n",
       "<circle clip-path=\"url(#clip002)\" cx=\"1271.13\" cy=\"350.158\" r=\"14.4\" fill=\"#009af9\" fill-rule=\"evenodd\" fill-opacity=\"1\" stroke=\"#000000\" stroke-opacity=\"1\" stroke-width=\"3.2\"/>\n",
       "<circle clip-path=\"url(#clip002)\" cx=\"930.991\" cy=\"453.344\" r=\"14.4\" fill=\"#009af9\" fill-rule=\"evenodd\" fill-opacity=\"1\" stroke=\"#000000\" stroke-opacity=\"1\" stroke-width=\"3.2\"/>\n",
       "<circle clip-path=\"url(#clip002)\" cx=\"590.855\" cy=\"558.396\" r=\"14.4\" fill=\"#009af9\" fill-rule=\"evenodd\" fill-opacity=\"1\" stroke=\"#000000\" stroke-opacity=\"1\" stroke-width=\"3.2\"/>\n",
       "<circle clip-path=\"url(#clip002)\" cx=\"250.72\" cy=\"664.365\" r=\"14.4\" fill=\"#009af9\" fill-rule=\"evenodd\" fill-opacity=\"1\" stroke=\"#000000\" stroke-opacity=\"1\" stroke-width=\"3.2\"/>\n",
       "<polyline clip-path=\"url(#clip002)\" style=\"stroke:#e26f46; stroke-linecap:round; stroke-linejoin:round; stroke-width:12; stroke-opacity:1; fill:none\" points=\"2291.53,151.252 1951.4,365.007 1611.26,578.761 1271.13,792.516 930.991,1006.27 590.855,1220.03 250.72,1433.78 \"/>\n",
       "<path clip-path=\"url(#clip000)\" d=\"M261.605 250.328 L566.75 250.328 L566.75 94.8081 L261.605 94.8081  Z\" fill=\"#ffffff\" fill-rule=\"evenodd\" fill-opacity=\"1\"/>\n",
       "<polyline clip-path=\"url(#clip000)\" style=\"stroke:#000000; stroke-linecap:round; stroke-linejoin:round; stroke-width:4; stroke-opacity:1; fill:none\" points=\"261.605,250.328 566.75,250.328 566.75,94.8081 261.605,94.8081 261.605,250.328 \"/>\n",
       "<polyline clip-path=\"url(#clip000)\" style=\"stroke:#009af9; stroke-linecap:round; stroke-linejoin:round; stroke-width:12; stroke-opacity:1; fill:none\" points=\"285.641,146.648 429.858,146.648 \"/>\n",
       "<circle clip-path=\"url(#clip000)\" cx=\"357.749\" cy=\"146.648\" r=\"20.0302\" fill=\"#009af9\" fill-rule=\"evenodd\" fill-opacity=\"1\" stroke=\"#000000\" stroke-opacity=\"1\" stroke-width=\"4.55111\"/>\n",
       "<path clip-path=\"url(#clip000)\" d=\"M453.894 129.368 L475.746 129.368 L475.746 133.303 L458.57 133.303 L458.57 143.535 L475.029 143.535 L475.029 147.47 L458.57 147.47 L458.57 159.993 L476.163 159.993 L476.163 163.928 L453.894 163.928 L453.894 129.368 Z\" fill=\"#000000\" fill-rule=\"nonzero\" fill-opacity=\"1\" /><path clip-path=\"url(#clip000)\" d=\"M498.686 141.984 Q497.968 141.567 497.112 141.382 Q496.278 141.174 495.26 141.174 Q491.649 141.174 489.704 143.535 Q487.783 145.873 487.783 150.271 L487.783 163.928 L483.501 163.928 L483.501 138.002 L487.783 138.002 L487.783 142.03 Q489.126 139.669 491.278 138.535 Q493.431 137.377 496.51 137.377 Q496.95 137.377 497.482 137.447 Q498.014 137.493 498.663 137.609 L498.686 141.984 Z\" fill=\"#000000\" fill-rule=\"nonzero\" fill-opacity=\"1\" /><path clip-path=\"url(#clip000)\" d=\"M517.343 141.984 Q516.626 141.567 515.769 141.382 Q514.936 141.174 513.917 141.174 Q510.306 141.174 508.362 143.535 Q506.44 145.873 506.44 150.271 L506.44 163.928 L502.158 163.928 L502.158 138.002 L506.44 138.002 L506.44 142.03 Q507.783 139.669 509.936 138.535 Q512.088 137.377 515.167 137.377 Q515.607 137.377 516.139 137.447 Q516.672 137.493 517.32 137.609 L517.343 141.984 Z\" fill=\"#000000\" fill-rule=\"nonzero\" fill-opacity=\"1\" /><path clip-path=\"url(#clip000)\" d=\"M530.815 140.988 Q527.389 140.988 525.399 143.674 Q523.408 146.336 523.408 150.988 Q523.408 155.641 525.375 158.326 Q527.366 160.988 530.815 160.988 Q534.218 160.988 536.209 158.303 Q538.199 155.618 538.199 150.988 Q538.199 146.382 536.209 143.697 Q534.218 140.988 530.815 140.988 M530.815 137.377 Q536.371 137.377 539.542 140.988 Q542.713 144.6 542.713 150.988 Q542.713 157.354 539.542 160.988 Q536.371 164.599 530.815 164.599 Q525.237 164.599 522.065 160.988 Q518.917 157.354 518.917 150.988 Q518.917 144.6 522.065 140.988 Q525.237 137.377 530.815 137.377 Z\" fill=\"#000000\" fill-rule=\"nonzero\" fill-opacity=\"1\" /><polyline clip-path=\"url(#clip000)\" style=\"stroke:#e26f46; stroke-linecap:round; stroke-linejoin:round; stroke-width:12; stroke-opacity:1; fill:none\" points=\"285.641,198.488 429.858,198.488 \"/>\n",
       "<path clip-path=\"url(#clip000)\" d=\"M475.607 200.12 L475.607 215.768 L471.348 215.768 L471.348 200.259 Q471.348 196.578 469.913 194.75 Q468.478 192.921 465.607 192.921 Q462.158 192.921 460.167 195.12 Q458.177 197.319 458.177 201.115 L458.177 215.768 L453.894 215.768 L453.894 179.75 L458.177 179.75 L458.177 193.87 Q459.705 191.532 461.765 190.375 Q463.848 189.217 466.556 189.217 Q471.024 189.217 473.316 191.995 Q475.607 194.75 475.607 200.12 Z\" fill=\"#000000\" fill-rule=\"nonzero\" fill-opacity=\"1\" /><path clip-path=\"url(#clip000)\" d=\"M485.839 197.666 L495.653 197.666 L495.653 200.305 L481.811 200.305 L481.811 197.759 Q482.598 197.041 484.056 195.745 Q492.019 188.685 492.019 186.509 Q492.019 184.981 490.815 184.055 Q489.612 183.106 487.644 183.106 Q486.44 183.106 485.028 183.523 Q483.616 183.916 481.95 184.727 L481.95 181.879 Q483.732 181.231 485.26 180.907 Q486.811 180.583 488.13 180.583 Q491.487 180.583 493.501 182.111 Q495.515 183.639 495.515 186.139 Q495.515 189.356 487.853 195.93 Q486.556 197.041 485.839 197.666 Z\" fill=\"#000000\" fill-rule=\"nonzero\" fill-opacity=\"1\" /></svg>\n"
      ],
      "text/html": [
       "<?xml version=\"1.0\" encoding=\"utf-8\"?>\n",
       "<svg xmlns=\"http://www.w3.org/2000/svg\" xmlns:xlink=\"http://www.w3.org/1999/xlink\" width=\"600\" height=\"400\" viewBox=\"0 0 2400 1600\">\n",
       "<defs>\n",
       "  <clipPath id=\"clip050\">\n",
       "    <rect x=\"0\" y=\"0\" width=\"2400\" height=\"1600\"/>\n",
       "  </clipPath>\n",
       "</defs>\n",
       "<path clip-path=\"url(#clip050)\" d=\"M0 1600 L2400 1600 L2400 0 L0 0  Z\" fill=\"#ffffff\" fill-rule=\"evenodd\" fill-opacity=\"1\"/>\n",
       "<defs>\n",
       "  <clipPath id=\"clip051\">\n",
       "    <rect x=\"480\" y=\"0\" width=\"1681\" height=\"1600\"/>\n",
       "  </clipPath>\n",
       "</defs>\n",
       "<path clip-path=\"url(#clip050)\" d=\"M189.496 1474.16 L2352.76 1474.16 L2352.76 47.2441 L189.496 47.2441  Z\" fill=\"#ffffff\" fill-rule=\"evenodd\" fill-opacity=\"1\"/>\n",
       "<defs>\n",
       "  <clipPath id=\"clip052\">\n",
       "    <rect x=\"189\" y=\"47\" width=\"2164\" height=\"1428\"/>\n",
       "  </clipPath>\n",
       "</defs>\n",
       "<polyline clip-path=\"url(#clip052)\" style=\"stroke:#000000; stroke-linecap:round; stroke-linejoin:round; stroke-width:2; stroke-opacity:0.1; fill:none\" points=\"711.993,1474.16 711.993,47.2441 \"/>\n",
       "<polyline clip-path=\"url(#clip052)\" style=\"stroke:#000000; stroke-linecap:round; stroke-linejoin:round; stroke-width:2; stroke-opacity:0.1; fill:none\" points=\"1841.9,1474.16 1841.9,47.2441 \"/>\n",
       "<polyline clip-path=\"url(#clip052)\" style=\"stroke:#000000; stroke-linecap:round; stroke-linejoin:round; stroke-width:2; stroke-opacity:0.1; fill:none\" points=\"189.496,1143.9 2352.76,1143.9 \"/>\n",
       "<polyline clip-path=\"url(#clip052)\" style=\"stroke:#000000; stroke-linecap:round; stroke-linejoin:round; stroke-width:2; stroke-opacity:0.1; fill:none\" points=\"189.496,433.82 2352.76,433.82 \"/>\n",
       "<polyline clip-path=\"url(#clip050)\" style=\"stroke:#000000; stroke-linecap:round; stroke-linejoin:round; stroke-width:4; stroke-opacity:1; fill:none\" points=\"189.496,1474.16 2352.76,1474.16 \"/>\n",
       "<polyline clip-path=\"url(#clip050)\" style=\"stroke:#000000; stroke-linecap:round; stroke-linejoin:round; stroke-width:4; stroke-opacity:1; fill:none\" points=\"711.993,1474.16 711.993,1455.27 \"/>\n",
       "<polyline clip-path=\"url(#clip050)\" style=\"stroke:#000000; stroke-linecap:round; stroke-linejoin:round; stroke-width:4; stroke-opacity:1; fill:none\" points=\"1841.9,1474.16 1841.9,1455.27 \"/>\n",
       "<path clip-path=\"url(#clip050)\" d=\"M662.258 1548.29 L669.897 1548.29 L669.897 1521.92 L661.587 1523.59 L661.587 1519.33 L669.851 1517.66 L674.527 1517.66 L674.527 1548.29 L682.166 1548.29 L682.166 1552.22 L662.258 1552.22 L662.258 1548.29 Z\" fill=\"#000000\" fill-rule=\"nonzero\" fill-opacity=\"1\" /><path clip-path=\"url(#clip050)\" d=\"M701.61 1520.74 Q697.999 1520.74 696.17 1524.31 Q694.365 1527.85 694.365 1534.98 Q694.365 1542.09 696.17 1545.65 Q697.999 1549.19 701.61 1549.19 Q705.244 1549.19 707.05 1545.65 Q708.878 1542.09 708.878 1534.98 Q708.878 1527.85 707.05 1524.31 Q705.244 1520.74 701.61 1520.74 M701.61 1517.04 Q707.42 1517.04 710.476 1521.65 Q713.554 1526.23 713.554 1534.98 Q713.554 1543.71 710.476 1548.31 Q707.42 1552.9 701.61 1552.9 Q695.8 1552.9 692.721 1548.31 Q689.666 1543.71 689.666 1534.98 Q689.666 1526.23 692.721 1521.65 Q695.8 1517.04 701.61 1517.04 Z\" fill=\"#000000\" fill-rule=\"nonzero\" fill-opacity=\"1\" /><path clip-path=\"url(#clip050)\" d=\"M713.554 1511.14 L737.666 1511.14 L737.666 1514.34 L713.554 1514.34 L713.554 1511.14 Z\" fill=\"#000000\" fill-rule=\"nonzero\" fill-opacity=\"1\" /><path clip-path=\"url(#clip050)\" d=\"M749.139 1521.62 L762.398 1521.62 L762.398 1524.81 L744.568 1524.81 L744.568 1521.62 Q746.731 1519.38 750.455 1515.62 Q754.198 1511.84 755.157 1510.75 Q756.981 1508.7 757.696 1507.29 Q758.43 1505.86 758.43 1504.48 Q758.43 1502.24 756.85 1500.83 Q755.289 1499.42 752.768 1499.42 Q750.982 1499.42 748.988 1500.04 Q747.013 1500.67 744.756 1501.93 L744.756 1498.09 Q747.051 1497.17 749.045 1496.7 Q751.038 1496.23 752.693 1496.23 Q757.057 1496.23 759.652 1498.41 Q762.248 1500.59 762.248 1504.24 Q762.248 1505.97 761.589 1507.53 Q760.95 1509.07 759.238 1511.18 Q758.768 1511.72 756.248 1514.34 Q753.728 1516.93 749.139 1521.62 Z\" fill=\"#000000\" fill-rule=\"nonzero\" fill-opacity=\"1\" /><path clip-path=\"url(#clip050)\" d=\"M1792.01 1548.29 L1799.65 1548.29 L1799.65 1521.92 L1791.34 1523.59 L1791.34 1519.33 L1799.61 1517.66 L1804.28 1517.66 L1804.28 1548.29 L1811.92 1548.29 L1811.92 1552.22 L1792.01 1552.22 L1792.01 1548.29 Z\" fill=\"#000000\" fill-rule=\"nonzero\" fill-opacity=\"1\" /><path clip-path=\"url(#clip050)\" d=\"M1831.36 1520.74 Q1827.75 1520.74 1825.92 1524.31 Q1824.12 1527.85 1824.12 1534.98 Q1824.12 1542.09 1825.92 1545.65 Q1827.75 1549.19 1831.36 1549.19 Q1835 1549.19 1836.8 1545.65 Q1838.63 1542.09 1838.63 1534.98 Q1838.63 1527.85 1836.8 1524.31 Q1835 1520.74 1831.36 1520.74 M1831.36 1517.04 Q1837.17 1517.04 1840.23 1521.65 Q1843.31 1526.23 1843.31 1534.98 Q1843.31 1543.71 1840.23 1548.31 Q1837.17 1552.9 1831.36 1552.9 Q1825.55 1552.9 1822.48 1548.31 Q1819.42 1543.71 1819.42 1534.98 Q1819.42 1526.23 1822.48 1521.65 Q1825.55 1517.04 1831.36 1517.04 Z\" fill=\"#000000\" fill-rule=\"nonzero\" fill-opacity=\"1\" /><path clip-path=\"url(#clip050)\" d=\"M1843.31 1511.14 L1867.42 1511.14 L1867.42 1514.34 L1843.31 1514.34 L1843.31 1511.14 Z\" fill=\"#000000\" fill-rule=\"nonzero\" fill-opacity=\"1\" /><path clip-path=\"url(#clip050)\" d=\"M1876.28 1521.62 L1882.49 1521.62 L1882.49 1500.19 L1875.73 1501.55 L1875.73 1498.09 L1882.45 1496.73 L1886.25 1496.73 L1886.25 1521.62 L1892.45 1521.62 L1892.45 1524.81 L1876.28 1524.81 L1876.28 1521.62 Z\" fill=\"#000000\" fill-rule=\"nonzero\" fill-opacity=\"1\" /><polyline clip-path=\"url(#clip050)\" style=\"stroke:#000000; stroke-linecap:round; stroke-linejoin:round; stroke-width:4; stroke-opacity:1; fill:none\" points=\"189.496,1474.16 189.496,47.2441 \"/>\n",
       "<polyline clip-path=\"url(#clip050)\" style=\"stroke:#000000; stroke-linecap:round; stroke-linejoin:round; stroke-width:4; stroke-opacity:1; fill:none\" points=\"189.496,1143.9 208.394,1143.9 \"/>\n",
       "<polyline clip-path=\"url(#clip050)\" style=\"stroke:#000000; stroke-linecap:round; stroke-linejoin:round; stroke-width:4; stroke-opacity:1; fill:none\" points=\"189.496,433.82 208.394,433.82 \"/>\n",
       "<path clip-path=\"url(#clip050)\" d=\"M51.6634 1163.69 L59.3023 1163.69 L59.3023 1137.32 L50.9921 1138.99 L50.9921 1134.73 L59.256 1133.07 L63.9319 1133.07 L63.9319 1163.69 L71.5707 1163.69 L71.5707 1167.63 L51.6634 1167.63 L51.6634 1163.69 Z\" fill=\"#000000\" fill-rule=\"nonzero\" fill-opacity=\"1\" /><path clip-path=\"url(#clip050)\" d=\"M91.0151 1136.14 Q87.404 1136.14 85.5753 1139.71 Q83.7697 1143.25 83.7697 1150.38 Q83.7697 1157.49 85.5753 1161.05 Q87.404 1164.59 91.0151 1164.59 Q94.6493 1164.59 96.4548 1161.05 Q98.2835 1157.49 98.2835 1150.38 Q98.2835 1143.25 96.4548 1139.71 Q94.6493 1136.14 91.0151 1136.14 M91.0151 1132.44 Q96.8252 1132.44 99.8808 1137.05 Q102.959 1141.63 102.959 1150.38 Q102.959 1159.11 99.8808 1163.71 Q96.8252 1168.3 91.0151 1168.3 Q85.2049 1168.3 82.1262 1163.71 Q79.0707 1159.11 79.0707 1150.38 Q79.0707 1141.63 82.1262 1137.05 Q85.2049 1132.44 91.0151 1132.44 Z\" fill=\"#000000\" fill-rule=\"nonzero\" fill-opacity=\"1\" /><path clip-path=\"url(#clip050)\" d=\"M102.959 1126.54 L127.071 1126.54 L127.071 1129.74 L102.959 1129.74 L102.959 1126.54 Z\" fill=\"#000000\" fill-rule=\"nonzero\" fill-opacity=\"1\" /><path clip-path=\"url(#clip050)\" d=\"M145.71 1115.45 L136.118 1130.44 L145.71 1130.44 L145.71 1115.45 M144.713 1112.14 L149.49 1112.14 L149.49 1130.44 L153.496 1130.44 L153.496 1133.59 L149.49 1133.59 L149.49 1140.22 L145.71 1140.22 L145.71 1133.59 L133.033 1133.59 L133.033 1129.93 L144.713 1112.14 Z\" fill=\"#000000\" fill-rule=\"nonzero\" fill-opacity=\"1\" /><path clip-path=\"url(#clip050)\" d=\"M53.3561 453.613 L60.995 453.613 L60.995 427.247 L52.6848 428.914 L52.6848 424.655 L60.9487 422.988 L65.6246 422.988 L65.6246 453.613 L73.2634 453.613 L73.2634 457.548 L53.3561 457.548 L53.3561 453.613 Z\" fill=\"#000000\" fill-rule=\"nonzero\" fill-opacity=\"1\" /><path clip-path=\"url(#clip050)\" d=\"M92.7078 426.067 Q89.0967 426.067 87.268 429.631 Q85.4624 433.173 85.4624 440.303 Q85.4624 447.409 87.268 450.974 Q89.0967 454.516 92.7078 454.516 Q96.342 454.516 98.1475 450.974 Q99.9762 447.409 99.9762 440.303 Q99.9762 433.173 98.1475 429.631 Q96.342 426.067 92.7078 426.067 M92.7078 422.363 Q98.5179 422.363 101.573 426.969 Q104.652 431.553 104.652 440.303 Q104.652 449.03 101.573 453.636 Q98.5179 458.219 92.7078 458.219 Q86.8976 458.219 83.8189 453.636 Q80.7634 449.03 80.7634 440.303 Q80.7634 431.553 83.8189 426.969 Q86.8976 422.363 92.7078 422.363 Z\" fill=\"#000000\" fill-rule=\"nonzero\" fill-opacity=\"1\" /><path clip-path=\"url(#clip050)\" d=\"M104.652 416.464 L128.764 416.464 L128.764 419.662 L104.652 419.662 L104.652 416.464 Z\" fill=\"#000000\" fill-rule=\"nonzero\" fill-opacity=\"1\" /><path clip-path=\"url(#clip050)\" d=\"M140.236 426.94 L153.496 426.94 L153.496 430.138 L135.666 430.138 L135.666 426.94 Q137.829 424.702 141.553 420.941 Q145.296 417.16 146.255 416.069 Q148.079 414.019 148.794 412.609 Q149.527 411.179 149.527 409.806 Q149.527 407.568 147.948 406.158 Q146.387 404.747 143.866 404.747 Q142.08 404.747 140.086 405.368 Q138.111 405.988 135.854 407.249 L135.854 403.412 Q138.149 402.49 140.142 402.02 Q142.136 401.55 143.791 401.55 Q148.155 401.55 150.75 403.731 Q153.345 405.913 153.345 409.562 Q153.345 411.292 152.687 412.853 Q152.048 414.395 150.336 416.502 Q149.866 417.047 147.346 419.662 Q144.826 422.257 140.236 426.94 Z\" fill=\"#000000\" fill-rule=\"nonzero\" fill-opacity=\"1\" /><polyline clip-path=\"url(#clip052)\" style=\"stroke:#009af9; stroke-linecap:round; stroke-linejoin:round; stroke-width:12; stroke-opacity:1; fill:none\" points=\"2291.53,87.6286 1951.4,159.73 1611.26,250.825 1271.13,350.158 930.991,453.344 590.855,558.396 250.72,664.365 \"/>\n",
       "<circle clip-path=\"url(#clip052)\" cx=\"2291.53\" cy=\"87.6286\" r=\"14.4\" fill=\"#009af9\" fill-rule=\"evenodd\" fill-opacity=\"1\" stroke=\"#000000\" stroke-opacity=\"1\" stroke-width=\"3.2\"/>\n",
       "<circle clip-path=\"url(#clip052)\" cx=\"1951.4\" cy=\"159.73\" r=\"14.4\" fill=\"#009af9\" fill-rule=\"evenodd\" fill-opacity=\"1\" stroke=\"#000000\" stroke-opacity=\"1\" stroke-width=\"3.2\"/>\n",
       "<circle clip-path=\"url(#clip052)\" cx=\"1611.26\" cy=\"250.825\" r=\"14.4\" fill=\"#009af9\" fill-rule=\"evenodd\" fill-opacity=\"1\" stroke=\"#000000\" stroke-opacity=\"1\" stroke-width=\"3.2\"/>\n",
       "<circle clip-path=\"url(#clip052)\" cx=\"1271.13\" cy=\"350.158\" r=\"14.4\" fill=\"#009af9\" fill-rule=\"evenodd\" fill-opacity=\"1\" stroke=\"#000000\" stroke-opacity=\"1\" stroke-width=\"3.2\"/>\n",
       "<circle clip-path=\"url(#clip052)\" cx=\"930.991\" cy=\"453.344\" r=\"14.4\" fill=\"#009af9\" fill-rule=\"evenodd\" fill-opacity=\"1\" stroke=\"#000000\" stroke-opacity=\"1\" stroke-width=\"3.2\"/>\n",
       "<circle clip-path=\"url(#clip052)\" cx=\"590.855\" cy=\"558.396\" r=\"14.4\" fill=\"#009af9\" fill-rule=\"evenodd\" fill-opacity=\"1\" stroke=\"#000000\" stroke-opacity=\"1\" stroke-width=\"3.2\"/>\n",
       "<circle clip-path=\"url(#clip052)\" cx=\"250.72\" cy=\"664.365\" r=\"14.4\" fill=\"#009af9\" fill-rule=\"evenodd\" fill-opacity=\"1\" stroke=\"#000000\" stroke-opacity=\"1\" stroke-width=\"3.2\"/>\n",
       "<polyline clip-path=\"url(#clip052)\" style=\"stroke:#e26f46; stroke-linecap:round; stroke-linejoin:round; stroke-width:12; stroke-opacity:1; fill:none\" points=\"2291.53,151.252 1951.4,365.007 1611.26,578.761 1271.13,792.516 930.991,1006.27 590.855,1220.03 250.72,1433.78 \"/>\n",
       "<path clip-path=\"url(#clip050)\" d=\"M261.605 250.328 L566.75 250.328 L566.75 94.8081 L261.605 94.8081  Z\" fill=\"#ffffff\" fill-rule=\"evenodd\" fill-opacity=\"1\"/>\n",
       "<polyline clip-path=\"url(#clip050)\" style=\"stroke:#000000; stroke-linecap:round; stroke-linejoin:round; stroke-width:4; stroke-opacity:1; fill:none\" points=\"261.605,250.328 566.75,250.328 566.75,94.8081 261.605,94.8081 261.605,250.328 \"/>\n",
       "<polyline clip-path=\"url(#clip050)\" style=\"stroke:#009af9; stroke-linecap:round; stroke-linejoin:round; stroke-width:12; stroke-opacity:1; fill:none\" points=\"285.641,146.648 429.858,146.648 \"/>\n",
       "<circle clip-path=\"url(#clip050)\" cx=\"357.749\" cy=\"146.648\" r=\"20.0302\" fill=\"#009af9\" fill-rule=\"evenodd\" fill-opacity=\"1\" stroke=\"#000000\" stroke-opacity=\"1\" stroke-width=\"4.55111\"/>\n",
       "<path clip-path=\"url(#clip050)\" d=\"M453.894 129.368 L475.746 129.368 L475.746 133.303 L458.57 133.303 L458.57 143.535 L475.029 143.535 L475.029 147.47 L458.57 147.47 L458.57 159.993 L476.163 159.993 L476.163 163.928 L453.894 163.928 L453.894 129.368 Z\" fill=\"#000000\" fill-rule=\"nonzero\" fill-opacity=\"1\" /><path clip-path=\"url(#clip050)\" d=\"M498.686 141.984 Q497.968 141.567 497.112 141.382 Q496.278 141.174 495.26 141.174 Q491.649 141.174 489.704 143.535 Q487.783 145.873 487.783 150.271 L487.783 163.928 L483.501 163.928 L483.501 138.002 L487.783 138.002 L487.783 142.03 Q489.126 139.669 491.278 138.535 Q493.431 137.377 496.51 137.377 Q496.95 137.377 497.482 137.447 Q498.014 137.493 498.663 137.609 L498.686 141.984 Z\" fill=\"#000000\" fill-rule=\"nonzero\" fill-opacity=\"1\" /><path clip-path=\"url(#clip050)\" d=\"M517.343 141.984 Q516.626 141.567 515.769 141.382 Q514.936 141.174 513.917 141.174 Q510.306 141.174 508.362 143.535 Q506.44 145.873 506.44 150.271 L506.44 163.928 L502.158 163.928 L502.158 138.002 L506.44 138.002 L506.44 142.03 Q507.783 139.669 509.936 138.535 Q512.088 137.377 515.167 137.377 Q515.607 137.377 516.139 137.447 Q516.672 137.493 517.32 137.609 L517.343 141.984 Z\" fill=\"#000000\" fill-rule=\"nonzero\" fill-opacity=\"1\" /><path clip-path=\"url(#clip050)\" d=\"M530.815 140.988 Q527.389 140.988 525.399 143.674 Q523.408 146.336 523.408 150.988 Q523.408 155.641 525.375 158.326 Q527.366 160.988 530.815 160.988 Q534.218 160.988 536.209 158.303 Q538.199 155.618 538.199 150.988 Q538.199 146.382 536.209 143.697 Q534.218 140.988 530.815 140.988 M530.815 137.377 Q536.371 137.377 539.542 140.988 Q542.713 144.6 542.713 150.988 Q542.713 157.354 539.542 160.988 Q536.371 164.599 530.815 164.599 Q525.237 164.599 522.065 160.988 Q518.917 157.354 518.917 150.988 Q518.917 144.6 522.065 140.988 Q525.237 137.377 530.815 137.377 Z\" fill=\"#000000\" fill-rule=\"nonzero\" fill-opacity=\"1\" /><polyline clip-path=\"url(#clip050)\" style=\"stroke:#e26f46; stroke-linecap:round; stroke-linejoin:round; stroke-width:12; stroke-opacity:1; fill:none\" points=\"285.641,198.488 429.858,198.488 \"/>\n",
       "<path clip-path=\"url(#clip050)\" d=\"M475.607 200.12 L475.607 215.768 L471.348 215.768 L471.348 200.259 Q471.348 196.578 469.913 194.75 Q468.478 192.921 465.607 192.921 Q462.158 192.921 460.167 195.12 Q458.177 197.319 458.177 201.115 L458.177 215.768 L453.894 215.768 L453.894 179.75 L458.177 179.75 L458.177 193.87 Q459.705 191.532 461.765 190.375 Q463.848 189.217 466.556 189.217 Q471.024 189.217 473.316 191.995 Q475.607 194.75 475.607 200.12 Z\" fill=\"#000000\" fill-rule=\"nonzero\" fill-opacity=\"1\" /><path clip-path=\"url(#clip050)\" d=\"M485.839 197.666 L495.653 197.666 L495.653 200.305 L481.811 200.305 L481.811 197.759 Q482.598 197.041 484.056 195.745 Q492.019 188.685 492.019 186.509 Q492.019 184.981 490.815 184.055 Q489.612 183.106 487.644 183.106 Q486.44 183.106 485.028 183.523 Q483.616 183.916 481.95 184.727 L481.95 181.879 Q483.732 181.231 485.26 180.907 Q486.811 180.583 488.13 180.583 Q491.487 180.583 493.501 182.111 Q495.515 183.639 495.515 186.139 Q495.515 189.356 487.853 195.93 Q486.556 197.041 485.839 197.666 Z\" fill=\"#000000\" fill-rule=\"nonzero\" fill-opacity=\"1\" /></svg>\n"
      ]
     },
     "metadata": {},
     "output_type": "display_data"
    }
   ],
   "source": [
    "n_testes = 8\n",
    "h_list, errors_list = convergencia(n_testes, α, β, T, g, f, u, u0, npgs)\n",
    "\n",
    "plot_error_curves(h_list, errors_list)"
   ]
  },
  {
   "cell_type": "code",
   "execution_count": 14,
   "id": "92631746",
   "metadata": {},
   "outputs": [
    {
     "data": {
      "text/plain": [
       "7-element Vector{Float64}:\n",
       " 0.25\n",
       " 0.125\n",
       " 0.0625\n",
       " 0.03125\n",
       " 0.015625\n",
       " 0.0078125\n",
       " 0.00390625"
      ]
     },
     "metadata": {},
     "output_type": "display_data"
    },
    {
     "data": {
      "text/plain": [
       "7-element Vector{Float64}:\n",
       " 0.09442378375077849\n",
       " 0.05915649943949743\n",
       " 0.03276609344640635\n",
       " 0.0172045296904803\n",
       " 0.008810672880375313\n",
       " 0.004457816799114211\n",
       " 0.0022420757145304934"
      ]
     },
     "metadata": {},
     "output_type": "display_data"
    }
   ],
   "source": [
    "display(h_list)\n",
    "display(errors_list)"
   ]
  },
  {
   "cell_type": "code",
   "execution_count": null,
   "id": "2bb81b12",
   "metadata": {},
   "outputs": [],
   "source": []
  }
 ],
 "metadata": {
  "kernelspec": {
   "display_name": "Julia 1.11.1",
   "language": "julia",
   "name": "julia-1.11"
  },
  "language_info": {
   "file_extension": ".jl",
   "mimetype": "application/julia",
   "name": "julia",
   "version": "1.11.1"
  }
 },
 "nbformat": 4,
 "nbformat_minor": 5
}
