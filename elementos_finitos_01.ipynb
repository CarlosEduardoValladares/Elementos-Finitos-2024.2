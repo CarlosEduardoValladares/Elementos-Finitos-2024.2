{
 "cells": [
  {
   "cell_type": "code",
   "execution_count": null,
   "metadata": {},
   "outputs": [],
   "source": [
    "import Pkg\n",
    "Pkg.add(\"Plots\")"
   ]
  },
  {
   "cell_type": "code",
   "execution_count": 10,
   "metadata": {},
   "outputs": [],
   "source": [
    "\n",
    "using Plots"
   ]
  },
  {
   "cell_type": "code",
   "execution_count": 1,
   "metadata": {},
   "outputs": [
    {
     "data": {
      "text/plain": [
       "f2_solution (generic function with 1 method)"
      ]
     },
     "metadata": {},
     "output_type": "display_data"
    }
   ],
   "source": [
    "function f1(x::Float64, α::Float64, β::Float64)\n",
    "    return -2*α + β*(x^2-x)\n",
    "end\n",
    "\n",
    "function f1_solution(x::Float64)\n",
    "    return x*(x-1)\n",
    "end\n",
    "\n",
    "function f2(x::Float64, α::Float64, β::Float64)\n",
    "    return (α*π^2 + β)*sin(π*x)\n",
    "end\n",
    "\n",
    "function f2_solution(x::Float64)\n",
    "    return sin(π*x)\n",
    "end"
   ]
  },
  {
   "cell_type": "code",
   "execution_count": 2,
   "metadata": {},
   "outputs": [
    {
     "data": {
      "text/plain": [
       "solution_on_points (generic function with 1 method)"
      ]
     },
     "metadata": {},
     "output_type": "display_data"
    }
   ],
   "source": [
    "function get_point(index::Int64, m::Int64)\n",
    "    return convert(Float64, index/(m+1))     \n",
    "end\n",
    "\n",
    "function solution_on_points(α::Float64, β::Float64, m::Int64, f)\n",
    "    exact_solution = zeros(m)\n",
    "    for i in 1:m\n",
    "        point = get_point(i, m)\n",
    "        exact_solution[i] = f(point)::Float64\n",
    "    end\n",
    "\n",
    "    return exact_solution\n",
    "end"
   ]
  },
  {
   "cell_type": "code",
   "execution_count": 3,
   "metadata": {},
   "outputs": [
    {
     "data": {
      "text/plain": [
       "solve_equation (generic function with 1 method)"
      ]
     },
     "metadata": {},
     "output_type": "display_data"
    }
   ],
   "source": [
    "function solution_on_points(α::Float64, β::Float64, m::Int64, f)\n",
    "    exact_solution = zeros(m)\n",
    "    for i in 1:m\n",
    "        point = get_point(i, m)\n",
    "        exact_solution[i] = f(point)::Float64\n",
    "    end\n",
    "\n",
    "    return exact_solution\n",
    "end\n",
    "\n",
    "function solve_equation(α::Float64, β::Float64, m::Int64, f)\n",
    "\n",
    "    h = 1/(m+1) \n",
    "\n",
    "    A = zeros((m, m))\n",
    "    \n",
    "    for i in 2:m-1\n",
    "        A[i, i-1] = -α\n",
    "        A[i, i  ] = β*h^2 + 2*α\n",
    "        A[i, i+1] = -α\n",
    "    end\n",
    "\n",
    "    # linhas de contorno\n",
    "    A[1, 1] = β*h^2 + 2*α\n",
    "    A[1, 2] = -α\n",
    "\n",
    "    A[m, m-1] = -α\n",
    "    A[m, m] = β*h^2 + 2*α\n",
    "\n",
    "\n",
    "    b = zeros(m)\n",
    "    for i in 2:m-1\n",
    "        \n",
    "        point = get_point(i, m)\n",
    "        b[i] = h^2*f(point, α, β)::Float64\n",
    "    end\n",
    "\n",
    "    #linhas de contorno\n",
    "    b[1] = h^2*f(get_point(1, m), α, β)::Float64\n",
    "    b[m] = h^2*f(get_point(m, m), α, β)::Float64\n",
    "\n",
    "    num_solution = A\\b\n",
    "\n",
    "    return num_solution\n",
    "end"
   ]
  },
  {
   "cell_type": "markdown",
   "metadata": {},
   "source": [
    "Caso 1"
   ]
  },
  {
   "cell_type": "code",
   "execution_count": 6,
   "metadata": {},
   "outputs": [
    {
     "data": {
      "text/plain": [
       "\"Solução numérica: \""
      ]
     },
     "metadata": {},
     "output_type": "display_data"
    },
    {
     "data": {
      "text/plain": [
       "4-element Vector{Float64}:\n",
       " -0.16\n",
       " -0.24000000000000002\n",
       " -0.23999999999999996\n",
       " -0.15999999999999998"
      ]
     },
     "metadata": {},
     "output_type": "display_data"
    },
    {
     "data": {
      "text/plain": [
       "\"Solução exata: \""
      ]
     },
     "metadata": {},
     "output_type": "display_data"
    },
    {
     "data": {
      "text/plain": [
       "4-element Vector{Float64}:\n",
       " -0.16000000000000003\n",
       " -0.24\n",
       " -0.24\n",
       " -0.15999999999999998"
      ]
     },
     "metadata": {},
     "output_type": "display_data"
    }
   ],
   "source": [
    "α = 1.0\n",
    "β = 1.0\n",
    "m = 4\n",
    "\n",
    "num_sol = solve_equation(α, β, m, f1)\n",
    "exact_sol = solution_on_points(α, β, m, f1_solution)\n",
    "\n",
    "display(\"Solução numérica: \")\n",
    "display(num_sol)\n",
    "\n",
    "display(\"Solução exata: \")\n",
    "display(exact_sol)"
   ]
  },
  {
   "cell_type": "markdown",
   "metadata": {},
   "source": [
    "Caso 2"
   ]
  },
  {
   "cell_type": "code",
   "execution_count": 7,
   "metadata": {},
   "outputs": [
    {
     "data": {
      "text/plain": [
       "\"Solução numérica: \""
      ]
     },
     "metadata": {},
     "output_type": "display_data"
    },
    {
     "data": {
      "text/plain": [
       "4-element Vector{Float64}:\n",
       " 0.6056405487528084\n",
       " 0.9799469928471818\n",
       " 0.9799469928471817\n",
       " 0.6056405487528084"
      ]
     },
     "metadata": {},
     "output_type": "display_data"
    },
    {
     "data": {
      "text/plain": [
       "\"Solução exata: \""
      ]
     },
     "metadata": {},
     "output_type": "display_data"
    },
    {
     "data": {
      "text/plain": [
       "4-element Vector{Float64}:\n",
       " 0.5877852522924731\n",
       " 0.9510565162951535\n",
       " 0.9510565162951536\n",
       " 0.5877852522924732"
      ]
     },
     "metadata": {},
     "output_type": "display_data"
    }
   ],
   "source": [
    "α = 1.0\n",
    "β = 1.0\n",
    "m = 4\n",
    "\n",
    "num_sol = solve_equation(α, β, m, f2)\n",
    "exact_sol = solution_on_points(α, β, m, f2_solution)\n",
    "\n",
    "display(\"Solução numérica: \")\n",
    "display(num_sol)\n",
    "\n",
    "display(\"Solução exata: \")\n",
    "display(exact_sol)"
   ]
  }
 ],
 "metadata": {
  "kernelspec": {
   "display_name": "Julia 1.10.2",
   "language": "julia",
   "name": "julia-1.10"
  },
  "language_info": {
   "file_extension": ".jl",
   "mimetype": "application/julia",
   "name": "julia",
   "version": "1.10.2"
  }
 },
 "nbformat": 4,
 "nbformat_minor": 2
}
