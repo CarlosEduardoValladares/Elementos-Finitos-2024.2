{
 "cells": [
  {
   "cell_type": "code",
   "execution_count": 1,
   "metadata": {},
   "outputs": [],
   "source": [
    "using LinearAlgebra\n",
    "using Plots\n",
    "using GaussQuadrature\n",
    "using SparseArrays\n",
    "using DataFrames\n",
    "using Printf"
   ]
  },
  {
   "cell_type": "markdown",
   "metadata": {},
   "source": [
    "## Base"
   ]
  },
  {
   "cell_type": "code",
   "execution_count": 2,
   "metadata": {},
   "outputs": [
    {
     "data": {
      "text/plain": [
       "∂ϕ (generic function with 1 method)"
      ]
     },
     "execution_count": 2,
     "metadata": {},
     "output_type": "execute_result"
    }
   ],
   "source": [
    "function ϕ(a::Int64)::Function\n",
    "    if a == 1\n",
    "        return (ξ₁::Float64, ξ₂::Float64) -> (1.0-ξ₁)*(1.0-ξ₂)/4.0\n",
    "        \n",
    "    elseif a == 2\n",
    "        return (ξ₁::Float64, ξ₂::Float64) -> (1.0+ξ₁)*(1.0-ξ₂)/4.0\n",
    "        \n",
    "    elseif a == 3\n",
    "        return (ξ₁::Float64, ξ₂::Float64) -> (1.0+ξ₁)*(1.0+ξ₂)/4.0\n",
    "        \n",
    "    elseif a == 4\n",
    "        return (ξ₁::Float64, ξ₂::Float64) -> (1.0-ξ₁)*(1.0+ξ₂)/4.0\n",
    "        \n",
    "    end\n",
    "end\n",
    "\n",
    "function ∂ϕ(variable::Int64, a::Int64)::Function\n",
    "    if variable == 1\n",
    "        if a == 1\n",
    "            return (ξ₁::Float64, ξ₂::Float64) -> -(1.0-ξ₂)/4.0\n",
    "        elseif a == 2\n",
    "            return (ξ₁::Float64, ξ₂::Float64) ->  (1.0-ξ₂)/4.0\n",
    "        elseif a == 3\n",
    "            return (ξ₁::Float64, ξ₂::Float64) ->  (1.0+ξ₂)/4.0\n",
    "        elseif a == 4\n",
    "            return (ξ₁::Float64, ξ₂::Float64) -> -(1.0+ξ₂)/4.0\n",
    "        end\n",
    "        \n",
    "    elseif variable == 2\n",
    "        if a == 1\n",
    "            return (ξ₁::Float64, ξ₂::Float64) -> -(1.0-ξ₁)/4.0\n",
    "        elseif a == 2\n",
    "            return (ξ₁::Float64, ξ₂::Float64) -> -(1.0+ξ₁)/4.0\n",
    "        elseif a == 3\n",
    "            return (ξ₁::Float64, ξ₂::Float64) ->  (1.0+ξ₁)/4.0\n",
    "        elseif a == 4\n",
    "            return (ξ₁::Float64, ξ₂::Float64) ->  (1.0-ξ₁)/4.0\n",
    "        end\n",
    "        \n",
    "    end\n",
    "end"
   ]
  },
  {
   "cell_type": "code",
   "execution_count": 3,
   "metadata": {},
   "outputs": [
    {
     "data": {
      "text/plain": [
       "mapper_to_x (generic function with 1 method)"
      ]
     },
     "execution_count": 3,
     "metadata": {},
     "output_type": "execute_result"
    }
   ],
   "source": [
    "function mapper_to_x(h::Float64, pᵉ::Float64)::Function\n",
    "    return (ξ::Float64) -> (h/2)*(ξ+1) + pᵉ\n",
    "end"
   ]
  },
  {
   "cell_type": "code",
   "execution_count": 4,
   "metadata": {},
   "outputs": [
    {
     "data": {
      "text/plain": [
       "quadratura_F_2D (generic function with 1 method)"
      ]
     },
     "execution_count": 4,
     "metadata": {},
     "output_type": "execute_result"
    }
   ],
   "source": [
    "function quadratura_phis_K_2D(f1::Function, f2::Function, P::Vector{Float64}, W::Vector{Float64})::Float64\n",
    "    quadratura = 0.0\n",
    "    \n",
    "    for (ξ₁, w₁) in zip(P, W)\n",
    "        for (ξ₂, w₂) in zip(P, W)\n",
    "            quadratura += (w₁*w₂) * (f1(ξ₁, ξ₂) * f2(ξ₁, ξ₂))\n",
    "        end\n",
    "    end\n",
    "    \n",
    "    return quadratura\n",
    "end\n",
    "\n",
    "function quadratura_F_2D(f1::Function, f2::Function, h::Vector{Float64}, pᵉ::Vector{Float64}, P::Vector{Float64}, W::Vector{Float64})::Float64\n",
    "    quadratura = 0.0\n",
    "    \n",
    "    ξ_to_x1 = mapper_to_x(h[1], pᵉ[1])\n",
    "    ξ_to_x2 = mapper_to_x(h[2], pᵉ[2])\n",
    "    \n",
    "    for (ξ₁, w₁) in zip(P, W)\n",
    "        for (ξ₂, w₂) in zip(P, W)            \n",
    "            quadratura += (w₁*w₂) * f1(ξ_to_x1(ξ₁), ξ_to_x2(ξ₂)) * f2(ξ₁, ξ₂)\n",
    "        end\n",
    "    end\n",
    "    \n",
    "    return quadratura\n",
    "end"
   ]
  },
  {
   "cell_type": "code",
   "execution_count": 5,
   "metadata": {},
   "outputs": [
    {
     "data": {
      "text/plain": [
       "monta_F_local_2D (generic function with 1 method)"
      ]
     },
     "execution_count": 5,
     "metadata": {},
     "output_type": "execute_result"
    }
   ],
   "source": [
    "function monta_K_local_2D(α::Float64, β::Float64, h::Vector{Float64}, P::Vector{Float64}, W::Vector{Float64})::Matrix{Float64}\n",
    "    K_local = zeros(4, 4)\n",
    "    \n",
    "    for a in 1:4\n",
    "        for b in 1:4\n",
    "            K_local[a, b] = (α*( h[2]/h[1])   ) * quadratura_phis_K_2D(∂ϕ(1,b), ∂ϕ(1,a), P, W) +\n",
    "                            (α*( h[1]/h[2])   ) * quadratura_phis_K_2D(∂ϕ(2,b), ∂ϕ(2,a), P, W) +\n",
    "                            (β*((h[1]*h[2])/4)) * quadratura_phis_K_2D( ϕ(  b),  ϕ(  a), P, W)\n",
    "        end\n",
    "    end\n",
    "    \n",
    "    return K_local\n",
    "end\n",
    "\n",
    "function monta_F_local_2D(f::Function, h::Vector{Float64}, pᵉ::Vector{Float64}, P::Vector{Float64}, W::Vector{Float64})\n",
    "    F_local = zeros(4)\n",
    "    \n",
    "    for a in 1:4\n",
    "         F_local[a] = (h[1]*h[2]/4) * quadratura_F_2D(f, ϕ(a), h, pᵉ, P, W)\n",
    "    end\n",
    "    \n",
    "    return F_local    \n",
    "end"
   ]
  },
  {
   "cell_type": "code",
   "execution_count": 6,
   "metadata": {},
   "outputs": [
    {
     "data": {
      "text/plain": [
       "4×4 Matrix{Float64}:\n",
       "  4.0  -1.0  -2.0  -1.0\n",
       " -1.0   4.0  -1.0  -2.0\n",
       " -2.0  -1.0   4.0  -1.0\n",
       " -1.0  -2.0  -1.0   4.0"
      ]
     },
     "metadata": {},
     "output_type": "display_data"
    },
    {
     "data": {
      "text/plain": [
       "4-element Vector{Float64}:\n",
       " 1.0\n",
       " 1.0\n",
       " 1.0\n",
       " 1.0"
      ]
     },
     "metadata": {},
     "output_type": "display_data"
    }
   ],
   "source": [
    "# Teste 1\n",
    "\n",
    "h = [1/4; 1/4]\n",
    "α = 6.0\n",
    "β = 0.0\n",
    "\n",
    "f = (x1::Float64, x2::Float64) -> 4/(h[1]*h[2])\n",
    "pᵉ = [0.0; 0.0]\n",
    "P, W = legendre(2)\n",
    "\n",
    "display(monta_K_local_2D(α, β, h, P, W))\n",
    "display(monta_F_local_2D(f, h, pᵉ, P, W))"
   ]
  },
  {
   "cell_type": "code",
   "execution_count": 7,
   "metadata": {
    "scrolled": true
   },
   "outputs": [
    {
     "data": {
      "text/plain": [
       "4×4 Matrix{Float64}:\n",
       " 4.0  2.0  1.0  2.0\n",
       " 2.0  4.0  2.0  1.0\n",
       " 1.0  2.0  4.0  2.0\n",
       " 2.0  1.0  2.0  4.0"
      ]
     },
     "metadata": {},
     "output_type": "display_data"
    },
    {
     "data": {
      "text/plain": [
       "4-element Vector{Float64}:\n",
       "  4.0\n",
       "  8.0\n",
       " 16.0\n",
       "  8.0"
      ]
     },
     "metadata": {},
     "output_type": "display_data"
    }
   ],
   "source": [
    "# Teste 2\n",
    "\n",
    "h = [1/4; 1/4]\n",
    "α = 0.0\n",
    "β = (9.0 * 4.0)/ (h[1] * h[2])\n",
    "\n",
    "f = (x1::Float64, x2::Float64) -> (16/(h[1]*h[2])^2)*9*x1*x2\n",
    "pᵉ = [0.0; 0.0]\n",
    "P, W = legendre(2)\n",
    "\n",
    "display(monta_K_local_2D(α, β, h, P, W))\n",
    "display(monta_F_local_2D(f, h, pᵉ, P, W))"
   ]
  },
  {
   "cell_type": "code",
   "execution_count": 8,
   "metadata": {},
   "outputs": [
    {
     "data": {
      "text/plain": [
       "monta_LG (generic function with 1 method)"
      ]
     },
     "execution_count": 8,
     "metadata": {},
     "output_type": "execute_result"
    }
   ],
   "source": [
    "function monta_LG(Nx1::Int64, Nx2::Int64)::Matrix{Int64}\n",
    "    vec_line = (line::Int64) -> (Nx1+1)*line .+ (1:Nx1)\n",
    "    vec = vec_line.(0:Nx2-1)\n",
    "    \n",
    "    get_LG_column = (corner_index::Int64) -> [corner_index; corner_index + 1;\n",
    "                                              corner_index + Nx1+2; corner_index + Nx1+1]\n",
    "    \n",
    "    flat_matrix = Iterators.flatten(map(x -> get_LG_column.(x), vec))\n",
    "    matrix = reshape(collect(Iterators.flatten(flat_matrix)), (4, Nx1*Nx2))\n",
    "    \n",
    "    return matrix\n",
    "end"
   ]
  },
  {
   "cell_type": "code",
   "execution_count": 9,
   "metadata": {},
   "outputs": [
    {
     "data": {
      "text/plain": [
       "4×16 Matrix{Int64}:\n",
       " 1  2  3   4   6   7   8   9  11  12  13  14  16  17  18  19\n",
       " 2  3  4   5   7   8   9  10  12  13  14  15  17  18  19  20\n",
       " 7  8  9  10  12  13  14  15  17  18  19  20  22  23  24  25\n",
       " 6  7  8   9  11  12  13  14  16  17  18  19  21  22  23  24"
      ]
     },
     "execution_count": 9,
     "metadata": {},
     "output_type": "execute_result"
    }
   ],
   "source": [
    "monta_LG(4, 4)"
   ]
  },
  {
   "cell_type": "code",
   "execution_count": 10,
   "metadata": {},
   "outputs": [
    {
     "data": {
      "text/plain": [
       "monta_EQ (generic function with 1 method)"
      ]
     },
     "execution_count": 10,
     "metadata": {},
     "output_type": "execute_result"
    }
   ],
   "source": [
    "function monta_EQ(Nx1::Int64, Nx2::Int64)::Tuple{Int64, Vector{Int64}}\n",
    "    flat = Iterators.flatten\n",
    "    \n",
    "    m = (Nx1-1)*(Nx2-1)\n",
    "    get_EQ_line = (line_index::Int64) -> [m+1, line_index*(Nx1-1)+1:((line_index+1)*(Nx1-1)), m+1]   \n",
    "    \n",
    "    boundary_line = fill(m+1, Nx1+1)\n",
    "    mid_matrix = [boundary_line, flat(flat.(get_EQ_line.(0:Nx2-2))), boundary_line]\n",
    "    flat_matrix = collect(flat(mid_matrix))::Vector{Int64}\n",
    "    \n",
    "    #display(transpose(reshape(flat_matrix, (Nx1+1, Nx2+1))))\n",
    "    return (m, flat_matrix)\n",
    "end"
   ]
  },
  {
   "cell_type": "code",
   "execution_count": 11,
   "metadata": {},
   "outputs": [
    {
     "data": {
      "text/plain": [
       "(6, [7, 7, 7, 7, 7, 7, 1, 2, 3, 7, 7, 4, 5, 6, 7, 7, 7, 7, 7, 7])"
      ]
     },
     "execution_count": 11,
     "metadata": {},
     "output_type": "execute_result"
    }
   ],
   "source": [
    "monta_EQ(4, 3)"
   ]
  },
  {
   "cell_type": "code",
   "execution_count": 12,
   "metadata": {},
   "outputs": [
    {
     "data": {
      "text/plain": [
       "(9, [10, 10, 10, 10, 10, 10, 1, 2, 3, 10  …  10, 7, 8, 9, 10, 10, 10, 10, 10, 10])"
      ]
     },
     "execution_count": 12,
     "metadata": {},
     "output_type": "execute_result"
    }
   ],
   "source": [
    "monta_EQ(4, 4)"
   ]
  },
  {
   "cell_type": "code",
   "execution_count": 13,
   "metadata": {},
   "outputs": [
    {
     "data": {
      "text/plain": [
       "monta_F_global_2D (generic function with 1 method)"
      ]
     },
     "execution_count": 13,
     "metadata": {},
     "output_type": "execute_result"
    }
   ],
   "source": [
    "function monta_F_global_2D(f::Function, Nx1::Int64, Nx2::Int64, m::Int64, EQoLG::Matrix{Int64})::Vector{Float64}\n",
    "    h = [1/Nx1; 1/Nx2]    \n",
    "    F_global = zeros(m+1)\n",
    "    \n",
    "    P, W = legendre(5)\n",
    "    \n",
    "    for j in 1:Nx2\n",
    "        for i in 1:Nx1\n",
    "            pᵉ = [(i-1)*h[1]; (j-1)*h[2]]\n",
    "            e = (j-1)*Nx1 + i\n",
    "            F_local = monta_F_local_2D(f, h, pᵉ, P, W)\n",
    "            \n",
    "            for a in 1:4\n",
    "                index = EQoLG[a, e]\n",
    "                F_global[index] += F_local[a]\n",
    "            end\n",
    "        end\n",
    "    end\n",
    "    \n",
    "    return F_global[1:m]\n",
    "end\n"
   ]
  },
  {
   "cell_type": "code",
   "execution_count": 14,
   "metadata": {},
   "outputs": [
    {
     "data": {
      "text/plain": [
       "9-element Vector{Float64}:\n",
       " 3.999999999999999\n",
       " 3.999999999999999\n",
       " 3.999999999999999\n",
       " 3.999999999999999\n",
       " 3.999999999999999\n",
       " 3.999999999999999\n",
       " 3.999999999999999\n",
       " 3.999999999999999\n",
       " 3.999999999999999"
      ]
     },
     "execution_count": 14,
     "metadata": {},
     "output_type": "execute_result"
    }
   ],
   "source": [
    "Nx1 = 4\n",
    "Nx2 = 4\n",
    "\n",
    "h = [1/Nx1; 1/Nx2]\n",
    "f = (x1::Float64, x2::Float64) -> 4/(h[1]*h[2])\n",
    "\n",
    "m, EQ = monta_EQ(Nx1, Nx2)\n",
    "LG = monta_LG(Nx1, Nx2)\n",
    "\n",
    "#display(EQ)\n",
    "#display(LG)\n",
    "#display(EQ[LG])\n",
    "#display(transpose(reshape(EQ, (Nx1+1, Nx2+1))))\n",
    "\n",
    "monta_F_global_2D(f, Nx1, Nx2, m, EQ[LG])"
   ]
  },
  {
   "cell_type": "code",
   "execution_count": 15,
   "metadata": {},
   "outputs": [
    {
     "data": {
      "text/plain": [
       "9-element Vector{Float64}:\n",
       "  143.99999999999994\n",
       "  287.9999999999999\n",
       "  431.9999999999998\n",
       "  287.9999999999999\n",
       "  575.9999999999999\n",
       "  863.9999999999995\n",
       "  431.9999999999998\n",
       "  863.9999999999997\n",
       " 1295.9999999999998"
      ]
     },
     "execution_count": 15,
     "metadata": {},
     "output_type": "execute_result"
    }
   ],
   "source": [
    "Nx1 = 4\n",
    "Nx2 = 4\n",
    "\n",
    "h = [1/Nx1; 1/Nx2]\n",
    "f = (x1::Float64, x2::Float64) -> (16*9*x1*x2)/(h[1]*h[2])^2\n",
    "\n",
    "m, EQ = monta_EQ(Nx1, Nx2)\n",
    "LG = monta_LG(Nx1, Nx2)\n",
    "\n",
    "monta_F_global_2D(f, Nx1, Nx2, m, EQ[LG])"
   ]
  },
  {
   "cell_type": "code",
   "execution_count": 16,
   "metadata": {},
   "outputs": [
    {
     "data": {
      "text/plain": [
       "monta_K_global_2D (generic function with 1 method)"
      ]
     },
     "execution_count": 16,
     "metadata": {},
     "output_type": "execute_result"
    }
   ],
   "source": [
    "function monta_K_global_2D(α::Float64, β::Float64, Nx1::Int64, Nx2::Int64, m::Int64, EQoLG::Matrix{Int64})::SparseMatrixCSC{Float64}\n",
    "    h = [1/Nx1; 1/Nx2]    \n",
    "    P, W = legendre(2)\n",
    "    \n",
    "    K_global = spzeros(m+1, m+1)   \n",
    "    K_local = monta_K_local_2D(α, β, h, P, W)\n",
    "    \n",
    "    for j in 1:Nx2\n",
    "        for i in 1:Nx1\n",
    "            e = (j-1)*Nx1 + i\n",
    "            \n",
    "            for b in 1:4\n",
    "                for a in 1:4\n",
    "                    index_i = EQoLG[a, e]\n",
    "                    index_j = EQoLG[b, e]\n",
    "                    \n",
    "                    K_global[index_i, index_j] += K_local[a, b]\n",
    "                end\n",
    "            end\n",
    "        end\n",
    "    end\n",
    "    \n",
    "    return K_global[1:m, 1:m]\n",
    "end"
   ]
  },
  {
   "cell_type": "code",
   "execution_count": 17,
   "metadata": {},
   "outputs": [
    {
     "data": {
      "text/plain": [
       "6×6 SparseMatrixCSC{Float64, Int64} with 28 stored entries:\n",
       "  2.81481    -0.62963      ⋅         -0.0462963  -0.344907     ⋅ \n",
       " -0.62963     2.81481    -0.62963    -0.344907   -0.0462963  -0.344907\n",
       "   ⋅         -0.62963     2.81481      ⋅         -0.344907   -0.0462963\n",
       " -0.0462963  -0.344907     ⋅          2.81481    -0.62963      ⋅ \n",
       " -0.344907   -0.0462963  -0.344907   -0.62963     2.81481    -0.62963\n",
       "   ⋅         -0.344907   -0.0462963    ⋅         -0.62963     2.81481"
      ]
     },
     "execution_count": 17,
     "metadata": {},
     "output_type": "execute_result"
    }
   ],
   "source": [
    "α = 1.0\n",
    "β = 1.0\n",
    "\n",
    "Nx1 = 4\n",
    "Nx2 = 3\n",
    "\n",
    "m, EQ = monta_EQ(Nx1, Nx2)\n",
    "LG = monta_LG(Nx1, Nx2)\n",
    "\n",
    "monta_K_global_2D(α, β, Nx1, Nx2, m, EQ[LG])"
   ]
  },
  {
   "cell_type": "code",
   "execution_count": 18,
   "metadata": {},
   "outputs": [
    {
     "data": {
      "text/plain": [
       "erro_norma_L2_2D (generic function with 1 method)"
      ]
     },
     "execution_count": 18,
     "metadata": {},
     "output_type": "execute_result"
    }
   ],
   "source": [
    "function erro_norma_L2_2D(u::Function, c_::Vector{Float64}, Nx1::Int64, Nx2::Int64, EQoLG::Matrix{Int64})::Float64\n",
    "    h = [1/Nx1; 1/Nx2]\n",
    "    \n",
    "    ne = Nx1 * Nx2\n",
    "    P, W = legendre(5)\n",
    "    \n",
    "    erro = 0.0    \n",
    "    \n",
    "    for j in 1:Nx2\n",
    "        for i in 1:Nx1\n",
    "            e = (j-1)*Nx1 + i\n",
    "            pᵉ = [(i-1)*h[1]; (j-1)*h[2]]\n",
    "            \n",
    "            ξ_to_x1 = mapper_to_x(h[1], pᵉ[1])\n",
    "            ξ_to_x2 = mapper_to_x(h[2], pᵉ[2])\n",
    "            \n",
    "            quadratura = 0.0\n",
    "\n",
    "            for (ξ₁, w₁) in zip(P, W)\n",
    "                for (ξ₂, w₂) in zip(P, W)\n",
    "                    uₕᵉ_ξ = 0.0\n",
    "\n",
    "                    for a in 1:4\n",
    "                        index = EQoLG[a, e]\n",
    "                        uₕᵉ_ξ += c_[index]*(ϕ(a)(ξ₁, ξ₂))\n",
    "                    end\n",
    "\n",
    "                    x1 = ξ_to_x1(ξ₁)\n",
    "                    x2 = ξ_to_x2(ξ₂)\n",
    "\n",
    "                    quadratura += (w₁*w₂) * abs(u(x1, x2) - uₕᵉ_ξ)^2\n",
    "                end\n",
    "            end\n",
    "\n",
    "            erro += quadratura\n",
    "        end\n",
    "    end    \n",
    "    \n",
    "    return sqrt((h[1]*h[2]/4) * erro)\n",
    "end"
   ]
  },
  {
   "cell_type": "code",
   "execution_count": 19,
   "metadata": {},
   "outputs": [
    {
     "data": {
      "text/plain": [
       "49-element Vector{Float64}:\n",
       " 0.14842938111206438\n",
       " 0.2742617344655072\n",
       " 0.3583402249353907\n",
       " 0.3878646645210889\n",
       " 0.3583402249353907\n",
       " 0.2742617344655072\n",
       " 0.14842938111206438\n",
       " 0.2742617344655073\n",
       " 0.5067696060474551\n",
       " 0.6621263989865962\n",
       " 0.7166804498707814\n",
       " 0.6621263989865962\n",
       " 0.5067696060474551\n",
       " ⋮\n",
       " 0.6621263989865963\n",
       " 0.7166804498707816\n",
       " 0.6621263989865964\n",
       " 0.5067696060474555\n",
       " 0.27426173446550745\n",
       " 0.1484293811120644\n",
       " 0.2742617344655074\n",
       " 0.3583402249353909\n",
       " 0.38786466452108903\n",
       " 0.3583402249353909\n",
       " 0.2742617344655075\n",
       " 0.14842938111206447"
      ]
     },
     "metadata": {},
     "output_type": "display_data"
    }
   ],
   "source": [
    "α = 1.0\n",
    "β = 1.0\n",
    "f = (x₁::Float64, x₂::Float64) -> (2*α*π^2+β) * sin(π*x₁) * sin(π*x₂)\n",
    "u = (x₁::Float64, x₂::Float64) -> sin(π*x₁) * sin(π*x₂)\n",
    "\n",
    "Nx1 = 8 \n",
    "Nx2 = 8\n",
    "\n",
    "m, EQ = monta_EQ(Nx1, Nx2)\n",
    "LG = monta_LG(Nx1, Nx2)\n",
    "EQoLG = EQ[LG]\n",
    "\n",
    "c = monta_K_global_2D(α, β, Nx1, Nx2, m, EQoLG) \\ monta_F_global_2D(f, Nx1, Nx2, m, EQoLG)\n",
    "c_ = [c; 0]\n",
    "\n",
    "display(c)"
   ]
  },
  {
   "cell_type": "code",
   "execution_count": 20,
   "metadata": {},
   "outputs": [
    {
     "data": {
      "text/plain": [
       "0.007348142187149791"
      ]
     },
     "execution_count": 20,
     "metadata": {},
     "output_type": "execute_result"
    }
   ],
   "source": [
    "erro_norma_L2_2D(u, c_, Nx1, Nx2, EQoLG)"
   ]
  },
  {
   "cell_type": "code",
   "execution_count": 21,
   "metadata": {},
   "outputs": [
    {
     "data": {
      "text/plain": [
       "estudo_de_convergencia (generic function with 1 method)"
      ]
     },
     "execution_count": 21,
     "metadata": {},
     "output_type": "execute_result"
    }
   ],
   "source": [
    "function estudo_de_convergencia(α::Float64, β::Float64, f::Function, u::Function, n_testes::Int64)::Matrix{Float64}\n",
    "    \n",
    "    resultado = zeros(n_testes, 2)\n",
    "    \n",
    "    for tamanho in 2:n_testes+1\n",
    "        Nx1 = 2^tamanho\n",
    "        Nx2 = 2^tamanho\n",
    "        h = [1/Nx1, 1/Nx2]\n",
    "        \n",
    "        m, EQ = monta_EQ(Nx1, Nx2)\n",
    "        LG = monta_LG(Nx1, Nx2)\n",
    "        EQoLG = EQ[LG]\n",
    "        \n",
    "        K = monta_K_global_2D(α, β, Nx1, Nx2, m, EQoLG)\n",
    "        F = monta_F_global_2D(f, Nx1, Nx2, m, EQoLG)\n",
    "        \n",
    "        c = K \\ F\n",
    "        c_ = [c; 0]\n",
    "        \n",
    "        erro = erro_norma_L2_2D(u, c_, Nx1, Nx2, EQoLG)\n",
    "        \n",
    "        resultado[tamanho-1, 1] = sqrt(h[1]^2 + h[2]^2)\n",
    "        resultado[tamanho-1, 2] = erro\n",
    "    end\n",
    "    \n",
    "    return resultado\n",
    "end"
   ]
  },
  {
   "cell_type": "code",
   "execution_count": 22,
   "metadata": {},
   "outputs": [
    {
     "data": {
      "text/plain": [
       "7×2 Matrix{Float64}:\n",
       " 0.353553    0.0294644\n",
       " 0.176777    0.00734814\n",
       " 0.0883883   0.00183603\n",
       " 0.0441942   0.000458945\n",
       " 0.0220971   0.000114733\n",
       " 0.0110485   2.86829e-5\n",
       " 0.00552427  7.17071e-6"
      ]
     },
     "execution_count": 22,
     "metadata": {},
     "output_type": "execute_result"
    }
   ],
   "source": [
    "α = 1.0\n",
    "β = 1.0\n",
    "f = (x₁::Float64, x₂::Float64) -> (2*α*π^2+β) * sin(π*x₁) * sin(π*x₂)\n",
    "u = (x₁::Float64, x₂::Float64) -> sin(π*x₁) * sin(π*x₂)\n",
    "n_testes = 7\n",
    "\n",
    "resultado_convergencia = estudo_de_convergencia(α, β, f, u, n_testes)"
   ]
  },
  {
   "cell_type": "code",
   "execution_count": 23,
   "metadata": {},
   "outputs": [
    {
     "data": {
      "text/plain": [
       "plot_error_curves (generic function with 1 method)"
      ]
     },
     "execution_count": 23,
     "metadata": {},
     "output_type": "execute_result"
    }
   ],
   "source": [
    "function plot_error_curves(h::Vector{Float64}, erros::Vector{Float64})\n",
    "   plot(h, erros, lw=3, label=\"Erro\", xscale = :log10, yscale = :log10, markershape=:circle)\n",
    "   display(plot!(h, h.^2, lw=3, label=\"h²\", xscale = :log10, yscale = :log10, legend=:topleft)) \n",
    "end"
   ]
  },
  {
   "cell_type": "code",
   "execution_count": 24,
   "metadata": {},
   "outputs": [
    {
     "data": {
      "image/png": "[encoded data removed]",
      "image/svg+xml": [
       "<?xml version=\"1.0\" encoding=\"utf-8\"?>\n",
       "<svg xmlns=\"http://www.w3.org/2000/svg\" xmlns:xlink=\"http://www.w3.org/1999/xlink\" width=\"600\" height=\"400\" viewBox=\"0 0 2400 1600\">\n",
       "<defs>\n",
       "  <clipPath id=\"clip880\">\n",
       "    <rect x=\"0\" y=\"0\" width=\"2400\" height=\"1600\"/>\n",
       "  </clipPath>\n",
       "</defs>\n",
       "<path clip-path=\"url(#clip880)\" d=\"M0 1600 L2400 1600 L2400 0 L0 0  Z\" fill=\"#ffffff\" fill-rule=\"evenodd\" fill-opacity=\"1\"/>\n",
       "<defs>\n",
       "  <clipPath id=\"clip881\">\n",
       "    <rect x=\"480\" y=\"0\" width=\"1681\" height=\"1600\"/>\n",
       "  </clipPath>\n",
       "</defs>\n",
       "<path clip-path=\"url(#clip880)\" d=\"M189.496 1474.16 L2352.76 1474.16 L2352.76 47.2441 L189.496 47.2441  Z\" fill=\"#ffffff\" fill-rule=\"evenodd\" fill-opacity=\"1\"/>\n",
       "<defs>\n",
       "  <clipPath id=\"clip882\">\n",
       "    <rect x=\"189\" y=\"47\" width=\"2164\" height=\"1428\"/>\n",
       "  </clipPath>\n",
       "</defs>\n",
       "<polyline clip-path=\"url(#clip882)\" style=\"stroke:#000000; stroke-linecap:round; stroke-linejoin:round; stroke-width:2; stroke-opacity:0.1; fill:none\" points=\"541.925,1474.16 541.925,47.2441 \"/>\n",
       "<polyline clip-path=\"url(#clip882)\" style=\"stroke:#000000; stroke-linecap:round; stroke-linejoin:round; stroke-width:2; stroke-opacity:0.1; fill:none\" points=\"1671.83,1474.16 1671.83,47.2441 \"/>\n",
       "<polyline clip-path=\"url(#clip882)\" style=\"stroke:#000000; stroke-linecap:round; stroke-linejoin:round; stroke-width:2; stroke-opacity:0.1; fill:none\" points=\"189.496,1070.55 2352.76,1070.55 \"/>\n",
       "<polyline clip-path=\"url(#clip882)\" style=\"stroke:#000000; stroke-linecap:round; stroke-linejoin:round; stroke-width:2; stroke-opacity:0.1; fill:none\" points=\"189.496,435.774 2352.76,435.774 \"/>\n",
       "<polyline clip-path=\"url(#clip880)\" style=\"stroke:#000000; stroke-linecap:round; stroke-linejoin:round; stroke-width:4; stroke-opacity:1; fill:none\" points=\"189.496,1474.16 2352.76,1474.16 \"/>\n",
       "<polyline clip-path=\"url(#clip880)\" style=\"stroke:#000000; stroke-linecap:round; stroke-linejoin:round; stroke-width:4; stroke-opacity:1; fill:none\" points=\"541.925,1474.16 541.925,1455.27 \"/>\n",
       "<polyline clip-path=\"url(#clip880)\" style=\"stroke:#000000; stroke-linecap:round; stroke-linejoin:round; stroke-width:4; stroke-opacity:1; fill:none\" points=\"1671.83,1474.16 1671.83,1455.27 \"/>\n",
       "<path clip-path=\"url(#clip880)\" d=\"M492.191 1548.29 L499.83 1548.29 L499.83 1521.92 L491.519 1523.59 L491.519 1519.33 L499.783 1517.66 L504.459 1517.66 L504.459 1548.29 L512.098 1548.29 L512.098 1552.22 L492.191 1552.22 L492.191 1548.29 Z\" fill=\"#000000\" fill-rule=\"nonzero\" fill-opacity=\"1\" /><path clip-path=\"url(#clip880)\" d=\"M531.542 1520.74 Q527.931 1520.74 526.103 1524.31 Q524.297 1527.85 524.297 1534.98 Q524.297 1542.09 526.103 1545.65 Q527.931 1549.19 531.542 1549.19 Q535.177 1549.19 536.982 1545.65 Q538.811 1542.09 538.811 1534.98 Q538.811 1527.85 536.982 1524.31 Q535.177 1520.74 531.542 1520.74 M531.542 1517.04 Q537.352 1517.04 540.408 1521.65 Q543.487 1526.23 543.487 1534.98 Q543.487 1543.71 540.408 1548.31 Q537.352 1552.9 531.542 1552.9 Q525.732 1552.9 522.653 1548.31 Q519.598 1543.71 519.598 1534.98 Q519.598 1526.23 522.653 1521.65 Q525.732 1517.04 531.542 1517.04 Z\" fill=\"#000000\" fill-rule=\"nonzero\" fill-opacity=\"1\" /><path clip-path=\"url(#clip880)\" d=\"M543.487 1511.14 L567.598 1511.14 L567.598 1514.34 L543.487 1514.34 L543.487 1511.14 Z\" fill=\"#000000\" fill-rule=\"nonzero\" fill-opacity=\"1\" /><path clip-path=\"url(#clip880)\" d=\"M579.071 1521.62 L592.33 1521.62 L592.33 1524.81 L574.501 1524.81 L574.501 1521.62 Q576.664 1519.38 580.388 1515.62 Q584.13 1511.84 585.089 1510.75 Q586.914 1508.7 587.629 1507.29 Q588.362 1505.86 588.362 1504.48 Q588.362 1502.24 586.782 1500.83 Q585.221 1499.42 582.701 1499.42 Q580.914 1499.42 578.921 1500.04 Q576.946 1500.67 574.689 1501.93 L574.689 1498.09 Q576.983 1497.17 578.977 1496.7 Q580.971 1496.23 582.626 1496.23 Q586.989 1496.23 589.585 1498.41 Q592.18 1500.59 592.18 1504.24 Q592.18 1505.97 591.522 1507.53 Q590.882 1509.07 589.171 1511.18 Q588.701 1511.72 586.18 1514.34 Q583.66 1516.93 579.071 1521.62 Z\" fill=\"#000000\" fill-rule=\"nonzero\" fill-opacity=\"1\" /><path clip-path=\"url(#clip880)\" d=\"M1621.94 1548.29 L1629.58 1548.29 L1629.58 1521.92 L1621.27 1523.59 L1621.27 1519.33 L1629.54 1517.66 L1634.21 1517.66 L1634.21 1548.29 L1641.85 1548.29 L1641.85 1552.22 L1621.94 1552.22 L1621.94 1548.29 Z\" fill=\"#000000\" fill-rule=\"nonzero\" fill-opacity=\"1\" /><path clip-path=\"url(#clip880)\" d=\"M1661.3 1520.74 Q1657.69 1520.74 1655.86 1524.31 Q1654.05 1527.85 1654.05 1534.98 Q1654.05 1542.09 1655.86 1545.65 Q1657.69 1549.19 1661.3 1549.19 Q1664.93 1549.19 1666.74 1545.65 Q1668.57 1542.09 1668.57 1534.98 Q1668.57 1527.85 1666.74 1524.31 Q1664.93 1520.74 1661.3 1520.74 M1661.3 1517.04 Q1667.11 1517.04 1670.16 1521.65 Q1673.24 1526.23 1673.24 1534.98 Q1673.24 1543.71 1670.16 1548.31 Q1667.11 1552.9 1661.3 1552.9 Q1655.49 1552.9 1652.41 1548.31 Q1649.35 1543.71 1649.35 1534.98 Q1649.35 1526.23 1652.41 1521.65 Q1655.49 1517.04 1661.3 1517.04 Z\" fill=\"#000000\" fill-rule=\"nonzero\" fill-opacity=\"1\" /><path clip-path=\"url(#clip880)\" d=\"M1673.24 1511.14 L1697.35 1511.14 L1697.35 1514.34 L1673.24 1514.34 L1673.24 1511.14 Z\" fill=\"#000000\" fill-rule=\"nonzero\" fill-opacity=\"1\" /><path clip-path=\"url(#clip880)\" d=\"M1706.21 1521.62 L1712.42 1521.62 L1712.42 1500.19 L1705.67 1501.55 L1705.67 1498.09 L1712.38 1496.73 L1716.18 1496.73 L1716.18 1521.62 L1722.39 1521.62 L1722.39 1524.81 L1706.21 1524.81 L1706.21 1521.62 Z\" fill=\"#000000\" fill-rule=\"nonzero\" fill-opacity=\"1\" /><polyline clip-path=\"url(#clip880)\" style=\"stroke:#000000; stroke-linecap:round; stroke-linejoin:round; stroke-width:4; stroke-opacity:1; fill:none\" points=\"189.496,1474.16 189.496,47.2441 \"/>\n",
       "<polyline clip-path=\"url(#clip880)\" style=\"stroke:#000000; stroke-linecap:round; stroke-linejoin:round; stroke-width:4; stroke-opacity:1; fill:none\" points=\"189.496,1070.55 208.394,1070.55 \"/>\n",
       "<polyline clip-path=\"url(#clip880)\" style=\"stroke:#000000; stroke-linecap:round; stroke-linejoin:round; stroke-width:4; stroke-opacity:1; fill:none\" points=\"189.496,435.774 208.394,435.774 \"/>\n",
       "<path clip-path=\"url(#clip880)\" d=\"M51.6634 1090.34 L59.3023 1090.34 L59.3023 1063.98 L50.9921 1065.64 L50.9921 1061.38 L59.256 1059.72 L63.9319 1059.72 L63.9319 1090.34 L71.5707 1090.34 L71.5707 1094.28 L51.6634 1094.28 L51.6634 1090.34 Z\" fill=\"#000000\" fill-rule=\"nonzero\" fill-opacity=\"1\" /><path clip-path=\"url(#clip880)\" d=\"M91.0151 1062.8 Q87.404 1062.8 85.5753 1066.36 Q83.7697 1069.9 83.7697 1077.03 Q83.7697 1084.14 85.5753 1087.7 Q87.404 1091.24 91.0151 1091.24 Q94.6493 1091.24 96.4548 1087.7 Q98.2835 1084.14 98.2835 1077.03 Q98.2835 1069.9 96.4548 1066.36 Q94.6493 1062.8 91.0151 1062.8 M91.0151 1059.09 Q96.8252 1059.09 99.8808 1063.7 Q102.959 1068.28 102.959 1077.03 Q102.959 1085.76 99.8808 1090.37 Q96.8252 1094.95 91.0151 1094.95 Q85.2049 1094.95 82.1262 1090.37 Q79.0707 1085.76 79.0707 1077.03 Q79.0707 1068.28 82.1262 1063.7 Q85.2049 1059.09 91.0151 1059.09 Z\" fill=\"#000000\" fill-rule=\"nonzero\" fill-opacity=\"1\" /><path clip-path=\"url(#clip880)\" d=\"M102.959 1053.19 L127.071 1053.19 L127.071 1056.39 L102.959 1056.39 L102.959 1053.19 Z\" fill=\"#000000\" fill-rule=\"nonzero\" fill-opacity=\"1\" /><path clip-path=\"url(#clip880)\" d=\"M145.71 1042.1 L136.118 1057.09 L145.71 1057.09 L145.71 1042.1 M144.713 1038.79 L149.49 1038.79 L149.49 1057.09 L153.496 1057.09 L153.496 1060.25 L149.49 1060.25 L149.49 1066.87 L145.71 1066.87 L145.71 1060.25 L133.033 1060.25 L133.033 1056.58 L144.713 1038.79 Z\" fill=\"#000000\" fill-rule=\"nonzero\" fill-opacity=\"1\" /><path clip-path=\"url(#clip880)\" d=\"M53.3561 455.567 L60.995 455.567 L60.995 429.201 L52.6848 430.868 L52.6848 426.609 L60.9487 424.942 L65.6246 424.942 L65.6246 455.567 L73.2634 455.567 L73.2634 459.502 L53.3561 459.502 L53.3561 455.567 Z\" fill=\"#000000\" fill-rule=\"nonzero\" fill-opacity=\"1\" /><path clip-path=\"url(#clip880)\" d=\"M92.7078 428.021 Q89.0967 428.021 87.268 431.585 Q85.4624 435.127 85.4624 442.257 Q85.4624 449.363 87.268 452.928 Q89.0967 456.47 92.7078 456.47 Q96.342 456.47 98.1475 452.928 Q99.9762 449.363 99.9762 442.257 Q99.9762 435.127 98.1475 431.585 Q96.342 428.021 92.7078 428.021 M92.7078 424.317 Q98.5179 424.317 101.573 428.923 Q104.652 433.507 104.652 442.257 Q104.652 450.983 101.573 455.59 Q98.5179 460.173 92.7078 460.173 Q86.8976 460.173 83.8189 455.59 Q80.7634 450.983 80.7634 442.257 Q80.7634 433.507 83.8189 428.923 Q86.8976 424.317 92.7078 424.317 Z\" fill=\"#000000\" fill-rule=\"nonzero\" fill-opacity=\"1\" /><path clip-path=\"url(#clip880)\" d=\"M104.652 418.418 L128.764 418.418 L128.764 421.616 L104.652 421.616 L104.652 418.418 Z\" fill=\"#000000\" fill-rule=\"nonzero\" fill-opacity=\"1\" /><path clip-path=\"url(#clip880)\" d=\"M140.236 428.894 L153.496 428.894 L153.496 432.092 L135.666 432.092 L135.666 428.894 Q137.829 426.656 141.553 422.895 Q145.296 419.114 146.255 418.023 Q148.079 415.973 148.794 414.563 Q149.527 413.133 149.527 411.76 Q149.527 409.522 147.948 408.112 Q146.387 406.701 143.866 406.701 Q142.08 406.701 140.086 407.322 Q138.111 407.942 135.854 409.202 L135.854 405.366 Q138.149 404.444 140.142 403.974 Q142.136 403.504 143.791 403.504 Q148.155 403.504 150.75 405.685 Q153.345 407.867 153.345 411.516 Q153.345 413.246 152.687 414.807 Q152.048 416.349 150.336 418.456 Q149.866 419.001 147.346 421.616 Q144.826 424.211 140.236 428.894 Z\" fill=\"#000000\" fill-rule=\"nonzero\" fill-opacity=\"1\" /><polyline clip-path=\"url(#clip882)\" style=\"stroke:#009af9; stroke-linecap:round; stroke-linejoin:round; stroke-width:12; stroke-opacity:1; fill:none\" points=\"2291.53,286.825 1951.4,478.248 1611.26,669.41 1271.13,860.515 930.991,1051.61 590.855,1242.69 250.72,1433.78 \"/>\n",
       "<circle clip-path=\"url(#clip882)\" cx=\"2291.53\" cy=\"286.825\" r=\"14.4\" fill=\"#009af9\" fill-rule=\"evenodd\" fill-opacity=\"1\" stroke=\"#000000\" stroke-opacity=\"1\" stroke-width=\"3.2\"/>\n",
       "<circle clip-path=\"url(#clip882)\" cx=\"1951.4\" cy=\"478.248\" r=\"14.4\" fill=\"#009af9\" fill-rule=\"evenodd\" fill-opacity=\"1\" stroke=\"#000000\" stroke-opacity=\"1\" stroke-width=\"3.2\"/>\n",
       "<circle clip-path=\"url(#clip882)\" cx=\"1611.26\" cy=\"669.41\" r=\"14.4\" fill=\"#009af9\" fill-rule=\"evenodd\" fill-opacity=\"1\" stroke=\"#000000\" stroke-opacity=\"1\" stroke-width=\"3.2\"/>\n",
       "<circle clip-path=\"url(#clip882)\" cx=\"1271.13\" cy=\"860.515\" r=\"14.4\" fill=\"#009af9\" fill-rule=\"evenodd\" fill-opacity=\"1\" stroke=\"#000000\" stroke-opacity=\"1\" stroke-width=\"3.2\"/>\n",
       "<circle clip-path=\"url(#clip882)\" cx=\"930.991\" cy=\"1051.61\" r=\"14.4\" fill=\"#009af9\" fill-rule=\"evenodd\" fill-opacity=\"1\" stroke=\"#000000\" stroke-opacity=\"1\" stroke-width=\"3.2\"/>\n",
       "<circle clip-path=\"url(#clip882)\" cx=\"590.855\" cy=\"1242.69\" r=\"14.4\" fill=\"#009af9\" fill-rule=\"evenodd\" fill-opacity=\"1\" stroke=\"#000000\" stroke-opacity=\"1\" stroke-width=\"3.2\"/>\n",
       "<circle clip-path=\"url(#clip882)\" cx=\"250.72\" cy=\"1433.78\" r=\"14.4\" fill=\"#009af9\" fill-rule=\"evenodd\" fill-opacity=\"1\" stroke=\"#000000\" stroke-opacity=\"1\" stroke-width=\"3.2\"/>\n",
       "<polyline clip-path=\"url(#clip882)\" style=\"stroke:#e26f46; stroke-linecap:round; stroke-linejoin:round; stroke-width:12; stroke-opacity:1; fill:none\" points=\"2291.53,87.6286 1951.4,278.715 1611.26,469.801 1271.13,660.888 930.991,851.974 590.855,1043.06 250.72,1234.15 \"/>\n",
       "<path clip-path=\"url(#clip880)\" d=\"M261.605 250.328 L566.75 250.328 L566.75 94.8081 L261.605 94.8081  Z\" fill=\"#ffffff\" fill-rule=\"evenodd\" fill-opacity=\"1\"/>\n",
       "<polyline clip-path=\"url(#clip880)\" style=\"stroke:#000000; stroke-linecap:round; stroke-linejoin:round; stroke-width:4; stroke-opacity:1; fill:none\" points=\"261.605,250.328 566.75,250.328 566.75,94.8081 261.605,94.8081 261.605,250.328 \"/>\n",
       "<polyline clip-path=\"url(#clip880)\" style=\"stroke:#009af9; stroke-linecap:round; stroke-linejoin:round; stroke-width:12; stroke-opacity:1; fill:none\" points=\"285.641,146.648 429.858,146.648 \"/>\n",
       "<circle clip-path=\"url(#clip880)\" cx=\"357.749\" cy=\"146.648\" r=\"20.0302\" fill=\"#009af9\" fill-rule=\"evenodd\" fill-opacity=\"1\" stroke=\"#000000\" stroke-opacity=\"1\" stroke-width=\"4.55111\"/>\n",
       "<path clip-path=\"url(#clip880)\" d=\"M453.894 129.368 L475.746 129.368 L475.746 133.303 L458.57 133.303 L458.57 143.535 L475.029 143.535 L475.029 147.47 L458.57 147.47 L458.57 159.993 L476.163 159.993 L476.163 163.928 L453.894 163.928 L453.894 129.368 Z\" fill=\"#000000\" fill-rule=\"nonzero\" fill-opacity=\"1\" /><path clip-path=\"url(#clip880)\" d=\"M498.686 141.984 Q497.968 141.567 497.112 141.382 Q496.278 141.174 495.26 141.174 Q491.649 141.174 489.704 143.535 Q487.783 145.873 487.783 150.271 L487.783 163.928 L483.501 163.928 L483.501 138.002 L487.783 138.002 L487.783 142.03 Q489.126 139.669 491.278 138.535 Q493.431 137.377 496.51 137.377 Q496.95 137.377 497.482 137.447 Q498.014 137.493 498.663 137.609 L498.686 141.984 Z\" fill=\"#000000\" fill-rule=\"nonzero\" fill-opacity=\"1\" /><path clip-path=\"url(#clip880)\" d=\"M517.343 141.984 Q516.626 141.567 515.769 141.382 Q514.936 141.174 513.917 141.174 Q510.306 141.174 508.362 143.535 Q506.44 145.873 506.44 150.271 L506.44 163.928 L502.158 163.928 L502.158 138.002 L506.44 138.002 L506.44 142.03 Q507.783 139.669 509.936 138.535 Q512.088 137.377 515.167 137.377 Q515.607 137.377 516.139 137.447 Q516.672 137.493 517.32 137.609 L517.343 141.984 Z\" fill=\"#000000\" fill-rule=\"nonzero\" fill-opacity=\"1\" /><path clip-path=\"url(#clip880)\" d=\"M530.815 140.988 Q527.389 140.988 525.399 143.674 Q523.408 146.336 523.408 150.988 Q523.408 155.641 525.375 158.326 Q527.366 160.988 530.815 160.988 Q534.218 160.988 536.209 158.303 Q538.199 155.618 538.199 150.988 Q538.199 146.382 536.209 143.697 Q534.218 140.988 530.815 140.988 M530.815 137.377 Q536.371 137.377 539.542 140.988 Q542.713 144.6 542.713 150.988 Q542.713 157.354 539.542 160.988 Q536.371 164.599 530.815 164.599 Q525.237 164.599 522.065 160.988 Q518.917 157.354 518.917 150.988 Q518.917 144.6 522.065 140.988 Q525.237 137.377 530.815 137.377 Z\" fill=\"#000000\" fill-rule=\"nonzero\" fill-opacity=\"1\" /><polyline clip-path=\"url(#clip880)\" style=\"stroke:#e26f46; stroke-linecap:round; stroke-linejoin:round; stroke-width:12; stroke-opacity:1; fill:none\" points=\"285.641,198.488 429.858,198.488 \"/>\n",
       "<path clip-path=\"url(#clip880)\" d=\"M475.607 200.12 L475.607 215.768 L471.348 215.768 L471.348 200.259 Q471.348 196.578 469.913 194.75 Q468.478 192.921 465.607 192.921 Q462.158 192.921 460.167 195.12 Q458.177 197.319 458.177 201.115 L458.177 215.768 L453.894 215.768 L453.894 179.75 L458.177 179.75 L458.177 193.87 Q459.705 191.532 461.765 190.375 Q463.848 189.217 466.556 189.217 Q471.024 189.217 473.316 191.995 Q475.607 194.75 475.607 200.12 Z\" fill=\"#000000\" fill-rule=\"nonzero\" fill-opacity=\"1\" /><path clip-path=\"url(#clip880)\" d=\"M485.839 197.666 L495.653 197.666 L495.653 200.305 L481.811 200.305 L481.811 197.759 Q482.598 197.041 484.056 195.745 Q492.019 188.685 492.019 186.509 Q492.019 184.981 490.815 184.055 Q489.612 183.106 487.644 183.106 Q486.44 183.106 485.028 183.523 Q483.616 183.916 481.95 184.727 L481.95 181.879 Q483.732 181.231 485.26 180.907 Q486.811 180.583 488.13 180.583 Q491.487 180.583 493.501 182.111 Q495.515 183.639 495.515 186.139 Q495.515 189.356 487.853 195.93 Q486.556 197.041 485.839 197.666 Z\" fill=\"#000000\" fill-rule=\"nonzero\" fill-opacity=\"1\" /></svg>\n"
      ],
      "text/html": [
       "<?xml version=\"1.0\" encoding=\"utf-8\"?>\n",
       "<svg xmlns=\"http://www.w3.org/2000/svg\" xmlns:xlink=\"http://www.w3.org/1999/xlink\" width=\"600\" height=\"400\" viewBox=\"0 0 2400 1600\">\n",
       "<defs>\n",
       "  <clipPath id=\"clip930\">\n",
       "    <rect x=\"0\" y=\"0\" width=\"2400\" height=\"1600\"/>\n",
       "  </clipPath>\n",
       "</defs>\n",
       "<path clip-path=\"url(#clip930)\" d=\"M0 1600 L2400 1600 L2400 0 L0 0  Z\" fill=\"#ffffff\" fill-rule=\"evenodd\" fill-opacity=\"1\"/>\n",
       "<defs>\n",
       "  <clipPath id=\"clip931\">\n",
       "    <rect x=\"480\" y=\"0\" width=\"1681\" height=\"1600\"/>\n",
       "  </clipPath>\n",
       "</defs>\n",
       "<path clip-path=\"url(#clip930)\" d=\"M189.496 1474.16 L2352.76 1474.16 L2352.76 47.2441 L189.496 47.2441  Z\" fill=\"#ffffff\" fill-rule=\"evenodd\" fill-opacity=\"1\"/>\n",
       "<defs>\n",
       "  <clipPath id=\"clip932\">\n",
       "    <rect x=\"189\" y=\"47\" width=\"2164\" height=\"1428\"/>\n",
       "  </clipPath>\n",
       "</defs>\n",
       "<polyline clip-path=\"url(#clip932)\" style=\"stroke:#000000; stroke-linecap:round; stroke-linejoin:round; stroke-width:2; stroke-opacity:0.1; fill:none\" points=\"541.925,1474.16 541.925,47.2441 \"/>\n",
       "<polyline clip-path=\"url(#clip932)\" style=\"stroke:#000000; stroke-linecap:round; stroke-linejoin:round; stroke-width:2; stroke-opacity:0.1; fill:none\" points=\"1671.83,1474.16 1671.83,47.2441 \"/>\n",
       "<polyline clip-path=\"url(#clip932)\" style=\"stroke:#000000; stroke-linecap:round; stroke-linejoin:round; stroke-width:2; stroke-opacity:0.1; fill:none\" points=\"189.496,1070.55 2352.76,1070.55 \"/>\n",
       "<polyline clip-path=\"url(#clip932)\" style=\"stroke:#000000; stroke-linecap:round; stroke-linejoin:round; stroke-width:2; stroke-opacity:0.1; fill:none\" points=\"189.496,435.774 2352.76,435.774 \"/>\n",
       "<polyline clip-path=\"url(#clip930)\" style=\"stroke:#000000; stroke-linecap:round; stroke-linejoin:round; stroke-width:4; stroke-opacity:1; fill:none\" points=\"189.496,1474.16 2352.76,1474.16 \"/>\n",
       "<polyline clip-path=\"url(#clip930)\" style=\"stroke:#000000; stroke-linecap:round; stroke-linejoin:round; stroke-width:4; stroke-opacity:1; fill:none\" points=\"541.925,1474.16 541.925,1455.27 \"/>\n",
       "<polyline clip-path=\"url(#clip930)\" style=\"stroke:#000000; stroke-linecap:round; stroke-linejoin:round; stroke-width:4; stroke-opacity:1; fill:none\" points=\"1671.83,1474.16 1671.83,1455.27 \"/>\n",
       "<path clip-path=\"url(#clip930)\" d=\"M492.191 1548.29 L499.83 1548.29 L499.83 1521.92 L491.519 1523.59 L491.519 1519.33 L499.783 1517.66 L504.459 1517.66 L504.459 1548.29 L512.098 1548.29 L512.098 1552.22 L492.191 1552.22 L492.191 1548.29 Z\" fill=\"#000000\" fill-rule=\"nonzero\" fill-opacity=\"1\" /><path clip-path=\"url(#clip930)\" d=\"M531.542 1520.74 Q527.931 1520.74 526.103 1524.31 Q524.297 1527.85 524.297 1534.98 Q524.297 1542.09 526.103 1545.65 Q527.931 1549.19 531.542 1549.19 Q535.177 1549.19 536.982 1545.65 Q538.811 1542.09 538.811 1534.98 Q538.811 1527.85 536.982 1524.31 Q535.177 1520.74 531.542 1520.74 M531.542 1517.04 Q537.352 1517.04 540.408 1521.65 Q543.487 1526.23 543.487 1534.98 Q543.487 1543.71 540.408 1548.31 Q537.352 1552.9 531.542 1552.9 Q525.732 1552.9 522.653 1548.31 Q519.598 1543.71 519.598 1534.98 Q519.598 1526.23 522.653 1521.65 Q525.732 1517.04 531.542 1517.04 Z\" fill=\"#000000\" fill-rule=\"nonzero\" fill-opacity=\"1\" /><path clip-path=\"url(#clip930)\" d=\"M543.487 1511.14 L567.598 1511.14 L567.598 1514.34 L543.487 1514.34 L543.487 1511.14 Z\" fill=\"#000000\" fill-rule=\"nonzero\" fill-opacity=\"1\" /><path clip-path=\"url(#clip930)\" d=\"M579.071 1521.62 L592.33 1521.62 L592.33 1524.81 L574.501 1524.81 L574.501 1521.62 Q576.664 1519.38 580.388 1515.62 Q584.13 1511.84 585.089 1510.75 Q586.914 1508.7 587.629 1507.29 Q588.362 1505.86 588.362 1504.48 Q588.362 1502.24 586.782 1500.83 Q585.221 1499.42 582.701 1499.42 Q580.914 1499.42 578.921 1500.04 Q576.946 1500.67 574.689 1501.93 L574.689 1498.09 Q576.983 1497.17 578.977 1496.7 Q580.971 1496.23 582.626 1496.23 Q586.989 1496.23 589.585 1498.41 Q592.18 1500.59 592.18 1504.24 Q592.18 1505.97 591.522 1507.53 Q590.882 1509.07 589.171 1511.18 Q588.701 1511.72 586.18 1514.34 Q583.66 1516.93 579.071 1521.62 Z\" fill=\"#000000\" fill-rule=\"nonzero\" fill-opacity=\"1\" /><path clip-path=\"url(#clip930)\" d=\"M1621.94 1548.29 L1629.58 1548.29 L1629.58 1521.92 L1621.27 1523.59 L1621.27 1519.33 L1629.54 1517.66 L1634.21 1517.66 L1634.21 1548.29 L1641.85 1548.29 L1641.85 1552.22 L1621.94 1552.22 L1621.94 1548.29 Z\" fill=\"#000000\" fill-rule=\"nonzero\" fill-opacity=\"1\" /><path clip-path=\"url(#clip930)\" d=\"M1661.3 1520.74 Q1657.69 1520.74 1655.86 1524.31 Q1654.05 1527.85 1654.05 1534.98 Q1654.05 1542.09 1655.86 1545.65 Q1657.69 1549.19 1661.3 1549.19 Q1664.93 1549.19 1666.74 1545.65 Q1668.57 1542.09 1668.57 1534.98 Q1668.57 1527.85 1666.74 1524.31 Q1664.93 1520.74 1661.3 1520.74 M1661.3 1517.04 Q1667.11 1517.04 1670.16 1521.65 Q1673.24 1526.23 1673.24 1534.98 Q1673.24 1543.71 1670.16 1548.31 Q1667.11 1552.9 1661.3 1552.9 Q1655.49 1552.9 1652.41 1548.31 Q1649.35 1543.71 1649.35 1534.98 Q1649.35 1526.23 1652.41 1521.65 Q1655.49 1517.04 1661.3 1517.04 Z\" fill=\"#000000\" fill-rule=\"nonzero\" fill-opacity=\"1\" /><path clip-path=\"url(#clip930)\" d=\"M1673.24 1511.14 L1697.35 1511.14 L1697.35 1514.34 L1673.24 1514.34 L1673.24 1511.14 Z\" fill=\"#000000\" fill-rule=\"nonzero\" fill-opacity=\"1\" /><path clip-path=\"url(#clip930)\" d=\"M1706.21 1521.62 L1712.42 1521.62 L1712.42 1500.19 L1705.67 1501.55 L1705.67 1498.09 L1712.38 1496.73 L1716.18 1496.73 L1716.18 1521.62 L1722.39 1521.62 L1722.39 1524.81 L1706.21 1524.81 L1706.21 1521.62 Z\" fill=\"#000000\" fill-rule=\"nonzero\" fill-opacity=\"1\" /><polyline clip-path=\"url(#clip930)\" style=\"stroke:#000000; stroke-linecap:round; stroke-linejoin:round; stroke-width:4; stroke-opacity:1; fill:none\" points=\"189.496,1474.16 189.496,47.2441 \"/>\n",
       "<polyline clip-path=\"url(#clip930)\" style=\"stroke:#000000; stroke-linecap:round; stroke-linejoin:round; stroke-width:4; stroke-opacity:1; fill:none\" points=\"189.496,1070.55 208.394,1070.55 \"/>\n",
       "<polyline clip-path=\"url(#clip930)\" style=\"stroke:#000000; stroke-linecap:round; stroke-linejoin:round; stroke-width:4; stroke-opacity:1; fill:none\" points=\"189.496,435.774 208.394,435.774 \"/>\n",
       "<path clip-path=\"url(#clip930)\" d=\"M51.6634 1090.34 L59.3023 1090.34 L59.3023 1063.98 L50.9921 1065.64 L50.9921 1061.38 L59.256 1059.72 L63.9319 1059.72 L63.9319 1090.34 L71.5707 1090.34 L71.5707 1094.28 L51.6634 1094.28 L51.6634 1090.34 Z\" fill=\"#000000\" fill-rule=\"nonzero\" fill-opacity=\"1\" /><path clip-path=\"url(#clip930)\" d=\"M91.0151 1062.8 Q87.404 1062.8 85.5753 1066.36 Q83.7697 1069.9 83.7697 1077.03 Q83.7697 1084.14 85.5753 1087.7 Q87.404 1091.24 91.0151 1091.24 Q94.6493 1091.24 96.4548 1087.7 Q98.2835 1084.14 98.2835 1077.03 Q98.2835 1069.9 96.4548 1066.36 Q94.6493 1062.8 91.0151 1062.8 M91.0151 1059.09 Q96.8252 1059.09 99.8808 1063.7 Q102.959 1068.28 102.959 1077.03 Q102.959 1085.76 99.8808 1090.37 Q96.8252 1094.95 91.0151 1094.95 Q85.2049 1094.95 82.1262 1090.37 Q79.0707 1085.76 79.0707 1077.03 Q79.0707 1068.28 82.1262 1063.7 Q85.2049 1059.09 91.0151 1059.09 Z\" fill=\"#000000\" fill-rule=\"nonzero\" fill-opacity=\"1\" /><path clip-path=\"url(#clip930)\" d=\"M102.959 1053.19 L127.071 1053.19 L127.071 1056.39 L102.959 1056.39 L102.959 1053.19 Z\" fill=\"#000000\" fill-rule=\"nonzero\" fill-opacity=\"1\" /><path clip-path=\"url(#clip930)\" d=\"M145.71 1042.1 L136.118 1057.09 L145.71 1057.09 L145.71 1042.1 M144.713 1038.79 L149.49 1038.79 L149.49 1057.09 L153.496 1057.09 L153.496 1060.25 L149.49 1060.25 L149.49 1066.87 L145.71 1066.87 L145.71 1060.25 L133.033 1060.25 L133.033 1056.58 L144.713 1038.79 Z\" fill=\"#000000\" fill-rule=\"nonzero\" fill-opacity=\"1\" /><path clip-path=\"url(#clip930)\" d=\"M53.3561 455.567 L60.995 455.567 L60.995 429.201 L52.6848 430.868 L52.6848 426.609 L60.9487 424.942 L65.6246 424.942 L65.6246 455.567 L73.2634 455.567 L73.2634 459.502 L53.3561 459.502 L53.3561 455.567 Z\" fill=\"#000000\" fill-rule=\"nonzero\" fill-opacity=\"1\" /><path clip-path=\"url(#clip930)\" d=\"M92.7078 428.021 Q89.0967 428.021 87.268 431.585 Q85.4624 435.127 85.4624 442.257 Q85.4624 449.363 87.268 452.928 Q89.0967 456.47 92.7078 456.47 Q96.342 456.47 98.1475 452.928 Q99.9762 449.363 99.9762 442.257 Q99.9762 435.127 98.1475 431.585 Q96.342 428.021 92.7078 428.021 M92.7078 424.317 Q98.5179 424.317 101.573 428.923 Q104.652 433.507 104.652 442.257 Q104.652 450.983 101.573 455.59 Q98.5179 460.173 92.7078 460.173 Q86.8976 460.173 83.8189 455.59 Q80.7634 450.983 80.7634 442.257 Q80.7634 433.507 83.8189 428.923 Q86.8976 424.317 92.7078 424.317 Z\" fill=\"#000000\" fill-rule=\"nonzero\" fill-opacity=\"1\" /><path clip-path=\"url(#clip930)\" d=\"M104.652 418.418 L128.764 418.418 L128.764 421.616 L104.652 421.616 L104.652 418.418 Z\" fill=\"#000000\" fill-rule=\"nonzero\" fill-opacity=\"1\" /><path clip-path=\"url(#clip930)\" d=\"M140.236 428.894 L153.496 428.894 L153.496 432.092 L135.666 432.092 L135.666 428.894 Q137.829 426.656 141.553 422.895 Q145.296 419.114 146.255 418.023 Q148.079 415.973 148.794 414.563 Q149.527 413.133 149.527 411.76 Q149.527 409.522 147.948 408.112 Q146.387 406.701 143.866 406.701 Q142.08 406.701 140.086 407.322 Q138.111 407.942 135.854 409.202 L135.854 405.366 Q138.149 404.444 140.142 403.974 Q142.136 403.504 143.791 403.504 Q148.155 403.504 150.75 405.685 Q153.345 407.867 153.345 411.516 Q153.345 413.246 152.687 414.807 Q152.048 416.349 150.336 418.456 Q149.866 419.001 147.346 421.616 Q144.826 424.211 140.236 428.894 Z\" fill=\"#000000\" fill-rule=\"nonzero\" fill-opacity=\"1\" /><polyline clip-path=\"url(#clip932)\" style=\"stroke:#009af9; stroke-linecap:round; stroke-linejoin:round; stroke-width:12; stroke-opacity:1; fill:none\" points=\"2291.53,286.825 1951.4,478.248 1611.26,669.41 1271.13,860.515 930.991,1051.61 590.855,1242.69 250.72,1433.78 \"/>\n",
       "<circle clip-path=\"url(#clip932)\" cx=\"2291.53\" cy=\"286.825\" r=\"14.4\" fill=\"#009af9\" fill-rule=\"evenodd\" fill-opacity=\"1\" stroke=\"#000000\" stroke-opacity=\"1\" stroke-width=\"3.2\"/>\n",
       "<circle clip-path=\"url(#clip932)\" cx=\"1951.4\" cy=\"478.248\" r=\"14.4\" fill=\"#009af9\" fill-rule=\"evenodd\" fill-opacity=\"1\" stroke=\"#000000\" stroke-opacity=\"1\" stroke-width=\"3.2\"/>\n",
       "<circle clip-path=\"url(#clip932)\" cx=\"1611.26\" cy=\"669.41\" r=\"14.4\" fill=\"#009af9\" fill-rule=\"evenodd\" fill-opacity=\"1\" stroke=\"#000000\" stroke-opacity=\"1\" stroke-width=\"3.2\"/>\n",
       "<circle clip-path=\"url(#clip932)\" cx=\"1271.13\" cy=\"860.515\" r=\"14.4\" fill=\"#009af9\" fill-rule=\"evenodd\" fill-opacity=\"1\" stroke=\"#000000\" stroke-opacity=\"1\" stroke-width=\"3.2\"/>\n",
       "<circle clip-path=\"url(#clip932)\" cx=\"930.991\" cy=\"1051.61\" r=\"14.4\" fill=\"#009af9\" fill-rule=\"evenodd\" fill-opacity=\"1\" stroke=\"#000000\" stroke-opacity=\"1\" stroke-width=\"3.2\"/>\n",
       "<circle clip-path=\"url(#clip932)\" cx=\"590.855\" cy=\"1242.69\" r=\"14.4\" fill=\"#009af9\" fill-rule=\"evenodd\" fill-opacity=\"1\" stroke=\"#000000\" stroke-opacity=\"1\" stroke-width=\"3.2\"/>\n",
       "<circle clip-path=\"url(#clip932)\" cx=\"250.72\" cy=\"1433.78\" r=\"14.4\" fill=\"#009af9\" fill-rule=\"evenodd\" fill-opacity=\"1\" stroke=\"#000000\" stroke-opacity=\"1\" stroke-width=\"3.2\"/>\n",
       "<polyline clip-path=\"url(#clip932)\" style=\"stroke:#e26f46; stroke-linecap:round; stroke-linejoin:round; stroke-width:12; stroke-opacity:1; fill:none\" points=\"2291.53,87.6286 1951.4,278.715 1611.26,469.801 1271.13,660.888 930.991,851.974 590.855,1043.06 250.72,1234.15 \"/>\n",
       "<path clip-path=\"url(#clip930)\" d=\"M261.605 250.328 L566.75 250.328 L566.75 94.8081 L261.605 94.8081  Z\" fill=\"#ffffff\" fill-rule=\"evenodd\" fill-opacity=\"1\"/>\n",
       "<polyline clip-path=\"url(#clip930)\" style=\"stroke:#000000; stroke-linecap:round; stroke-linejoin:round; stroke-width:4; stroke-opacity:1; fill:none\" points=\"261.605,250.328 566.75,250.328 566.75,94.8081 261.605,94.8081 261.605,250.328 \"/>\n",
       "<polyline clip-path=\"url(#clip930)\" style=\"stroke:#009af9; stroke-linecap:round; stroke-linejoin:round; stroke-width:12; stroke-opacity:1; fill:none\" points=\"285.641,146.648 429.858,146.648 \"/>\n",
       "<circle clip-path=\"url(#clip930)\" cx=\"357.749\" cy=\"146.648\" r=\"20.0302\" fill=\"#009af9\" fill-rule=\"evenodd\" fill-opacity=\"1\" stroke=\"#000000\" stroke-opacity=\"1\" stroke-width=\"4.55111\"/>\n",
       "<path clip-path=\"url(#clip930)\" d=\"M453.894 129.368 L475.746 129.368 L475.746 133.303 L458.57 133.303 L458.57 143.535 L475.029 143.535 L475.029 147.47 L458.57 147.47 L458.57 159.993 L476.163 159.993 L476.163 163.928 L453.894 163.928 L453.894 129.368 Z\" fill=\"#000000\" fill-rule=\"nonzero\" fill-opacity=\"1\" /><path clip-path=\"url(#clip930)\" d=\"M498.686 141.984 Q497.968 141.567 497.112 141.382 Q496.278 141.174 495.26 141.174 Q491.649 141.174 489.704 143.535 Q487.783 145.873 487.783 150.271 L487.783 163.928 L483.501 163.928 L483.501 138.002 L487.783 138.002 L487.783 142.03 Q489.126 139.669 491.278 138.535 Q493.431 137.377 496.51 137.377 Q496.95 137.377 497.482 137.447 Q498.014 137.493 498.663 137.609 L498.686 141.984 Z\" fill=\"#000000\" fill-rule=\"nonzero\" fill-opacity=\"1\" /><path clip-path=\"url(#clip930)\" d=\"M517.343 141.984 Q516.626 141.567 515.769 141.382 Q514.936 141.174 513.917 141.174 Q510.306 141.174 508.362 143.535 Q506.44 145.873 506.44 150.271 L506.44 163.928 L502.158 163.928 L502.158 138.002 L506.44 138.002 L506.44 142.03 Q507.783 139.669 509.936 138.535 Q512.088 137.377 515.167 137.377 Q515.607 137.377 516.139 137.447 Q516.672 137.493 517.32 137.609 L517.343 141.984 Z\" fill=\"#000000\" fill-rule=\"nonzero\" fill-opacity=\"1\" /><path clip-path=\"url(#clip930)\" d=\"M530.815 140.988 Q527.389 140.988 525.399 143.674 Q523.408 146.336 523.408 150.988 Q523.408 155.641 525.375 158.326 Q527.366 160.988 530.815 160.988 Q534.218 160.988 536.209 158.303 Q538.199 155.618 538.199 150.988 Q538.199 146.382 536.209 143.697 Q534.218 140.988 530.815 140.988 M530.815 137.377 Q536.371 137.377 539.542 140.988 Q542.713 144.6 542.713 150.988 Q542.713 157.354 539.542 160.988 Q536.371 164.599 530.815 164.599 Q525.237 164.599 522.065 160.988 Q518.917 157.354 518.917 150.988 Q518.917 144.6 522.065 140.988 Q525.237 137.377 530.815 137.377 Z\" fill=\"#000000\" fill-rule=\"nonzero\" fill-opacity=\"1\" /><polyline clip-path=\"url(#clip930)\" style=\"stroke:#e26f46; stroke-linecap:round; stroke-linejoin:round; stroke-width:12; stroke-opacity:1; fill:none\" points=\"285.641,198.488 429.858,198.488 \"/>\n",
       "<path clip-path=\"url(#clip930)\" d=\"M475.607 200.12 L475.607 215.768 L471.348 215.768 L471.348 200.259 Q471.348 196.578 469.913 194.75 Q468.478 192.921 465.607 192.921 Q462.158 192.921 460.167 195.12 Q458.177 197.319 458.177 201.115 L458.177 215.768 L453.894 215.768 L453.894 179.75 L458.177 179.75 L458.177 193.87 Q459.705 191.532 461.765 190.375 Q463.848 189.217 466.556 189.217 Q471.024 189.217 473.316 191.995 Q475.607 194.75 475.607 200.12 Z\" fill=\"#000000\" fill-rule=\"nonzero\" fill-opacity=\"1\" /><path clip-path=\"url(#clip930)\" d=\"M485.839 197.666 L495.653 197.666 L495.653 200.305 L481.811 200.305 L481.811 197.759 Q482.598 197.041 484.056 195.745 Q492.019 188.685 492.019 186.509 Q492.019 184.981 490.815 184.055 Q489.612 183.106 487.644 183.106 Q486.44 183.106 485.028 183.523 Q483.616 183.916 481.95 184.727 L481.95 181.879 Q483.732 181.231 485.26 180.907 Q486.811 180.583 488.13 180.583 Q491.487 180.583 493.501 182.111 Q495.515 183.639 495.515 186.139 Q495.515 189.356 487.853 195.93 Q486.556 197.041 485.839 197.666 Z\" fill=\"#000000\" fill-rule=\"nonzero\" fill-opacity=\"1\" /></svg>\n"
      ]
     },
     "metadata": {},
     "output_type": "display_data"
    }
   ],
   "source": [
    "plot_error_curves(resultado_convergencia[: ,:1], resultado_convergencia[: ,:2])"
   ]
  },
  {
   "cell_type": "markdown",
   "metadata": {},
   "source": [
    "## Caso quadrilátero (não-paralelo)"
   ]
  },
  {
   "cell_type": "code",
   "execution_count": 48,
   "metadata": {},
   "outputs": [
    {
     "data": {
      "text/plain": [
       "derivative_vector_applied (generic function with 1 method)"
      ]
     },
     "execution_count": 48,
     "metadata": {},
     "output_type": "execute_result"
    }
   ],
   "source": [
    "function mapper_to_x_generic(Xᵉ_a::Vector{Float64})::Function\n",
    "    return (ξ₁::Float64, ξ₂::Float64)-> Xᵉ_a ⋅ map(f -> f(ξ₁, ξ₂), ϕ.(1:length(Xᵉ_a)))\n",
    "end\n",
    "\n",
    "function derivative_vector_applied(Xᵉ_a::Vector{Float64}, variable::Int64)::Function\n",
    "    return (ξ₁::Float64, ξ₂::Float64)-> Xᵉ_a ⋅ map(f -> f(ξ₁, ξ₂), ∂ϕ.(variable, 1:length(Xᵉ_a)))\n",
    "end"
   ]
  },
  {
   "cell_type": "code",
   "execution_count": 57,
   "metadata": {},
   "outputs": [
    {
     "data": {
      "text/plain": [
       "quadratura_F_local_quadrilatero (generic function with 1 method)"
      ]
     },
     "execution_count": 57,
     "metadata": {},
     "output_type": "execute_result"
    }
   ],
   "source": [
    "function quadratura_F_local_quadrilatero(f::Function, ϕₐ::Function, X1e::Vector{Float64}, X2e::Vector{Float64}, P::Vector{Float64}, W::Vector{Float64})\n",
    "    quadratura = 0.0\n",
    "    \n",
    "    ξ_to_x1 = mapper_to_x_generic(X1e)\n",
    "    ξ_to_x2 = mapper_to_x_generic(X2e)\n",
    "    \n",
    "    for (ξ₁, w₁) in zip(P, W)\n",
    "        for (ξ₂, w₂) in zip(P, W)\n",
    "            dx1_dξ1 = derivative_vector_applied(X1e, 1)(ξ₁, ξ₂)\n",
    "            dx2_dξ2 = derivative_vector_applied(X2e, 2)(ξ₁, ξ₂)\n",
    "            dx1_dξ2 = derivative_vector_applied(X1e, 2)(ξ₁, ξ₂)\n",
    "            dx2_dξ1 = derivative_vector_applied(X2e, 1)(ξ₁, ξ₂)\n",
    "            \n",
    "            J_ξ = dx1_dξ1 * dx2_dξ2 - dx1_dξ2 * dx2_dξ1            \n",
    "            quadratura += (w₁*w₂) * f(ξ_to_x1(ξ₁, ξ₂), ξ_to_x2(ξ₁, ξ₂)) * ϕₐ(ξ₁, ξ₂) * J_ξ\n",
    "                          \n",
    "        end\n",
    "    end\n",
    "    \n",
    "    return quadratura\n",
    "end"
   ]
  },
  {
   "cell_type": "code",
   "execution_count": 39,
   "metadata": {},
   "outputs": [
    {
     "data": {
      "text/plain": [
       "monta_F_local_quadrilatero (generic function with 1 method)"
      ]
     },
     "execution_count": 39,
     "metadata": {},
     "output_type": "execute_result"
    }
   ],
   "source": [
    "function monta_F_local_quadrilatero(f::Function, X1e::Vector{Float64}, X2e::Vector{Float64}, P::Vector{Float64}, W::Vector{Float64})\n",
    "    F_local = zeros(4)\n",
    "    \n",
    "    for a in 1:4\n",
    "         F_local[a] = quadratura_F_local_quadrilatero(f, ϕ(a), X1e, X2e, P, W)\n",
    "    end\n",
    "    \n",
    "    return F_local    \n",
    "end"
   ]
  },
  {
   "cell_type": "code",
   "execution_count": 58,
   "metadata": {},
   "outputs": [
    {
     "data": {
      "text/plain": [
       "4-element Vector{Float64}:\n",
       " 0.9999999999999993\n",
       " 0.9999999999999998\n",
       " 1.0000000000000002\n",
       " 0.9999999999999998"
      ]
     },
     "execution_count": 58,
     "metadata": {},
     "output_type": "execute_result"
    }
   ],
   "source": [
    "f = (x1::Float64, x2::Float64) -> 4/(0.25*0.25)\n",
    "X1e = [0.0, 0.25, 0.25, 0.0]\n",
    "X2e = [0.0, 0.0, 0.25, 0.25]\n",
    "P, W = legendre(5)\n",
    "\n",
    "monta_F_local_quadrilatero(f, X1e, X2e, P, W)"
   ]
  },
  {
   "cell_type": "code",
   "execution_count": 29,
   "metadata": {},
   "outputs": [
    {
     "data": {
      "text/plain": [
       "4-element Vector{Float64}:\n",
       "  3.9999999999999973\n",
       "  7.999999999999998\n",
       " 16.000000000000007\n",
       "  7.999999999999999"
      ]
     },
     "execution_count": 29,
     "metadata": {},
     "output_type": "execute_result"
    }
   ],
   "source": [
    "f = (x1::Float64, x2::Float64) -> (16*9*x1*x2)/(0.25*0.25)^2\n",
    "X1e = [0.0, 0.25, 0.25, 0.0]\n",
    "X2e = [0.0, 0.0, 0.25, 0.25]\n",
    "P, W = legendre(5)\n",
    "\n",
    "monta_F_local_quadrilatero(f, X1e, X2e, P, W)"
   ]
  },
  {
   "cell_type": "code",
   "execution_count": 30,
   "metadata": {},
   "outputs": [
    {
     "data": {
      "text/plain": [
       "4-element Vector{Float64}:\n",
       " 0.6666666666666662\n",
       " 0.9999999999999998\n",
       " 1.3333333333333337\n",
       " 0.9999999999999998"
      ]
     },
     "execution_count": 30,
     "metadata": {},
     "output_type": "execute_result"
    }
   ],
   "source": [
    "f = (x1::Float64, x2::Float64) -> x1 + x2\n",
    "X1e = [0.0, 2.0, 3.0, 1.0]\n",
    "X2e = [0.0, 0.0, 1.0, 1.0]\n",
    "P, W = legendre(5)\n",
    "\n",
    "monta_F_local_quadrilatero(f, X1e, X2e, P, W)"
   ]
  },
  {
   "cell_type": "code",
   "execution_count": 82,
   "metadata": {},
   "outputs": [
    {
     "data": {
      "text/plain": [
       "quadratura_K_local_quadrilatero (generic function with 2 methods)"
      ]
     },
     "execution_count": 82,
     "metadata": {},
     "output_type": "execute_result"
    }
   ],
   "source": [
    "function quadratura_K_local_quadrilatero(a::Int64, b::Int64, α::Float64, β::Float64, X1e::Vector{Float64}, X2e::Vector{Float64}, P::Vector{Float64}, W::Vector{Float64})::Float64\n",
    "    \n",
    "    quadratura_α = 0.0\n",
    "    quadratura_β = 0.0\n",
    "    \n",
    "    for (ξ₁, w₁) in zip(P, W)\n",
    "        for (ξ₂, w₂) in zip(P, W)\n",
    "            dx1_dξ1 = derivative_vector_applied(X1e, 1)(ξ₁, ξ₂)\n",
    "            dx2_dξ2 = derivative_vector_applied(X2e, 2)(ξ₁, ξ₂)\n",
    "            dx1_dξ2 = derivative_vector_applied(X1e, 2)(ξ₁, ξ₂)\n",
    "            dx2_dξ1 = derivative_vector_applied(X2e, 1)(ξ₁, ξ₂)\n",
    "            \n",
    "            HTH_11 = (dx2_dξ2)^2 + (dx1_dξ2)^2\n",
    "            HTH_12 = -(dx2_dξ2 * dx2_dξ1) - (dx1_dξ2 * dx1_dξ1)\n",
    "            HTH_21 = -(dx2_dξ1 * dx2_dξ2) - (dx1_dξ1 * dx1_dξ2)\n",
    "            HTH_22 = (dx2_dξ1)^2 + (dx1_dξ1)^2\n",
    "            \n",
    "            termo1 = ∂ϕ(1, b)(ξ₁, ξ₂) * (HTH_11 * ∂ϕ(1, a)(ξ₁, ξ₂) + HTH_12 * ∂ϕ(2, a)(ξ₁, ξ₂)) \n",
    "            termo2 = ∂ϕ(2, b)(ξ₁, ξ₂) * (HTH_21 * ∂ϕ(1, a)(ξ₁, ξ₂) + HTH_22 * ∂ϕ(2, a)(ξ₁, ξ₂))\n",
    "            \n",
    "            J_ξ = (dx1_dξ1 * dx2_dξ2) - (dx1_dξ2 * dx2_dξ1)\n",
    "            \n",
    "            quadratura_α += (w₁ * w₂) * (termo1 + termo2) * (1/J_ξ)\n",
    "            quadratura_β += (w₁ * w₂) * ϕ(b)(ξ₁, ξ₂) * ϕ(a)(ξ₁, ξ₂) * J_ξ\n",
    "            \n",
    "        end\n",
    "    end\n",
    "    \n",
    "    quadratura_α *= α    \n",
    "    quadratura_β *= β\n",
    "    \n",
    "    return quadratura_α + quadratura_β     \n",
    "end"
   ]
  },
  {
   "cell_type": "code",
   "execution_count": 80,
   "metadata": {},
   "outputs": [
    {
     "data": {
      "text/plain": [
       "monta_K_local_quadrilatero (generic function with 1 method)"
      ]
     },
     "execution_count": 80,
     "metadata": {},
     "output_type": "execute_result"
    }
   ],
   "source": [
    "function monta_K_local_quadrilatero(α::Float64, β::Float64, X1e::Vector{Float64}, X2e::Vector{Float64}, P::Vector{Float64}, W::Vector{Float64})::Matrix{Float64}    \n",
    "    Kᵉ = zeros(4, 4)\n",
    "    \n",
    "    for b in 1:4\n",
    "        for a in 1:4\n",
    "            Kᵉ[a, b] = quadratura_K_local_quadrilatero(a, b, α, β, X1e, X2e, P, W)\n",
    "        end\n",
    "    end\n",
    "    \n",
    "    return Kᵉ\n",
    "end"
   ]
  },
  {
   "cell_type": "code",
   "execution_count": 83,
   "metadata": {},
   "outputs": [
    {
     "data": {
      "text/plain": [
       "4×4 Matrix{Float64}:\n",
       "  4.0  -1.0  -2.0  -1.0\n",
       " -1.0   4.0  -1.0  -2.0\n",
       " -2.0  -1.0   4.0  -1.0\n",
       " -1.0  -2.0  -1.0   4.0"
      ]
     },
     "execution_count": 83,
     "metadata": {},
     "output_type": "execute_result"
    }
   ],
   "source": [
    "α = 6.0\n",
    "β = 0.0\n",
    "X1e = [0.0, 0.25, 0.25, 0.0]\n",
    "X2e = [0.0, 0.0, 0.25, 0.25]\n",
    "P, W = legendre(5)\n",
    "\n",
    "monta_K_local_quadrilatero(α, β, X1e, X2e, P, W)"
   ]
  },
  {
   "cell_type": "code",
   "execution_count": 84,
   "metadata": {},
   "outputs": [
    {
     "data": {
      "text/plain": [
       "4×4 Matrix{Float64}:\n",
       " 4.0  2.0  1.0  2.0\n",
       " 2.0  4.0  2.0  1.0\n",
       " 1.0  2.0  4.0  2.0\n",
       " 2.0  1.0  2.0  4.0"
      ]
     },
     "execution_count": 84,
     "metadata": {},
     "output_type": "execute_result"
    }
   ],
   "source": [
    "α = 0.0\n",
    "β = 576.0\n",
    "X1e = [0.0, 0.25, 0.25, 0.0]\n",
    "X2e = [0.0, 0.0, 0.25, 0.25]\n",
    "P, W = legendre(5)\n",
    "\n",
    "monta_K_local_quadrilatero(α, β, X1e, X2e, P, W)"
   ]
  },
  {
   "cell_type": "code",
   "execution_count": 86,
   "metadata": {},
   "outputs": [
    {
     "data": {
      "text/plain": [
       "4×4 Matrix{Float64}:\n",
       "  0.722222    0.111111   0.0555556  -0.388889\n",
       "  0.111111    1.72222   -0.388889   -0.944444\n",
       "  0.0555556  -0.388889   0.722222    0.111111\n",
       " -0.388889   -0.944444   0.111111    1.72222"
      ]
     },
     "execution_count": 86,
     "metadata": {},
     "output_type": "execute_result"
    }
   ],
   "source": [
    "α = 1.0\n",
    "β = 1.0\n",
    "X1e = [0.0, 2.0, 3.0, 1.0]\n",
    "X2e = [0.0, 0.0, 1.0, 1.0]\n",
    "P, W = legendre(5)\n",
    "\n",
    "monta_K_local_quadrilatero(α, β, X1e, X2e, P, W)"
   ]
  },
  {
   "cell_type": "code",
   "execution_count": null,
   "metadata": {},
   "outputs": [],
   "source": []
  }
 ],
 "metadata": {
  "kernelspec": {
   "display_name": "Julia 1.11.1",
   "language": "julia",
   "name": "julia-1.11"
  },
  "language_info": {
   "file_extension": ".jl",
   "mimetype": "application/julia",
   "name": "julia",
   "version": "1.11.1"
  }
 },
 "nbformat": 4,
 "nbformat_minor": 2
}
