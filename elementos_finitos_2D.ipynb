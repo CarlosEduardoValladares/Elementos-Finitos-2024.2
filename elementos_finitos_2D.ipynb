{
 "cells": [
  {
   "cell_type": "markdown",
   "metadata": {},
   "source": [
    "# Bibliotecas"
   ]
  },
  {
   "cell_type": "code",
   "execution_count": 1,
   "metadata": {},
   "outputs": [],
   "source": [
    "using LinearAlgebra\n",
    "using Plots\n",
    "using GaussQuadrature\n",
    "using SparseArrays\n",
    "using DataFrames\n",
    "using Printf\n",
    "using Random"
   ]
  },
  {
   "cell_type": "markdown",
   "metadata": {},
   "source": [
    "## Seed de aleatoriedade"
   ]
  },
  {
   "cell_type": "code",
   "execution_count": 2,
   "metadata": {},
   "outputs": [
    {
     "name": "stdout",
     "output_type": "stream",
     "text": [
      "Seed 42 fixada para testes. Comentar linha para retormar aleatoriedade"
     ]
    }
   ],
   "source": [
    "seed = 42\n",
    "Random.seed!(seed)\n",
    "print(\"Seed \", seed, \" fixada para testes. Comentar linha para retormar aleatoriedade\")"
   ]
  },
  {
   "cell_type": "markdown",
   "metadata": {},
   "source": [
    "# Base"
   ]
  },
  {
   "cell_type": "code",
   "execution_count": 3,
   "metadata": {},
   "outputs": [
    {
     "data": {
      "text/plain": [
       "∂ϕ (generic function with 1 method)"
      ]
     },
     "execution_count": 3,
     "metadata": {},
     "output_type": "execute_result"
    }
   ],
   "source": [
    "function ϕ(a::Int64)::Function\n",
    "    if a == 1\n",
    "        return (ξ₁::Float64, ξ₂::Float64) -> (1.0-ξ₁)*(1.0-ξ₂)/4.0\n",
    "        \n",
    "    elseif a == 2\n",
    "        return (ξ₁::Float64, ξ₂::Float64) -> (1.0+ξ₁)*(1.0-ξ₂)/4.0\n",
    "        \n",
    "    elseif a == 3\n",
    "        return (ξ₁::Float64, ξ₂::Float64) -> (1.0+ξ₁)*(1.0+ξ₂)/4.0\n",
    "        \n",
    "    elseif a == 4\n",
    "        return (ξ₁::Float64, ξ₂::Float64) -> (1.0-ξ₁)*(1.0+ξ₂)/4.0\n",
    "        \n",
    "    end\n",
    "end\n",
    "\n",
    "function ∂ϕ(variable::Int64, a::Int64)::Function\n",
    "    if variable == 1\n",
    "        if a == 1\n",
    "            return (ξ₁::Float64, ξ₂::Float64) -> -(1.0-ξ₂)/4.0\n",
    "        elseif a == 2\n",
    "            return (ξ₁::Float64, ξ₂::Float64) ->  (1.0-ξ₂)/4.0\n",
    "        elseif a == 3\n",
    "            return (ξ₁::Float64, ξ₂::Float64) ->  (1.0+ξ₂)/4.0\n",
    "        elseif a == 4\n",
    "            return (ξ₁::Float64, ξ₂::Float64) -> -(1.0+ξ₂)/4.0\n",
    "        end\n",
    "        \n",
    "    elseif variable == 2\n",
    "        if a == 1\n",
    "            return (ξ₁::Float64, ξ₂::Float64) -> -(1.0-ξ₁)/4.0\n",
    "        elseif a == 2\n",
    "            return (ξ₁::Float64, ξ₂::Float64) -> -(1.0+ξ₁)/4.0\n",
    "        elseif a == 3\n",
    "            return (ξ₁::Float64, ξ₂::Float64) ->  (1.0+ξ₁)/4.0\n",
    "        elseif a == 4\n",
    "            return (ξ₁::Float64, ξ₂::Float64) ->  (1.0-ξ₁)/4.0\n",
    "        end\n",
    "        \n",
    "    end\n",
    "end"
   ]
  },
  {
   "cell_type": "markdown",
   "metadata": {},
   "source": [
    "# Funções auxiliares"
   ]
  },
  {
   "cell_type": "code",
   "execution_count": 4,
   "metadata": {},
   "outputs": [
    {
     "data": {
      "text/plain": [
       "plot_error_curves (generic function with 1 method)"
      ]
     },
     "execution_count": 4,
     "metadata": {},
     "output_type": "execute_result"
    }
   ],
   "source": [
    "function plot_error_curves(h::Vector{Float64}, erros::Vector{Float64})\n",
    "   plot(h, erros, lw=3, label=\"Erro\", xscale = :log10, yscale = :log10, markershape=:circle)\n",
    "   display(plot!(h, h.^2, lw=3, label=\"h²\", xscale = :log10, yscale = :log10, legend=:topleft)) \n",
    "end"
   ]
  },
  {
   "cell_type": "code",
   "execution_count": 5,
   "metadata": {},
   "outputs": [
    {
     "data": {
      "text/plain": [
       "malha2D (generic function with 1 method)"
      ]
     },
     "execution_count": 5,
     "metadata": {},
     "output_type": "execute_result"
    }
   ],
   "source": [
    "function malha2D(Nx1, Nx2)\n",
    "    # Define o comprimento da base (h₁) e altura (h₂) de cada elemento retangular Ωᵉ\n",
    "    h₁, h₂ = 1 / Nx1, 1 / Nx2\n",
    "\n",
    "    # Define a discretização em x₁ e x₂\n",
    "    x₁ = collect(0:h₁:1)\n",
    "    x₂ = collect(0:h₂:1)\n",
    "\n",
    "    # Define as coordenadas de cada nó da malha\n",
    "    X₁ = [x₁[i] for i in 1:Nx1+1, j in 1:Nx2+1]\n",
    "    X₂ = [x₂[j] for i in 1:Nx1+1, j in 1:Nx2+1]\n",
    "\n",
    "    return X₁, X₂, h₁, h₂\n",
    "end"
   ]
  },
  {
   "cell_type": "code",
   "execution_count": 6,
   "metadata": {},
   "outputs": [
    {
     "data": {
      "text/plain": [
       "malha2D_adiciona_ruido! (generic function with 1 method)"
      ]
     },
     "execution_count": 6,
     "metadata": {},
     "output_type": "execute_result"
    }
   ],
   "source": [
    "function malha2D_adiciona_ruido!(X₁::Matrix{Float64}, X₂::Matrix{Float64},\n",
    "                                 h₁::Float64, h₂::Float64)\n",
    "    # Verifica se as matrizes têm a mesma dimensão\n",
    "    @assert size(X₁) == size(X₂) \"X₁ e X₂ devem ter as mesmas dimensões\"\n",
    "    \n",
    "    # Verifica se a malha é suficientemente grande para ter nós internos\n",
    "    if size(X₁, 1) > 2 && size(X₁, 2) > 2\n",
    "        # Define os limites do ruído\n",
    "        ruído_limite₁, ruído_limite₂ = h₁ / 4, h₂ / 4\n",
    "        \n",
    "        # Aplica ruído uniforme aos nós internos\n",
    "        X₁[2:end-1, 2:end-1] .+= ruído_limite₁ * \n",
    "                                (rand(Float64, size(X₁[2:end-1,2:end-1])) .- 0.5) * 2\n",
    "        X₂[2:end-1, 2:end-1] .+= ruído_limite₂ * \n",
    "                                (rand(Float64, size(X₂[2:end-1,2:end-1])) .- 0.5) * 2\n",
    "    end\n",
    "end"
   ]
  },
  {
   "cell_type": "markdown",
   "metadata": {},
   "source": [
    "# Funções de Montagem auxiliar (EQ e LG)"
   ]
  },
  {
   "cell_type": "code",
   "execution_count": 7,
   "metadata": {},
   "outputs": [
    {
     "data": {
      "text/plain": [
       "monta_EQ (generic function with 1 method)"
      ]
     },
     "execution_count": 7,
     "metadata": {},
     "output_type": "execute_result"
    }
   ],
   "source": [
    "function monta_EQ(Nx1::Int64, Nx2::Int64)::Tuple{Int64, Vector{Int64}}\n",
    "    flat = Iterators.flatten\n",
    "    \n",
    "    m = (Nx1-1)*(Nx2-1)\n",
    "    get_EQ_line = (line_index::Int64) -> [m+1, line_index*(Nx1-1)+1:((line_index+1)*(Nx1-1)), m+1]   \n",
    "    \n",
    "    boundary_line = fill(m+1, Nx1+1)\n",
    "    mid_matrix = [boundary_line, flat(flat.(get_EQ_line.(0:Nx2-2))), boundary_line]\n",
    "    flat_matrix = collect(flat(mid_matrix))::Vector{Int64}\n",
    "    \n",
    "    #display(transpose(reshape(flat_matrix, (Nx1+1, Nx2+1))))\n",
    "    return (m, flat_matrix)\n",
    "end"
   ]
  },
  {
   "cell_type": "code",
   "execution_count": 8,
   "metadata": {},
   "outputs": [
    {
     "data": {
      "text/plain": [
       "monta_LG (generic function with 1 method)"
      ]
     },
     "execution_count": 8,
     "metadata": {},
     "output_type": "execute_result"
    }
   ],
   "source": [
    "function monta_LG(Nx1::Int64, Nx2::Int64)::Matrix{Int64}\n",
    "    vec_line = (line::Int64) -> (Nx1+1)*line .+ (1:Nx1)\n",
    "    vec = vec_line.(0:Nx2-1)\n",
    "    \n",
    "    get_LG_column = (corner_index::Int64) -> [corner_index; corner_index + 1;\n",
    "                                              corner_index + Nx1+2; corner_index + Nx1+1]\n",
    "    \n",
    "    flat_matrix = Iterators.flatten(map(x -> get_LG_column.(x), vec))\n",
    "    matrix = reshape(collect(Iterators.flatten(flat_matrix)), (4, Nx1*Nx2))\n",
    "    \n",
    "    return matrix\n",
    "end"
   ]
  },
  {
   "cell_type": "markdown",
   "metadata": {},
   "source": [
    "### Testes de Montagem"
   ]
  },
  {
   "cell_type": "markdown",
   "metadata": {},
   "source": [
    "#### Teste 1"
   ]
  },
  {
   "cell_type": "code",
   "execution_count": 9,
   "metadata": {},
   "outputs": [
    {
     "data": {
      "text/plain": [
       "4×16 Matrix{Int64}:\n",
       " 1  2  3   4   6   7   8   9  11  12  13  14  16  17  18  19\n",
       " 2  3  4   5   7   8   9  10  12  13  14  15  17  18  19  20\n",
       " 7  8  9  10  12  13  14  15  17  18  19  20  22  23  24  25\n",
       " 6  7  8   9  11  12  13  14  16  17  18  19  21  22  23  24"
      ]
     },
     "execution_count": 9,
     "metadata": {},
     "output_type": "execute_result"
    }
   ],
   "source": [
    "monta_LG(4, 4)"
   ]
  },
  {
   "cell_type": "markdown",
   "metadata": {},
   "source": [
    "#### Teste 2"
   ]
  },
  {
   "cell_type": "code",
   "execution_count": 10,
   "metadata": {},
   "outputs": [
    {
     "data": {
      "text/plain": [
       "(6, [7, 7, 7, 7, 7, 7, 1, 2, 3, 7, 7, 4, 5, 6, 7, 7, 7, 7, 7, 7])"
      ]
     },
     "execution_count": 10,
     "metadata": {},
     "output_type": "execute_result"
    }
   ],
   "source": [
    "monta_EQ(4, 3)"
   ]
  },
  {
   "cell_type": "markdown",
   "metadata": {},
   "source": [
    "#### Teste 3"
   ]
  },
  {
   "cell_type": "code",
   "execution_count": 11,
   "metadata": {},
   "outputs": [
    {
     "data": {
      "text/plain": [
       "(9, [10, 10, 10, 10, 10, 10, 1, 2, 3, 10  …  10, 7, 8, 9, 10, 10, 10, 10, 10, 10])"
      ]
     },
     "execution_count": 11,
     "metadata": {},
     "output_type": "execute_result"
    }
   ],
   "source": [
    "monta_EQ(4, 4)"
   ]
  },
  {
   "cell_type": "markdown",
   "metadata": {},
   "source": [
    "# Caso quadrado"
   ]
  },
  {
   "cell_type": "markdown",
   "metadata": {},
   "source": [
    "## Funções de mapping"
   ]
  },
  {
   "cell_type": "code",
   "execution_count": 12,
   "metadata": {},
   "outputs": [
    {
     "data": {
      "text/plain": [
       "mapper_to_x (generic function with 1 method)"
      ]
     },
     "execution_count": 12,
     "metadata": {},
     "output_type": "execute_result"
    }
   ],
   "source": [
    "function mapper_to_x(h::Float64, pᵉ::Float64)::Function\n",
    "    return (ξ::Float64) -> (h/2)*(ξ+1) + pᵉ\n",
    "end"
   ]
  },
  {
   "cell_type": "markdown",
   "metadata": {},
   "source": [
    "## Quadraturas"
   ]
  },
  {
   "cell_type": "code",
   "execution_count": 13,
   "metadata": {},
   "outputs": [
    {
     "data": {
      "text/plain": [
       "quadratura_F_2D (generic function with 1 method)"
      ]
     },
     "execution_count": 13,
     "metadata": {},
     "output_type": "execute_result"
    }
   ],
   "source": [
    "function quadratura_phis_K_2D(f1::Function, f2::Function, P::Vector{Float64}, W::Vector{Float64})::Float64\n",
    "    quadratura = 0.0\n",
    "    \n",
    "    for (ξ₁, w₁) in zip(P, W)\n",
    "        for (ξ₂, w₂) in zip(P, W)\n",
    "            quadratura += (w₁*w₂) * (f1(ξ₁, ξ₂) * f2(ξ₁, ξ₂))\n",
    "        end\n",
    "    end\n",
    "    \n",
    "    return quadratura\n",
    "end\n",
    "\n",
    "function quadratura_F_2D(f1::Function, f2::Function, h::Vector{Float64}, pᵉ::Vector{Float64}, P::Vector{Float64}, W::Vector{Float64})::Float64\n",
    "    quadratura = 0.0\n",
    "    \n",
    "    ξ_to_x1 = mapper_to_x(h[1], pᵉ[1])\n",
    "    ξ_to_x2 = mapper_to_x(h[2], pᵉ[2])\n",
    "    \n",
    "    for (ξ₁, w₁) in zip(P, W)\n",
    "        for (ξ₂, w₂) in zip(P, W)            \n",
    "            quadratura += (w₁*w₂) * f1(ξ_to_x1(ξ₁), ξ_to_x2(ξ₂)) * f2(ξ₁, ξ₂)\n",
    "        end\n",
    "    end\n",
    "    \n",
    "    return quadratura\n",
    "end"
   ]
  },
  {
   "cell_type": "markdown",
   "metadata": {},
   "source": [
    "## Funções de Montagem local (K e F)"
   ]
  },
  {
   "cell_type": "code",
   "execution_count": 14,
   "metadata": {},
   "outputs": [
    {
     "data": {
      "text/plain": [
       "monta_F_local_2D (generic function with 1 method)"
      ]
     },
     "execution_count": 14,
     "metadata": {},
     "output_type": "execute_result"
    }
   ],
   "source": [
    "function monta_F_local_2D(f::Function, h::Vector{Float64}, pᵉ::Vector{Float64}, P::Vector{Float64}, W::Vector{Float64})\n",
    "    F_local = zeros(4)\n",
    "    \n",
    "    for a in 1:4\n",
    "         F_local[a] = (h[1]*h[2]/4) * quadratura_F_2D(f, ϕ(a), h, pᵉ, P, W)\n",
    "    end\n",
    "    \n",
    "    return F_local    \n",
    "end"
   ]
  },
  {
   "cell_type": "code",
   "execution_count": 15,
   "metadata": {},
   "outputs": [
    {
     "data": {
      "text/plain": [
       "monta_K_local_2D (generic function with 1 method)"
      ]
     },
     "execution_count": 15,
     "metadata": {},
     "output_type": "execute_result"
    }
   ],
   "source": [
    "function monta_K_local_2D(α::Float64, β::Float64, h::Vector{Float64}, P::Vector{Float64}, W::Vector{Float64})::Matrix{Float64}\n",
    "    K_local = zeros(4, 4)\n",
    "    \n",
    "    for a in 1:4\n",
    "        for b in 1:4\n",
    "            K_local[a, b] = (α*( h[2]/h[1])   ) * quadratura_phis_K_2D(∂ϕ(1,b), ∂ϕ(1,a), P, W) +\n",
    "                            (α*( h[1]/h[2])   ) * quadratura_phis_K_2D(∂ϕ(2,b), ∂ϕ(2,a), P, W) +\n",
    "                            (β*((h[1]*h[2])/4)) * quadratura_phis_K_2D( ϕ(  b),  ϕ(  a), P, W)\n",
    "        end\n",
    "    end\n",
    "    \n",
    "    return K_local\n",
    "end"
   ]
  },
  {
   "cell_type": "markdown",
   "metadata": {},
   "source": [
    "### Testes de Montagem"
   ]
  },
  {
   "cell_type": "markdown",
   "metadata": {},
   "source": [
    "#### Teste 1"
   ]
  },
  {
   "cell_type": "code",
   "execution_count": 16,
   "metadata": {},
   "outputs": [
    {
     "data": {
      "text/plain": [
       "4-element Vector{Float64}:\n",
       " 1.0\n",
       " 1.0\n",
       " 1.0\n",
       " 1.0"
      ]
     },
     "metadata": {},
     "output_type": "display_data"
    },
    {
     "data": {
      "text/plain": [
       "4×4 Matrix{Float64}:\n",
       "  4.0  -1.0  -2.0  -1.0\n",
       " -1.0   4.0  -1.0  -2.0\n",
       " -2.0  -1.0   4.0  -1.0\n",
       " -1.0  -2.0  -1.0   4.0"
      ]
     },
     "metadata": {},
     "output_type": "display_data"
    }
   ],
   "source": [
    "h = [1/4; 1/4]\n",
    "α = 6.0\n",
    "β = 0.0\n",
    "\n",
    "f = (x1::Float64, x2::Float64) -> 4/(h[1]*h[2])\n",
    "pᵉ = [0.0; 0.0]\n",
    "P, W = legendre(2)\n",
    "\n",
    "display(monta_F_local_2D(f, h, pᵉ, P, W))\n",
    "display(monta_K_local_2D(α, β, h, P, W))"
   ]
  },
  {
   "cell_type": "markdown",
   "metadata": {},
   "source": [
    "#### Teste 2"
   ]
  },
  {
   "cell_type": "code",
   "execution_count": 17,
   "metadata": {},
   "outputs": [
    {
     "data": {
      "text/plain": [
       "4-element Vector{Float64}:\n",
       "  4.0\n",
       "  8.0\n",
       " 16.0\n",
       "  8.0"
      ]
     },
     "metadata": {},
     "output_type": "display_data"
    },
    {
     "data": {
      "text/plain": [
       "4×4 Matrix{Float64}:\n",
       " 4.0  2.0  1.0  2.0\n",
       " 2.0  4.0  2.0  1.0\n",
       " 1.0  2.0  4.0  2.0\n",
       " 2.0  1.0  2.0  4.0"
      ]
     },
     "metadata": {},
     "output_type": "display_data"
    }
   ],
   "source": [
    "h = [1/4; 1/4]\n",
    "α = 0.0\n",
    "β = (9.0 * 4.0)/ (h[1] * h[2])\n",
    "\n",
    "f = (x1::Float64, x2::Float64) -> (16/(h[1]*h[2])^2)*9*x1*x2\n",
    "pᵉ = [0.0; 0.0]\n",
    "P, W = legendre(2)\n",
    "\n",
    "display(monta_F_local_2D(f, h, pᵉ, P, W))\n",
    "display(monta_K_local_2D(α, β, h, P, W))"
   ]
  },
  {
   "cell_type": "markdown",
   "metadata": {},
   "source": [
    "## Funções de Montagem global (K e F)"
   ]
  },
  {
   "cell_type": "code",
   "execution_count": 18,
   "metadata": {},
   "outputs": [
    {
     "data": {
      "text/plain": [
       "monta_F_global_2D (generic function with 1 method)"
      ]
     },
     "execution_count": 18,
     "metadata": {},
     "output_type": "execute_result"
    }
   ],
   "source": [
    "function monta_F_global_2D(f::Function, Nx1::Int64, Nx2::Int64, m::Int64, EQoLG::Matrix{Int64})::Vector{Float64}\n",
    "    h = [1/Nx1; 1/Nx2]    \n",
    "    F_global = zeros(m+1)\n",
    "    \n",
    "    P, W = legendre(5)\n",
    "    \n",
    "    for j in 1:Nx2\n",
    "        for i in 1:Nx1\n",
    "            pᵉ = [(i-1)*h[1]; (j-1)*h[2]]\n",
    "            e = (j-1)*Nx1 + i\n",
    "            F_local = monta_F_local_2D(f, h, pᵉ, P, W)\n",
    "            \n",
    "            for a in 1:4\n",
    "                index = EQoLG[a, e]\n",
    "                F_global[index] += F_local[a]\n",
    "            end\n",
    "        end\n",
    "    end\n",
    "    \n",
    "    return F_global[1:m]\n",
    "end\n"
   ]
  },
  {
   "cell_type": "code",
   "execution_count": 19,
   "metadata": {},
   "outputs": [
    {
     "data": {
      "text/plain": [
       "monta_K_global_2D (generic function with 1 method)"
      ]
     },
     "execution_count": 19,
     "metadata": {},
     "output_type": "execute_result"
    }
   ],
   "source": [
    "function monta_K_global_2D(α::Float64, β::Float64, Nx1::Int64, Nx2::Int64, m::Int64, EQoLG::Matrix{Int64})::SparseMatrixCSC{Float64}\n",
    "    h = [1/Nx1; 1/Nx2]    \n",
    "    P, W = legendre(2)\n",
    "    \n",
    "    K_global = spzeros(m+1, m+1)   \n",
    "    K_local = monta_K_local_2D(α, β, h, P, W)\n",
    "    \n",
    "    for j in 1:Nx2\n",
    "        for i in 1:Nx1\n",
    "            e = (j-1)*Nx1 + i\n",
    "            \n",
    "            for b in 1:4\n",
    "                for a in 1:4\n",
    "                    index_i = EQoLG[a, e]\n",
    "                    index_j = EQoLG[b, e]\n",
    "                    \n",
    "                    K_global[index_i, index_j] += K_local[a, b]\n",
    "                end\n",
    "            end\n",
    "        end\n",
    "    end\n",
    "    \n",
    "    return K_global[1:m, 1:m]\n",
    "end"
   ]
  },
  {
   "cell_type": "markdown",
   "metadata": {},
   "source": [
    "### Testes de Montagem"
   ]
  },
  {
   "cell_type": "markdown",
   "metadata": {},
   "source": [
    "#### Teste 1"
   ]
  },
  {
   "cell_type": "code",
   "execution_count": 20,
   "metadata": {},
   "outputs": [
    {
     "data": {
      "text/plain": [
       "9-element Vector{Float64}:\n",
       " 3.999999999999999\n",
       " 3.999999999999999\n",
       " 3.999999999999999\n",
       " 3.999999999999999\n",
       " 3.999999999999999\n",
       " 3.999999999999999\n",
       " 3.999999999999999\n",
       " 3.999999999999999\n",
       " 3.999999999999999"
      ]
     },
     "execution_count": 20,
     "metadata": {},
     "output_type": "execute_result"
    }
   ],
   "source": [
    "Nx1 = 4\n",
    "Nx2 = 4\n",
    "\n",
    "h = [1/Nx1; 1/Nx2]\n",
    "f = (x1::Float64, x2::Float64) -> 4/(h[1]*h[2])\n",
    "\n",
    "m, EQ = monta_EQ(Nx1, Nx2)\n",
    "LG = monta_LG(Nx1, Nx2)\n",
    "\n",
    "#display(EQ)\n",
    "#display(LG)\n",
    "#display(EQ[LG])\n",
    "#display(transpose(reshape(EQ, (Nx1+1, Nx2+1))))\n",
    "\n",
    "monta_F_global_2D(f, Nx1, Nx2, m, EQ[LG])"
   ]
  },
  {
   "cell_type": "markdown",
   "metadata": {},
   "source": [
    "#### Teste 2"
   ]
  },
  {
   "cell_type": "code",
   "execution_count": 21,
   "metadata": {},
   "outputs": [
    {
     "data": {
      "text/plain": [
       "9-element Vector{Float64}:\n",
       "  143.99999999999994\n",
       "  287.9999999999999\n",
       "  431.9999999999998\n",
       "  287.9999999999999\n",
       "  575.9999999999999\n",
       "  863.9999999999995\n",
       "  431.9999999999998\n",
       "  863.9999999999997\n",
       " 1295.9999999999998"
      ]
     },
     "execution_count": 21,
     "metadata": {},
     "output_type": "execute_result"
    }
   ],
   "source": [
    "Nx1 = 4\n",
    "Nx2 = 4\n",
    "\n",
    "h = [1/Nx1; 1/Nx2]\n",
    "f = (x1::Float64, x2::Float64) -> (16*9*x1*x2)/(h[1]*h[2])^2\n",
    "\n",
    "m, EQ = monta_EQ(Nx1, Nx2)\n",
    "LG = monta_LG(Nx1, Nx2)\n",
    "\n",
    "monta_F_global_2D(f, Nx1, Nx2, m, EQ[LG])"
   ]
  },
  {
   "cell_type": "markdown",
   "metadata": {},
   "source": [
    "#### Teste 3"
   ]
  },
  {
   "cell_type": "code",
   "execution_count": 22,
   "metadata": {},
   "outputs": [
    {
     "data": {
      "text/plain": [
       "6×6 SparseMatrixCSC{Float64, Int64} with 28 stored entries:\n",
       "  2.81481    -0.62963      ⋅         -0.0462963  -0.344907     ⋅ \n",
       " -0.62963     2.81481    -0.62963    -0.344907   -0.0462963  -0.344907\n",
       "   ⋅         -0.62963     2.81481      ⋅         -0.344907   -0.0462963\n",
       " -0.0462963  -0.344907     ⋅          2.81481    -0.62963      ⋅ \n",
       " -0.344907   -0.0462963  -0.344907   -0.62963     2.81481    -0.62963\n",
       "   ⋅         -0.344907   -0.0462963    ⋅         -0.62963     2.81481"
      ]
     },
     "execution_count": 22,
     "metadata": {},
     "output_type": "execute_result"
    }
   ],
   "source": [
    "α = 1.0\n",
    "β = 1.0\n",
    "\n",
    "Nx1 = 4\n",
    "Nx2 = 3\n",
    "\n",
    "m, EQ = monta_EQ(Nx1, Nx2)\n",
    "LG = monta_LG(Nx1, Nx2)\n",
    "\n",
    "monta_K_global_2D(α, β, Nx1, Nx2, m, EQ[LG])"
   ]
  },
  {
   "cell_type": "markdown",
   "metadata": {},
   "source": [
    "## Cálculo de Erro"
   ]
  },
  {
   "cell_type": "code",
   "execution_count": 23,
   "metadata": {},
   "outputs": [
    {
     "data": {
      "text/plain": [
       "erro_norma_L2_2D (generic function with 1 method)"
      ]
     },
     "execution_count": 23,
     "metadata": {},
     "output_type": "execute_result"
    }
   ],
   "source": [
    "function erro_norma_L2_2D(u::Function, c_::Vector{Float64}, Nx1::Int64, Nx2::Int64, EQoLG::Matrix{Int64})::Float64\n",
    "    h = [1/Nx1; 1/Nx2]\n",
    "    \n",
    "    ne = Nx1 * Nx2\n",
    "    P, W = legendre(5)\n",
    "    \n",
    "    erro = 0.0    \n",
    "    \n",
    "    for j in 1:Nx2\n",
    "        for i in 1:Nx1\n",
    "            e = (j-1)*Nx1 + i\n",
    "            pᵉ = [(i-1)*h[1]; (j-1)*h[2]]\n",
    "            \n",
    "            ξ_to_x1 = mapper_to_x(h[1], pᵉ[1])\n",
    "            ξ_to_x2 = mapper_to_x(h[2], pᵉ[2])\n",
    "            \n",
    "            quadratura = 0.0\n",
    "\n",
    "            for (ξ₁, w₁) in zip(P, W)\n",
    "                for (ξ₂, w₂) in zip(P, W)\n",
    "                    uₕᵉ_ξ = 0.0\n",
    "\n",
    "                    for a in 1:4\n",
    "                        index = EQoLG[a, e]\n",
    "                        uₕᵉ_ξ += c_[index]*(ϕ(a)(ξ₁, ξ₂))\n",
    "                    end\n",
    "\n",
    "                    x1 = ξ_to_x1(ξ₁)\n",
    "                    x2 = ξ_to_x2(ξ₂)\n",
    "\n",
    "                    quadratura += (w₁*w₂) * abs(u(x1, x2) - uₕᵉ_ξ)^2\n",
    "                end\n",
    "            end\n",
    "\n",
    "            erro += quadratura\n",
    "        end\n",
    "    end    \n",
    "    \n",
    "    return sqrt((h[1]*h[2]/4) * erro)\n",
    "end"
   ]
  },
  {
   "cell_type": "markdown",
   "metadata": {},
   "source": [
    "### Teste de cálculo"
   ]
  },
  {
   "cell_type": "code",
   "execution_count": 24,
   "metadata": {},
   "outputs": [
    {
     "data": {
      "text/plain": [
       "49-element Vector{Float64}:\n",
       " 0.14842938111206438\n",
       " 0.2742617344655072\n",
       " 0.3583402249353907\n",
       " 0.3878646645210889\n",
       " 0.3583402249353907\n",
       " 0.2742617344655072\n",
       " 0.14842938111206438\n",
       " 0.2742617344655073\n",
       " 0.5067696060474551\n",
       " 0.6621263989865962\n",
       " 0.7166804498707814\n",
       " 0.6621263989865962\n",
       " 0.5067696060474551\n",
       " ⋮\n",
       " 0.6621263989865963\n",
       " 0.7166804498707816\n",
       " 0.6621263989865964\n",
       " 0.5067696060474555\n",
       " 0.27426173446550745\n",
       " 0.1484293811120644\n",
       " 0.2742617344655074\n",
       " 0.3583402249353909\n",
       " 0.38786466452108903\n",
       " 0.3583402249353909\n",
       " 0.2742617344655075\n",
       " 0.14842938111206447"
      ]
     },
     "metadata": {},
     "output_type": "display_data"
    },
    {
     "data": {
      "text/plain": [
       "0.007348142187149791"
      ]
     },
     "metadata": {},
     "output_type": "display_data"
    }
   ],
   "source": [
    "α = 1.0\n",
    "β = 1.0\n",
    "f = (x₁::Float64, x₂::Float64) -> (2*α*π^2+β) * sin(π*x₁) * sin(π*x₂)\n",
    "u = (x₁::Float64, x₂::Float64) -> sin(π*x₁) * sin(π*x₂)\n",
    "\n",
    "Nx1 = 8 \n",
    "Nx2 = 8\n",
    "\n",
    "m, EQ = monta_EQ(Nx1, Nx2)\n",
    "LG = monta_LG(Nx1, Nx2)\n",
    "EQoLG = EQ[LG]\n",
    "\n",
    "c = monta_K_global_2D(α, β, Nx1, Nx2, m, EQoLG) \\ monta_F_global_2D(f, Nx1, Nx2, m, EQoLG)\n",
    "c_ = [c; 0]\n",
    "display(c)\n",
    "\n",
    "erro = erro_norma_L2_2D(u, c_, Nx1, Nx2, EQoLG)\n",
    "display(erro)"
   ]
  },
  {
   "cell_type": "markdown",
   "metadata": {},
   "source": [
    "## Estudo de Convergência"
   ]
  },
  {
   "cell_type": "code",
   "execution_count": 25,
   "metadata": {},
   "outputs": [
    {
     "data": {
      "text/plain": [
       "estudo_de_convergencia (generic function with 1 method)"
      ]
     },
     "execution_count": 25,
     "metadata": {},
     "output_type": "execute_result"
    }
   ],
   "source": [
    "function estudo_de_convergencia(α::Float64, β::Float64, f::Function, u::Function, n_testes::Int64)::Matrix{Float64}\n",
    "    \n",
    "    resultado = zeros(n_testes, 2)\n",
    "    \n",
    "    for tamanho in 2:n_testes+1\n",
    "        Nx1 = 2^tamanho\n",
    "        Nx2 = 2^tamanho\n",
    "        h = [1/Nx1, 1/Nx2]\n",
    "        \n",
    "        m, EQ = monta_EQ(Nx1, Nx2)\n",
    "        LG = monta_LG(Nx1, Nx2)\n",
    "        EQoLG = EQ[LG]\n",
    "        \n",
    "        K = monta_K_global_2D(α, β, Nx1, Nx2, m, EQoLG)\n",
    "        F = monta_F_global_2D(f, Nx1, Nx2, m, EQoLG)\n",
    "        \n",
    "        c = K \\ F\n",
    "        c_ = [c; 0]\n",
    "        \n",
    "        erro = erro_norma_L2_2D(u, c_, Nx1, Nx2, EQoLG)\n",
    "        \n",
    "        resultado[tamanho-1, 1] = sqrt(h[1]^2 + h[2]^2)\n",
    "        resultado[tamanho-1, 2] = erro\n",
    "    end\n",
    "    \n",
    "    return resultado\n",
    "end"
   ]
  },
  {
   "cell_type": "code",
   "execution_count": 26,
   "metadata": {},
   "outputs": [
    {
     "data": {
      "text/plain": [
       "7×2 Matrix{Float64}:\n",
       " 0.353553    0.0294644\n",
       " 0.176777    0.00734814\n",
       " 0.0883883   0.00183603\n",
       " 0.0441942   0.000458945\n",
       " 0.0220971   0.000114733\n",
       " 0.0110485   2.86829e-5\n",
       " 0.00552427  7.17071e-6"
      ]
     },
     "execution_count": 26,
     "metadata": {},
     "output_type": "execute_result"
    }
   ],
   "source": [
    "α = 1.0\n",
    "β = 1.0\n",
    "f = (x₁::Float64, x₂::Float64) -> (2*α*π^2+β) * sin(π*x₁) * sin(π*x₂)\n",
    "u = (x₁::Float64, x₂::Float64) -> sin(π*x₁) * sin(π*x₂)\n",
    "n_testes = 7\n",
    "\n",
    "resultado_convergencia = estudo_de_convergencia(α, β, f, u, n_testes)"
   ]
  },
  {
   "cell_type": "code",
   "execution_count": 27,
   "metadata": {},
   "outputs": [
    {
     "data": {
      "image/png": "[encoded data removed]",
      "image/svg+xml": [
       "<?xml version=\"1.0\" encoding=\"utf-8\"?>\n",
       "<svg xmlns=\"http://www.w3.org/2000/svg\" xmlns:xlink=\"http://www.w3.org/1999/xlink\" width=\"600\" height=\"400\" viewBox=\"0 0 2400 1600\">\n",
       "<defs>\n",
       "  <clipPath id=\"clip150\">\n",
       "    <rect x=\"0\" y=\"0\" width=\"2400\" height=\"1600\"/>\n",
       "  </clipPath>\n",
       "</defs>\n",
       "<path clip-path=\"url(#clip150)\" d=\"M0 1600 L2400 1600 L2400 0 L0 0  Z\" fill=\"#ffffff\" fill-rule=\"evenodd\" fill-opacity=\"1\"/>\n",
       "<defs>\n",
       "  <clipPath id=\"clip151\">\n",
       "    <rect x=\"480\" y=\"0\" width=\"1681\" height=\"1600\"/>\n",
       "  </clipPath>\n",
       "</defs>\n",
       "<path clip-path=\"url(#clip150)\" d=\"M189.496 1474.16 L2352.76 1474.16 L2352.76 47.2441 L189.496 47.2441  Z\" fill=\"#ffffff\" fill-rule=\"evenodd\" fill-opacity=\"1\"/>\n",
       "<defs>\n",
       "  <clipPath id=\"clip152\">\n",
       "    <rect x=\"189\" y=\"47\" width=\"2164\" height=\"1428\"/>\n",
       "  </clipPath>\n",
       "</defs>\n",
       "<polyline clip-path=\"url(#clip152)\" style=\"stroke:#000000; stroke-linecap:round; stroke-linejoin:round; stroke-width:2; stroke-opacity:0.1; fill:none\" points=\"541.925,1474.16 541.925,47.2441 \"/>\n",
       "<polyline clip-path=\"url(#clip152)\" style=\"stroke:#000000; stroke-linecap:round; stroke-linejoin:round; stroke-width:2; stroke-opacity:0.1; fill:none\" points=\"1671.83,1474.16 1671.83,47.2441 \"/>\n",
       "<polyline clip-path=\"url(#clip152)\" style=\"stroke:#000000; stroke-linecap:round; stroke-linejoin:round; stroke-width:2; stroke-opacity:0.1; fill:none\" points=\"189.496,1070.55 2352.76,1070.55 \"/>\n",
       "<polyline clip-path=\"url(#clip152)\" style=\"stroke:#000000; stroke-linecap:round; stroke-linejoin:round; stroke-width:2; stroke-opacity:0.1; fill:none\" points=\"189.496,435.774 2352.76,435.774 \"/>\n",
       "<polyline clip-path=\"url(#clip150)\" style=\"stroke:#000000; stroke-linecap:round; stroke-linejoin:round; stroke-width:4; stroke-opacity:1; fill:none\" points=\"189.496,1474.16 2352.76,1474.16 \"/>\n",
       "<polyline clip-path=\"url(#clip150)\" style=\"stroke:#000000; stroke-linecap:round; stroke-linejoin:round; stroke-width:4; stroke-opacity:1; fill:none\" points=\"541.925,1474.16 541.925,1455.27 \"/>\n",
       "<polyline clip-path=\"url(#clip150)\" style=\"stroke:#000000; stroke-linecap:round; stroke-linejoin:round; stroke-width:4; stroke-opacity:1; fill:none\" points=\"1671.83,1474.16 1671.83,1455.27 \"/>\n",
       "<path clip-path=\"url(#clip150)\" d=\"M492.191 1548.29 L499.83 1548.29 L499.83 1521.92 L491.519 1523.59 L491.519 1519.33 L499.783 1517.66 L504.459 1517.66 L504.459 1548.29 L512.098 1548.29 L512.098 1552.22 L492.191 1552.22 L492.191 1548.29 Z\" fill=\"#000000\" fill-rule=\"nonzero\" fill-opacity=\"1\" /><path clip-path=\"url(#clip150)\" d=\"M531.542 1520.74 Q527.931 1520.74 526.103 1524.31 Q524.297 1527.85 524.297 1534.98 Q524.297 1542.09 526.103 1545.65 Q527.931 1549.19 531.542 1549.19 Q535.177 1549.19 536.982 1545.65 Q538.811 1542.09 538.811 1534.98 Q538.811 1527.85 536.982 1524.31 Q535.177 1520.74 531.542 1520.74 M531.542 1517.04 Q537.352 1517.04 540.408 1521.65 Q543.487 1526.23 543.487 1534.98 Q543.487 1543.71 540.408 1548.31 Q537.352 1552.9 531.542 1552.9 Q525.732 1552.9 522.653 1548.31 Q519.598 1543.71 519.598 1534.98 Q519.598 1526.23 522.653 1521.65 Q525.732 1517.04 531.542 1517.04 Z\" fill=\"#000000\" fill-rule=\"nonzero\" fill-opacity=\"1\" /><path clip-path=\"url(#clip150)\" d=\"M543.487 1511.14 L567.598 1511.14 L567.598 1514.34 L543.487 1514.34 L543.487 1511.14 Z\" fill=\"#000000\" fill-rule=\"nonzero\" fill-opacity=\"1\" /><path clip-path=\"url(#clip150)\" d=\"M579.071 1521.62 L592.33 1521.62 L592.33 1524.81 L574.501 1524.81 L574.501 1521.62 Q576.664 1519.38 580.388 1515.62 Q584.13 1511.84 585.089 1510.75 Q586.914 1508.7 587.629 1507.29 Q588.362 1505.86 588.362 1504.48 Q588.362 1502.24 586.782 1500.83 Q585.221 1499.42 582.701 1499.42 Q580.914 1499.42 578.921 1500.04 Q576.946 1500.67 574.689 1501.93 L574.689 1498.09 Q576.983 1497.17 578.977 1496.7 Q580.971 1496.23 582.626 1496.23 Q586.989 1496.23 589.585 1498.41 Q592.18 1500.59 592.18 1504.24 Q592.18 1505.97 591.522 1507.53 Q590.882 1509.07 589.171 1511.18 Q588.701 1511.72 586.18 1514.34 Q583.66 1516.93 579.071 1521.62 Z\" fill=\"#000000\" fill-rule=\"nonzero\" fill-opacity=\"1\" /><path clip-path=\"url(#clip150)\" d=\"M1621.94 1548.29 L1629.58 1548.29 L1629.58 1521.92 L1621.27 1523.59 L1621.27 1519.33 L1629.54 1517.66 L1634.21 1517.66 L1634.21 1548.29 L1641.85 1548.29 L1641.85 1552.22 L1621.94 1552.22 L1621.94 1548.29 Z\" fill=\"#000000\" fill-rule=\"nonzero\" fill-opacity=\"1\" /><path clip-path=\"url(#clip150)\" d=\"M1661.3 1520.74 Q1657.69 1520.74 1655.86 1524.31 Q1654.05 1527.85 1654.05 1534.98 Q1654.05 1542.09 1655.86 1545.65 Q1657.69 1549.19 1661.3 1549.19 Q1664.93 1549.19 1666.74 1545.65 Q1668.57 1542.09 1668.57 1534.98 Q1668.57 1527.85 1666.74 1524.31 Q1664.93 1520.74 1661.3 1520.74 M1661.3 1517.04 Q1667.11 1517.04 1670.16 1521.65 Q1673.24 1526.23 1673.24 1534.98 Q1673.24 1543.71 1670.16 1548.31 Q1667.11 1552.9 1661.3 1552.9 Q1655.49 1552.9 1652.41 1548.31 Q1649.35 1543.71 1649.35 1534.98 Q1649.35 1526.23 1652.41 1521.65 Q1655.49 1517.04 1661.3 1517.04 Z\" fill=\"#000000\" fill-rule=\"nonzero\" fill-opacity=\"1\" /><path clip-path=\"url(#clip150)\" d=\"M1673.24 1511.14 L1697.35 1511.14 L1697.35 1514.34 L1673.24 1514.34 L1673.24 1511.14 Z\" fill=\"#000000\" fill-rule=\"nonzero\" fill-opacity=\"1\" /><path clip-path=\"url(#clip150)\" d=\"M1706.21 1521.62 L1712.42 1521.62 L1712.42 1500.19 L1705.67 1501.55 L1705.67 1498.09 L1712.38 1496.73 L1716.18 1496.73 L1716.18 1521.62 L1722.39 1521.62 L1722.39 1524.81 L1706.21 1524.81 L1706.21 1521.62 Z\" fill=\"#000000\" fill-rule=\"nonzero\" fill-opacity=\"1\" /><polyline clip-path=\"url(#clip150)\" style=\"stroke:#000000; stroke-linecap:round; stroke-linejoin:round; stroke-width:4; stroke-opacity:1; fill:none\" points=\"189.496,1474.16 189.496,47.2441 \"/>\n",
       "<polyline clip-path=\"url(#clip150)\" style=\"stroke:#000000; stroke-linecap:round; stroke-linejoin:round; stroke-width:4; stroke-opacity:1; fill:none\" points=\"189.496,1070.55 208.394,1070.55 \"/>\n",
       "<polyline clip-path=\"url(#clip150)\" style=\"stroke:#000000; stroke-linecap:round; stroke-linejoin:round; stroke-width:4; stroke-opacity:1; fill:none\" points=\"189.496,435.774 208.394,435.774 \"/>\n",
       "<path clip-path=\"url(#clip150)\" d=\"M51.6634 1090.34 L59.3023 1090.34 L59.3023 1063.98 L50.9921 1065.64 L50.9921 1061.38 L59.256 1059.72 L63.9319 1059.72 L63.9319 1090.34 L71.5707 1090.34 L71.5707 1094.28 L51.6634 1094.28 L51.6634 1090.34 Z\" fill=\"#000000\" fill-rule=\"nonzero\" fill-opacity=\"1\" /><path clip-path=\"url(#clip150)\" d=\"M91.0151 1062.8 Q87.404 1062.8 85.5753 1066.36 Q83.7697 1069.9 83.7697 1077.03 Q83.7697 1084.14 85.5753 1087.7 Q87.404 1091.24 91.0151 1091.24 Q94.6493 1091.24 96.4548 1087.7 Q98.2835 1084.14 98.2835 1077.03 Q98.2835 1069.9 96.4548 1066.36 Q94.6493 1062.8 91.0151 1062.8 M91.0151 1059.09 Q96.8252 1059.09 99.8808 1063.7 Q102.959 1068.28 102.959 1077.03 Q102.959 1085.76 99.8808 1090.37 Q96.8252 1094.95 91.0151 1094.95 Q85.2049 1094.95 82.1262 1090.37 Q79.0707 1085.76 79.0707 1077.03 Q79.0707 1068.28 82.1262 1063.7 Q85.2049 1059.09 91.0151 1059.09 Z\" fill=\"#000000\" fill-rule=\"nonzero\" fill-opacity=\"1\" /><path clip-path=\"url(#clip150)\" d=\"M102.959 1053.19 L127.071 1053.19 L127.071 1056.39 L102.959 1056.39 L102.959 1053.19 Z\" fill=\"#000000\" fill-rule=\"nonzero\" fill-opacity=\"1\" /><path clip-path=\"url(#clip150)\" d=\"M145.71 1042.1 L136.118 1057.09 L145.71 1057.09 L145.71 1042.1 M144.713 1038.79 L149.49 1038.79 L149.49 1057.09 L153.496 1057.09 L153.496 1060.25 L149.49 1060.25 L149.49 1066.87 L145.71 1066.87 L145.71 1060.25 L133.033 1060.25 L133.033 1056.58 L144.713 1038.79 Z\" fill=\"#000000\" fill-rule=\"nonzero\" fill-opacity=\"1\" /><path clip-path=\"url(#clip150)\" d=\"M53.3561 455.567 L60.995 455.567 L60.995 429.201 L52.6848 430.868 L52.6848 426.609 L60.9487 424.942 L65.6246 424.942 L65.6246 455.567 L73.2634 455.567 L73.2634 459.502 L53.3561 459.502 L53.3561 455.567 Z\" fill=\"#000000\" fill-rule=\"nonzero\" fill-opacity=\"1\" /><path clip-path=\"url(#clip150)\" d=\"M92.7078 428.021 Q89.0967 428.021 87.268 431.585 Q85.4624 435.127 85.4624 442.257 Q85.4624 449.363 87.268 452.928 Q89.0967 456.47 92.7078 456.47 Q96.342 456.47 98.1475 452.928 Q99.9762 449.363 99.9762 442.257 Q99.9762 435.127 98.1475 431.585 Q96.342 428.021 92.7078 428.021 M92.7078 424.317 Q98.5179 424.317 101.573 428.923 Q104.652 433.507 104.652 442.257 Q104.652 450.983 101.573 455.59 Q98.5179 460.173 92.7078 460.173 Q86.8976 460.173 83.8189 455.59 Q80.7634 450.983 80.7634 442.257 Q80.7634 433.507 83.8189 428.923 Q86.8976 424.317 92.7078 424.317 Z\" fill=\"#000000\" fill-rule=\"nonzero\" fill-opacity=\"1\" /><path clip-path=\"url(#clip150)\" d=\"M104.652 418.418 L128.764 418.418 L128.764 421.616 L104.652 421.616 L104.652 418.418 Z\" fill=\"#000000\" fill-rule=\"nonzero\" fill-opacity=\"1\" /><path clip-path=\"url(#clip150)\" d=\"M140.236 428.894 L153.496 428.894 L153.496 432.092 L135.666 432.092 L135.666 428.894 Q137.829 426.656 141.553 422.895 Q145.296 419.114 146.255 418.023 Q148.079 415.973 148.794 414.563 Q149.527 413.133 149.527 411.76 Q149.527 409.522 147.948 408.112 Q146.387 406.701 143.866 406.701 Q142.08 406.701 140.086 407.322 Q138.111 407.942 135.854 409.202 L135.854 405.366 Q138.149 404.444 140.142 403.974 Q142.136 403.504 143.791 403.504 Q148.155 403.504 150.75 405.685 Q153.345 407.867 153.345 411.516 Q153.345 413.246 152.687 414.807 Q152.048 416.349 150.336 418.456 Q149.866 419.001 147.346 421.616 Q144.826 424.211 140.236 428.894 Z\" fill=\"#000000\" fill-rule=\"nonzero\" fill-opacity=\"1\" /><polyline clip-path=\"url(#clip152)\" style=\"stroke:#009af9; stroke-linecap:round; stroke-linejoin:round; stroke-width:12; stroke-opacity:1; fill:none\" points=\"2291.53,286.825 1951.4,478.248 1611.26,669.41 1271.13,860.515 930.991,1051.61 590.855,1242.69 250.72,1433.78 \"/>\n",
       "<circle clip-path=\"url(#clip152)\" cx=\"2291.53\" cy=\"286.825\" r=\"14.4\" fill=\"#009af9\" fill-rule=\"evenodd\" fill-opacity=\"1\" stroke=\"#000000\" stroke-opacity=\"1\" stroke-width=\"3.2\"/>\n",
       "<circle clip-path=\"url(#clip152)\" cx=\"1951.4\" cy=\"478.248\" r=\"14.4\" fill=\"#009af9\" fill-rule=\"evenodd\" fill-opacity=\"1\" stroke=\"#000000\" stroke-opacity=\"1\" stroke-width=\"3.2\"/>\n",
       "<circle clip-path=\"url(#clip152)\" cx=\"1611.26\" cy=\"669.41\" r=\"14.4\" fill=\"#009af9\" fill-rule=\"evenodd\" fill-opacity=\"1\" stroke=\"#000000\" stroke-opacity=\"1\" stroke-width=\"3.2\"/>\n",
       "<circle clip-path=\"url(#clip152)\" cx=\"1271.13\" cy=\"860.515\" r=\"14.4\" fill=\"#009af9\" fill-rule=\"evenodd\" fill-opacity=\"1\" stroke=\"#000000\" stroke-opacity=\"1\" stroke-width=\"3.2\"/>\n",
       "<circle clip-path=\"url(#clip152)\" cx=\"930.991\" cy=\"1051.61\" r=\"14.4\" fill=\"#009af9\" fill-rule=\"evenodd\" fill-opacity=\"1\" stroke=\"#000000\" stroke-opacity=\"1\" stroke-width=\"3.2\"/>\n",
       "<circle clip-path=\"url(#clip152)\" cx=\"590.855\" cy=\"1242.69\" r=\"14.4\" fill=\"#009af9\" fill-rule=\"evenodd\" fill-opacity=\"1\" stroke=\"#000000\" stroke-opacity=\"1\" stroke-width=\"3.2\"/>\n",
       "<circle clip-path=\"url(#clip152)\" cx=\"250.72\" cy=\"1433.78\" r=\"14.4\" fill=\"#009af9\" fill-rule=\"evenodd\" fill-opacity=\"1\" stroke=\"#000000\" stroke-opacity=\"1\" stroke-width=\"3.2\"/>\n",
       "<polyline clip-path=\"url(#clip152)\" style=\"stroke:#e26f46; stroke-linecap:round; stroke-linejoin:round; stroke-width:12; stroke-opacity:1; fill:none\" points=\"2291.53,87.6286 1951.4,278.715 1611.26,469.801 1271.13,660.888 930.991,851.974 590.855,1043.06 250.72,1234.15 \"/>\n",
       "<path clip-path=\"url(#clip150)\" d=\"M261.605 250.328 L566.75 250.328 L566.75 94.8081 L261.605 94.8081  Z\" fill=\"#ffffff\" fill-rule=\"evenodd\" fill-opacity=\"1\"/>\n",
       "<polyline clip-path=\"url(#clip150)\" style=\"stroke:#000000; stroke-linecap:round; stroke-linejoin:round; stroke-width:4; stroke-opacity:1; fill:none\" points=\"261.605,250.328 566.75,250.328 566.75,94.8081 261.605,94.8081 261.605,250.328 \"/>\n",
       "<polyline clip-path=\"url(#clip150)\" style=\"stroke:#009af9; stroke-linecap:round; stroke-linejoin:round; stroke-width:12; stroke-opacity:1; fill:none\" points=\"285.641,146.648 429.858,146.648 \"/>\n",
       "<circle clip-path=\"url(#clip150)\" cx=\"357.749\" cy=\"146.648\" r=\"20.0302\" fill=\"#009af9\" fill-rule=\"evenodd\" fill-opacity=\"1\" stroke=\"#000000\" stroke-opacity=\"1\" stroke-width=\"4.55111\"/>\n",
       "<path clip-path=\"url(#clip150)\" d=\"M453.894 129.368 L475.746 129.368 L475.746 133.303 L458.57 133.303 L458.57 143.535 L475.029 143.535 L475.029 147.47 L458.57 147.47 L458.57 159.993 L476.163 159.993 L476.163 163.928 L453.894 163.928 L453.894 129.368 Z\" fill=\"#000000\" fill-rule=\"nonzero\" fill-opacity=\"1\" /><path clip-path=\"url(#clip150)\" d=\"M498.686 141.984 Q497.968 141.567 497.112 141.382 Q496.278 141.174 495.26 141.174 Q491.649 141.174 489.704 143.535 Q487.783 145.873 487.783 150.271 L487.783 163.928 L483.501 163.928 L483.501 138.002 L487.783 138.002 L487.783 142.03 Q489.126 139.669 491.278 138.535 Q493.431 137.377 496.51 137.377 Q496.95 137.377 497.482 137.447 Q498.014 137.493 498.663 137.609 L498.686 141.984 Z\" fill=\"#000000\" fill-rule=\"nonzero\" fill-opacity=\"1\" /><path clip-path=\"url(#clip150)\" d=\"M517.343 141.984 Q516.626 141.567 515.769 141.382 Q514.936 141.174 513.917 141.174 Q510.306 141.174 508.362 143.535 Q506.44 145.873 506.44 150.271 L506.44 163.928 L502.158 163.928 L502.158 138.002 L506.44 138.002 L506.44 142.03 Q507.783 139.669 509.936 138.535 Q512.088 137.377 515.167 137.377 Q515.607 137.377 516.139 137.447 Q516.672 137.493 517.32 137.609 L517.343 141.984 Z\" fill=\"#000000\" fill-rule=\"nonzero\" fill-opacity=\"1\" /><path clip-path=\"url(#clip150)\" d=\"M530.815 140.988 Q527.389 140.988 525.399 143.674 Q523.408 146.336 523.408 150.988 Q523.408 155.641 525.375 158.326 Q527.366 160.988 530.815 160.988 Q534.218 160.988 536.209 158.303 Q538.199 155.618 538.199 150.988 Q538.199 146.382 536.209 143.697 Q534.218 140.988 530.815 140.988 M530.815 137.377 Q536.371 137.377 539.542 140.988 Q542.713 144.6 542.713 150.988 Q542.713 157.354 539.542 160.988 Q536.371 164.599 530.815 164.599 Q525.237 164.599 522.065 160.988 Q518.917 157.354 518.917 150.988 Q518.917 144.6 522.065 140.988 Q525.237 137.377 530.815 137.377 Z\" fill=\"#000000\" fill-rule=\"nonzero\" fill-opacity=\"1\" /><polyline clip-path=\"url(#clip150)\" style=\"stroke:#e26f46; stroke-linecap:round; stroke-linejoin:round; stroke-width:12; stroke-opacity:1; fill:none\" points=\"285.641,198.488 429.858,198.488 \"/>\n",
       "<path clip-path=\"url(#clip150)\" d=\"M475.607 200.12 L475.607 215.768 L471.348 215.768 L471.348 200.259 Q471.348 196.578 469.913 194.75 Q468.478 192.921 465.607 192.921 Q462.158 192.921 460.167 195.12 Q458.177 197.319 458.177 201.115 L458.177 215.768 L453.894 215.768 L453.894 179.75 L458.177 179.75 L458.177 193.87 Q459.705 191.532 461.765 190.375 Q463.848 189.217 466.556 189.217 Q471.024 189.217 473.316 191.995 Q475.607 194.75 475.607 200.12 Z\" fill=\"#000000\" fill-rule=\"nonzero\" fill-opacity=\"1\" /><path clip-path=\"url(#clip150)\" d=\"M485.839 197.666 L495.653 197.666 L495.653 200.305 L481.811 200.305 L481.811 197.759 Q482.598 197.041 484.056 195.745 Q492.019 188.685 492.019 186.509 Q492.019 184.981 490.815 184.055 Q489.612 183.106 487.644 183.106 Q486.44 183.106 485.028 183.523 Q483.616 183.916 481.95 184.727 L481.95 181.879 Q483.732 181.231 485.26 180.907 Q486.811 180.583 488.13 180.583 Q491.487 180.583 493.501 182.111 Q495.515 183.639 495.515 186.139 Q495.515 189.356 487.853 195.93 Q486.556 197.041 485.839 197.666 Z\" fill=\"#000000\" fill-rule=\"nonzero\" fill-opacity=\"1\" /></svg>\n"
      ],
      "text/html": [
       "<?xml version=\"1.0\" encoding=\"utf-8\"?>\n",
       "<svg xmlns=\"http://www.w3.org/2000/svg\" xmlns:xlink=\"http://www.w3.org/1999/xlink\" width=\"600\" height=\"400\" viewBox=\"0 0 2400 1600\">\n",
       "<defs>\n",
       "  <clipPath id=\"clip200\">\n",
       "    <rect x=\"0\" y=\"0\" width=\"2400\" height=\"1600\"/>\n",
       "  </clipPath>\n",
       "</defs>\n",
       "<path clip-path=\"url(#clip200)\" d=\"M0 1600 L2400 1600 L2400 0 L0 0  Z\" fill=\"#ffffff\" fill-rule=\"evenodd\" fill-opacity=\"1\"/>\n",
       "<defs>\n",
       "  <clipPath id=\"clip201\">\n",
       "    <rect x=\"480\" y=\"0\" width=\"1681\" height=\"1600\"/>\n",
       "  </clipPath>\n",
       "</defs>\n",
       "<path clip-path=\"url(#clip200)\" d=\"M189.496 1474.16 L2352.76 1474.16 L2352.76 47.2441 L189.496 47.2441  Z\" fill=\"#ffffff\" fill-rule=\"evenodd\" fill-opacity=\"1\"/>\n",
       "<defs>\n",
       "  <clipPath id=\"clip202\">\n",
       "    <rect x=\"189\" y=\"47\" width=\"2164\" height=\"1428\"/>\n",
       "  </clipPath>\n",
       "</defs>\n",
       "<polyline clip-path=\"url(#clip202)\" style=\"stroke:#000000; stroke-linecap:round; stroke-linejoin:round; stroke-width:2; stroke-opacity:0.1; fill:none\" points=\"541.925,1474.16 541.925,47.2441 \"/>\n",
       "<polyline clip-path=\"url(#clip202)\" style=\"stroke:#000000; stroke-linecap:round; stroke-linejoin:round; stroke-width:2; stroke-opacity:0.1; fill:none\" points=\"1671.83,1474.16 1671.83,47.2441 \"/>\n",
       "<polyline clip-path=\"url(#clip202)\" style=\"stroke:#000000; stroke-linecap:round; stroke-linejoin:round; stroke-width:2; stroke-opacity:0.1; fill:none\" points=\"189.496,1070.55 2352.76,1070.55 \"/>\n",
       "<polyline clip-path=\"url(#clip202)\" style=\"stroke:#000000; stroke-linecap:round; stroke-linejoin:round; stroke-width:2; stroke-opacity:0.1; fill:none\" points=\"189.496,435.774 2352.76,435.774 \"/>\n",
       "<polyline clip-path=\"url(#clip200)\" style=\"stroke:#000000; stroke-linecap:round; stroke-linejoin:round; stroke-width:4; stroke-opacity:1; fill:none\" points=\"189.496,1474.16 2352.76,1474.16 \"/>\n",
       "<polyline clip-path=\"url(#clip200)\" style=\"stroke:#000000; stroke-linecap:round; stroke-linejoin:round; stroke-width:4; stroke-opacity:1; fill:none\" points=\"541.925,1474.16 541.925,1455.27 \"/>\n",
       "<polyline clip-path=\"url(#clip200)\" style=\"stroke:#000000; stroke-linecap:round; stroke-linejoin:round; stroke-width:4; stroke-opacity:1; fill:none\" points=\"1671.83,1474.16 1671.83,1455.27 \"/>\n",
       "<path clip-path=\"url(#clip200)\" d=\"M492.191 1548.29 L499.83 1548.29 L499.83 1521.92 L491.519 1523.59 L491.519 1519.33 L499.783 1517.66 L504.459 1517.66 L504.459 1548.29 L512.098 1548.29 L512.098 1552.22 L492.191 1552.22 L492.191 1548.29 Z\" fill=\"#000000\" fill-rule=\"nonzero\" fill-opacity=\"1\" /><path clip-path=\"url(#clip200)\" d=\"M531.542 1520.74 Q527.931 1520.74 526.103 1524.31 Q524.297 1527.85 524.297 1534.98 Q524.297 1542.09 526.103 1545.65 Q527.931 1549.19 531.542 1549.19 Q535.177 1549.19 536.982 1545.65 Q538.811 1542.09 538.811 1534.98 Q538.811 1527.85 536.982 1524.31 Q535.177 1520.74 531.542 1520.74 M531.542 1517.04 Q537.352 1517.04 540.408 1521.65 Q543.487 1526.23 543.487 1534.98 Q543.487 1543.71 540.408 1548.31 Q537.352 1552.9 531.542 1552.9 Q525.732 1552.9 522.653 1548.31 Q519.598 1543.71 519.598 1534.98 Q519.598 1526.23 522.653 1521.65 Q525.732 1517.04 531.542 1517.04 Z\" fill=\"#000000\" fill-rule=\"nonzero\" fill-opacity=\"1\" /><path clip-path=\"url(#clip200)\" d=\"M543.487 1511.14 L567.598 1511.14 L567.598 1514.34 L543.487 1514.34 L543.487 1511.14 Z\" fill=\"#000000\" fill-rule=\"nonzero\" fill-opacity=\"1\" /><path clip-path=\"url(#clip200)\" d=\"M579.071 1521.62 L592.33 1521.62 L592.33 1524.81 L574.501 1524.81 L574.501 1521.62 Q576.664 1519.38 580.388 1515.62 Q584.13 1511.84 585.089 1510.75 Q586.914 1508.7 587.629 1507.29 Q588.362 1505.86 588.362 1504.48 Q588.362 1502.24 586.782 1500.83 Q585.221 1499.42 582.701 1499.42 Q580.914 1499.42 578.921 1500.04 Q576.946 1500.67 574.689 1501.93 L574.689 1498.09 Q576.983 1497.17 578.977 1496.7 Q580.971 1496.23 582.626 1496.23 Q586.989 1496.23 589.585 1498.41 Q592.18 1500.59 592.18 1504.24 Q592.18 1505.97 591.522 1507.53 Q590.882 1509.07 589.171 1511.18 Q588.701 1511.72 586.18 1514.34 Q583.66 1516.93 579.071 1521.62 Z\" fill=\"#000000\" fill-rule=\"nonzero\" fill-opacity=\"1\" /><path clip-path=\"url(#clip200)\" d=\"M1621.94 1548.29 L1629.58 1548.29 L1629.58 1521.92 L1621.27 1523.59 L1621.27 1519.33 L1629.54 1517.66 L1634.21 1517.66 L1634.21 1548.29 L1641.85 1548.29 L1641.85 1552.22 L1621.94 1552.22 L1621.94 1548.29 Z\" fill=\"#000000\" fill-rule=\"nonzero\" fill-opacity=\"1\" /><path clip-path=\"url(#clip200)\" d=\"M1661.3 1520.74 Q1657.69 1520.74 1655.86 1524.31 Q1654.05 1527.85 1654.05 1534.98 Q1654.05 1542.09 1655.86 1545.65 Q1657.69 1549.19 1661.3 1549.19 Q1664.93 1549.19 1666.74 1545.65 Q1668.57 1542.09 1668.57 1534.98 Q1668.57 1527.85 1666.74 1524.31 Q1664.93 1520.74 1661.3 1520.74 M1661.3 1517.04 Q1667.11 1517.04 1670.16 1521.65 Q1673.24 1526.23 1673.24 1534.98 Q1673.24 1543.71 1670.16 1548.31 Q1667.11 1552.9 1661.3 1552.9 Q1655.49 1552.9 1652.41 1548.31 Q1649.35 1543.71 1649.35 1534.98 Q1649.35 1526.23 1652.41 1521.65 Q1655.49 1517.04 1661.3 1517.04 Z\" fill=\"#000000\" fill-rule=\"nonzero\" fill-opacity=\"1\" /><path clip-path=\"url(#clip200)\" d=\"M1673.24 1511.14 L1697.35 1511.14 L1697.35 1514.34 L1673.24 1514.34 L1673.24 1511.14 Z\" fill=\"#000000\" fill-rule=\"nonzero\" fill-opacity=\"1\" /><path clip-path=\"url(#clip200)\" d=\"M1706.21 1521.62 L1712.42 1521.62 L1712.42 1500.19 L1705.67 1501.55 L1705.67 1498.09 L1712.38 1496.73 L1716.18 1496.73 L1716.18 1521.62 L1722.39 1521.62 L1722.39 1524.81 L1706.21 1524.81 L1706.21 1521.62 Z\" fill=\"#000000\" fill-rule=\"nonzero\" fill-opacity=\"1\" /><polyline clip-path=\"url(#clip200)\" style=\"stroke:#000000; stroke-linecap:round; stroke-linejoin:round; stroke-width:4; stroke-opacity:1; fill:none\" points=\"189.496,1474.16 189.496,47.2441 \"/>\n",
       "<polyline clip-path=\"url(#clip200)\" style=\"stroke:#000000; stroke-linecap:round; stroke-linejoin:round; stroke-width:4; stroke-opacity:1; fill:none\" points=\"189.496,1070.55 208.394,1070.55 \"/>\n",
       "<polyline clip-path=\"url(#clip200)\" style=\"stroke:#000000; stroke-linecap:round; stroke-linejoin:round; stroke-width:4; stroke-opacity:1; fill:none\" points=\"189.496,435.774 208.394,435.774 \"/>\n",
       "<path clip-path=\"url(#clip200)\" d=\"M51.6634 1090.34 L59.3023 1090.34 L59.3023 1063.98 L50.9921 1065.64 L50.9921 1061.38 L59.256 1059.72 L63.9319 1059.72 L63.9319 1090.34 L71.5707 1090.34 L71.5707 1094.28 L51.6634 1094.28 L51.6634 1090.34 Z\" fill=\"#000000\" fill-rule=\"nonzero\" fill-opacity=\"1\" /><path clip-path=\"url(#clip200)\" d=\"M91.0151 1062.8 Q87.404 1062.8 85.5753 1066.36 Q83.7697 1069.9 83.7697 1077.03 Q83.7697 1084.14 85.5753 1087.7 Q87.404 1091.24 91.0151 1091.24 Q94.6493 1091.24 96.4548 1087.7 Q98.2835 1084.14 98.2835 1077.03 Q98.2835 1069.9 96.4548 1066.36 Q94.6493 1062.8 91.0151 1062.8 M91.0151 1059.09 Q96.8252 1059.09 99.8808 1063.7 Q102.959 1068.28 102.959 1077.03 Q102.959 1085.76 99.8808 1090.37 Q96.8252 1094.95 91.0151 1094.95 Q85.2049 1094.95 82.1262 1090.37 Q79.0707 1085.76 79.0707 1077.03 Q79.0707 1068.28 82.1262 1063.7 Q85.2049 1059.09 91.0151 1059.09 Z\" fill=\"#000000\" fill-rule=\"nonzero\" fill-opacity=\"1\" /><path clip-path=\"url(#clip200)\" d=\"M102.959 1053.19 L127.071 1053.19 L127.071 1056.39 L102.959 1056.39 L102.959 1053.19 Z\" fill=\"#000000\" fill-rule=\"nonzero\" fill-opacity=\"1\" /><path clip-path=\"url(#clip200)\" d=\"M145.71 1042.1 L136.118 1057.09 L145.71 1057.09 L145.71 1042.1 M144.713 1038.79 L149.49 1038.79 L149.49 1057.09 L153.496 1057.09 L153.496 1060.25 L149.49 1060.25 L149.49 1066.87 L145.71 1066.87 L145.71 1060.25 L133.033 1060.25 L133.033 1056.58 L144.713 1038.79 Z\" fill=\"#000000\" fill-rule=\"nonzero\" fill-opacity=\"1\" /><path clip-path=\"url(#clip200)\" d=\"M53.3561 455.567 L60.995 455.567 L60.995 429.201 L52.6848 430.868 L52.6848 426.609 L60.9487 424.942 L65.6246 424.942 L65.6246 455.567 L73.2634 455.567 L73.2634 459.502 L53.3561 459.502 L53.3561 455.567 Z\" fill=\"#000000\" fill-rule=\"nonzero\" fill-opacity=\"1\" /><path clip-path=\"url(#clip200)\" d=\"M92.7078 428.021 Q89.0967 428.021 87.268 431.585 Q85.4624 435.127 85.4624 442.257 Q85.4624 449.363 87.268 452.928 Q89.0967 456.47 92.7078 456.47 Q96.342 456.47 98.1475 452.928 Q99.9762 449.363 99.9762 442.257 Q99.9762 435.127 98.1475 431.585 Q96.342 428.021 92.7078 428.021 M92.7078 424.317 Q98.5179 424.317 101.573 428.923 Q104.652 433.507 104.652 442.257 Q104.652 450.983 101.573 455.59 Q98.5179 460.173 92.7078 460.173 Q86.8976 460.173 83.8189 455.59 Q80.7634 450.983 80.7634 442.257 Q80.7634 433.507 83.8189 428.923 Q86.8976 424.317 92.7078 424.317 Z\" fill=\"#000000\" fill-rule=\"nonzero\" fill-opacity=\"1\" /><path clip-path=\"url(#clip200)\" d=\"M104.652 418.418 L128.764 418.418 L128.764 421.616 L104.652 421.616 L104.652 418.418 Z\" fill=\"#000000\" fill-rule=\"nonzero\" fill-opacity=\"1\" /><path clip-path=\"url(#clip200)\" d=\"M140.236 428.894 L153.496 428.894 L153.496 432.092 L135.666 432.092 L135.666 428.894 Q137.829 426.656 141.553 422.895 Q145.296 419.114 146.255 418.023 Q148.079 415.973 148.794 414.563 Q149.527 413.133 149.527 411.76 Q149.527 409.522 147.948 408.112 Q146.387 406.701 143.866 406.701 Q142.08 406.701 140.086 407.322 Q138.111 407.942 135.854 409.202 L135.854 405.366 Q138.149 404.444 140.142 403.974 Q142.136 403.504 143.791 403.504 Q148.155 403.504 150.75 405.685 Q153.345 407.867 153.345 411.516 Q153.345 413.246 152.687 414.807 Q152.048 416.349 150.336 418.456 Q149.866 419.001 147.346 421.616 Q144.826 424.211 140.236 428.894 Z\" fill=\"#000000\" fill-rule=\"nonzero\" fill-opacity=\"1\" /><polyline clip-path=\"url(#clip202)\" style=\"stroke:#009af9; stroke-linecap:round; stroke-linejoin:round; stroke-width:12; stroke-opacity:1; fill:none\" points=\"2291.53,286.825 1951.4,478.248 1611.26,669.41 1271.13,860.515 930.991,1051.61 590.855,1242.69 250.72,1433.78 \"/>\n",
       "<circle clip-path=\"url(#clip202)\" cx=\"2291.53\" cy=\"286.825\" r=\"14.4\" fill=\"#009af9\" fill-rule=\"evenodd\" fill-opacity=\"1\" stroke=\"#000000\" stroke-opacity=\"1\" stroke-width=\"3.2\"/>\n",
       "<circle clip-path=\"url(#clip202)\" cx=\"1951.4\" cy=\"478.248\" r=\"14.4\" fill=\"#009af9\" fill-rule=\"evenodd\" fill-opacity=\"1\" stroke=\"#000000\" stroke-opacity=\"1\" stroke-width=\"3.2\"/>\n",
       "<circle clip-path=\"url(#clip202)\" cx=\"1611.26\" cy=\"669.41\" r=\"14.4\" fill=\"#009af9\" fill-rule=\"evenodd\" fill-opacity=\"1\" stroke=\"#000000\" stroke-opacity=\"1\" stroke-width=\"3.2\"/>\n",
       "<circle clip-path=\"url(#clip202)\" cx=\"1271.13\" cy=\"860.515\" r=\"14.4\" fill=\"#009af9\" fill-rule=\"evenodd\" fill-opacity=\"1\" stroke=\"#000000\" stroke-opacity=\"1\" stroke-width=\"3.2\"/>\n",
       "<circle clip-path=\"url(#clip202)\" cx=\"930.991\" cy=\"1051.61\" r=\"14.4\" fill=\"#009af9\" fill-rule=\"evenodd\" fill-opacity=\"1\" stroke=\"#000000\" stroke-opacity=\"1\" stroke-width=\"3.2\"/>\n",
       "<circle clip-path=\"url(#clip202)\" cx=\"590.855\" cy=\"1242.69\" r=\"14.4\" fill=\"#009af9\" fill-rule=\"evenodd\" fill-opacity=\"1\" stroke=\"#000000\" stroke-opacity=\"1\" stroke-width=\"3.2\"/>\n",
       "<circle clip-path=\"url(#clip202)\" cx=\"250.72\" cy=\"1433.78\" r=\"14.4\" fill=\"#009af9\" fill-rule=\"evenodd\" fill-opacity=\"1\" stroke=\"#000000\" stroke-opacity=\"1\" stroke-width=\"3.2\"/>\n",
       "<polyline clip-path=\"url(#clip202)\" style=\"stroke:#e26f46; stroke-linecap:round; stroke-linejoin:round; stroke-width:12; stroke-opacity:1; fill:none\" points=\"2291.53,87.6286 1951.4,278.715 1611.26,469.801 1271.13,660.888 930.991,851.974 590.855,1043.06 250.72,1234.15 \"/>\n",
       "<path clip-path=\"url(#clip200)\" d=\"M261.605 250.328 L566.75 250.328 L566.75 94.8081 L261.605 94.8081  Z\" fill=\"#ffffff\" fill-rule=\"evenodd\" fill-opacity=\"1\"/>\n",
       "<polyline clip-path=\"url(#clip200)\" style=\"stroke:#000000; stroke-linecap:round; stroke-linejoin:round; stroke-width:4; stroke-opacity:1; fill:none\" points=\"261.605,250.328 566.75,250.328 566.75,94.8081 261.605,94.8081 261.605,250.328 \"/>\n",
       "<polyline clip-path=\"url(#clip200)\" style=\"stroke:#009af9; stroke-linecap:round; stroke-linejoin:round; stroke-width:12; stroke-opacity:1; fill:none\" points=\"285.641,146.648 429.858,146.648 \"/>\n",
       "<circle clip-path=\"url(#clip200)\" cx=\"357.749\" cy=\"146.648\" r=\"20.0302\" fill=\"#009af9\" fill-rule=\"evenodd\" fill-opacity=\"1\" stroke=\"#000000\" stroke-opacity=\"1\" stroke-width=\"4.55111\"/>\n",
       "<path clip-path=\"url(#clip200)\" d=\"M453.894 129.368 L475.746 129.368 L475.746 133.303 L458.57 133.303 L458.57 143.535 L475.029 143.535 L475.029 147.47 L458.57 147.47 L458.57 159.993 L476.163 159.993 L476.163 163.928 L453.894 163.928 L453.894 129.368 Z\" fill=\"#000000\" fill-rule=\"nonzero\" fill-opacity=\"1\" /><path clip-path=\"url(#clip200)\" d=\"M498.686 141.984 Q497.968 141.567 497.112 141.382 Q496.278 141.174 495.26 141.174 Q491.649 141.174 489.704 143.535 Q487.783 145.873 487.783 150.271 L487.783 163.928 L483.501 163.928 L483.501 138.002 L487.783 138.002 L487.783 142.03 Q489.126 139.669 491.278 138.535 Q493.431 137.377 496.51 137.377 Q496.95 137.377 497.482 137.447 Q498.014 137.493 498.663 137.609 L498.686 141.984 Z\" fill=\"#000000\" fill-rule=\"nonzero\" fill-opacity=\"1\" /><path clip-path=\"url(#clip200)\" d=\"M517.343 141.984 Q516.626 141.567 515.769 141.382 Q514.936 141.174 513.917 141.174 Q510.306 141.174 508.362 143.535 Q506.44 145.873 506.44 150.271 L506.44 163.928 L502.158 163.928 L502.158 138.002 L506.44 138.002 L506.44 142.03 Q507.783 139.669 509.936 138.535 Q512.088 137.377 515.167 137.377 Q515.607 137.377 516.139 137.447 Q516.672 137.493 517.32 137.609 L517.343 141.984 Z\" fill=\"#000000\" fill-rule=\"nonzero\" fill-opacity=\"1\" /><path clip-path=\"url(#clip200)\" d=\"M530.815 140.988 Q527.389 140.988 525.399 143.674 Q523.408 146.336 523.408 150.988 Q523.408 155.641 525.375 158.326 Q527.366 160.988 530.815 160.988 Q534.218 160.988 536.209 158.303 Q538.199 155.618 538.199 150.988 Q538.199 146.382 536.209 143.697 Q534.218 140.988 530.815 140.988 M530.815 137.377 Q536.371 137.377 539.542 140.988 Q542.713 144.6 542.713 150.988 Q542.713 157.354 539.542 160.988 Q536.371 164.599 530.815 164.599 Q525.237 164.599 522.065 160.988 Q518.917 157.354 518.917 150.988 Q518.917 144.6 522.065 140.988 Q525.237 137.377 530.815 137.377 Z\" fill=\"#000000\" fill-rule=\"nonzero\" fill-opacity=\"1\" /><polyline clip-path=\"url(#clip200)\" style=\"stroke:#e26f46; stroke-linecap:round; stroke-linejoin:round; stroke-width:12; stroke-opacity:1; fill:none\" points=\"285.641,198.488 429.858,198.488 \"/>\n",
       "<path clip-path=\"url(#clip200)\" d=\"M475.607 200.12 L475.607 215.768 L471.348 215.768 L471.348 200.259 Q471.348 196.578 469.913 194.75 Q468.478 192.921 465.607 192.921 Q462.158 192.921 460.167 195.12 Q458.177 197.319 458.177 201.115 L458.177 215.768 L453.894 215.768 L453.894 179.75 L458.177 179.75 L458.177 193.87 Q459.705 191.532 461.765 190.375 Q463.848 189.217 466.556 189.217 Q471.024 189.217 473.316 191.995 Q475.607 194.75 475.607 200.12 Z\" fill=\"#000000\" fill-rule=\"nonzero\" fill-opacity=\"1\" /><path clip-path=\"url(#clip200)\" d=\"M485.839 197.666 L495.653 197.666 L495.653 200.305 L481.811 200.305 L481.811 197.759 Q482.598 197.041 484.056 195.745 Q492.019 188.685 492.019 186.509 Q492.019 184.981 490.815 184.055 Q489.612 183.106 487.644 183.106 Q486.44 183.106 485.028 183.523 Q483.616 183.916 481.95 184.727 L481.95 181.879 Q483.732 181.231 485.26 180.907 Q486.811 180.583 488.13 180.583 Q491.487 180.583 493.501 182.111 Q495.515 183.639 495.515 186.139 Q495.515 189.356 487.853 195.93 Q486.556 197.041 485.839 197.666 Z\" fill=\"#000000\" fill-rule=\"nonzero\" fill-opacity=\"1\" /></svg>\n"
      ]
     },
     "metadata": {},
     "output_type": "display_data"
    }
   ],
   "source": [
    "plot_error_curves(resultado_convergencia[: ,:1], resultado_convergencia[: ,:2])"
   ]
  },
  {
   "cell_type": "markdown",
   "metadata": {},
   "source": [
    "# Caso quadrilátero convexo com lados não-paralelos"
   ]
  },
  {
   "cell_type": "markdown",
   "metadata": {},
   "source": [
    "## Funções de mapping"
   ]
  },
  {
   "cell_type": "code",
   "execution_count": 28,
   "metadata": {},
   "outputs": [
    {
     "data": {
      "text/plain": [
       "derivative_vector_applied (generic function with 1 method)"
      ]
     },
     "execution_count": 28,
     "metadata": {},
     "output_type": "execute_result"
    }
   ],
   "source": [
    "function mapper_to_x_generic(Xᵉ_a::Vector{Float64})::Function\n",
    "    return (ξ₁::Float64, ξ₂::Float64)-> Xᵉ_a ⋅ map(f -> f(ξ₁, ξ₂), ϕ.(1:length(Xᵉ_a)))\n",
    "end\n",
    "\n",
    "function derivative_vector_applied(Xᵉ_a::Vector{Float64}, variable::Int64)::Function\n",
    "    return (ξ₁::Float64, ξ₂::Float64)-> Xᵉ_a ⋅ map(f -> f(ξ₁, ξ₂), ∂ϕ.(variable, 1:length(Xᵉ_a)))\n",
    "end"
   ]
  },
  {
   "cell_type": "markdown",
   "metadata": {},
   "source": [
    "## Quadraturas"
   ]
  },
  {
   "cell_type": "code",
   "execution_count": 29,
   "metadata": {},
   "outputs": [
    {
     "data": {
      "text/plain": [
       "quadratura_F_local_quadrilatero (generic function with 1 method)"
      ]
     },
     "execution_count": 29,
     "metadata": {},
     "output_type": "execute_result"
    }
   ],
   "source": [
    "function quadratura_F_local_quadrilatero(f::Function, ϕₐ::Function, X1e::Vector{Float64}, X2e::Vector{Float64}, P::Vector{Float64}, W::Vector{Float64})\n",
    "    quadratura = 0.0\n",
    "    \n",
    "    ξ_to_x1 = mapper_to_x_generic(X1e)\n",
    "    ξ_to_x2 = mapper_to_x_generic(X2e)\n",
    "    \n",
    "    for (ξ₁, w₁) in zip(P, W)\n",
    "        for (ξ₂, w₂) in zip(P, W)\n",
    "            dx1_dξ1 = derivative_vector_applied(X1e, 1)(ξ₁, ξ₂)\n",
    "            dx2_dξ2 = derivative_vector_applied(X2e, 2)(ξ₁, ξ₂)\n",
    "            dx1_dξ2 = derivative_vector_applied(X1e, 2)(ξ₁, ξ₂)\n",
    "            dx2_dξ1 = derivative_vector_applied(X2e, 1)(ξ₁, ξ₂)\n",
    "            \n",
    "            J_ξ = dx1_dξ1 * dx2_dξ2 - dx1_dξ2 * dx2_dξ1            \n",
    "            quadratura += (w₁*w₂) * f(ξ_to_x1(ξ₁, ξ₂), ξ_to_x2(ξ₁, ξ₂)) * ϕₐ(ξ₁, ξ₂) * J_ξ\n",
    "                          \n",
    "        end\n",
    "    end\n",
    "    \n",
    "    return quadratura\n",
    "end"
   ]
  },
  {
   "cell_type": "code",
   "execution_count": 30,
   "metadata": {},
   "outputs": [
    {
     "data": {
      "text/plain": [
       "quadratura_K_local_quadrilatero (generic function with 1 method)"
      ]
     },
     "execution_count": 30,
     "metadata": {},
     "output_type": "execute_result"
    }
   ],
   "source": [
    "function quadratura_K_local_quadrilatero(a::Int64, b::Int64, α::Float64, β::Float64, X1e::Vector{Float64}, X2e::Vector{Float64}, P::Vector{Float64}, W::Vector{Float64})::Float64\n",
    "    \n",
    "    quadratura_α = 0.0\n",
    "    quadratura_β = 0.0\n",
    "    \n",
    "    for (ξ₁, w₁) in zip(P, W)\n",
    "        for (ξ₂, w₂) in zip(P, W)\n",
    "            dx1_dξ1 = derivative_vector_applied(X1e, 1)(ξ₁, ξ₂)\n",
    "            dx2_dξ2 = derivative_vector_applied(X2e, 2)(ξ₁, ξ₂)\n",
    "            dx1_dξ2 = derivative_vector_applied(X1e, 2)(ξ₁, ξ₂)\n",
    "            dx2_dξ1 = derivative_vector_applied(X2e, 1)(ξ₁, ξ₂)\n",
    "            \n",
    "            HTH_11 = (dx2_dξ2)^2 + (dx1_dξ2)^2\n",
    "            HTH_12 = -(dx2_dξ2 * dx2_dξ1) - (dx1_dξ2 * dx1_dξ1)\n",
    "            HTH_21 = -(dx2_dξ1 * dx2_dξ2) - (dx1_dξ1 * dx1_dξ2)\n",
    "            HTH_22 = (dx2_dξ1)^2 + (dx1_dξ1)^2\n",
    "            \n",
    "            termo1 = ∂ϕ(1, b)(ξ₁, ξ₂) * (HTH_11 * ∂ϕ(1, a)(ξ₁, ξ₂) + HTH_12 * ∂ϕ(2, a)(ξ₁, ξ₂)) \n",
    "            termo2 = ∂ϕ(2, b)(ξ₁, ξ₂) * (HTH_21 * ∂ϕ(1, a)(ξ₁, ξ₂) + HTH_22 * ∂ϕ(2, a)(ξ₁, ξ₂))\n",
    "            \n",
    "            J_ξ = (dx1_dξ1 * dx2_dξ2) - (dx1_dξ2 * dx2_dξ1)\n",
    "            \n",
    "            quadratura_α += (w₁ * w₂) * (termo1 + termo2) * (1/J_ξ)\n",
    "            quadratura_β += (w₁ * w₂) * ϕ(b)(ξ₁, ξ₂) * ϕ(a)(ξ₁, ξ₂) * J_ξ\n",
    "            \n",
    "        end\n",
    "    end\n",
    "    \n",
    "    quadratura_α *= α    \n",
    "    quadratura_β *= β\n",
    "    \n",
    "    return quadratura_α + quadratura_β     \n",
    "end"
   ]
  },
  {
   "cell_type": "markdown",
   "metadata": {},
   "source": [
    "## Funções de Montagem local (K e F)"
   ]
  },
  {
   "cell_type": "code",
   "execution_count": 31,
   "metadata": {},
   "outputs": [
    {
     "data": {
      "text/plain": [
       "monta_F_local_quadrilatero (generic function with 1 method)"
      ]
     },
     "execution_count": 31,
     "metadata": {},
     "output_type": "execute_result"
    }
   ],
   "source": [
    "function monta_F_local_quadrilatero(f::Function, X1e::Vector{Float64}, X2e::Vector{Float64}, P::Vector{Float64}, W::Vector{Float64})\n",
    "    F_local = zeros(4)\n",
    "    \n",
    "    for a in 1:4\n",
    "         F_local[a] = quadratura_F_local_quadrilatero(f, ϕ(a), X1e, X2e, P, W)\n",
    "    end\n",
    "    \n",
    "    return F_local    \n",
    "end"
   ]
  },
  {
   "cell_type": "code",
   "execution_count": 32,
   "metadata": {},
   "outputs": [
    {
     "data": {
      "text/plain": [
       "monta_K_local_quadrilatero (generic function with 1 method)"
      ]
     },
     "execution_count": 32,
     "metadata": {},
     "output_type": "execute_result"
    }
   ],
   "source": [
    "function monta_K_local_quadrilatero(α::Float64, β::Float64, X1e::Vector{Float64}, X2e::Vector{Float64}, P::Vector{Float64}, W::Vector{Float64})::Matrix{Float64}    \n",
    "    Kᵉ = zeros(4, 4)\n",
    "    \n",
    "    for b in 1:4\n",
    "        for a in 1:4\n",
    "            Kᵉ[a, b] = quadratura_K_local_quadrilatero(a, b, α, β, X1e, X2e, P, W)\n",
    "        end\n",
    "    end\n",
    "    \n",
    "    return Kᵉ\n",
    "end"
   ]
  },
  {
   "cell_type": "markdown",
   "metadata": {},
   "source": [
    "### Testes de Montagem"
   ]
  },
  {
   "cell_type": "markdown",
   "metadata": {},
   "source": [
    "#### Teste 1"
   ]
  },
  {
   "cell_type": "code",
   "execution_count": 33,
   "metadata": {},
   "outputs": [
    {
     "data": {
      "text/plain": [
       "4×4 Matrix{Float64}:\n",
       "  4.0  -1.0  -2.0  -1.0\n",
       " -1.0   4.0  -1.0  -2.0\n",
       " -2.0  -1.0   4.0  -1.0\n",
       " -1.0  -2.0  -1.0   4.0"
      ]
     },
     "execution_count": 33,
     "metadata": {},
     "output_type": "execute_result"
    }
   ],
   "source": [
    "α = 6.0\n",
    "β = 0.0\n",
    "\n",
    "f = (x1::Float64, x2::Float64) -> 4/(0.25*0.25)\n",
    "X1e = [0.0, 0.25, 0.25, 0.0]\n",
    "X2e = [0.0, 0.0, 0.25, 0.25]\n",
    "\n",
    "P, W = legendre(5)\n",
    "\n",
    "monta_F_local_quadrilatero(f, X1e, X2e, P, W)\n",
    "monta_K_local_quadrilatero(α, β, X1e, X2e, P, W)"
   ]
  },
  {
   "cell_type": "code",
   "execution_count": 34,
   "metadata": {},
   "outputs": [
    {
     "data": {
      "text/plain": [
       "4×4 Matrix{Float64}:\n",
       " 4.0  2.0  1.0  2.0\n",
       " 2.0  4.0  2.0  1.0\n",
       " 1.0  2.0  4.0  2.0\n",
       " 2.0  1.0  2.0  4.0"
      ]
     },
     "execution_count": 34,
     "metadata": {},
     "output_type": "execute_result"
    }
   ],
   "source": [
    "α = 0.0\n",
    "β = 576.0\n",
    "\n",
    "f = (x1::Float64, x2::Float64) -> (16*9*x1*x2)/(0.25*0.25)^2\n",
    "X1e = [0.0, 0.25, 0.25, 0.0]\n",
    "X2e = [0.0, 0.0, 0.25, 0.25]\n",
    "P, W = legendre(5)\n",
    "\n",
    "monta_F_local_quadrilatero(f, X1e, X2e, P, W)\n",
    "monta_K_local_quadrilatero(α, β, X1e, X2e, P, W)"
   ]
  },
  {
   "cell_type": "code",
   "execution_count": 35,
   "metadata": {},
   "outputs": [
    {
     "data": {
      "text/plain": [
       "4×4 Matrix{Float64}:\n",
       "  0.722222    0.111111   0.0555556  -0.388889\n",
       "  0.111111    1.72222   -0.388889   -0.944444\n",
       "  0.0555556  -0.388889   0.722222    0.111111\n",
       " -0.388889   -0.944444   0.111111    1.72222"
      ]
     },
     "execution_count": 35,
     "metadata": {},
     "output_type": "execute_result"
    }
   ],
   "source": [
    "α = 1.0\n",
    "β = 1.0\n",
    "\n",
    "f = (x1::Float64, x2::Float64) -> x1 + x2\n",
    "X1e = [0.0, 2.0, 3.0, 1.0]\n",
    "X2e = [0.0, 0.0, 1.0, 1.0]\n",
    "P, W = legendre(5)\n",
    "\n",
    "monta_F_local_quadrilatero(f, X1e, X2e, P, W)\n",
    "monta_K_local_quadrilatero(α, β, X1e, X2e, P, W)"
   ]
  },
  {
   "cell_type": "markdown",
   "metadata": {},
   "source": [
    "## Funções de Montagem global (K e F)"
   ]
  },
  {
   "cell_type": "code",
   "execution_count": 36,
   "metadata": {},
   "outputs": [
    {
     "data": {
      "text/plain": [
       "monta_F_global_quadrilatero (generic function with 1 method)"
      ]
     },
     "execution_count": 36,
     "metadata": {},
     "output_type": "execute_result"
    }
   ],
   "source": [
    "function monta_F_global_quadrilatero(f::Function, X₁::AbstractArray{Float64}, X₂::AbstractArray{Float64}, m::Int64, EQ::Vector{Int64}, LG::Matrix{Int64})::Vector{Float64}\n",
    "    F_global = zeros(m+1)\n",
    "    ne = size(LG)[2]\n",
    "    EQoLG = EQ[LG]\n",
    "        \n",
    "    P, W = legendre(5)\n",
    "    for e in 1:ne\n",
    "        X1e = X₁[LG[:, e]]\n",
    "        X2e = X₂[LG[:, e]]\n",
    "        \n",
    "        F_local = monta_F_local_quadrilatero(f, X1e, X2e, P, W)\n",
    "        \n",
    "        for a in 1:4\n",
    "            index = EQoLG[a, e]\n",
    "            F_global[index] += F_local[a]\n",
    "        end\n",
    "    end\n",
    "        \n",
    "    return F_global[1:m]\n",
    "end"
   ]
  },
  {
   "cell_type": "code",
   "execution_count": 37,
   "metadata": {},
   "outputs": [
    {
     "data": {
      "text/plain": [
       "monta_K_global_quadrilatero (generic function with 1 method)"
      ]
     },
     "execution_count": 37,
     "metadata": {},
     "output_type": "execute_result"
    }
   ],
   "source": [
    "function monta_K_global_quadrilatero(α::Float64, β::Float64, X₁::AbstractArray{Float64}, X₂::AbstractArray{Float64}, m::Int64, EQ::Vector{Int64}, LG::Matrix{Int64})::SparseMatrixCSC{Float64}\n",
    "    K_global = spzeros(m+1, m+1)\n",
    "    EQoLG = EQ[LG]\n",
    "    \n",
    "    P, W = legendre(5)\n",
    "    ne = size(LG)[2]\n",
    "    \n",
    "    for e in 1:ne        \n",
    "        X1e = X₁[LG[:, e]]\n",
    "        X2e = X₂[LG[:, e]]\n",
    "        \n",
    "        K_local = monta_K_local_quadrilatero(α, β, X1e, X2e, P, W)\n",
    "        for b in 1:4\n",
    "            for a in 1:4\n",
    "                index_i = EQoLG[a, e]\n",
    "                index_j = EQoLG[b, e]\n",
    "                \n",
    "                K_global[index_i, index_j] += K_local[a, b]\n",
    "            end\n",
    "        end\n",
    "    end\n",
    "    \n",
    "    return K_global[1:m, 1:m]    \n",
    "end"
   ]
  },
  {
   "cell_type": "markdown",
   "metadata": {},
   "source": [
    "### Testes de Montagem - F"
   ]
  },
  {
   "cell_type": "markdown",
   "metadata": {},
   "source": [
    "#### Teste 1"
   ]
  },
  {
   "cell_type": "code",
   "execution_count": 38,
   "metadata": {},
   "outputs": [
    {
     "data": {
      "text/plain": [
       "6-element Vector{Float64}:\n",
       " 3.999999999999999\n",
       " 3.999999999999999\n",
       " 3.999999999999999\n",
       " 3.9999999999999996\n",
       " 3.9999999999999996\n",
       " 3.999999999999999"
      ]
     },
     "execution_count": 38,
     "metadata": {},
     "output_type": "execute_result"
    }
   ],
   "source": [
    "Nx1 = 4\n",
    "Nx2 = 3\n",
    "\n",
    "h = [1/Nx1; 1/Nx2]\n",
    "f = (x1::Float64, x2::Float64) -> 4/(h[1]*h[2])\n",
    "\n",
    "m, EQ = monta_EQ(Nx1, Nx2)\n",
    "LG = monta_LG(Nx1, Nx2)\n",
    "\n",
    "X1, X2, h1, h2 = malha2D(Nx1, Nx2)\n",
    "\n",
    "monta_F_global_quadrilatero(f, X1, X2, m, EQ, LG)"
   ]
  },
  {
   "cell_type": "markdown",
   "metadata": {},
   "source": [
    "#### Teste 2"
   ]
  },
  {
   "cell_type": "code",
   "execution_count": 39,
   "metadata": {},
   "outputs": [
    {
     "data": {
      "text/plain": [
       "9-element Vector{Float64}:\n",
       "  143.99999999999994\n",
       "  287.99999999999994\n",
       "  431.99999999999983\n",
       "  287.99999999999994\n",
       "  576.0\n",
       "  863.9999999999998\n",
       "  431.99999999999983\n",
       "  863.9999999999998\n",
       " 1296.0"
      ]
     },
     "execution_count": 39,
     "metadata": {},
     "output_type": "execute_result"
    }
   ],
   "source": [
    "Nx1 = 4\n",
    "Nx2 = 4\n",
    "\n",
    "h = [1/Nx1; 1/Nx2]\n",
    "f = (x1::Float64, x2::Float64) -> (16*9*x1*x2)/(h[1]*h[2])^2\n",
    "\n",
    "m, EQ = monta_EQ(Nx1, Nx2)\n",
    "LG = monta_LG(Nx1, Nx2)\n",
    "\n",
    "X1, X2, h1, h2 = malha2D(Nx1, Nx2)\n",
    "\n",
    "monta_F_global_quadrilatero(f, X1, X2, m, EQ, LG)"
   ]
  },
  {
   "cell_type": "markdown",
   "metadata": {},
   "source": [
    "#### Teste 3"
   ]
  },
  {
   "cell_type": "code",
   "execution_count": 40,
   "metadata": {},
   "outputs": [
    {
     "data": {
      "text/plain": [
       "6-element Vector{Float64}:\n",
       " 0.04861111111111109\n",
       " 0.06944444444444442\n",
       " 0.09027777777777776\n",
       " 0.07638888888888887\n",
       " 0.0972222222222222\n",
       " 0.11805555555555552"
      ]
     },
     "execution_count": 40,
     "metadata": {},
     "output_type": "execute_result"
    }
   ],
   "source": [
    "Nx1 = 4\n",
    "Nx2 = 3\n",
    "\n",
    "f = (x1::Float64, x2::Float64) -> x1 + x2\n",
    "\n",
    "m, EQ = monta_EQ(Nx1, Nx2)\n",
    "LG = monta_LG(Nx1, Nx2)\n",
    "\n",
    "X1, X2, h1, h2 = malha2D(Nx1, Nx2)\n",
    "\n",
    "monta_F_global_quadrilatero(f, X1, X2, m, EQ, LG)"
   ]
  },
  {
   "cell_type": "markdown",
   "metadata": {},
   "source": [
    "#### Teste 4"
   ]
  },
  {
   "cell_type": "code",
   "execution_count": 41,
   "metadata": {},
   "outputs": [
    {
     "data": {
      "text/plain": [
       "6-element Vector{Float64}:\n",
       " 0.047603316256427886\n",
       " 0.0685848331877617\n",
       " 0.09299899556951925\n",
       " 0.07729379019471166\n",
       " 0.08630556638050947\n",
       " 0.11514211312826136"
      ]
     },
     "execution_count": 41,
     "metadata": {},
     "output_type": "execute_result"
    }
   ],
   "source": [
    "Nx1 = 4\n",
    "Nx2 = 3\n",
    "\n",
    "f = (x1::Float64, x2::Float64) -> x1 + x2\n",
    "\n",
    "m, EQ = monta_EQ(Nx1, Nx2)\n",
    "LG = monta_LG(Nx1, Nx2)\n",
    "\n",
    "X1, X2, h1, h2 = malha2D(Nx1, Nx2)\n",
    "malha2D_adiciona_ruido!(X1, X2, h1, h2)\n",
    "\n",
    "monta_F_global_quadrilatero(f, X1, X2, m, EQ, LG)"
   ]
  },
  {
   "cell_type": "markdown",
   "metadata": {},
   "source": [
    "### Testes de Montagem - K"
   ]
  },
  {
   "cell_type": "markdown",
   "metadata": {},
   "source": [
    "#### Teste 1"
   ]
  },
  {
   "cell_type": "code",
   "execution_count": 42,
   "metadata": {},
   "outputs": [
    {
     "data": {
      "text/plain": [
       "6×6 SparseMatrixCSC{Float64, Int64} with 28 stored entries:\n",
       "  2.81481    -0.62963      ⋅         -0.0462963  -0.344907     ⋅ \n",
       " -0.62963     2.81481    -0.62963    -0.344907   -0.0462963  -0.344907\n",
       "   ⋅         -0.62963     2.81481      ⋅         -0.344907   -0.0462963\n",
       " -0.0462963  -0.344907     ⋅          2.81481    -0.62963      ⋅ \n",
       " -0.344907   -0.0462963  -0.344907   -0.62963     2.81481    -0.62963\n",
       "   ⋅         -0.344907   -0.0462963    ⋅         -0.62963     2.81481"
      ]
     },
     "execution_count": 42,
     "metadata": {},
     "output_type": "execute_result"
    }
   ],
   "source": [
    "α = 1.0\n",
    "β = 1.0\n",
    "\n",
    "Nx1 = 4\n",
    "Nx2 = 3\n",
    "\n",
    "m, EQ = monta_EQ(Nx1, Nx2)\n",
    "LG = monta_LG(Nx1, Nx2)\n",
    "\n",
    "X1, X2, h1, h2 = malha2D(Nx1, Nx2)\n",
    "\n",
    "monta_K_global_quadrilatero(α, β, X1, X2, m, EQ, LG)"
   ]
  },
  {
   "cell_type": "markdown",
   "metadata": {},
   "source": [
    "#### Teste 2"
   ]
  },
  {
   "cell_type": "code",
   "execution_count": 43,
   "metadata": {},
   "outputs": [
    {
     "data": {
      "text/plain": [
       "6×6 SparseMatrixCSC{Float64, Int64} with 28 stored entries:\n",
       "  2.88092    -0.613458    ⋅          0.0381134  -0.40725     ⋅ \n",
       " -0.613458    2.75984   -0.499622   -0.277955   -0.188666  -0.375015\n",
       "   ⋅         -0.499622   2.8879       ⋅         -0.327087   0.0851113\n",
       "  0.0381134  -0.277955    ⋅          2.91656    -0.563437    ⋅ \n",
       " -0.40725    -0.188666  -0.327087   -0.563437    2.8353    -0.719416\n",
       "   ⋅         -0.375015   0.0851113    ⋅         -0.719416   2.94773"
      ]
     },
     "execution_count": 43,
     "metadata": {},
     "output_type": "execute_result"
    }
   ],
   "source": [
    "α = 1.0\n",
    "β = 1.0\n",
    "\n",
    "Nx1 = 4\n",
    "Nx2 = 3\n",
    "\n",
    "m, EQ = monta_EQ(Nx1, Nx2)\n",
    "LG = monta_LG(Nx1, Nx2)\n",
    "\n",
    "X1, X2, h1, h2 = malha2D(Nx1, Nx2)\n",
    "malha2D_adiciona_ruido!(X1, X2, h1, h2)\n",
    "\n",
    "monta_K_global_quadrilatero(α, β, X1, X2, m, EQ, LG)"
   ]
  },
  {
   "cell_type": "markdown",
   "metadata": {},
   "source": [
    "## Cálculo do Erro"
   ]
  },
  {
   "cell_type": "code",
   "execution_count": 44,
   "metadata": {},
   "outputs": [
    {
     "data": {
      "text/plain": [
       "erro_norma_L2_quadrilatero (generic function with 1 method)"
      ]
     },
     "execution_count": 44,
     "metadata": {},
     "output_type": "execute_result"
    }
   ],
   "source": [
    "function erro_norma_L2_quadrilatero(u::Function, c̄::Vector{Float64}, X₁::AbstractArray{Float64}, X₂::AbstractArray{Float64}, EQ::Vector{Int64}, LG::Matrix{Int64})::Float64\n",
    "    quadratura_erro = 0.0\n",
    "    \n",
    "    ne = size(LG)[2]\n",
    "    P, W = legendre(5)\n",
    "    \n",
    "    EQoLG = EQ[LG]\n",
    "    for e in 1:ne\n",
    "        X1e = X₁[LG[:, e]]\n",
    "        X2e = X₂[LG[:, e]]         \n",
    "        ξ_to_x1 = mapper_to_x_generic(X1e)\n",
    "        ξ_to_x2 = mapper_to_x_generic(X2e)\n",
    "        \n",
    "        for (ξ₁, w₁) in zip(P, W)\n",
    "            for (ξ₂, w₂) in zip(P, W)\n",
    "                \n",
    "                u_in_x_from_ξ = u(ξ_to_x1(ξ₁, ξ₂), ξ_to_x2(ξ₁, ξ₂))\n",
    "                uh_in_ξ = 0\n",
    "\n",
    "                for a in 1:4\n",
    "                    uh_in_ξ += c̄[EQoLG[a, e]] * ϕ(a)(ξ₁, ξ₂) \n",
    "                end\n",
    "                \n",
    "                dx1_dξ1 = derivative_vector_applied(X1e, 1)(ξ₁, ξ₂)\n",
    "                dx2_dξ2 = derivative_vector_applied(X2e, 2)(ξ₁, ξ₂)\n",
    "                dx1_dξ2 = derivative_vector_applied(X1e, 2)(ξ₁, ξ₂)\n",
    "                dx2_dξ1 = derivative_vector_applied(X2e, 1)(ξ₁, ξ₂)\n",
    "                J_ξ = (dx1_dξ1 * dx2_dξ2) - (dx1_dξ2 * dx2_dξ1)\n",
    "                \n",
    "                quadratura_erro += (w₁ * w₂) * (u_in_x_from_ξ - uh_in_ξ)^2 * abs(J_ξ)\n",
    "            end\n",
    "        end\n",
    "    end\n",
    "    \n",
    "    return sqrt(quadratura_erro)\n",
    "end"
   ]
  },
  {
   "cell_type": "markdown",
   "metadata": {},
   "source": [
    "### Teste de cálculo"
   ]
  },
  {
   "cell_type": "code",
   "execution_count": 45,
   "metadata": {},
   "outputs": [
    {
     "data": {
      "text/plain": [
       "9-element Vector{Float64}:\n",
       " 0.5274594606477014\n",
       " 0.7459403228499772\n",
       " 0.5274594606477013\n",
       " 0.745940322849977\n",
       " 1.0549189212954029\n",
       " 0.7459403228499771\n",
       " 0.5274594606477014\n",
       " 0.7459403228499772\n",
       " 0.5274594606477014"
      ]
     },
     "metadata": {},
     "output_type": "display_data"
    },
    {
     "data": {
      "text/plain": [
       "0.029464361256140343"
      ]
     },
     "metadata": {},
     "output_type": "display_data"
    }
   ],
   "source": [
    "α = 1.0\n",
    "β = 1.0\n",
    "f = (x₁::Float64, x₂::Float64) -> (2*α*π^2+β) * sin(π*x₁) * sin(π*x₂)\n",
    "u = (x₁::Float64, x₂::Float64) -> sin(π*x₁) * sin(π*x₂)\n",
    "\n",
    "Nx1 = 4\n",
    "Nx2 = 4\n",
    "\n",
    "m, EQ = monta_EQ(Nx1, Nx2)\n",
    "LG = monta_LG(Nx1, Nx2)\n",
    "EQoLG = EQ[LG]\n",
    "\n",
    "X1, X2, h1, h2 = malha2D(Nx1, Nx2)\n",
    "\n",
    "c = monta_K_global_quadrilatero(α, β, X1, X2, m, EQ, LG) \\ monta_F_global_quadrilatero(f, X1, X2, m, EQ, LG)\n",
    "c̄ = [c; 0]\n",
    "\n",
    "erro = erro_norma_L2_quadrilatero(u, c̄, X1, X2, EQ, LG)\n",
    "\n",
    "display(c)\n",
    "display(erro)"
   ]
  },
  {
   "cell_type": "markdown",
   "metadata": {},
   "source": [
    "## Estudo de Convergência"
   ]
  },
  {
   "cell_type": "code",
   "execution_count": 46,
   "metadata": {},
   "outputs": [
    {
     "data": {
      "text/plain": [
       "estudo_de_convergencia_quadrilatero (generic function with 1 method)"
      ]
     },
     "execution_count": 46,
     "metadata": {},
     "output_type": "execute_result"
    }
   ],
   "source": [
    "function estudo_de_convergencia_quadrilatero(α::Float64, β::Float64, f::Function, u::Function, n_testes::Int64, ruido::Bool)::Matrix{Float64}\n",
    "    \n",
    "    resultado = zeros(n_testes, 2)\n",
    "    \n",
    "    for tamanho in 2:n_testes+1\n",
    "        Nx1 = 2^tamanho\n",
    "        Nx2 = 2^tamanho\n",
    "        \n",
    "        m, EQ = monta_EQ(Nx1, Nx2)\n",
    "        LG = monta_LG(Nx1, Nx2)\n",
    "        \n",
    "        X1, X2, h1, h2 = malha2D(Nx1, Nx2)\n",
    "        if(ruido)\n",
    "            malha2D_adiciona_ruido!(X1, X2, h1, h2)\n",
    "        end\n",
    "        \n",
    "        h = [h1, h2]\n",
    "        \n",
    "        K = monta_K_global_quadrilatero(α, β, X1, X2, m, EQ, LG)\n",
    "        F = monta_F_global_quadrilatero(f, X1, X2, m, EQ, LG)\n",
    "        \n",
    "        c = K \\ F\n",
    "        c_ = [c; 0]\n",
    "        \n",
    "        erro = erro_norma_L2_quadrilatero(u, c_, X1, X2, EQ, LG)\n",
    "        \n",
    "        resultado[tamanho-1, 1] = sqrt(h[1]^2 + h[2]^2)\n",
    "        resultado[tamanho-1, 2] = erro\n",
    "    end\n",
    "    \n",
    "    return resultado\n",
    "end"
   ]
  },
  {
   "cell_type": "markdown",
   "metadata": {},
   "source": [
    "### Estudo 1 - Malha uniforme"
   ]
  },
  {
   "cell_type": "code",
   "execution_count": 47,
   "metadata": {},
   "outputs": [
    {
     "name": "stdout",
     "output_type": "stream",
     "text": [
      "  9.372230 seconds (133.18 M allocations: 3.911 GiB, 3.55% gc time, 1.38% compilation time)\n"
     ]
    },
    {
     "data": {
      "text/plain": [
       "4×2 Matrix{Float64}:\n",
       " 0.353553   0.0294644\n",
       " 0.176777   0.00734814\n",
       " 0.0883883  0.00183603\n",
       " 0.0441942  0.000458945"
      ]
     },
     "execution_count": 47,
     "metadata": {},
     "output_type": "execute_result"
    }
   ],
   "source": [
    "α = 1.0\n",
    "β = 1.0\n",
    "f = (x₁::Float64, x₂::Float64) -> (2*α*π^2+β) * sin(π*x₁) * sin(π*x₂)\n",
    "u = (x₁::Float64, x₂::Float64) -> sin(π*x₁) * sin(π*x₂)\n",
    "n_testes = 4\n",
    "\n",
    "@time resultado_convergencia_quad = estudo_de_convergencia_quadrilatero(α, β, f, u, n_testes, false)"
   ]
  },
  {
   "cell_type": "code",
   "execution_count": 48,
   "metadata": {},
   "outputs": [
    {
     "data": {
      "image/png": "[encoded data removed]",
      "image/svg+xml": [
       "<?xml version=\"1.0\" encoding=\"utf-8\"?>\n",
       "<svg xmlns=\"http://www.w3.org/2000/svg\" xmlns:xlink=\"http://www.w3.org/1999/xlink\" width=\"600\" height=\"400\" viewBox=\"0 0 2400 1600\">\n",
       "<defs>\n",
       "  <clipPath id=\"clip240\">\n",
       "    <rect x=\"0\" y=\"0\" width=\"2400\" height=\"1600\"/>\n",
       "  </clipPath>\n",
       "</defs>\n",
       "<path clip-path=\"url(#clip240)\" d=\"M0 1600 L2400 1600 L2400 0 L0 0  Z\" fill=\"#ffffff\" fill-rule=\"evenodd\" fill-opacity=\"1\"/>\n",
       "<defs>\n",
       "  <clipPath id=\"clip241\">\n",
       "    <rect x=\"480\" y=\"0\" width=\"1681\" height=\"1600\"/>\n",
       "  </clipPath>\n",
       "</defs>\n",
       "<path clip-path=\"url(#clip240)\" d=\"M188.574 1474.16 L2352.76 1474.16 L2352.76 47.2441 L188.574 47.2441  Z\" fill=\"#ffffff\" fill-rule=\"evenodd\" fill-opacity=\"1\"/>\n",
       "<defs>\n",
       "  <clipPath id=\"clip242\">\n",
       "    <rect x=\"188\" y=\"47\" width=\"2165\" height=\"1428\"/>\n",
       "  </clipPath>\n",
       "</defs>\n",
       "<polyline clip-path=\"url(#clip242)\" style=\"stroke:#000000; stroke-linecap:round; stroke-linejoin:round; stroke-width:2; stroke-opacity:0.1; fill:none\" points=\"1051.57,1474.16 1051.57,47.2441 \"/>\n",
       "<polyline clip-path=\"url(#clip242)\" style=\"stroke:#000000; stroke-linecap:round; stroke-linejoin:round; stroke-width:2; stroke-opacity:0.1; fill:none\" points=\"2181.96,1474.16 2181.96,47.2441 \"/>\n",
       "<polyline clip-path=\"url(#clip242)\" style=\"stroke:#000000; stroke-linecap:round; stroke-linejoin:round; stroke-width:2; stroke-opacity:0.1; fill:none\" points=\"188.574,1246.8 2352.76,1246.8 \"/>\n",
       "<polyline clip-path=\"url(#clip242)\" style=\"stroke:#000000; stroke-linecap:round; stroke-linejoin:round; stroke-width:2; stroke-opacity:0.1; fill:none\" points=\"188.574,694.001 2352.76,694.001 \"/>\n",
       "<polyline clip-path=\"url(#clip242)\" style=\"stroke:#000000; stroke-linecap:round; stroke-linejoin:round; stroke-width:2; stroke-opacity:0.1; fill:none\" points=\"188.574,141.201 2352.76,141.201 \"/>\n",
       "<polyline clip-path=\"url(#clip240)\" style=\"stroke:#000000; stroke-linecap:round; stroke-linejoin:round; stroke-width:4; stroke-opacity:1; fill:none\" points=\"188.574,1474.16 2352.76,1474.16 \"/>\n",
       "<polyline clip-path=\"url(#clip240)\" style=\"stroke:#000000; stroke-linecap:round; stroke-linejoin:round; stroke-width:4; stroke-opacity:1; fill:none\" points=\"1051.57,1474.16 1051.57,1455.27 \"/>\n",
       "<polyline clip-path=\"url(#clip240)\" style=\"stroke:#000000; stroke-linecap:round; stroke-linejoin:round; stroke-width:4; stroke-opacity:1; fill:none\" points=\"2181.96,1474.16 2181.96,1455.27 \"/>\n",
       "<path clip-path=\"url(#clip240)\" d=\"M982.815 1548.29 L990.454 1548.29 L990.454 1521.92 L982.144 1523.59 L982.144 1519.33 L990.408 1517.66 L995.084 1517.66 L995.084 1548.29 L1002.72 1548.29 L1002.72 1552.22 L982.815 1552.22 L982.815 1548.29 Z\" fill=\"#000000\" fill-rule=\"nonzero\" fill-opacity=\"1\" /><path clip-path=\"url(#clip240)\" d=\"M1022.17 1520.74 Q1018.56 1520.74 1016.73 1524.31 Q1014.92 1527.85 1014.92 1534.98 Q1014.92 1542.09 1016.73 1545.65 Q1018.56 1549.19 1022.17 1549.19 Q1025.8 1549.19 1027.61 1545.65 Q1029.44 1542.09 1029.44 1534.98 Q1029.44 1527.85 1027.61 1524.31 Q1025.8 1520.74 1022.17 1520.74 M1022.17 1517.04 Q1027.98 1517.04 1031.03 1521.65 Q1034.11 1526.23 1034.11 1534.98 Q1034.11 1543.71 1031.03 1548.31 Q1027.98 1552.9 1022.17 1552.9 Q1016.36 1552.9 1013.28 1548.31 Q1010.22 1543.71 1010.22 1534.98 Q1010.22 1526.23 1013.28 1521.65 Q1016.36 1517.04 1022.17 1517.04 Z\" fill=\"#000000\" fill-rule=\"nonzero\" fill-opacity=\"1\" /><path clip-path=\"url(#clip240)\" d=\"M1034.11 1511.14 L1058.22 1511.14 L1058.22 1514.34 L1034.11 1514.34 L1034.11 1511.14 Z\" fill=\"#000000\" fill-rule=\"nonzero\" fill-opacity=\"1\" /><path clip-path=\"url(#clip240)\" d=\"M1067.08 1521.62 L1073.29 1521.62 L1073.29 1500.19 L1066.54 1501.55 L1066.54 1498.09 L1073.25 1496.73 L1077.05 1496.73 L1077.05 1521.62 L1083.26 1521.62 L1083.26 1524.81 L1067.08 1524.81 L1067.08 1521.62 Z\" fill=\"#000000\" fill-rule=\"nonzero\" fill-opacity=\"1\" /><path clip-path=\"url(#clip240)\" d=\"M1090.93 1520.04 L1094.9 1520.04 L1094.9 1524.81 L1090.93 1524.81 L1090.93 1520.04 Z\" fill=\"#000000\" fill-rule=\"nonzero\" fill-opacity=\"1\" /><path clip-path=\"url(#clip240)\" d=\"M1111.3 1499.24 Q1108.36 1499.24 1106.88 1502.13 Q1105.41 1505.01 1105.41 1510.8 Q1105.41 1516.58 1106.88 1519.47 Q1108.36 1522.35 1111.3 1522.35 Q1114.25 1522.35 1115.72 1519.47 Q1117.2 1516.58 1117.2 1510.8 Q1117.2 1505.01 1115.72 1502.13 Q1114.25 1499.24 1111.3 1499.24 M1111.3 1496.23 Q1116.02 1496.23 1118.5 1499.97 Q1121 1503.69 1121 1510.8 Q1121 1517.89 1118.5 1521.64 Q1116.02 1525.36 1111.3 1525.36 Q1106.58 1525.36 1104.08 1521.64 Q1101.59 1517.89 1101.59 1510.8 Q1101.59 1503.69 1104.08 1499.97 Q1106.58 1496.23 1111.3 1496.23 Z\" fill=\"#000000\" fill-rule=\"nonzero\" fill-opacity=\"1\" /><path clip-path=\"url(#clip240)\" d=\"M2113.61 1548.29 L2121.24 1548.29 L2121.24 1521.92 L2112.93 1523.59 L2112.93 1519.33 L2121.2 1517.66 L2125.87 1517.66 L2125.87 1548.29 L2133.51 1548.29 L2133.51 1552.22 L2113.61 1552.22 L2113.61 1548.29 Z\" fill=\"#000000\" fill-rule=\"nonzero\" fill-opacity=\"1\" /><path clip-path=\"url(#clip240)\" d=\"M2152.96 1520.74 Q2149.35 1520.74 2147.52 1524.31 Q2145.71 1527.85 2145.71 1534.98 Q2145.71 1542.09 2147.52 1545.65 Q2149.35 1549.19 2152.96 1549.19 Q2156.59 1549.19 2158.4 1545.65 Q2160.23 1542.09 2160.23 1534.98 Q2160.23 1527.85 2158.4 1524.31 Q2156.59 1520.74 2152.96 1520.74 M2152.96 1517.04 Q2158.77 1517.04 2161.82 1521.65 Q2164.9 1526.23 2164.9 1534.98 Q2164.9 1543.71 2161.82 1548.31 Q2158.77 1552.9 2152.96 1552.9 Q2147.15 1552.9 2144.07 1548.31 Q2141.01 1543.71 2141.01 1534.98 Q2141.01 1526.23 2144.07 1521.65 Q2147.15 1517.04 2152.96 1517.04 Z\" fill=\"#000000\" fill-rule=\"nonzero\" fill-opacity=\"1\" /><path clip-path=\"url(#clip240)\" d=\"M2164.9 1511.14 L2189.01 1511.14 L2189.01 1514.34 L2164.9 1514.34 L2164.9 1511.14 Z\" fill=\"#000000\" fill-rule=\"nonzero\" fill-opacity=\"1\" /><path clip-path=\"url(#clip240)\" d=\"M2205.34 1499.24 Q2202.4 1499.24 2200.92 1502.13 Q2199.45 1505.01 2199.45 1510.8 Q2199.45 1516.58 2200.92 1519.47 Q2202.4 1522.35 2205.34 1522.35 Q2208.29 1522.35 2209.76 1519.47 Q2211.24 1516.58 2211.24 1510.8 Q2211.24 1505.01 2209.76 1502.13 Q2208.29 1499.24 2205.34 1499.24 M2205.34 1496.23 Q2210.06 1496.23 2212.54 1499.97 Q2215.04 1503.69 2215.04 1510.8 Q2215.04 1517.89 2212.54 1521.64 Q2210.06 1525.36 2205.34 1525.36 Q2200.62 1525.36 2198.12 1521.64 Q2195.63 1517.89 2195.63 1510.8 Q2195.63 1503.69 2198.12 1499.97 Q2200.62 1496.23 2205.34 1496.23 Z\" fill=\"#000000\" fill-rule=\"nonzero\" fill-opacity=\"1\" /><path clip-path=\"url(#clip240)\" d=\"M2221.72 1520.04 L2225.69 1520.04 L2225.69 1524.81 L2221.72 1524.81 L2221.72 1520.04 Z\" fill=\"#000000\" fill-rule=\"nonzero\" fill-opacity=\"1\" /><path clip-path=\"url(#clip240)\" d=\"M2234 1496.73 L2248.92 1496.73 L2248.92 1499.93 L2237.48 1499.93 L2237.48 1506.82 Q2238.31 1506.53 2239.14 1506.4 Q2239.96 1506.25 2240.79 1506.25 Q2245.49 1506.25 2248.24 1508.83 Q2250.98 1511.4 2250.98 1515.81 Q2250.98 1520.34 2248.16 1522.86 Q2245.34 1525.36 2240.21 1525.36 Q2238.44 1525.36 2236.6 1525.06 Q2234.77 1524.76 2232.82 1524.16 L2232.82 1520.34 Q2234.51 1521.26 2236.31 1521.71 Q2238.12 1522.16 2240.13 1522.16 Q2243.39 1522.16 2245.29 1520.45 Q2247.19 1518.74 2247.19 1515.81 Q2247.19 1512.87 2245.29 1511.16 Q2243.39 1509.45 2240.13 1509.45 Q2238.61 1509.45 2237.09 1509.79 Q2235.58 1510.13 2234 1510.84 L2234 1496.73 Z\" fill=\"#000000\" fill-rule=\"nonzero\" fill-opacity=\"1\" /><polyline clip-path=\"url(#clip240)\" style=\"stroke:#000000; stroke-linecap:round; stroke-linejoin:round; stroke-width:4; stroke-opacity:1; fill:none\" points=\"188.574,1474.16 188.574,47.2441 \"/>\n",
       "<polyline clip-path=\"url(#clip240)\" style=\"stroke:#000000; stroke-linecap:round; stroke-linejoin:round; stroke-width:4; stroke-opacity:1; fill:none\" points=\"188.574,1246.8 207.472,1246.8 \"/>\n",
       "<polyline clip-path=\"url(#clip240)\" style=\"stroke:#000000; stroke-linecap:round; stroke-linejoin:round; stroke-width:4; stroke-opacity:1; fill:none\" points=\"188.574,694.001 207.472,694.001 \"/>\n",
       "<polyline clip-path=\"url(#clip240)\" style=\"stroke:#000000; stroke-linecap:round; stroke-linejoin:round; stroke-width:4; stroke-opacity:1; fill:none\" points=\"188.574,141.201 207.472,141.201 \"/>\n",
       "<path clip-path=\"url(#clip240)\" d=\"M51.6634 1266.59 L59.3023 1266.59 L59.3023 1240.23 L50.9921 1241.89 L50.9921 1237.64 L59.256 1235.97 L63.9319 1235.97 L63.9319 1266.59 L71.5707 1266.59 L71.5707 1270.53 L51.6634 1270.53 L51.6634 1266.59 Z\" fill=\"#000000\" fill-rule=\"nonzero\" fill-opacity=\"1\" /><path clip-path=\"url(#clip240)\" d=\"M91.0151 1239.05 Q87.404 1239.05 85.5753 1242.61 Q83.7697 1246.15 83.7697 1253.28 Q83.7697 1260.39 85.5753 1263.95 Q87.404 1267.5 91.0151 1267.5 Q94.6493 1267.5 96.4548 1263.95 Q98.2835 1260.39 98.2835 1253.28 Q98.2835 1246.15 96.4548 1242.61 Q94.6493 1239.05 91.0151 1239.05 M91.0151 1235.34 Q96.8252 1235.34 99.8808 1239.95 Q102.959 1244.53 102.959 1253.28 Q102.959 1262.01 99.8808 1266.62 Q96.8252 1271.2 91.0151 1271.2 Q85.2049 1271.2 82.1262 1266.62 Q79.0707 1262.01 79.0707 1253.28 Q79.0707 1244.53 82.1262 1239.95 Q85.2049 1235.34 91.0151 1235.34 Z\" fill=\"#000000\" fill-rule=\"nonzero\" fill-opacity=\"1\" /><path clip-path=\"url(#clip240)\" d=\"M102.959 1229.45 L127.071 1229.45 L127.071 1232.64 L102.959 1232.64 L102.959 1229.45 Z\" fill=\"#000000\" fill-rule=\"nonzero\" fill-opacity=\"1\" /><path clip-path=\"url(#clip240)\" d=\"M146.782 1227.98 Q149.509 1228.56 151.032 1230.4 Q152.574 1232.25 152.574 1234.96 Q152.574 1239.11 149.716 1241.39 Q146.857 1243.66 141.591 1243.66 Q139.823 1243.66 137.942 1243.31 Q136.08 1242.97 134.086 1242.27 L134.086 1238.6 Q135.666 1239.53 137.547 1240 Q139.428 1240.47 141.478 1240.47 Q145.051 1240.47 146.913 1239.06 Q148.794 1237.65 148.794 1234.96 Q148.794 1232.47 147.045 1231.08 Q145.315 1229.67 142.211 1229.67 L138.939 1229.67 L138.939 1226.55 L142.362 1226.55 Q145.164 1226.55 146.65 1225.44 Q148.136 1224.31 148.136 1222.2 Q148.136 1220.04 146.593 1218.89 Q145.07 1217.73 142.211 1217.73 Q140.65 1217.73 138.863 1218.07 Q137.077 1218.41 134.933 1219.12 L134.933 1215.73 Q137.096 1215.13 138.976 1214.83 Q140.876 1214.53 142.55 1214.53 Q146.876 1214.53 149.396 1216.51 Q151.916 1218.46 151.916 1221.81 Q151.916 1224.14 150.581 1225.76 Q149.245 1227.36 146.782 1227.98 Z\" fill=\"#000000\" fill-rule=\"nonzero\" fill-opacity=\"1\" /><path clip-path=\"url(#clip240)\" d=\"M52.4345 713.793 L60.0734 713.793 L60.0734 687.428 L51.7632 689.094 L51.7632 684.835 L60.0271 683.169 L64.703 683.169 L64.703 713.793 L72.3418 713.793 L72.3418 717.729 L52.4345 717.729 L52.4345 713.793 Z\" fill=\"#000000\" fill-rule=\"nonzero\" fill-opacity=\"1\" /><path clip-path=\"url(#clip240)\" d=\"M91.7862 686.247 Q88.1751 686.247 86.3464 689.812 Q84.5408 693.354 84.5408 700.483 Q84.5408 707.59 86.3464 711.155 Q88.1751 714.696 91.7862 714.696 Q95.4204 714.696 97.226 711.155 Q99.0547 707.59 99.0547 700.483 Q99.0547 693.354 97.226 689.812 Q95.4204 686.247 91.7862 686.247 M91.7862 682.544 Q97.5963 682.544 100.652 687.15 Q103.731 691.733 103.731 700.483 Q103.731 709.21 100.652 713.817 Q97.5963 718.4 91.7862 718.4 Q85.976 718.4 82.8973 713.817 Q79.8418 709.21 79.8418 700.483 Q79.8418 691.733 82.8973 687.15 Q85.976 682.544 91.7862 682.544 Z\" fill=\"#000000\" fill-rule=\"nonzero\" fill-opacity=\"1\" /><path clip-path=\"url(#clip240)\" d=\"M103.731 676.645 L127.842 676.645 L127.842 679.842 L103.731 679.842 L103.731 676.645 Z\" fill=\"#000000\" fill-rule=\"nonzero\" fill-opacity=\"1\" /><path clip-path=\"url(#clip240)\" d=\"M139.315 687.121 L152.574 687.121 L152.574 690.318 L134.745 690.318 L134.745 687.121 Q136.907 684.883 140.631 681.121 Q144.374 677.341 145.333 676.25 Q147.158 674.2 147.872 672.789 Q148.606 671.36 148.606 669.987 Q148.606 667.749 147.026 666.338 Q145.465 664.928 142.945 664.928 Q141.158 664.928 139.164 665.548 Q137.19 666.169 134.933 667.429 L134.933 663.592 Q137.227 662.671 139.221 662.201 Q141.214 661.73 142.87 661.73 Q147.233 661.73 149.828 663.912 Q152.424 666.094 152.424 669.742 Q152.424 671.473 151.766 673.034 Q151.126 674.576 149.415 676.683 Q148.944 677.228 146.424 679.842 Q143.904 682.438 139.315 687.121 Z\" fill=\"#000000\" fill-rule=\"nonzero\" fill-opacity=\"1\" /><path clip-path=\"url(#clip240)\" d=\"M52.1336 160.993 L59.7725 160.993 L59.7725 134.627 L51.4623 136.294 L51.4623 132.035 L59.7262 130.368 L64.4021 130.368 L64.4021 160.993 L72.0409 160.993 L72.0409 164.928 L52.1336 164.928 L52.1336 160.993 Z\" fill=\"#000000\" fill-rule=\"nonzero\" fill-opacity=\"1\" /><path clip-path=\"url(#clip240)\" d=\"M91.4853 133.447 Q87.8742 133.447 86.0455 137.012 Q84.2399 140.553 84.2399 147.683 Q84.2399 154.789 86.0455 158.354 Q87.8742 161.896 91.4853 161.896 Q95.1195 161.896 96.925 158.354 Q98.7537 154.789 98.7537 147.683 Q98.7537 140.553 96.925 137.012 Q95.1195 133.447 91.4853 133.447 M91.4853 129.743 Q97.2954 129.743 100.351 134.35 Q103.43 138.933 103.43 147.683 Q103.43 156.41 100.351 161.016 Q97.2954 165.599 91.4853 165.599 Q85.6751 165.599 82.5964 161.016 Q79.5409 156.41 79.5409 147.683 Q79.5409 138.933 82.5964 134.35 Q85.6751 129.743 91.4853 129.743 Z\" fill=\"#000000\" fill-rule=\"nonzero\" fill-opacity=\"1\" /><path clip-path=\"url(#clip240)\" d=\"M103.43 123.844 L127.541 123.844 L127.541 127.042 L103.43 127.042 L103.43 123.844 Z\" fill=\"#000000\" fill-rule=\"nonzero\" fill-opacity=\"1\" /><path clip-path=\"url(#clip240)\" d=\"M136.4 134.32 L142.606 134.32 L142.606 112.898 L135.854 114.253 L135.854 110.792 L142.569 109.438 L146.368 109.438 L146.368 134.32 L152.574 134.32 L152.574 137.518 L136.4 137.518 L136.4 134.32 Z\" fill=\"#000000\" fill-rule=\"nonzero\" fill-opacity=\"1\" /><polyline clip-path=\"url(#clip242)\" style=\"stroke:#009af9; stroke-linecap:round; stroke-linejoin:round; stroke-width:12; stroke-opacity:1; fill:none\" points=\"2291.51,434.573 1610.95,767.978 930.385,1100.93 249.825,1433.78 \"/>\n",
       "<circle clip-path=\"url(#clip242)\" cx=\"2291.51\" cy=\"434.573\" r=\"14.4\" fill=\"#009af9\" fill-rule=\"evenodd\" fill-opacity=\"1\" stroke=\"#000000\" stroke-opacity=\"1\" stroke-width=\"3.2\"/>\n",
       "<circle clip-path=\"url(#clip242)\" cx=\"1610.95\" cy=\"767.978\" r=\"14.4\" fill=\"#009af9\" fill-rule=\"evenodd\" fill-opacity=\"1\" stroke=\"#000000\" stroke-opacity=\"1\" stroke-width=\"3.2\"/>\n",
       "<circle clip-path=\"url(#clip242)\" cx=\"930.385\" cy=\"1100.93\" r=\"14.4\" fill=\"#009af9\" fill-rule=\"evenodd\" fill-opacity=\"1\" stroke=\"#000000\" stroke-opacity=\"1\" stroke-width=\"3.2\"/>\n",
       "<circle clip-path=\"url(#clip242)\" cx=\"249.825\" cy=\"1433.78\" r=\"14.4\" fill=\"#009af9\" fill-rule=\"evenodd\" fill-opacity=\"1\" stroke=\"#000000\" stroke-opacity=\"1\" stroke-width=\"3.2\"/>\n",
       "<polyline clip-path=\"url(#clip242)\" style=\"stroke:#e26f46; stroke-linecap:round; stroke-linejoin:round; stroke-width:12; stroke-opacity:1; fill:none\" points=\"2291.51,87.6286 1610.95,420.448 930.385,753.267 249.825,1086.09 \"/>\n",
       "<path clip-path=\"url(#clip240)\" d=\"M260.714 250.328 L565.951 250.328 L565.951 94.8081 L260.714 94.8081  Z\" fill=\"#ffffff\" fill-rule=\"evenodd\" fill-opacity=\"1\"/>\n",
       "<polyline clip-path=\"url(#clip240)\" style=\"stroke:#000000; stroke-linecap:round; stroke-linejoin:round; stroke-width:4; stroke-opacity:1; fill:none\" points=\"260.714,250.328 565.951,250.328 565.951,94.8081 260.714,94.8081 260.714,250.328 \"/>\n",
       "<polyline clip-path=\"url(#clip240)\" style=\"stroke:#009af9; stroke-linecap:round; stroke-linejoin:round; stroke-width:12; stroke-opacity:1; fill:none\" points=\"284.76,146.648 429.039,146.648 \"/>\n",
       "<circle clip-path=\"url(#clip240)\" cx=\"356.9\" cy=\"146.648\" r=\"20.0387\" fill=\"#009af9\" fill-rule=\"evenodd\" fill-opacity=\"1\" stroke=\"#000000\" stroke-opacity=\"1\" stroke-width=\"4.55111\"/>\n",
       "<path clip-path=\"url(#clip240)\" d=\"M453.085 129.368 L474.937 129.368 L474.937 133.303 L457.761 133.303 L457.761 143.535 L474.22 143.535 L474.22 147.47 L457.761 147.47 L457.761 159.993 L475.354 159.993 L475.354 163.928 L453.085 163.928 L453.085 129.368 Z\" fill=\"#000000\" fill-rule=\"nonzero\" fill-opacity=\"1\" /><path clip-path=\"url(#clip240)\" d=\"M497.877 141.984 Q497.159 141.567 496.303 141.382 Q495.469 141.174 494.451 141.174 Q490.84 141.174 488.895 143.535 Q486.974 145.873 486.974 150.271 L486.974 163.928 L482.692 163.928 L482.692 138.002 L486.974 138.002 L486.974 142.03 Q488.317 139.669 490.469 138.535 Q492.622 137.377 495.701 137.377 Q496.141 137.377 496.673 137.447 Q497.206 137.493 497.854 137.609 L497.877 141.984 Z\" fill=\"#000000\" fill-rule=\"nonzero\" fill-opacity=\"1\" /><path clip-path=\"url(#clip240)\" d=\"M516.534 141.984 Q515.817 141.567 514.96 141.382 Q514.127 141.174 513.108 141.174 Q509.497 141.174 507.553 143.535 Q505.631 145.873 505.631 150.271 L505.631 163.928 L501.349 163.928 L501.349 138.002 L505.631 138.002 L505.631 142.03 Q506.974 139.669 509.127 138.535 Q511.28 137.377 514.358 137.377 Q514.798 137.377 515.33 137.447 Q515.863 137.493 516.511 137.609 L516.534 141.984 Z\" fill=\"#000000\" fill-rule=\"nonzero\" fill-opacity=\"1\" /><path clip-path=\"url(#clip240)\" d=\"M530.006 140.988 Q526.58 140.988 524.59 143.674 Q522.599 146.336 522.599 150.988 Q522.599 155.641 524.567 158.326 Q526.557 160.988 530.006 160.988 Q533.409 160.988 535.4 158.303 Q537.391 155.618 537.391 150.988 Q537.391 146.382 535.4 143.697 Q533.409 140.988 530.006 140.988 M530.006 137.377 Q535.562 137.377 538.733 140.988 Q541.904 144.6 541.904 150.988 Q541.904 157.354 538.733 160.988 Q535.562 164.599 530.006 164.599 Q524.428 164.599 521.256 160.988 Q518.108 157.354 518.108 150.988 Q518.108 144.6 521.256 140.988 Q524.428 137.377 530.006 137.377 Z\" fill=\"#000000\" fill-rule=\"nonzero\" fill-opacity=\"1\" /><polyline clip-path=\"url(#clip240)\" style=\"stroke:#e26f46; stroke-linecap:round; stroke-linejoin:round; stroke-width:12; stroke-opacity:1; fill:none\" points=\"284.76,198.488 429.039,198.488 \"/>\n",
       "<path clip-path=\"url(#clip240)\" d=\"M474.798 200.12 L474.798 215.768 L470.539 215.768 L470.539 200.259 Q470.539 196.578 469.104 194.75 Q467.669 192.921 464.798 192.921 Q461.349 192.921 459.359 195.12 Q457.368 197.319 457.368 201.115 L457.368 215.768 L453.085 215.768 L453.085 179.75 L457.368 179.75 L457.368 193.87 Q458.896 191.532 460.956 190.375 Q463.039 189.217 465.747 189.217 Q470.215 189.217 472.507 191.995 Q474.798 194.75 474.798 200.12 Z\" fill=\"#000000\" fill-rule=\"nonzero\" fill-opacity=\"1\" /><path clip-path=\"url(#clip240)\" d=\"M485.03 197.666 L494.844 197.666 L494.844 200.305 L481.002 200.305 L481.002 197.759 Q481.789 197.041 483.247 195.745 Q491.21 188.685 491.21 186.509 Q491.21 184.981 490.007 184.055 Q488.803 183.106 486.835 183.106 Q485.632 183.106 484.22 183.523 Q482.807 183.916 481.141 184.727 L481.141 181.879 Q482.923 181.231 484.451 180.907 Q486.002 180.583 487.321 180.583 Q490.678 180.583 492.692 182.111 Q494.706 183.639 494.706 186.139 Q494.706 189.356 487.044 195.93 Q485.747 197.041 485.03 197.666 Z\" fill=\"#000000\" fill-rule=\"nonzero\" fill-opacity=\"1\" /></svg>\n"
      ],
      "text/html": [
       "<?xml version=\"1.0\" encoding=\"utf-8\"?>\n",
       "<svg xmlns=\"http://www.w3.org/2000/svg\" xmlns:xlink=\"http://www.w3.org/1999/xlink\" width=\"600\" height=\"400\" viewBox=\"0 0 2400 1600\">\n",
       "<defs>\n",
       "  <clipPath id=\"clip290\">\n",
       "    <rect x=\"0\" y=\"0\" width=\"2400\" height=\"1600\"/>\n",
       "  </clipPath>\n",
       "</defs>\n",
       "<path clip-path=\"url(#clip290)\" d=\"M0 1600 L2400 1600 L2400 0 L0 0  Z\" fill=\"#ffffff\" fill-rule=\"evenodd\" fill-opacity=\"1\"/>\n",
       "<defs>\n",
       "  <clipPath id=\"clip291\">\n",
       "    <rect x=\"480\" y=\"0\" width=\"1681\" height=\"1600\"/>\n",
       "  </clipPath>\n",
       "</defs>\n",
       "<path clip-path=\"url(#clip290)\" d=\"M188.574 1474.16 L2352.76 1474.16 L2352.76 47.2441 L188.574 47.2441  Z\" fill=\"#ffffff\" fill-rule=\"evenodd\" fill-opacity=\"1\"/>\n",
       "<defs>\n",
       "  <clipPath id=\"clip292\">\n",
       "    <rect x=\"188\" y=\"47\" width=\"2165\" height=\"1428\"/>\n",
       "  </clipPath>\n",
       "</defs>\n",
       "<polyline clip-path=\"url(#clip292)\" style=\"stroke:#000000; stroke-linecap:round; stroke-linejoin:round; stroke-width:2; stroke-opacity:0.1; fill:none\" points=\"1051.57,1474.16 1051.57,47.2441 \"/>\n",
       "<polyline clip-path=\"url(#clip292)\" style=\"stroke:#000000; stroke-linecap:round; stroke-linejoin:round; stroke-width:2; stroke-opacity:0.1; fill:none\" points=\"2181.96,1474.16 2181.96,47.2441 \"/>\n",
       "<polyline clip-path=\"url(#clip292)\" style=\"stroke:#000000; stroke-linecap:round; stroke-linejoin:round; stroke-width:2; stroke-opacity:0.1; fill:none\" points=\"188.574,1246.8 2352.76,1246.8 \"/>\n",
       "<polyline clip-path=\"url(#clip292)\" style=\"stroke:#000000; stroke-linecap:round; stroke-linejoin:round; stroke-width:2; stroke-opacity:0.1; fill:none\" points=\"188.574,694.001 2352.76,694.001 \"/>\n",
       "<polyline clip-path=\"url(#clip292)\" style=\"stroke:#000000; stroke-linecap:round; stroke-linejoin:round; stroke-width:2; stroke-opacity:0.1; fill:none\" points=\"188.574,141.201 2352.76,141.201 \"/>\n",
       "<polyline clip-path=\"url(#clip290)\" style=\"stroke:#000000; stroke-linecap:round; stroke-linejoin:round; stroke-width:4; stroke-opacity:1; fill:none\" points=\"188.574,1474.16 2352.76,1474.16 \"/>\n",
       "<polyline clip-path=\"url(#clip290)\" style=\"stroke:#000000; stroke-linecap:round; stroke-linejoin:round; stroke-width:4; stroke-opacity:1; fill:none\" points=\"1051.57,1474.16 1051.57,1455.27 \"/>\n",
       "<polyline clip-path=\"url(#clip290)\" style=\"stroke:#000000; stroke-linecap:round; stroke-linejoin:round; stroke-width:4; stroke-opacity:1; fill:none\" points=\"2181.96,1474.16 2181.96,1455.27 \"/>\n",
       "<path clip-path=\"url(#clip290)\" d=\"M982.815 1548.29 L990.454 1548.29 L990.454 1521.92 L982.144 1523.59 L982.144 1519.33 L990.408 1517.66 L995.084 1517.66 L995.084 1548.29 L1002.72 1548.29 L1002.72 1552.22 L982.815 1552.22 L982.815 1548.29 Z\" fill=\"#000000\" fill-rule=\"nonzero\" fill-opacity=\"1\" /><path clip-path=\"url(#clip290)\" d=\"M1022.17 1520.74 Q1018.56 1520.74 1016.73 1524.31 Q1014.92 1527.85 1014.92 1534.98 Q1014.92 1542.09 1016.73 1545.65 Q1018.56 1549.19 1022.17 1549.19 Q1025.8 1549.19 1027.61 1545.65 Q1029.44 1542.09 1029.44 1534.98 Q1029.44 1527.85 1027.61 1524.31 Q1025.8 1520.74 1022.17 1520.74 M1022.17 1517.04 Q1027.98 1517.04 1031.03 1521.65 Q1034.11 1526.23 1034.11 1534.98 Q1034.11 1543.71 1031.03 1548.31 Q1027.98 1552.9 1022.17 1552.9 Q1016.36 1552.9 1013.28 1548.31 Q1010.22 1543.71 1010.22 1534.98 Q1010.22 1526.23 1013.28 1521.65 Q1016.36 1517.04 1022.17 1517.04 Z\" fill=\"#000000\" fill-rule=\"nonzero\" fill-opacity=\"1\" /><path clip-path=\"url(#clip290)\" d=\"M1034.11 1511.14 L1058.22 1511.14 L1058.22 1514.34 L1034.11 1514.34 L1034.11 1511.14 Z\" fill=\"#000000\" fill-rule=\"nonzero\" fill-opacity=\"1\" /><path clip-path=\"url(#clip290)\" d=\"M1067.08 1521.62 L1073.29 1521.62 L1073.29 1500.19 L1066.54 1501.55 L1066.54 1498.09 L1073.25 1496.73 L1077.05 1496.73 L1077.05 1521.62 L1083.26 1521.62 L1083.26 1524.81 L1067.08 1524.81 L1067.08 1521.62 Z\" fill=\"#000000\" fill-rule=\"nonzero\" fill-opacity=\"1\" /><path clip-path=\"url(#clip290)\" d=\"M1090.93 1520.04 L1094.9 1520.04 L1094.9 1524.81 L1090.93 1524.81 L1090.93 1520.04 Z\" fill=\"#000000\" fill-rule=\"nonzero\" fill-opacity=\"1\" /><path clip-path=\"url(#clip290)\" d=\"M1111.3 1499.24 Q1108.36 1499.24 1106.88 1502.13 Q1105.41 1505.01 1105.41 1510.8 Q1105.41 1516.58 1106.88 1519.47 Q1108.36 1522.35 1111.3 1522.35 Q1114.25 1522.35 1115.72 1519.47 Q1117.2 1516.58 1117.2 1510.8 Q1117.2 1505.01 1115.72 1502.13 Q1114.25 1499.24 1111.3 1499.24 M1111.3 1496.23 Q1116.02 1496.23 1118.5 1499.97 Q1121 1503.69 1121 1510.8 Q1121 1517.89 1118.5 1521.64 Q1116.02 1525.36 1111.3 1525.36 Q1106.58 1525.36 1104.08 1521.64 Q1101.59 1517.89 1101.59 1510.8 Q1101.59 1503.69 1104.08 1499.97 Q1106.58 1496.23 1111.3 1496.23 Z\" fill=\"#000000\" fill-rule=\"nonzero\" fill-opacity=\"1\" /><path clip-path=\"url(#clip290)\" d=\"M2113.61 1548.29 L2121.24 1548.29 L2121.24 1521.92 L2112.93 1523.59 L2112.93 1519.33 L2121.2 1517.66 L2125.87 1517.66 L2125.87 1548.29 L2133.51 1548.29 L2133.51 1552.22 L2113.61 1552.22 L2113.61 1548.29 Z\" fill=\"#000000\" fill-rule=\"nonzero\" fill-opacity=\"1\" /><path clip-path=\"url(#clip290)\" d=\"M2152.96 1520.74 Q2149.35 1520.74 2147.52 1524.31 Q2145.71 1527.85 2145.71 1534.98 Q2145.71 1542.09 2147.52 1545.65 Q2149.35 1549.19 2152.96 1549.19 Q2156.59 1549.19 2158.4 1545.65 Q2160.23 1542.09 2160.23 1534.98 Q2160.23 1527.85 2158.4 1524.31 Q2156.59 1520.74 2152.96 1520.74 M2152.96 1517.04 Q2158.77 1517.04 2161.82 1521.65 Q2164.9 1526.23 2164.9 1534.98 Q2164.9 1543.71 2161.82 1548.31 Q2158.77 1552.9 2152.96 1552.9 Q2147.15 1552.9 2144.07 1548.31 Q2141.01 1543.71 2141.01 1534.98 Q2141.01 1526.23 2144.07 1521.65 Q2147.15 1517.04 2152.96 1517.04 Z\" fill=\"#000000\" fill-rule=\"nonzero\" fill-opacity=\"1\" /><path clip-path=\"url(#clip290)\" d=\"M2164.9 1511.14 L2189.01 1511.14 L2189.01 1514.34 L2164.9 1514.34 L2164.9 1511.14 Z\" fill=\"#000000\" fill-rule=\"nonzero\" fill-opacity=\"1\" /><path clip-path=\"url(#clip290)\" d=\"M2205.34 1499.24 Q2202.4 1499.24 2200.92 1502.13 Q2199.45 1505.01 2199.45 1510.8 Q2199.45 1516.58 2200.92 1519.47 Q2202.4 1522.35 2205.34 1522.35 Q2208.29 1522.35 2209.76 1519.47 Q2211.24 1516.58 2211.24 1510.8 Q2211.24 1505.01 2209.76 1502.13 Q2208.29 1499.24 2205.34 1499.24 M2205.34 1496.23 Q2210.06 1496.23 2212.54 1499.97 Q2215.04 1503.69 2215.04 1510.8 Q2215.04 1517.89 2212.54 1521.64 Q2210.06 1525.36 2205.34 1525.36 Q2200.62 1525.36 2198.12 1521.64 Q2195.63 1517.89 2195.63 1510.8 Q2195.63 1503.69 2198.12 1499.97 Q2200.62 1496.23 2205.34 1496.23 Z\" fill=\"#000000\" fill-rule=\"nonzero\" fill-opacity=\"1\" /><path clip-path=\"url(#clip290)\" d=\"M2221.72 1520.04 L2225.69 1520.04 L2225.69 1524.81 L2221.72 1524.81 L2221.72 1520.04 Z\" fill=\"#000000\" fill-rule=\"nonzero\" fill-opacity=\"1\" /><path clip-path=\"url(#clip290)\" d=\"M2234 1496.73 L2248.92 1496.73 L2248.92 1499.93 L2237.48 1499.93 L2237.48 1506.82 Q2238.31 1506.53 2239.14 1506.4 Q2239.96 1506.25 2240.79 1506.25 Q2245.49 1506.25 2248.24 1508.83 Q2250.98 1511.4 2250.98 1515.81 Q2250.98 1520.34 2248.16 1522.86 Q2245.34 1525.36 2240.21 1525.36 Q2238.44 1525.36 2236.6 1525.06 Q2234.77 1524.76 2232.82 1524.16 L2232.82 1520.34 Q2234.51 1521.26 2236.31 1521.71 Q2238.12 1522.16 2240.13 1522.16 Q2243.39 1522.16 2245.29 1520.45 Q2247.19 1518.74 2247.19 1515.81 Q2247.19 1512.87 2245.29 1511.16 Q2243.39 1509.45 2240.13 1509.45 Q2238.61 1509.45 2237.09 1509.79 Q2235.58 1510.13 2234 1510.84 L2234 1496.73 Z\" fill=\"#000000\" fill-rule=\"nonzero\" fill-opacity=\"1\" /><polyline clip-path=\"url(#clip290)\" style=\"stroke:#000000; stroke-linecap:round; stroke-linejoin:round; stroke-width:4; stroke-opacity:1; fill:none\" points=\"188.574,1474.16 188.574,47.2441 \"/>\n",
       "<polyline clip-path=\"url(#clip290)\" style=\"stroke:#000000; stroke-linecap:round; stroke-linejoin:round; stroke-width:4; stroke-opacity:1; fill:none\" points=\"188.574,1246.8 207.472,1246.8 \"/>\n",
       "<polyline clip-path=\"url(#clip290)\" style=\"stroke:#000000; stroke-linecap:round; stroke-linejoin:round; stroke-width:4; stroke-opacity:1; fill:none\" points=\"188.574,694.001 207.472,694.001 \"/>\n",
       "<polyline clip-path=\"url(#clip290)\" style=\"stroke:#000000; stroke-linecap:round; stroke-linejoin:round; stroke-width:4; stroke-opacity:1; fill:none\" points=\"188.574,141.201 207.472,141.201 \"/>\n",
       "<path clip-path=\"url(#clip290)\" d=\"M51.6634 1266.59 L59.3023 1266.59 L59.3023 1240.23 L50.9921 1241.89 L50.9921 1237.64 L59.256 1235.97 L63.9319 1235.97 L63.9319 1266.59 L71.5707 1266.59 L71.5707 1270.53 L51.6634 1270.53 L51.6634 1266.59 Z\" fill=\"#000000\" fill-rule=\"nonzero\" fill-opacity=\"1\" /><path clip-path=\"url(#clip290)\" d=\"M91.0151 1239.05 Q87.404 1239.05 85.5753 1242.61 Q83.7697 1246.15 83.7697 1253.28 Q83.7697 1260.39 85.5753 1263.95 Q87.404 1267.5 91.0151 1267.5 Q94.6493 1267.5 96.4548 1263.95 Q98.2835 1260.39 98.2835 1253.28 Q98.2835 1246.15 96.4548 1242.61 Q94.6493 1239.05 91.0151 1239.05 M91.0151 1235.34 Q96.8252 1235.34 99.8808 1239.95 Q102.959 1244.53 102.959 1253.28 Q102.959 1262.01 99.8808 1266.62 Q96.8252 1271.2 91.0151 1271.2 Q85.2049 1271.2 82.1262 1266.62 Q79.0707 1262.01 79.0707 1253.28 Q79.0707 1244.53 82.1262 1239.95 Q85.2049 1235.34 91.0151 1235.34 Z\" fill=\"#000000\" fill-rule=\"nonzero\" fill-opacity=\"1\" /><path clip-path=\"url(#clip290)\" d=\"M102.959 1229.45 L127.071 1229.45 L127.071 1232.64 L102.959 1232.64 L102.959 1229.45 Z\" fill=\"#000000\" fill-rule=\"nonzero\" fill-opacity=\"1\" /><path clip-path=\"url(#clip290)\" d=\"M146.782 1227.98 Q149.509 1228.56 151.032 1230.4 Q152.574 1232.25 152.574 1234.96 Q152.574 1239.11 149.716 1241.39 Q146.857 1243.66 141.591 1243.66 Q139.823 1243.66 137.942 1243.31 Q136.08 1242.97 134.086 1242.27 L134.086 1238.6 Q135.666 1239.53 137.547 1240 Q139.428 1240.47 141.478 1240.47 Q145.051 1240.47 146.913 1239.06 Q148.794 1237.65 148.794 1234.96 Q148.794 1232.47 147.045 1231.08 Q145.315 1229.67 142.211 1229.67 L138.939 1229.67 L138.939 1226.55 L142.362 1226.55 Q145.164 1226.55 146.65 1225.44 Q148.136 1224.31 148.136 1222.2 Q148.136 1220.04 146.593 1218.89 Q145.07 1217.73 142.211 1217.73 Q140.65 1217.73 138.863 1218.07 Q137.077 1218.41 134.933 1219.12 L134.933 1215.73 Q137.096 1215.13 138.976 1214.83 Q140.876 1214.53 142.55 1214.53 Q146.876 1214.53 149.396 1216.51 Q151.916 1218.46 151.916 1221.81 Q151.916 1224.14 150.581 1225.76 Q149.245 1227.36 146.782 1227.98 Z\" fill=\"#000000\" fill-rule=\"nonzero\" fill-opacity=\"1\" /><path clip-path=\"url(#clip290)\" d=\"M52.4345 713.793 L60.0734 713.793 L60.0734 687.428 L51.7632 689.094 L51.7632 684.835 L60.0271 683.169 L64.703 683.169 L64.703 713.793 L72.3418 713.793 L72.3418 717.729 L52.4345 717.729 L52.4345 713.793 Z\" fill=\"#000000\" fill-rule=\"nonzero\" fill-opacity=\"1\" /><path clip-path=\"url(#clip290)\" d=\"M91.7862 686.247 Q88.1751 686.247 86.3464 689.812 Q84.5408 693.354 84.5408 700.483 Q84.5408 707.59 86.3464 711.155 Q88.1751 714.696 91.7862 714.696 Q95.4204 714.696 97.226 711.155 Q99.0547 707.59 99.0547 700.483 Q99.0547 693.354 97.226 689.812 Q95.4204 686.247 91.7862 686.247 M91.7862 682.544 Q97.5963 682.544 100.652 687.15 Q103.731 691.733 103.731 700.483 Q103.731 709.21 100.652 713.817 Q97.5963 718.4 91.7862 718.4 Q85.976 718.4 82.8973 713.817 Q79.8418 709.21 79.8418 700.483 Q79.8418 691.733 82.8973 687.15 Q85.976 682.544 91.7862 682.544 Z\" fill=\"#000000\" fill-rule=\"nonzero\" fill-opacity=\"1\" /><path clip-path=\"url(#clip290)\" d=\"M103.731 676.645 L127.842 676.645 L127.842 679.842 L103.731 679.842 L103.731 676.645 Z\" fill=\"#000000\" fill-rule=\"nonzero\" fill-opacity=\"1\" /><path clip-path=\"url(#clip290)\" d=\"M139.315 687.121 L152.574 687.121 L152.574 690.318 L134.745 690.318 L134.745 687.121 Q136.907 684.883 140.631 681.121 Q144.374 677.341 145.333 676.25 Q147.158 674.2 147.872 672.789 Q148.606 671.36 148.606 669.987 Q148.606 667.749 147.026 666.338 Q145.465 664.928 142.945 664.928 Q141.158 664.928 139.164 665.548 Q137.19 666.169 134.933 667.429 L134.933 663.592 Q137.227 662.671 139.221 662.201 Q141.214 661.73 142.87 661.73 Q147.233 661.73 149.828 663.912 Q152.424 666.094 152.424 669.742 Q152.424 671.473 151.766 673.034 Q151.126 674.576 149.415 676.683 Q148.944 677.228 146.424 679.842 Q143.904 682.438 139.315 687.121 Z\" fill=\"#000000\" fill-rule=\"nonzero\" fill-opacity=\"1\" /><path clip-path=\"url(#clip290)\" d=\"M52.1336 160.993 L59.7725 160.993 L59.7725 134.627 L51.4623 136.294 L51.4623 132.035 L59.7262 130.368 L64.4021 130.368 L64.4021 160.993 L72.0409 160.993 L72.0409 164.928 L52.1336 164.928 L52.1336 160.993 Z\" fill=\"#000000\" fill-rule=\"nonzero\" fill-opacity=\"1\" /><path clip-path=\"url(#clip290)\" d=\"M91.4853 133.447 Q87.8742 133.447 86.0455 137.012 Q84.2399 140.553 84.2399 147.683 Q84.2399 154.789 86.0455 158.354 Q87.8742 161.896 91.4853 161.896 Q95.1195 161.896 96.925 158.354 Q98.7537 154.789 98.7537 147.683 Q98.7537 140.553 96.925 137.012 Q95.1195 133.447 91.4853 133.447 M91.4853 129.743 Q97.2954 129.743 100.351 134.35 Q103.43 138.933 103.43 147.683 Q103.43 156.41 100.351 161.016 Q97.2954 165.599 91.4853 165.599 Q85.6751 165.599 82.5964 161.016 Q79.5409 156.41 79.5409 147.683 Q79.5409 138.933 82.5964 134.35 Q85.6751 129.743 91.4853 129.743 Z\" fill=\"#000000\" fill-rule=\"nonzero\" fill-opacity=\"1\" /><path clip-path=\"url(#clip290)\" d=\"M103.43 123.844 L127.541 123.844 L127.541 127.042 L103.43 127.042 L103.43 123.844 Z\" fill=\"#000000\" fill-rule=\"nonzero\" fill-opacity=\"1\" /><path clip-path=\"url(#clip290)\" d=\"M136.4 134.32 L142.606 134.32 L142.606 112.898 L135.854 114.253 L135.854 110.792 L142.569 109.438 L146.368 109.438 L146.368 134.32 L152.574 134.32 L152.574 137.518 L136.4 137.518 L136.4 134.32 Z\" fill=\"#000000\" fill-rule=\"nonzero\" fill-opacity=\"1\" /><polyline clip-path=\"url(#clip292)\" style=\"stroke:#009af9; stroke-linecap:round; stroke-linejoin:round; stroke-width:12; stroke-opacity:1; fill:none\" points=\"2291.51,434.573 1610.95,767.978 930.385,1100.93 249.825,1433.78 \"/>\n",
       "<circle clip-path=\"url(#clip292)\" cx=\"2291.51\" cy=\"434.573\" r=\"14.4\" fill=\"#009af9\" fill-rule=\"evenodd\" fill-opacity=\"1\" stroke=\"#000000\" stroke-opacity=\"1\" stroke-width=\"3.2\"/>\n",
       "<circle clip-path=\"url(#clip292)\" cx=\"1610.95\" cy=\"767.978\" r=\"14.4\" fill=\"#009af9\" fill-rule=\"evenodd\" fill-opacity=\"1\" stroke=\"#000000\" stroke-opacity=\"1\" stroke-width=\"3.2\"/>\n",
       "<circle clip-path=\"url(#clip292)\" cx=\"930.385\" cy=\"1100.93\" r=\"14.4\" fill=\"#009af9\" fill-rule=\"evenodd\" fill-opacity=\"1\" stroke=\"#000000\" stroke-opacity=\"1\" stroke-width=\"3.2\"/>\n",
       "<circle clip-path=\"url(#clip292)\" cx=\"249.825\" cy=\"1433.78\" r=\"14.4\" fill=\"#009af9\" fill-rule=\"evenodd\" fill-opacity=\"1\" stroke=\"#000000\" stroke-opacity=\"1\" stroke-width=\"3.2\"/>\n",
       "<polyline clip-path=\"url(#clip292)\" style=\"stroke:#e26f46; stroke-linecap:round; stroke-linejoin:round; stroke-width:12; stroke-opacity:1; fill:none\" points=\"2291.51,87.6286 1610.95,420.448 930.385,753.267 249.825,1086.09 \"/>\n",
       "<path clip-path=\"url(#clip290)\" d=\"M260.714 250.328 L565.951 250.328 L565.951 94.8081 L260.714 94.8081  Z\" fill=\"#ffffff\" fill-rule=\"evenodd\" fill-opacity=\"1\"/>\n",
       "<polyline clip-path=\"url(#clip290)\" style=\"stroke:#000000; stroke-linecap:round; stroke-linejoin:round; stroke-width:4; stroke-opacity:1; fill:none\" points=\"260.714,250.328 565.951,250.328 565.951,94.8081 260.714,94.8081 260.714,250.328 \"/>\n",
       "<polyline clip-path=\"url(#clip290)\" style=\"stroke:#009af9; stroke-linecap:round; stroke-linejoin:round; stroke-width:12; stroke-opacity:1; fill:none\" points=\"284.76,146.648 429.039,146.648 \"/>\n",
       "<circle clip-path=\"url(#clip290)\" cx=\"356.9\" cy=\"146.648\" r=\"20.0387\" fill=\"#009af9\" fill-rule=\"evenodd\" fill-opacity=\"1\" stroke=\"#000000\" stroke-opacity=\"1\" stroke-width=\"4.55111\"/>\n",
       "<path clip-path=\"url(#clip290)\" d=\"M453.085 129.368 L474.937 129.368 L474.937 133.303 L457.761 133.303 L457.761 143.535 L474.22 143.535 L474.22 147.47 L457.761 147.47 L457.761 159.993 L475.354 159.993 L475.354 163.928 L453.085 163.928 L453.085 129.368 Z\" fill=\"#000000\" fill-rule=\"nonzero\" fill-opacity=\"1\" /><path clip-path=\"url(#clip290)\" d=\"M497.877 141.984 Q497.159 141.567 496.303 141.382 Q495.469 141.174 494.451 141.174 Q490.84 141.174 488.895 143.535 Q486.974 145.873 486.974 150.271 L486.974 163.928 L482.692 163.928 L482.692 138.002 L486.974 138.002 L486.974 142.03 Q488.317 139.669 490.469 138.535 Q492.622 137.377 495.701 137.377 Q496.141 137.377 496.673 137.447 Q497.206 137.493 497.854 137.609 L497.877 141.984 Z\" fill=\"#000000\" fill-rule=\"nonzero\" fill-opacity=\"1\" /><path clip-path=\"url(#clip290)\" d=\"M516.534 141.984 Q515.817 141.567 514.96 141.382 Q514.127 141.174 513.108 141.174 Q509.497 141.174 507.553 143.535 Q505.631 145.873 505.631 150.271 L505.631 163.928 L501.349 163.928 L501.349 138.002 L505.631 138.002 L505.631 142.03 Q506.974 139.669 509.127 138.535 Q511.28 137.377 514.358 137.377 Q514.798 137.377 515.33 137.447 Q515.863 137.493 516.511 137.609 L516.534 141.984 Z\" fill=\"#000000\" fill-rule=\"nonzero\" fill-opacity=\"1\" /><path clip-path=\"url(#clip290)\" d=\"M530.006 140.988 Q526.58 140.988 524.59 143.674 Q522.599 146.336 522.599 150.988 Q522.599 155.641 524.567 158.326 Q526.557 160.988 530.006 160.988 Q533.409 160.988 535.4 158.303 Q537.391 155.618 537.391 150.988 Q537.391 146.382 535.4 143.697 Q533.409 140.988 530.006 140.988 M530.006 137.377 Q535.562 137.377 538.733 140.988 Q541.904 144.6 541.904 150.988 Q541.904 157.354 538.733 160.988 Q535.562 164.599 530.006 164.599 Q524.428 164.599 521.256 160.988 Q518.108 157.354 518.108 150.988 Q518.108 144.6 521.256 140.988 Q524.428 137.377 530.006 137.377 Z\" fill=\"#000000\" fill-rule=\"nonzero\" fill-opacity=\"1\" /><polyline clip-path=\"url(#clip290)\" style=\"stroke:#e26f46; stroke-linecap:round; stroke-linejoin:round; stroke-width:12; stroke-opacity:1; fill:none\" points=\"284.76,198.488 429.039,198.488 \"/>\n",
       "<path clip-path=\"url(#clip290)\" d=\"M474.798 200.12 L474.798 215.768 L470.539 215.768 L470.539 200.259 Q470.539 196.578 469.104 194.75 Q467.669 192.921 464.798 192.921 Q461.349 192.921 459.359 195.12 Q457.368 197.319 457.368 201.115 L457.368 215.768 L453.085 215.768 L453.085 179.75 L457.368 179.75 L457.368 193.87 Q458.896 191.532 460.956 190.375 Q463.039 189.217 465.747 189.217 Q470.215 189.217 472.507 191.995 Q474.798 194.75 474.798 200.12 Z\" fill=\"#000000\" fill-rule=\"nonzero\" fill-opacity=\"1\" /><path clip-path=\"url(#clip290)\" d=\"M485.03 197.666 L494.844 197.666 L494.844 200.305 L481.002 200.305 L481.002 197.759 Q481.789 197.041 483.247 195.745 Q491.21 188.685 491.21 186.509 Q491.21 184.981 490.007 184.055 Q488.803 183.106 486.835 183.106 Q485.632 183.106 484.22 183.523 Q482.807 183.916 481.141 184.727 L481.141 181.879 Q482.923 181.231 484.451 180.907 Q486.002 180.583 487.321 180.583 Q490.678 180.583 492.692 182.111 Q494.706 183.639 494.706 186.139 Q494.706 189.356 487.044 195.93 Q485.747 197.041 485.03 197.666 Z\" fill=\"#000000\" fill-rule=\"nonzero\" fill-opacity=\"1\" /></svg>\n"
      ]
     },
     "metadata": {},
     "output_type": "display_data"
    }
   ],
   "source": [
    "plot_error_curves(resultado_convergencia_quad[: ,:1], resultado_convergencia_quad[: ,:2])"
   ]
  },
  {
   "cell_type": "markdown",
   "metadata": {},
   "source": [
    "### Estudo 2 - Malha não-uniforme"
   ]
  },
  {
   "cell_type": "code",
   "execution_count": 49,
   "metadata": {},
   "outputs": [
    {
     "name": "stdout",
     "output_type": "stream",
     "text": [
      "  9.581579 seconds (133.05 M allocations: 3.904 GiB, 3.75% gc time, 1.23% compilation time)\n"
     ]
    },
    {
     "data": {
      "text/plain": [
       "4×2 Matrix{Float64}:\n",
       " 0.353553   0.0384008\n",
       " 0.176777   0.0100688\n",
       " 0.0883883  0.00247947\n",
       " 0.0441942  0.00064066"
      ]
     },
     "execution_count": 49,
     "metadata": {},
     "output_type": "execute_result"
    }
   ],
   "source": [
    "α = 1.0\n",
    "β = 1.0\n",
    "f = (x₁::Float64, x₂::Float64) -> (2*α*π^2+β) * sin(π*x₁) * sin(π*x₂)\n",
    "u = (x₁::Float64, x₂::Float64) -> sin(π*x₁) * sin(π*x₂)\n",
    "n_testes = 4\n",
    "\n",
    "@time resultado_convergencia_quad = estudo_de_convergencia_quadrilatero(α, β, f, u, n_testes, true)"
   ]
  },
  {
   "cell_type": "code",
   "execution_count": 50,
   "metadata": {},
   "outputs": [
    {
     "data": {
      "image/png": "[encoded data removed]",
      "image/svg+xml": [
       "<?xml version=\"1.0\" encoding=\"utf-8\"?>\n",
       "<svg xmlns=\"http://www.w3.org/2000/svg\" xmlns:xlink=\"http://www.w3.org/1999/xlink\" width=\"600\" height=\"400\" viewBox=\"0 0 2400 1600\">\n",
       "<defs>\n",
       "  <clipPath id=\"clip330\">\n",
       "    <rect x=\"0\" y=\"0\" width=\"2400\" height=\"1600\"/>\n",
       "  </clipPath>\n",
       "</defs>\n",
       "<path clip-path=\"url(#clip330)\" d=\"M0 1600 L2400 1600 L2400 0 L0 0  Z\" fill=\"#ffffff\" fill-rule=\"evenodd\" fill-opacity=\"1\"/>\n",
       "<defs>\n",
       "  <clipPath id=\"clip331\">\n",
       "    <rect x=\"480\" y=\"0\" width=\"1681\" height=\"1600\"/>\n",
       "  </clipPath>\n",
       "</defs>\n",
       "<path clip-path=\"url(#clip330)\" d=\"M188.574 1474.16 L2352.76 1474.16 L2352.76 47.2441 L188.574 47.2441  Z\" fill=\"#ffffff\" fill-rule=\"evenodd\" fill-opacity=\"1\"/>\n",
       "<defs>\n",
       "  <clipPath id=\"clip332\">\n",
       "    <rect x=\"188\" y=\"47\" width=\"2165\" height=\"1428\"/>\n",
       "  </clipPath>\n",
       "</defs>\n",
       "<polyline clip-path=\"url(#clip332)\" style=\"stroke:#000000; stroke-linecap:round; stroke-linejoin:round; stroke-width:2; stroke-opacity:0.1; fill:none\" points=\"1051.57,1474.16 1051.57,47.2441 \"/>\n",
       "<polyline clip-path=\"url(#clip332)\" style=\"stroke:#000000; stroke-linecap:round; stroke-linejoin:round; stroke-width:2; stroke-opacity:0.1; fill:none\" points=\"2181.96,1474.16 2181.96,47.2441 \"/>\n",
       "<polyline clip-path=\"url(#clip332)\" style=\"stroke:#000000; stroke-linecap:round; stroke-linejoin:round; stroke-width:2; stroke-opacity:0.1; fill:none\" points=\"188.574,1320.12 2352.76,1320.12 \"/>\n",
       "<polyline clip-path=\"url(#clip332)\" style=\"stroke:#000000; stroke-linecap:round; stroke-linejoin:round; stroke-width:2; stroke-opacity:0.1; fill:none\" points=\"188.574,732.356 2352.76,732.356 \"/>\n",
       "<polyline clip-path=\"url(#clip332)\" style=\"stroke:#000000; stroke-linecap:round; stroke-linejoin:round; stroke-width:2; stroke-opacity:0.1; fill:none\" points=\"188.574,144.589 2352.76,144.589 \"/>\n",
       "<polyline clip-path=\"url(#clip330)\" style=\"stroke:#000000; stroke-linecap:round; stroke-linejoin:round; stroke-width:4; stroke-opacity:1; fill:none\" points=\"188.574,1474.16 2352.76,1474.16 \"/>\n",
       "<polyline clip-path=\"url(#clip330)\" style=\"stroke:#000000; stroke-linecap:round; stroke-linejoin:round; stroke-width:4; stroke-opacity:1; fill:none\" points=\"1051.57,1474.16 1051.57,1455.27 \"/>\n",
       "<polyline clip-path=\"url(#clip330)\" style=\"stroke:#000000; stroke-linecap:round; stroke-linejoin:round; stroke-width:4; stroke-opacity:1; fill:none\" points=\"2181.96,1474.16 2181.96,1455.27 \"/>\n",
       "<path clip-path=\"url(#clip330)\" d=\"M982.815 1548.29 L990.454 1548.29 L990.454 1521.92 L982.144 1523.59 L982.144 1519.33 L990.408 1517.66 L995.084 1517.66 L995.084 1548.29 L1002.72 1548.29 L1002.72 1552.22 L982.815 1552.22 L982.815 1548.29 Z\" fill=\"#000000\" fill-rule=\"nonzero\" fill-opacity=\"1\" /><path clip-path=\"url(#clip330)\" d=\"M1022.17 1520.74 Q1018.56 1520.74 1016.73 1524.31 Q1014.92 1527.85 1014.92 1534.98 Q1014.92 1542.09 1016.73 1545.65 Q1018.56 1549.19 1022.17 1549.19 Q1025.8 1549.19 1027.61 1545.65 Q1029.44 1542.09 1029.44 1534.98 Q1029.44 1527.85 1027.61 1524.31 Q1025.8 1520.74 1022.17 1520.74 M1022.17 1517.04 Q1027.98 1517.04 1031.03 1521.65 Q1034.11 1526.23 1034.11 1534.98 Q1034.11 1543.71 1031.03 1548.31 Q1027.98 1552.9 1022.17 1552.9 Q1016.36 1552.9 1013.28 1548.31 Q1010.22 1543.71 1010.22 1534.98 Q1010.22 1526.23 1013.28 1521.65 Q1016.36 1517.04 1022.17 1517.04 Z\" fill=\"#000000\" fill-rule=\"nonzero\" fill-opacity=\"1\" /><path clip-path=\"url(#clip330)\" d=\"M1034.11 1511.14 L1058.22 1511.14 L1058.22 1514.34 L1034.11 1514.34 L1034.11 1511.14 Z\" fill=\"#000000\" fill-rule=\"nonzero\" fill-opacity=\"1\" /><path clip-path=\"url(#clip330)\" d=\"M1067.08 1521.62 L1073.29 1521.62 L1073.29 1500.19 L1066.54 1501.55 L1066.54 1498.09 L1073.25 1496.73 L1077.05 1496.73 L1077.05 1521.62 L1083.26 1521.62 L1083.26 1524.81 L1067.08 1524.81 L1067.08 1521.62 Z\" fill=\"#000000\" fill-rule=\"nonzero\" fill-opacity=\"1\" /><path clip-path=\"url(#clip330)\" d=\"M1090.93 1520.04 L1094.9 1520.04 L1094.9 1524.81 L1090.93 1524.81 L1090.93 1520.04 Z\" fill=\"#000000\" fill-rule=\"nonzero\" fill-opacity=\"1\" /><path clip-path=\"url(#clip330)\" d=\"M1111.3 1499.24 Q1108.36 1499.24 1106.88 1502.13 Q1105.41 1505.01 1105.41 1510.8 Q1105.41 1516.58 1106.88 1519.47 Q1108.36 1522.35 1111.3 1522.35 Q1114.25 1522.35 1115.72 1519.47 Q1117.2 1516.58 1117.2 1510.8 Q1117.2 1505.01 1115.72 1502.13 Q1114.25 1499.24 1111.3 1499.24 M1111.3 1496.23 Q1116.02 1496.23 1118.5 1499.97 Q1121 1503.69 1121 1510.8 Q1121 1517.89 1118.5 1521.64 Q1116.02 1525.36 1111.3 1525.36 Q1106.58 1525.36 1104.08 1521.64 Q1101.59 1517.89 1101.59 1510.8 Q1101.59 1503.69 1104.08 1499.97 Q1106.58 1496.23 1111.3 1496.23 Z\" fill=\"#000000\" fill-rule=\"nonzero\" fill-opacity=\"1\" /><path clip-path=\"url(#clip330)\" d=\"M2113.61 1548.29 L2121.24 1548.29 L2121.24 1521.92 L2112.93 1523.59 L2112.93 1519.33 L2121.2 1517.66 L2125.87 1517.66 L2125.87 1548.29 L2133.51 1548.29 L2133.51 1552.22 L2113.61 1552.22 L2113.61 1548.29 Z\" fill=\"#000000\" fill-rule=\"nonzero\" fill-opacity=\"1\" /><path clip-path=\"url(#clip330)\" d=\"M2152.96 1520.74 Q2149.35 1520.74 2147.52 1524.31 Q2145.71 1527.85 2145.71 1534.98 Q2145.71 1542.09 2147.52 1545.65 Q2149.35 1549.19 2152.96 1549.19 Q2156.59 1549.19 2158.4 1545.65 Q2160.23 1542.09 2160.23 1534.98 Q2160.23 1527.85 2158.4 1524.31 Q2156.59 1520.74 2152.96 1520.74 M2152.96 1517.04 Q2158.77 1517.04 2161.82 1521.65 Q2164.9 1526.23 2164.9 1534.98 Q2164.9 1543.71 2161.82 1548.31 Q2158.77 1552.9 2152.96 1552.9 Q2147.15 1552.9 2144.07 1548.31 Q2141.01 1543.71 2141.01 1534.98 Q2141.01 1526.23 2144.07 1521.65 Q2147.15 1517.04 2152.96 1517.04 Z\" fill=\"#000000\" fill-rule=\"nonzero\" fill-opacity=\"1\" /><path clip-path=\"url(#clip330)\" d=\"M2164.9 1511.14 L2189.01 1511.14 L2189.01 1514.34 L2164.9 1514.34 L2164.9 1511.14 Z\" fill=\"#000000\" fill-rule=\"nonzero\" fill-opacity=\"1\" /><path clip-path=\"url(#clip330)\" d=\"M2205.34 1499.24 Q2202.4 1499.24 2200.92 1502.13 Q2199.45 1505.01 2199.45 1510.8 Q2199.45 1516.58 2200.92 1519.47 Q2202.4 1522.35 2205.34 1522.35 Q2208.29 1522.35 2209.76 1519.47 Q2211.24 1516.58 2211.24 1510.8 Q2211.24 1505.01 2209.76 1502.13 Q2208.29 1499.24 2205.34 1499.24 M2205.34 1496.23 Q2210.06 1496.23 2212.54 1499.97 Q2215.04 1503.69 2215.04 1510.8 Q2215.04 1517.89 2212.54 1521.64 Q2210.06 1525.36 2205.34 1525.36 Q2200.62 1525.36 2198.12 1521.64 Q2195.63 1517.89 2195.63 1510.8 Q2195.63 1503.69 2198.12 1499.97 Q2200.62 1496.23 2205.34 1496.23 Z\" fill=\"#000000\" fill-rule=\"nonzero\" fill-opacity=\"1\" /><path clip-path=\"url(#clip330)\" d=\"M2221.72 1520.04 L2225.69 1520.04 L2225.69 1524.81 L2221.72 1524.81 L2221.72 1520.04 Z\" fill=\"#000000\" fill-rule=\"nonzero\" fill-opacity=\"1\" /><path clip-path=\"url(#clip330)\" d=\"M2234 1496.73 L2248.92 1496.73 L2248.92 1499.93 L2237.48 1499.93 L2237.48 1506.82 Q2238.31 1506.53 2239.14 1506.4 Q2239.96 1506.25 2240.79 1506.25 Q2245.49 1506.25 2248.24 1508.83 Q2250.98 1511.4 2250.98 1515.81 Q2250.98 1520.34 2248.16 1522.86 Q2245.34 1525.36 2240.21 1525.36 Q2238.44 1525.36 2236.6 1525.06 Q2234.77 1524.76 2232.82 1524.16 L2232.82 1520.34 Q2234.51 1521.26 2236.31 1521.71 Q2238.12 1522.16 2240.13 1522.16 Q2243.39 1522.16 2245.29 1520.45 Q2247.19 1518.74 2247.19 1515.81 Q2247.19 1512.87 2245.29 1511.16 Q2243.39 1509.45 2240.13 1509.45 Q2238.61 1509.45 2237.09 1509.79 Q2235.58 1510.13 2234 1510.84 L2234 1496.73 Z\" fill=\"#000000\" fill-rule=\"nonzero\" fill-opacity=\"1\" /><polyline clip-path=\"url(#clip330)\" style=\"stroke:#000000; stroke-linecap:round; stroke-linejoin:round; stroke-width:4; stroke-opacity:1; fill:none\" points=\"188.574,1474.16 188.574,47.2441 \"/>\n",
       "<polyline clip-path=\"url(#clip330)\" style=\"stroke:#000000; stroke-linecap:round; stroke-linejoin:round; stroke-width:4; stroke-opacity:1; fill:none\" points=\"188.574,1320.12 207.472,1320.12 \"/>\n",
       "<polyline clip-path=\"url(#clip330)\" style=\"stroke:#000000; stroke-linecap:round; stroke-linejoin:round; stroke-width:4; stroke-opacity:1; fill:none\" points=\"188.574,732.356 207.472,732.356 \"/>\n",
       "<polyline clip-path=\"url(#clip330)\" style=\"stroke:#000000; stroke-linecap:round; stroke-linejoin:round; stroke-width:4; stroke-opacity:1; fill:none\" points=\"188.574,144.589 207.472,144.589 \"/>\n",
       "<path clip-path=\"url(#clip330)\" d=\"M51.6634 1339.91 L59.3023 1339.91 L59.3023 1313.55 L50.9921 1315.22 L50.9921 1310.96 L59.256 1309.29 L63.9319 1309.29 L63.9319 1339.91 L71.5707 1339.91 L71.5707 1343.85 L51.6634 1343.85 L51.6634 1339.91 Z\" fill=\"#000000\" fill-rule=\"nonzero\" fill-opacity=\"1\" /><path clip-path=\"url(#clip330)\" d=\"M91.0151 1312.37 Q87.404 1312.37 85.5753 1315.93 Q83.7697 1319.47 83.7697 1326.6 Q83.7697 1333.71 85.5753 1337.28 Q87.404 1340.82 91.0151 1340.82 Q94.6493 1340.82 96.4548 1337.28 Q98.2835 1333.71 98.2835 1326.6 Q98.2835 1319.47 96.4548 1315.93 Q94.6493 1312.37 91.0151 1312.37 M91.0151 1308.66 Q96.8252 1308.66 99.8808 1313.27 Q102.959 1317.85 102.959 1326.6 Q102.959 1335.33 99.8808 1339.94 Q96.8252 1344.52 91.0151 1344.52 Q85.2049 1344.52 82.1262 1339.94 Q79.0707 1335.33 79.0707 1326.6 Q79.0707 1317.85 82.1262 1313.27 Q85.2049 1308.66 91.0151 1308.66 Z\" fill=\"#000000\" fill-rule=\"nonzero\" fill-opacity=\"1\" /><path clip-path=\"url(#clip330)\" d=\"M102.959 1302.77 L127.071 1302.77 L127.071 1305.96 L102.959 1305.96 L102.959 1302.77 Z\" fill=\"#000000\" fill-rule=\"nonzero\" fill-opacity=\"1\" /><path clip-path=\"url(#clip330)\" d=\"M146.782 1301.3 Q149.509 1301.88 151.032 1303.73 Q152.574 1305.57 152.574 1308.28 Q152.574 1312.43 149.716 1314.71 Q146.857 1316.98 141.591 1316.98 Q139.823 1316.98 137.942 1316.63 Q136.08 1316.29 134.086 1315.59 L134.086 1311.93 Q135.666 1312.85 137.547 1313.32 Q139.428 1313.79 141.478 1313.79 Q145.051 1313.79 146.913 1312.38 Q148.794 1310.97 148.794 1308.28 Q148.794 1305.79 147.045 1304.4 Q145.315 1302.99 142.211 1302.99 L138.939 1302.99 L138.939 1299.87 L142.362 1299.87 Q145.164 1299.87 146.65 1298.76 Q148.136 1297.63 148.136 1295.53 Q148.136 1293.36 146.593 1292.21 Q145.07 1291.05 142.211 1291.05 Q140.65 1291.05 138.863 1291.39 Q137.077 1291.73 134.933 1292.44 L134.933 1289.06 Q137.096 1288.45 138.976 1288.15 Q140.876 1287.85 142.55 1287.85 Q146.876 1287.85 149.396 1289.83 Q151.916 1291.78 151.916 1295.13 Q151.916 1297.46 150.581 1299.08 Q149.245 1300.68 146.782 1301.3 Z\" fill=\"#000000\" fill-rule=\"nonzero\" fill-opacity=\"1\" /><path clip-path=\"url(#clip330)\" d=\"M52.4345 752.148 L60.0734 752.148 L60.0734 725.782 L51.7632 727.449 L51.7632 723.19 L60.0271 721.523 L64.703 721.523 L64.703 752.148 L72.3418 752.148 L72.3418 756.083 L52.4345 756.083 L52.4345 752.148 Z\" fill=\"#000000\" fill-rule=\"nonzero\" fill-opacity=\"1\" /><path clip-path=\"url(#clip330)\" d=\"M91.7862 724.602 Q88.1751 724.602 86.3464 728.167 Q84.5408 731.708 84.5408 738.838 Q84.5408 745.944 86.3464 749.509 Q88.1751 753.051 91.7862 753.051 Q95.4204 753.051 97.226 749.509 Q99.0547 745.944 99.0547 738.838 Q99.0547 731.708 97.226 728.167 Q95.4204 724.602 91.7862 724.602 M91.7862 720.898 Q97.5963 720.898 100.652 725.505 Q103.731 730.088 103.731 738.838 Q103.731 747.565 100.652 752.171 Q97.5963 756.755 91.7862 756.755 Q85.976 756.755 82.8973 752.171 Q79.8418 747.565 79.8418 738.838 Q79.8418 730.088 82.8973 725.505 Q85.976 720.898 91.7862 720.898 Z\" fill=\"#000000\" fill-rule=\"nonzero\" fill-opacity=\"1\" /><path clip-path=\"url(#clip330)\" d=\"M103.731 715 L127.842 715 L127.842 718.197 L103.731 718.197 L103.731 715 Z\" fill=\"#000000\" fill-rule=\"nonzero\" fill-opacity=\"1\" /><path clip-path=\"url(#clip330)\" d=\"M139.315 725.476 L152.574 725.476 L152.574 728.673 L134.745 728.673 L134.745 725.476 Q136.907 723.237 140.631 719.476 Q144.374 715.695 145.333 714.605 Q147.158 712.555 147.872 711.144 Q148.606 709.715 148.606 708.342 Q148.606 706.103 147.026 704.693 Q145.465 703.282 142.945 703.282 Q141.158 703.282 139.164 703.903 Q137.19 704.524 134.933 705.784 L134.933 701.947 Q137.227 701.025 139.221 700.555 Q141.214 700.085 142.87 700.085 Q147.233 700.085 149.828 702.267 Q152.424 704.448 152.424 708.097 Q152.424 709.827 151.766 711.388 Q151.126 712.931 149.415 715.037 Q148.944 715.583 146.424 718.197 Q143.904 720.792 139.315 725.476 Z\" fill=\"#000000\" fill-rule=\"nonzero\" fill-opacity=\"1\" /><path clip-path=\"url(#clip330)\" d=\"M52.1336 164.382 L59.7725 164.382 L59.7725 138.016 L51.4623 139.683 L51.4623 135.423 L59.7262 133.757 L64.4021 133.757 L64.4021 164.382 L72.0409 164.382 L72.0409 168.317 L52.1336 168.317 L52.1336 164.382 Z\" fill=\"#000000\" fill-rule=\"nonzero\" fill-opacity=\"1\" /><path clip-path=\"url(#clip330)\" d=\"M91.4853 136.835 Q87.8742 136.835 86.0455 140.4 Q84.2399 143.942 84.2399 151.071 Q84.2399 158.178 86.0455 161.743 Q87.8742 165.284 91.4853 165.284 Q95.1195 165.284 96.925 161.743 Q98.7537 158.178 98.7537 151.071 Q98.7537 143.942 96.925 140.4 Q95.1195 136.835 91.4853 136.835 M91.4853 133.132 Q97.2954 133.132 100.351 137.738 Q103.43 142.321 103.43 151.071 Q103.43 159.798 100.351 164.405 Q97.2954 168.988 91.4853 168.988 Q85.6751 168.988 82.5964 164.405 Q79.5409 159.798 79.5409 151.071 Q79.5409 142.321 82.5964 137.738 Q85.6751 133.132 91.4853 133.132 Z\" fill=\"#000000\" fill-rule=\"nonzero\" fill-opacity=\"1\" /><path clip-path=\"url(#clip330)\" d=\"M103.43 127.233 L127.541 127.233 L127.541 130.43 L103.43 130.43 L103.43 127.233 Z\" fill=\"#000000\" fill-rule=\"nonzero\" fill-opacity=\"1\" /><path clip-path=\"url(#clip330)\" d=\"M136.4 137.709 L142.606 137.709 L142.606 116.287 L135.854 117.641 L135.854 114.18 L142.569 112.826 L146.368 112.826 L146.368 137.709 L152.574 137.709 L152.574 140.906 L136.4 140.906 L136.4 137.709 Z\" fill=\"#000000\" fill-rule=\"nonzero\" fill-opacity=\"1\" /><polyline clip-path=\"url(#clip332)\" style=\"stroke:#009af9; stroke-linecap:round; stroke-linejoin:round; stroke-width:12; stroke-opacity:1; fill:none\" points=\"2291.51,388.9 1610.95,730.606 930.385,1088.33 249.825,1433.78 \"/>\n",
       "<circle clip-path=\"url(#clip332)\" cx=\"2291.51\" cy=\"388.9\" r=\"14.4\" fill=\"#009af9\" fill-rule=\"evenodd\" fill-opacity=\"1\" stroke=\"#000000\" stroke-opacity=\"1\" stroke-width=\"3.2\"/>\n",
       "<circle clip-path=\"url(#clip332)\" cx=\"1610.95\" cy=\"730.606\" r=\"14.4\" fill=\"#009af9\" fill-rule=\"evenodd\" fill-opacity=\"1\" stroke=\"#000000\" stroke-opacity=\"1\" stroke-width=\"3.2\"/>\n",
       "<circle clip-path=\"url(#clip332)\" cx=\"930.385\" cy=\"1088.33\" r=\"14.4\" fill=\"#009af9\" fill-rule=\"evenodd\" fill-opacity=\"1\" stroke=\"#000000\" stroke-opacity=\"1\" stroke-width=\"3.2\"/>\n",
       "<circle clip-path=\"url(#clip332)\" cx=\"249.825\" cy=\"1433.78\" r=\"14.4\" fill=\"#009af9\" fill-rule=\"evenodd\" fill-opacity=\"1\" stroke=\"#000000\" stroke-opacity=\"1\" stroke-width=\"3.2\"/>\n",
       "<polyline clip-path=\"url(#clip332)\" style=\"stroke:#e26f46; stroke-linecap:round; stroke-linejoin:round; stroke-width:12; stroke-opacity:1; fill:none\" points=\"2291.51,87.6286 1610.95,441.499 930.385,795.37 249.825,1149.24 \"/>\n",
       "<path clip-path=\"url(#clip330)\" d=\"M260.714 250.328 L565.951 250.328 L565.951 94.8081 L260.714 94.8081  Z\" fill=\"#ffffff\" fill-rule=\"evenodd\" fill-opacity=\"1\"/>\n",
       "<polyline clip-path=\"url(#clip330)\" style=\"stroke:#000000; stroke-linecap:round; stroke-linejoin:round; stroke-width:4; stroke-opacity:1; fill:none\" points=\"260.714,250.328 565.951,250.328 565.951,94.8081 260.714,94.8081 260.714,250.328 \"/>\n",
       "<polyline clip-path=\"url(#clip330)\" style=\"stroke:#009af9; stroke-linecap:round; stroke-linejoin:round; stroke-width:12; stroke-opacity:1; fill:none\" points=\"284.76,146.648 429.039,146.648 \"/>\n",
       "<circle clip-path=\"url(#clip330)\" cx=\"356.9\" cy=\"146.648\" r=\"20.0387\" fill=\"#009af9\" fill-rule=\"evenodd\" fill-opacity=\"1\" stroke=\"#000000\" stroke-opacity=\"1\" stroke-width=\"4.55111\"/>\n",
       "<path clip-path=\"url(#clip330)\" d=\"M453.085 129.368 L474.937 129.368 L474.937 133.303 L457.761 133.303 L457.761 143.535 L474.22 143.535 L474.22 147.47 L457.761 147.47 L457.761 159.993 L475.354 159.993 L475.354 163.928 L453.085 163.928 L453.085 129.368 Z\" fill=\"#000000\" fill-rule=\"nonzero\" fill-opacity=\"1\" /><path clip-path=\"url(#clip330)\" d=\"M497.877 141.984 Q497.159 141.567 496.303 141.382 Q495.469 141.174 494.451 141.174 Q490.84 141.174 488.895 143.535 Q486.974 145.873 486.974 150.271 L486.974 163.928 L482.692 163.928 L482.692 138.002 L486.974 138.002 L486.974 142.03 Q488.317 139.669 490.469 138.535 Q492.622 137.377 495.701 137.377 Q496.141 137.377 496.673 137.447 Q497.206 137.493 497.854 137.609 L497.877 141.984 Z\" fill=\"#000000\" fill-rule=\"nonzero\" fill-opacity=\"1\" /><path clip-path=\"url(#clip330)\" d=\"M516.534 141.984 Q515.817 141.567 514.96 141.382 Q514.127 141.174 513.108 141.174 Q509.497 141.174 507.553 143.535 Q505.631 145.873 505.631 150.271 L505.631 163.928 L501.349 163.928 L501.349 138.002 L505.631 138.002 L505.631 142.03 Q506.974 139.669 509.127 138.535 Q511.28 137.377 514.358 137.377 Q514.798 137.377 515.33 137.447 Q515.863 137.493 516.511 137.609 L516.534 141.984 Z\" fill=\"#000000\" fill-rule=\"nonzero\" fill-opacity=\"1\" /><path clip-path=\"url(#clip330)\" d=\"M530.006 140.988 Q526.58 140.988 524.59 143.674 Q522.599 146.336 522.599 150.988 Q522.599 155.641 524.567 158.326 Q526.557 160.988 530.006 160.988 Q533.409 160.988 535.4 158.303 Q537.391 155.618 537.391 150.988 Q537.391 146.382 535.4 143.697 Q533.409 140.988 530.006 140.988 M530.006 137.377 Q535.562 137.377 538.733 140.988 Q541.904 144.6 541.904 150.988 Q541.904 157.354 538.733 160.988 Q535.562 164.599 530.006 164.599 Q524.428 164.599 521.256 160.988 Q518.108 157.354 518.108 150.988 Q518.108 144.6 521.256 140.988 Q524.428 137.377 530.006 137.377 Z\" fill=\"#000000\" fill-rule=\"nonzero\" fill-opacity=\"1\" /><polyline clip-path=\"url(#clip330)\" style=\"stroke:#e26f46; stroke-linecap:round; stroke-linejoin:round; stroke-width:12; stroke-opacity:1; fill:none\" points=\"284.76,198.488 429.039,198.488 \"/>\n",
       "<path clip-path=\"url(#clip330)\" d=\"M474.798 200.12 L474.798 215.768 L470.539 215.768 L470.539 200.259 Q470.539 196.578 469.104 194.75 Q467.669 192.921 464.798 192.921 Q461.349 192.921 459.359 195.12 Q457.368 197.319 457.368 201.115 L457.368 215.768 L453.085 215.768 L453.085 179.75 L457.368 179.75 L457.368 193.87 Q458.896 191.532 460.956 190.375 Q463.039 189.217 465.747 189.217 Q470.215 189.217 472.507 191.995 Q474.798 194.75 474.798 200.12 Z\" fill=\"#000000\" fill-rule=\"nonzero\" fill-opacity=\"1\" /><path clip-path=\"url(#clip330)\" d=\"M485.03 197.666 L494.844 197.666 L494.844 200.305 L481.002 200.305 L481.002 197.759 Q481.789 197.041 483.247 195.745 Q491.21 188.685 491.21 186.509 Q491.21 184.981 490.007 184.055 Q488.803 183.106 486.835 183.106 Q485.632 183.106 484.22 183.523 Q482.807 183.916 481.141 184.727 L481.141 181.879 Q482.923 181.231 484.451 180.907 Q486.002 180.583 487.321 180.583 Q490.678 180.583 492.692 182.111 Q494.706 183.639 494.706 186.139 Q494.706 189.356 487.044 195.93 Q485.747 197.041 485.03 197.666 Z\" fill=\"#000000\" fill-rule=\"nonzero\" fill-opacity=\"1\" /></svg>\n"
      ],
      "text/html": [
       "<?xml version=\"1.0\" encoding=\"utf-8\"?>\n",
       "<svg xmlns=\"http://www.w3.org/2000/svg\" xmlns:xlink=\"http://www.w3.org/1999/xlink\" width=\"600\" height=\"400\" viewBox=\"0 0 2400 1600\">\n",
       "<defs>\n",
       "  <clipPath id=\"clip380\">\n",
       "    <rect x=\"0\" y=\"0\" width=\"2400\" height=\"1600\"/>\n",
       "  </clipPath>\n",
       "</defs>\n",
       "<path clip-path=\"url(#clip380)\" d=\"M0 1600 L2400 1600 L2400 0 L0 0  Z\" fill=\"#ffffff\" fill-rule=\"evenodd\" fill-opacity=\"1\"/>\n",
       "<defs>\n",
       "  <clipPath id=\"clip381\">\n",
       "    <rect x=\"480\" y=\"0\" width=\"1681\" height=\"1600\"/>\n",
       "  </clipPath>\n",
       "</defs>\n",
       "<path clip-path=\"url(#clip380)\" d=\"M188.574 1474.16 L2352.76 1474.16 L2352.76 47.2441 L188.574 47.2441  Z\" fill=\"#ffffff\" fill-rule=\"evenodd\" fill-opacity=\"1\"/>\n",
       "<defs>\n",
       "  <clipPath id=\"clip382\">\n",
       "    <rect x=\"188\" y=\"47\" width=\"2165\" height=\"1428\"/>\n",
       "  </clipPath>\n",
       "</defs>\n",
       "<polyline clip-path=\"url(#clip382)\" style=\"stroke:#000000; stroke-linecap:round; stroke-linejoin:round; stroke-width:2; stroke-opacity:0.1; fill:none\" points=\"1051.57,1474.16 1051.57,47.2441 \"/>\n",
       "<polyline clip-path=\"url(#clip382)\" style=\"stroke:#000000; stroke-linecap:round; stroke-linejoin:round; stroke-width:2; stroke-opacity:0.1; fill:none\" points=\"2181.96,1474.16 2181.96,47.2441 \"/>\n",
       "<polyline clip-path=\"url(#clip382)\" style=\"stroke:#000000; stroke-linecap:round; stroke-linejoin:round; stroke-width:2; stroke-opacity:0.1; fill:none\" points=\"188.574,1320.12 2352.76,1320.12 \"/>\n",
       "<polyline clip-path=\"url(#clip382)\" style=\"stroke:#000000; stroke-linecap:round; stroke-linejoin:round; stroke-width:2; stroke-opacity:0.1; fill:none\" points=\"188.574,732.356 2352.76,732.356 \"/>\n",
       "<polyline clip-path=\"url(#clip382)\" style=\"stroke:#000000; stroke-linecap:round; stroke-linejoin:round; stroke-width:2; stroke-opacity:0.1; fill:none\" points=\"188.574,144.589 2352.76,144.589 \"/>\n",
       "<polyline clip-path=\"url(#clip380)\" style=\"stroke:#000000; stroke-linecap:round; stroke-linejoin:round; stroke-width:4; stroke-opacity:1; fill:none\" points=\"188.574,1474.16 2352.76,1474.16 \"/>\n",
       "<polyline clip-path=\"url(#clip380)\" style=\"stroke:#000000; stroke-linecap:round; stroke-linejoin:round; stroke-width:4; stroke-opacity:1; fill:none\" points=\"1051.57,1474.16 1051.57,1455.27 \"/>\n",
       "<polyline clip-path=\"url(#clip380)\" style=\"stroke:#000000; stroke-linecap:round; stroke-linejoin:round; stroke-width:4; stroke-opacity:1; fill:none\" points=\"2181.96,1474.16 2181.96,1455.27 \"/>\n",
       "<path clip-path=\"url(#clip380)\" d=\"M982.815 1548.29 L990.454 1548.29 L990.454 1521.92 L982.144 1523.59 L982.144 1519.33 L990.408 1517.66 L995.084 1517.66 L995.084 1548.29 L1002.72 1548.29 L1002.72 1552.22 L982.815 1552.22 L982.815 1548.29 Z\" fill=\"#000000\" fill-rule=\"nonzero\" fill-opacity=\"1\" /><path clip-path=\"url(#clip380)\" d=\"M1022.17 1520.74 Q1018.56 1520.74 1016.73 1524.31 Q1014.92 1527.85 1014.92 1534.98 Q1014.92 1542.09 1016.73 1545.65 Q1018.56 1549.19 1022.17 1549.19 Q1025.8 1549.19 1027.61 1545.65 Q1029.44 1542.09 1029.44 1534.98 Q1029.44 1527.85 1027.61 1524.31 Q1025.8 1520.74 1022.17 1520.74 M1022.17 1517.04 Q1027.98 1517.04 1031.03 1521.65 Q1034.11 1526.23 1034.11 1534.98 Q1034.11 1543.71 1031.03 1548.31 Q1027.98 1552.9 1022.17 1552.9 Q1016.36 1552.9 1013.28 1548.31 Q1010.22 1543.71 1010.22 1534.98 Q1010.22 1526.23 1013.28 1521.65 Q1016.36 1517.04 1022.17 1517.04 Z\" fill=\"#000000\" fill-rule=\"nonzero\" fill-opacity=\"1\" /><path clip-path=\"url(#clip380)\" d=\"M1034.11 1511.14 L1058.22 1511.14 L1058.22 1514.34 L1034.11 1514.34 L1034.11 1511.14 Z\" fill=\"#000000\" fill-rule=\"nonzero\" fill-opacity=\"1\" /><path clip-path=\"url(#clip380)\" d=\"M1067.08 1521.62 L1073.29 1521.62 L1073.29 1500.19 L1066.54 1501.55 L1066.54 1498.09 L1073.25 1496.73 L1077.05 1496.73 L1077.05 1521.62 L1083.26 1521.62 L1083.26 1524.81 L1067.08 1524.81 L1067.08 1521.62 Z\" fill=\"#000000\" fill-rule=\"nonzero\" fill-opacity=\"1\" /><path clip-path=\"url(#clip380)\" d=\"M1090.93 1520.04 L1094.9 1520.04 L1094.9 1524.81 L1090.93 1524.81 L1090.93 1520.04 Z\" fill=\"#000000\" fill-rule=\"nonzero\" fill-opacity=\"1\" /><path clip-path=\"url(#clip380)\" d=\"M1111.3 1499.24 Q1108.36 1499.24 1106.88 1502.13 Q1105.41 1505.01 1105.41 1510.8 Q1105.41 1516.58 1106.88 1519.47 Q1108.36 1522.35 1111.3 1522.35 Q1114.25 1522.35 1115.72 1519.47 Q1117.2 1516.58 1117.2 1510.8 Q1117.2 1505.01 1115.72 1502.13 Q1114.25 1499.24 1111.3 1499.24 M1111.3 1496.23 Q1116.02 1496.23 1118.5 1499.97 Q1121 1503.69 1121 1510.8 Q1121 1517.89 1118.5 1521.64 Q1116.02 1525.36 1111.3 1525.36 Q1106.58 1525.36 1104.08 1521.64 Q1101.59 1517.89 1101.59 1510.8 Q1101.59 1503.69 1104.08 1499.97 Q1106.58 1496.23 1111.3 1496.23 Z\" fill=\"#000000\" fill-rule=\"nonzero\" fill-opacity=\"1\" /><path clip-path=\"url(#clip380)\" d=\"M2113.61 1548.29 L2121.24 1548.29 L2121.24 1521.92 L2112.93 1523.59 L2112.93 1519.33 L2121.2 1517.66 L2125.87 1517.66 L2125.87 1548.29 L2133.51 1548.29 L2133.51 1552.22 L2113.61 1552.22 L2113.61 1548.29 Z\" fill=\"#000000\" fill-rule=\"nonzero\" fill-opacity=\"1\" /><path clip-path=\"url(#clip380)\" d=\"M2152.96 1520.74 Q2149.35 1520.74 2147.52 1524.31 Q2145.71 1527.85 2145.71 1534.98 Q2145.71 1542.09 2147.52 1545.65 Q2149.35 1549.19 2152.96 1549.19 Q2156.59 1549.19 2158.4 1545.65 Q2160.23 1542.09 2160.23 1534.98 Q2160.23 1527.85 2158.4 1524.31 Q2156.59 1520.74 2152.96 1520.74 M2152.96 1517.04 Q2158.77 1517.04 2161.82 1521.65 Q2164.9 1526.23 2164.9 1534.98 Q2164.9 1543.71 2161.82 1548.31 Q2158.77 1552.9 2152.96 1552.9 Q2147.15 1552.9 2144.07 1548.31 Q2141.01 1543.71 2141.01 1534.98 Q2141.01 1526.23 2144.07 1521.65 Q2147.15 1517.04 2152.96 1517.04 Z\" fill=\"#000000\" fill-rule=\"nonzero\" fill-opacity=\"1\" /><path clip-path=\"url(#clip380)\" d=\"M2164.9 1511.14 L2189.01 1511.14 L2189.01 1514.34 L2164.9 1514.34 L2164.9 1511.14 Z\" fill=\"#000000\" fill-rule=\"nonzero\" fill-opacity=\"1\" /><path clip-path=\"url(#clip380)\" d=\"M2205.34 1499.24 Q2202.4 1499.24 2200.92 1502.13 Q2199.45 1505.01 2199.45 1510.8 Q2199.45 1516.58 2200.92 1519.47 Q2202.4 1522.35 2205.34 1522.35 Q2208.29 1522.35 2209.76 1519.47 Q2211.24 1516.58 2211.24 1510.8 Q2211.24 1505.01 2209.76 1502.13 Q2208.29 1499.24 2205.34 1499.24 M2205.34 1496.23 Q2210.06 1496.23 2212.54 1499.97 Q2215.04 1503.69 2215.04 1510.8 Q2215.04 1517.89 2212.54 1521.64 Q2210.06 1525.36 2205.34 1525.36 Q2200.62 1525.36 2198.12 1521.64 Q2195.63 1517.89 2195.63 1510.8 Q2195.63 1503.69 2198.12 1499.97 Q2200.62 1496.23 2205.34 1496.23 Z\" fill=\"#000000\" fill-rule=\"nonzero\" fill-opacity=\"1\" /><path clip-path=\"url(#clip380)\" d=\"M2221.72 1520.04 L2225.69 1520.04 L2225.69 1524.81 L2221.72 1524.81 L2221.72 1520.04 Z\" fill=\"#000000\" fill-rule=\"nonzero\" fill-opacity=\"1\" /><path clip-path=\"url(#clip380)\" d=\"M2234 1496.73 L2248.92 1496.73 L2248.92 1499.93 L2237.48 1499.93 L2237.48 1506.82 Q2238.31 1506.53 2239.14 1506.4 Q2239.96 1506.25 2240.79 1506.25 Q2245.49 1506.25 2248.24 1508.83 Q2250.98 1511.4 2250.98 1515.81 Q2250.98 1520.34 2248.16 1522.86 Q2245.34 1525.36 2240.21 1525.36 Q2238.44 1525.36 2236.6 1525.06 Q2234.77 1524.76 2232.82 1524.16 L2232.82 1520.34 Q2234.51 1521.26 2236.31 1521.71 Q2238.12 1522.16 2240.13 1522.16 Q2243.39 1522.16 2245.29 1520.45 Q2247.19 1518.74 2247.19 1515.81 Q2247.19 1512.87 2245.29 1511.16 Q2243.39 1509.45 2240.13 1509.45 Q2238.61 1509.45 2237.09 1509.79 Q2235.58 1510.13 2234 1510.84 L2234 1496.73 Z\" fill=\"#000000\" fill-rule=\"nonzero\" fill-opacity=\"1\" /><polyline clip-path=\"url(#clip380)\" style=\"stroke:#000000; stroke-linecap:round; stroke-linejoin:round; stroke-width:4; stroke-opacity:1; fill:none\" points=\"188.574,1474.16 188.574,47.2441 \"/>\n",
       "<polyline clip-path=\"url(#clip380)\" style=\"stroke:#000000; stroke-linecap:round; stroke-linejoin:round; stroke-width:4; stroke-opacity:1; fill:none\" points=\"188.574,1320.12 207.472,1320.12 \"/>\n",
       "<polyline clip-path=\"url(#clip380)\" style=\"stroke:#000000; stroke-linecap:round; stroke-linejoin:round; stroke-width:4; stroke-opacity:1; fill:none\" points=\"188.574,732.356 207.472,732.356 \"/>\n",
       "<polyline clip-path=\"url(#clip380)\" style=\"stroke:#000000; stroke-linecap:round; stroke-linejoin:round; stroke-width:4; stroke-opacity:1; fill:none\" points=\"188.574,144.589 207.472,144.589 \"/>\n",
       "<path clip-path=\"url(#clip380)\" d=\"M51.6634 1339.91 L59.3023 1339.91 L59.3023 1313.55 L50.9921 1315.22 L50.9921 1310.96 L59.256 1309.29 L63.9319 1309.29 L63.9319 1339.91 L71.5707 1339.91 L71.5707 1343.85 L51.6634 1343.85 L51.6634 1339.91 Z\" fill=\"#000000\" fill-rule=\"nonzero\" fill-opacity=\"1\" /><path clip-path=\"url(#clip380)\" d=\"M91.0151 1312.37 Q87.404 1312.37 85.5753 1315.93 Q83.7697 1319.47 83.7697 1326.6 Q83.7697 1333.71 85.5753 1337.28 Q87.404 1340.82 91.0151 1340.82 Q94.6493 1340.82 96.4548 1337.28 Q98.2835 1333.71 98.2835 1326.6 Q98.2835 1319.47 96.4548 1315.93 Q94.6493 1312.37 91.0151 1312.37 M91.0151 1308.66 Q96.8252 1308.66 99.8808 1313.27 Q102.959 1317.85 102.959 1326.6 Q102.959 1335.33 99.8808 1339.94 Q96.8252 1344.52 91.0151 1344.52 Q85.2049 1344.52 82.1262 1339.94 Q79.0707 1335.33 79.0707 1326.6 Q79.0707 1317.85 82.1262 1313.27 Q85.2049 1308.66 91.0151 1308.66 Z\" fill=\"#000000\" fill-rule=\"nonzero\" fill-opacity=\"1\" /><path clip-path=\"url(#clip380)\" d=\"M102.959 1302.77 L127.071 1302.77 L127.071 1305.96 L102.959 1305.96 L102.959 1302.77 Z\" fill=\"#000000\" fill-rule=\"nonzero\" fill-opacity=\"1\" /><path clip-path=\"url(#clip380)\" d=\"M146.782 1301.3 Q149.509 1301.88 151.032 1303.73 Q152.574 1305.57 152.574 1308.28 Q152.574 1312.43 149.716 1314.71 Q146.857 1316.98 141.591 1316.98 Q139.823 1316.98 137.942 1316.63 Q136.08 1316.29 134.086 1315.59 L134.086 1311.93 Q135.666 1312.85 137.547 1313.32 Q139.428 1313.79 141.478 1313.79 Q145.051 1313.79 146.913 1312.38 Q148.794 1310.97 148.794 1308.28 Q148.794 1305.79 147.045 1304.4 Q145.315 1302.99 142.211 1302.99 L138.939 1302.99 L138.939 1299.87 L142.362 1299.87 Q145.164 1299.87 146.65 1298.76 Q148.136 1297.63 148.136 1295.53 Q148.136 1293.36 146.593 1292.21 Q145.07 1291.05 142.211 1291.05 Q140.65 1291.05 138.863 1291.39 Q137.077 1291.73 134.933 1292.44 L134.933 1289.06 Q137.096 1288.45 138.976 1288.15 Q140.876 1287.85 142.55 1287.85 Q146.876 1287.85 149.396 1289.83 Q151.916 1291.78 151.916 1295.13 Q151.916 1297.46 150.581 1299.08 Q149.245 1300.68 146.782 1301.3 Z\" fill=\"#000000\" fill-rule=\"nonzero\" fill-opacity=\"1\" /><path clip-path=\"url(#clip380)\" d=\"M52.4345 752.148 L60.0734 752.148 L60.0734 725.782 L51.7632 727.449 L51.7632 723.19 L60.0271 721.523 L64.703 721.523 L64.703 752.148 L72.3418 752.148 L72.3418 756.083 L52.4345 756.083 L52.4345 752.148 Z\" fill=\"#000000\" fill-rule=\"nonzero\" fill-opacity=\"1\" /><path clip-path=\"url(#clip380)\" d=\"M91.7862 724.602 Q88.1751 724.602 86.3464 728.167 Q84.5408 731.708 84.5408 738.838 Q84.5408 745.944 86.3464 749.509 Q88.1751 753.051 91.7862 753.051 Q95.4204 753.051 97.226 749.509 Q99.0547 745.944 99.0547 738.838 Q99.0547 731.708 97.226 728.167 Q95.4204 724.602 91.7862 724.602 M91.7862 720.898 Q97.5963 720.898 100.652 725.505 Q103.731 730.088 103.731 738.838 Q103.731 747.565 100.652 752.171 Q97.5963 756.755 91.7862 756.755 Q85.976 756.755 82.8973 752.171 Q79.8418 747.565 79.8418 738.838 Q79.8418 730.088 82.8973 725.505 Q85.976 720.898 91.7862 720.898 Z\" fill=\"#000000\" fill-rule=\"nonzero\" fill-opacity=\"1\" /><path clip-path=\"url(#clip380)\" d=\"M103.731 715 L127.842 715 L127.842 718.197 L103.731 718.197 L103.731 715 Z\" fill=\"#000000\" fill-rule=\"nonzero\" fill-opacity=\"1\" /><path clip-path=\"url(#clip380)\" d=\"M139.315 725.476 L152.574 725.476 L152.574 728.673 L134.745 728.673 L134.745 725.476 Q136.907 723.237 140.631 719.476 Q144.374 715.695 145.333 714.605 Q147.158 712.555 147.872 711.144 Q148.606 709.715 148.606 708.342 Q148.606 706.103 147.026 704.693 Q145.465 703.282 142.945 703.282 Q141.158 703.282 139.164 703.903 Q137.19 704.524 134.933 705.784 L134.933 701.947 Q137.227 701.025 139.221 700.555 Q141.214 700.085 142.87 700.085 Q147.233 700.085 149.828 702.267 Q152.424 704.448 152.424 708.097 Q152.424 709.827 151.766 711.388 Q151.126 712.931 149.415 715.037 Q148.944 715.583 146.424 718.197 Q143.904 720.792 139.315 725.476 Z\" fill=\"#000000\" fill-rule=\"nonzero\" fill-opacity=\"1\" /><path clip-path=\"url(#clip380)\" d=\"M52.1336 164.382 L59.7725 164.382 L59.7725 138.016 L51.4623 139.683 L51.4623 135.423 L59.7262 133.757 L64.4021 133.757 L64.4021 164.382 L72.0409 164.382 L72.0409 168.317 L52.1336 168.317 L52.1336 164.382 Z\" fill=\"#000000\" fill-rule=\"nonzero\" fill-opacity=\"1\" /><path clip-path=\"url(#clip380)\" d=\"M91.4853 136.835 Q87.8742 136.835 86.0455 140.4 Q84.2399 143.942 84.2399 151.071 Q84.2399 158.178 86.0455 161.743 Q87.8742 165.284 91.4853 165.284 Q95.1195 165.284 96.925 161.743 Q98.7537 158.178 98.7537 151.071 Q98.7537 143.942 96.925 140.4 Q95.1195 136.835 91.4853 136.835 M91.4853 133.132 Q97.2954 133.132 100.351 137.738 Q103.43 142.321 103.43 151.071 Q103.43 159.798 100.351 164.405 Q97.2954 168.988 91.4853 168.988 Q85.6751 168.988 82.5964 164.405 Q79.5409 159.798 79.5409 151.071 Q79.5409 142.321 82.5964 137.738 Q85.6751 133.132 91.4853 133.132 Z\" fill=\"#000000\" fill-rule=\"nonzero\" fill-opacity=\"1\" /><path clip-path=\"url(#clip380)\" d=\"M103.43 127.233 L127.541 127.233 L127.541 130.43 L103.43 130.43 L103.43 127.233 Z\" fill=\"#000000\" fill-rule=\"nonzero\" fill-opacity=\"1\" /><path clip-path=\"url(#clip380)\" d=\"M136.4 137.709 L142.606 137.709 L142.606 116.287 L135.854 117.641 L135.854 114.18 L142.569 112.826 L146.368 112.826 L146.368 137.709 L152.574 137.709 L152.574 140.906 L136.4 140.906 L136.4 137.709 Z\" fill=\"#000000\" fill-rule=\"nonzero\" fill-opacity=\"1\" /><polyline clip-path=\"url(#clip382)\" style=\"stroke:#009af9; stroke-linecap:round; stroke-linejoin:round; stroke-width:12; stroke-opacity:1; fill:none\" points=\"2291.51,388.9 1610.95,730.606 930.385,1088.33 249.825,1433.78 \"/>\n",
       "<circle clip-path=\"url(#clip382)\" cx=\"2291.51\" cy=\"388.9\" r=\"14.4\" fill=\"#009af9\" fill-rule=\"evenodd\" fill-opacity=\"1\" stroke=\"#000000\" stroke-opacity=\"1\" stroke-width=\"3.2\"/>\n",
       "<circle clip-path=\"url(#clip382)\" cx=\"1610.95\" cy=\"730.606\" r=\"14.4\" fill=\"#009af9\" fill-rule=\"evenodd\" fill-opacity=\"1\" stroke=\"#000000\" stroke-opacity=\"1\" stroke-width=\"3.2\"/>\n",
       "<circle clip-path=\"url(#clip382)\" cx=\"930.385\" cy=\"1088.33\" r=\"14.4\" fill=\"#009af9\" fill-rule=\"evenodd\" fill-opacity=\"1\" stroke=\"#000000\" stroke-opacity=\"1\" stroke-width=\"3.2\"/>\n",
       "<circle clip-path=\"url(#clip382)\" cx=\"249.825\" cy=\"1433.78\" r=\"14.4\" fill=\"#009af9\" fill-rule=\"evenodd\" fill-opacity=\"1\" stroke=\"#000000\" stroke-opacity=\"1\" stroke-width=\"3.2\"/>\n",
       "<polyline clip-path=\"url(#clip382)\" style=\"stroke:#e26f46; stroke-linecap:round; stroke-linejoin:round; stroke-width:12; stroke-opacity:1; fill:none\" points=\"2291.51,87.6286 1610.95,441.499 930.385,795.37 249.825,1149.24 \"/>\n",
       "<path clip-path=\"url(#clip380)\" d=\"M260.714 250.328 L565.951 250.328 L565.951 94.8081 L260.714 94.8081  Z\" fill=\"#ffffff\" fill-rule=\"evenodd\" fill-opacity=\"1\"/>\n",
       "<polyline clip-path=\"url(#clip380)\" style=\"stroke:#000000; stroke-linecap:round; stroke-linejoin:round; stroke-width:4; stroke-opacity:1; fill:none\" points=\"260.714,250.328 565.951,250.328 565.951,94.8081 260.714,94.8081 260.714,250.328 \"/>\n",
       "<polyline clip-path=\"url(#clip380)\" style=\"stroke:#009af9; stroke-linecap:round; stroke-linejoin:round; stroke-width:12; stroke-opacity:1; fill:none\" points=\"284.76,146.648 429.039,146.648 \"/>\n",
       "<circle clip-path=\"url(#clip380)\" cx=\"356.9\" cy=\"146.648\" r=\"20.0387\" fill=\"#009af9\" fill-rule=\"evenodd\" fill-opacity=\"1\" stroke=\"#000000\" stroke-opacity=\"1\" stroke-width=\"4.55111\"/>\n",
       "<path clip-path=\"url(#clip380)\" d=\"M453.085 129.368 L474.937 129.368 L474.937 133.303 L457.761 133.303 L457.761 143.535 L474.22 143.535 L474.22 147.47 L457.761 147.47 L457.761 159.993 L475.354 159.993 L475.354 163.928 L453.085 163.928 L453.085 129.368 Z\" fill=\"#000000\" fill-rule=\"nonzero\" fill-opacity=\"1\" /><path clip-path=\"url(#clip380)\" d=\"M497.877 141.984 Q497.159 141.567 496.303 141.382 Q495.469 141.174 494.451 141.174 Q490.84 141.174 488.895 143.535 Q486.974 145.873 486.974 150.271 L486.974 163.928 L482.692 163.928 L482.692 138.002 L486.974 138.002 L486.974 142.03 Q488.317 139.669 490.469 138.535 Q492.622 137.377 495.701 137.377 Q496.141 137.377 496.673 137.447 Q497.206 137.493 497.854 137.609 L497.877 141.984 Z\" fill=\"#000000\" fill-rule=\"nonzero\" fill-opacity=\"1\" /><path clip-path=\"url(#clip380)\" d=\"M516.534 141.984 Q515.817 141.567 514.96 141.382 Q514.127 141.174 513.108 141.174 Q509.497 141.174 507.553 143.535 Q505.631 145.873 505.631 150.271 L505.631 163.928 L501.349 163.928 L501.349 138.002 L505.631 138.002 L505.631 142.03 Q506.974 139.669 509.127 138.535 Q511.28 137.377 514.358 137.377 Q514.798 137.377 515.33 137.447 Q515.863 137.493 516.511 137.609 L516.534 141.984 Z\" fill=\"#000000\" fill-rule=\"nonzero\" fill-opacity=\"1\" /><path clip-path=\"url(#clip380)\" d=\"M530.006 140.988 Q526.58 140.988 524.59 143.674 Q522.599 146.336 522.599 150.988 Q522.599 155.641 524.567 158.326 Q526.557 160.988 530.006 160.988 Q533.409 160.988 535.4 158.303 Q537.391 155.618 537.391 150.988 Q537.391 146.382 535.4 143.697 Q533.409 140.988 530.006 140.988 M530.006 137.377 Q535.562 137.377 538.733 140.988 Q541.904 144.6 541.904 150.988 Q541.904 157.354 538.733 160.988 Q535.562 164.599 530.006 164.599 Q524.428 164.599 521.256 160.988 Q518.108 157.354 518.108 150.988 Q518.108 144.6 521.256 140.988 Q524.428 137.377 530.006 137.377 Z\" fill=\"#000000\" fill-rule=\"nonzero\" fill-opacity=\"1\" /><polyline clip-path=\"url(#clip380)\" style=\"stroke:#e26f46; stroke-linecap:round; stroke-linejoin:round; stroke-width:12; stroke-opacity:1; fill:none\" points=\"284.76,198.488 429.039,198.488 \"/>\n",
       "<path clip-path=\"url(#clip380)\" d=\"M474.798 200.12 L474.798 215.768 L470.539 215.768 L470.539 200.259 Q470.539 196.578 469.104 194.75 Q467.669 192.921 464.798 192.921 Q461.349 192.921 459.359 195.12 Q457.368 197.319 457.368 201.115 L457.368 215.768 L453.085 215.768 L453.085 179.75 L457.368 179.75 L457.368 193.87 Q458.896 191.532 460.956 190.375 Q463.039 189.217 465.747 189.217 Q470.215 189.217 472.507 191.995 Q474.798 194.75 474.798 200.12 Z\" fill=\"#000000\" fill-rule=\"nonzero\" fill-opacity=\"1\" /><path clip-path=\"url(#clip380)\" d=\"M485.03 197.666 L494.844 197.666 L494.844 200.305 L481.002 200.305 L481.002 197.759 Q481.789 197.041 483.247 195.745 Q491.21 188.685 491.21 186.509 Q491.21 184.981 490.007 184.055 Q488.803 183.106 486.835 183.106 Q485.632 183.106 484.22 183.523 Q482.807 183.916 481.141 184.727 L481.141 181.879 Q482.923 181.231 484.451 180.907 Q486.002 180.583 487.321 180.583 Q490.678 180.583 492.692 182.111 Q494.706 183.639 494.706 186.139 Q494.706 189.356 487.044 195.93 Q485.747 197.041 485.03 197.666 Z\" fill=\"#000000\" fill-rule=\"nonzero\" fill-opacity=\"1\" /></svg>\n"
      ]
     },
     "metadata": {},
     "output_type": "display_data"
    }
   ],
   "source": [
    "plot_error_curves(resultado_convergencia_quad[: ,:1], resultado_convergencia_quad[: ,:2])"
   ]
  }
 ],
 "metadata": {
  "kernelspec": {
   "display_name": "Julia 1.11.1",
   "language": "julia",
   "name": "julia-1.11"
  },
  "language_info": {
   "file_extension": ".jl",
   "mimetype": "application/julia",
   "name": "julia",
   "version": "1.11.1"
  }
 },
 "nbformat": 4,
 "nbformat_minor": 2
}
