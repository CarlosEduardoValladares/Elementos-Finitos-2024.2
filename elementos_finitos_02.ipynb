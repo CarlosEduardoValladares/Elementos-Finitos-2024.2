{
 "cells": [
  {
   "cell_type": "markdown",
   "id": "08511990",
   "metadata": {},
   "source": [
    "## Bibliotecas"
   ]
  },
  {
   "cell_type": "code",
   "execution_count": 1,
   "id": "5fa08afe",
   "metadata": {},
   "outputs": [],
   "source": [
    "using LinearAlgebra\n",
    "using Plots\n",
    "using GaussQuadrature\n",
    "using SparseArrays"
   ]
  },
  {
   "cell_type": "markdown",
   "id": "93128126",
   "metadata": {},
   "source": [
    "## Definição das f's das equações e suas soluções analíticas "
   ]
  },
  {
   "cell_type": "code",
   "execution_count": 2,
   "id": "f961b7d0",
   "metadata": {},
   "outputs": [
    {
     "data": {
      "text/plain": [
       "u4 (generic function with 1 method)"
      ]
     },
     "execution_count": 2,
     "metadata": {},
     "output_type": "execute_result"
    }
   ],
   "source": [
    "function f1(x::Float64, α::Float64, β::Float64)\n",
    "    return -2*α + β*(x^2-x)\n",
    "end\n",
    "\n",
    "function u1(x::Float64)\n",
    "    return x*(x-1)\n",
    "end\n",
    "\n",
    "function f2(x::Float64, α::Float64, β::Float64)\n",
    "    return (α*π^2 + β)*sin(π*x)\n",
    "end\n",
    "\n",
    "function u2(x::Float64)\n",
    "    return sin(π*x)\n",
    "end\n",
    "\n",
    "function f3(x::Float64, α::Float64, β::Float64)\n",
    "    return 8.0::Float64\n",
    "end\n",
    "\n",
    "function u3(x::Float64)\n",
    "    return -4*x*(x-1)::Float64\n",
    "end\n",
    "\n",
    "function f4(x::Float64, α::Float64, β::Float64)\n",
    "    return x::Float64\n",
    "end\n",
    "\n",
    "function u4(x::Float64)\n",
    "    return x + (exp(-x) - exp(x))/(exp(1) - exp(-1)) ::Float64\n",
    "end"
   ]
  },
  {
   "cell_type": "markdown",
   "id": "f0b2322c",
   "metadata": {},
   "source": [
    "## Base"
   ]
  },
  {
   "cell_type": "code",
   "execution_count": 3,
   "id": "a72ee283",
   "metadata": {},
   "outputs": [
    {
     "data": {
      "text/plain": [
       "dϕ₂ (generic function with 1 method)"
      ]
     },
     "execution_count": 3,
     "metadata": {},
     "output_type": "execute_result"
    }
   ],
   "source": [
    "function ϕ₁(ξ)\n",
    "    return (1.0 - ξ)/2.0 :: Float64\n",
    "end\n",
    "\n",
    "function ϕ₂(ξ)\n",
    "    return (1.0 + ξ)/2.0 :: Float64\n",
    "end\n",
    "\n",
    "function dϕ₁(ξ)\n",
    "    return -1.0/2.0 :: Float64\n",
    "end\n",
    "\n",
    "function dϕ₂(ξ)\n",
    "    return 1.0/2.0 :: Float64\n",
    "end"
   ]
  },
  {
   "cell_type": "markdown",
   "id": "245657ef",
   "metadata": {},
   "source": [
    "## Funções auxiliares"
   ]
  },
  {
   "cell_type": "code",
   "execution_count": 4,
   "id": "4c0e3dfe",
   "metadata": {},
   "outputs": [
    {
     "data": {
      "text/plain": [
       "quadratura_phis_K (generic function with 1 method)"
      ]
     },
     "execution_count": 4,
     "metadata": {},
     "output_type": "execute_result"
    }
   ],
   "source": [
    "function get_point(index::Int64, m::Int64)\n",
    "    return convert(Float64, index/(m+1))     \n",
    "end\n",
    "\n",
    "function map_ξ_x(ξ, x_i_inf, h)\n",
    "    return x_i_inf + ((h*(ξ+1))/2.0)\n",
    "end\n",
    "\n",
    "function quadratura_F_local(f, ϕ, α, β, e, m)\n",
    "    pontos, pesos = legendre(5)\n",
    "    quad = 0\n",
    "    \n",
    "    h = 1/(m+1)\n",
    "    x_i_inf = get_point(e-1, m)\n",
    "    \n",
    "    for (ξ, W) in zip(pontos, pesos)\n",
    "         quad += W*( f(map_ξ_x(ξ, x_i_inf, h), α, β) * ϕ(ξ)) \n",
    "    end\n",
    "    \n",
    "    return quad\n",
    "end\n",
    "    \n",
    "\n",
    "function quadratura_phis_K(f1, f2)\n",
    "    pontos, pesos = legendre(5)\n",
    "    quad = 0\n",
    "    \n",
    "    for (ξ, W) in zip(pontos, pesos)\n",
    "         quad += W*( f1(ξ) * f2(ξ) ) \n",
    "    end\n",
    "    \n",
    "    return quad\n",
    "end\n",
    "\n"
   ]
  },
  {
   "cell_type": "code",
   "execution_count": 5,
   "id": "83386fd8",
   "metadata": {},
   "outputs": [
    {
     "data": {
      "text/plain": [
       "monta_K_global (generic function with 1 method)"
      ]
     },
     "execution_count": 5,
     "metadata": {},
     "output_type": "execute_result"
    }
   ],
   "source": [
    "function monta_LG(ne)\n",
    "    return transpose(hcat(1:ne, 2:ne+1))\n",
    "end\n",
    "\n",
    "function monta_EQ(ne)\n",
    "    m = ne-1\n",
    "    return vcat(m+1, 1:m, m+1)\n",
    "end\n",
    "\n",
    "function monta_F_local(f, α, β, m, e)\n",
    "    h = 1/(m+1)\n",
    "    \n",
    "    F_local = zeros(2)\n",
    "    F_local[1] = h/2 * quadratura_F_local(f, ϕ₁, α, β, e, m)\n",
    "    F_local[2] = h/2 * quadratura_F_local(f, ϕ₂, α, β, e, m)\n",
    "\n",
    "    return F_local    \n",
    "end\n",
    "\n",
    "function monta_K_local(α, β, m)\n",
    "    h = 1/(m+1)\n",
    "    K_local = zeros(2, 2)\n",
    "    \n",
    "    K_local[1, 1] = (2*α/h) * quadratura_phis_K(dϕ₁, dϕ₁) + (β*h/2) * quadratura_phis_K(ϕ₁, ϕ₁)\n",
    "    K_local[1, 2] = K_local[2, 1] = (2*α/h) * quadratura_phis_K(dϕ₁, dϕ₂) + (β*h/2) * quadratura_phis_K(ϕ₁, ϕ₂)\n",
    "    K_local[2, 2] = (2*α/h) * quadratura_phis_K(dϕ₂, dϕ₂) + (β*h/2) * quadratura_phis_K(ϕ₂, ϕ₂)    \n",
    "    \n",
    "    return K_local\n",
    "end\n",
    "\n",
    "function monta_F_global(f, α, β, ne, EQoLG)\n",
    "    m = ne-1\n",
    "    F_global = zeros(m+1)\n",
    "\n",
    "    for e in 1:m+1\n",
    "        F_local = monta_F_local(f, α, β, m, e)\n",
    "        for i in 1:2\n",
    "            index = EQoLG[i, e]\n",
    "            F_global[index] += F_local[i]\n",
    "        end\n",
    "    end\n",
    "    \n",
    "    return F_global[1:m]\n",
    "end\n",
    "\n",
    "function monta_K_global(α, β, ne, EQoLG)\n",
    "    m = ne-1\n",
    "    K_global = spzeros(m+1,m+1)\n",
    "    K_local = monta_K_local(α, β, m)\n",
    "    \n",
    "    for e in 1:m+1\n",
    "        for i in 1:2\n",
    "            for j in 1:2\n",
    "                i_global = EQoLG[i, e]\n",
    "                j_global = EQoLG[j, e]\n",
    "                \n",
    "                K_global[i_global, j_global] += K_local[i, j]\n",
    "            end\n",
    "        end\n",
    "    end\n",
    "    \n",
    "    \n",
    "    return K_global[1:m, 1:m]\n",
    "    \n",
    "end"
   ]
  },
  {
   "cell_type": "code",
   "execution_count": 7,
   "id": "7117af6e",
   "metadata": {},
   "outputs": [
    {
     "data": {
      "text/plain": [
       "monta_uh (generic function with 1 method)"
      ]
     },
     "execution_count": 7,
     "metadata": {},
     "output_type": "execute_result"
    }
   ],
   "source": [
    "function monta_uh(c)    \n",
    "    return vcat(0, c, 0)\n",
    "end"
   ]
  },
  {
   "cell_type": "code",
   "execution_count": 15,
   "id": "13782521",
   "metadata": {},
   "outputs": [
    {
     "data": {
      "text/plain": [
       "erro_L2 (generic function with 1 method)"
      ]
     },
     "execution_count": 15,
     "metadata": {},
     "output_type": "execute_result"
    }
   ],
   "source": [
    "function erro_L2(u, c̄, ne)\n",
    "    m = ne-1\n",
    "    h = 1/(m+1)\n",
    "    \n",
    "    pontos, pesos = legendre(5)\n",
    "    erro_quadrado = 0\n",
    "\n",
    "    for e in 1:ne\n",
    "        x_i_inf = get_point(e-1, m)\n",
    "\n",
    "        for (ξ, W) in zip(pontos, pesos)\n",
    "            erro_quadrado += W * (u(map_ξ_x(ξ, x_i_inf, h)) - c̄[e]*ϕ₁(ξ) - c̄[e+1]*ϕ₂(ξ))^2 \n",
    "        end\n",
    "    end\n",
    "    \n",
    "    return sqrt(erro_quadrado * h/2)    \n",
    "end"
   ]
  },
  {
   "cell_type": "code",
   "execution_count": 17,
   "id": "d1f58451",
   "metadata": {},
   "outputs": [
    {
     "data": {
      "text/plain": [
       "estudo_convergencia (generic function with 1 method)"
      ]
     },
     "execution_count": 17,
     "metadata": {},
     "output_type": "execute_result"
    }
   ],
   "source": [
    "function estudo_convergencia(n_testes, f, u, α, β)\n",
    "    ne_list = 2 .^ (2:n_testes) \n",
    "    h_list = []\n",
    "    erros = []\n",
    "    \n",
    "    for ne in ne_list\n",
    "        m = ne-1\n",
    "        h = 1/(m+1)\n",
    "        \n",
    "        LG = monta_LG(ne)\n",
    "        EQ = monta_EQ(ne)\n",
    "        EQoLG = EQ[LG]\n",
    "        \n",
    "        K = monta_K_global(α, β, ne, EQoLG)\n",
    "        F = monta_F_global(f4, α, β, ne, EQoLG)\n",
    "\n",
    "        c = K\\F\n",
    "        uh = monta_uh(c)\n",
    "        \n",
    "        erro = erro_L2(u, uh, ne)\n",
    "        push!(erros, erro)\n",
    "        push!(h_list, h)        \n",
    "    end\n",
    "\n",
    "    plot(h_list, erros, lw=3, label=\"Erro\", xscale = :log10, yscale = :log10, markershape=:circle)\n",
    "    plot!(h_list, h_list.^2, lw=3, label=\"h²\", xscale = :log10, yscale = :log10, legend=:topleft)\n",
    "end"
   ]
  },
  {
   "cell_type": "code",
   "execution_count": 16,
   "id": "d955b1f4",
   "metadata": {},
   "outputs": [
    {
     "data": {
      "text/plain": [
       "2×4 Matrix{Int64}:\n",
       " 4  1  2  3\n",
       " 1  2  3  4"
      ]
     },
     "metadata": {},
     "output_type": "display_data"
    },
    {
     "data": {
      "text/plain": [
       "3×3 SparseMatrixCSC{Float64, Int64} with 7 stored entries:\n",
       "  8.16667  -3.95833    ⋅ \n",
       " -3.95833   8.16667  -3.95833\n",
       "   ⋅       -3.95833   8.16667"
      ]
     },
     "metadata": {},
     "output_type": "display_data"
    },
    {
     "data": {
      "text/plain": [
       "3-element Vector{Float64}:\n",
       " 0.062499999999999986\n",
       " 0.12499999999999997\n",
       " 0.18749999999999994"
      ]
     },
     "metadata": {},
     "output_type": "display_data"
    },
    {
     "data": {
      "text/plain": [
       "3-element Vector{Float64}:\n",
       " 0.03521249902298151\n",
       " 0.05685947166846708\n",
       " 0.050518621471961095"
      ]
     },
     "metadata": {},
     "output_type": "display_data"
    },
    {
     "data": {
      "text/plain": [
       "5-element Vector{Float64}:\n",
       " 0.0\n",
       " 0.03521249902298151\n",
       " 0.05685947166846708\n",
       " 0.050518621471961095\n",
       " 0.0"
      ]
     },
     "metadata": {},
     "output_type": "display_data"
    },
    {
     "data": {
      "text/plain": [
       "5-element Vector{Float64}:\n",
       " 0.0\n",
       " 0.03504760021139494\n",
       " 0.05659055801496299\n",
       " 0.05027578564128754\n",
       " 0.0"
      ]
     },
     "metadata": {},
     "output_type": "display_data"
    },
    {
     "data": {
      "text/plain": [
       "0.0029299183664998245"
      ]
     },
     "execution_count": 16,
     "metadata": {},
     "output_type": "execute_result"
    }
   ],
   "source": [
    "α = 1.0\n",
    "β = 1.0\n",
    "ne = 4\n",
    "\n",
    "LG = monta_LG(ne)\n",
    "EQ = monta_EQ(ne)\n",
    "\n",
    "EQoLG = EQ[LG]\n",
    "display(EQoLG)\n",
    "\n",
    "K = monta_K_global(α, β, ne, EQoLG)\n",
    "display(K)\n",
    "\n",
    "F = monta_F_global(f4, α, β, ne, EQoLG)\n",
    "display(F)\n",
    "\n",
    "c = K\\F\n",
    "display(c)\n",
    "\n",
    "uh = monta_uh(c)\n",
    "display(uh)\n",
    "\n",
    "display(u4.(get_point.(0:ne, ne-1)))\n",
    "\n",
    "erro_L2(u4, uh, ne)"
   ]
  },
  {
   "cell_type": "code",
   "execution_count": 19,
   "id": "0c078430",
   "metadata": {},
   "outputs": [
    {
     "data": {
      "image/png": "[encoded data removed]",
      "image/svg+xml": [
       "<?xml version=\"1.0\" encoding=\"utf-8\"?>\n",
       "<svg xmlns=\"http://www.w3.org/2000/svg\" xmlns:xlink=\"http://www.w3.org/1999/xlink\" width=\"600\" height=\"400\" viewBox=\"0 0 2400 1600\">\n",
       "<defs>\n",
       "  <clipPath id=\"clip240\">\n",
       "    <rect x=\"0\" y=\"0\" width=\"2400\" height=\"1600\"/>\n",
       "  </clipPath>\n",
       "</defs>\n",
       "<path clip-path=\"url(#clip240)\" d=\"M0 1600 L2400 1600 L2400 0 L0 0  Z\" fill=\"#ffffff\" fill-rule=\"evenodd\" fill-opacity=\"1\"/>\n",
       "<defs>\n",
       "  <clipPath id=\"clip241\">\n",
       "    <rect x=\"480\" y=\"0\" width=\"1681\" height=\"1600\"/>\n",
       "  </clipPath>\n",
       "</defs>\n",
       "<path clip-path=\"url(#clip240)\" d=\"M213.607 1474.16 L2352.76 1474.16 L2352.76 47.2441 L213.607 47.2441  Z\" fill=\"#ffffff\" fill-rule=\"evenodd\" fill-opacity=\"1\"/>\n",
       "<defs>\n",
       "  <clipPath id=\"clip242\">\n",
       "    <rect x=\"213\" y=\"47\" width=\"2140\" height=\"1428\"/>\n",
       "  </clipPath>\n",
       "</defs>\n",
       "<polyline clip-path=\"url(#clip242)\" style=\"stroke:#000000; stroke-linecap:round; stroke-linejoin:round; stroke-width:2; stroke-opacity:0.1; fill:none\" points=\"665.119,1474.16 665.119,47.2441 \"/>\n",
       "<polyline clip-path=\"url(#clip242)\" style=\"stroke:#000000; stroke-linecap:round; stroke-linejoin:round; stroke-width:2; stroke-opacity:0.1; fill:none\" points=\"1622.81,1474.16 1622.81,47.2441 \"/>\n",
       "<polyline clip-path=\"url(#clip240)\" style=\"stroke:#000000; stroke-linecap:round; stroke-linejoin:round; stroke-width:4; stroke-opacity:1; fill:none\" points=\"213.607,1474.16 2352.76,1474.16 \"/>\n",
       "<polyline clip-path=\"url(#clip240)\" style=\"stroke:#000000; stroke-linecap:round; stroke-linejoin:round; stroke-width:4; stroke-opacity:1; fill:none\" points=\"665.119,1474.16 665.119,1455.27 \"/>\n",
       "<polyline clip-path=\"url(#clip240)\" style=\"stroke:#000000; stroke-linecap:round; stroke-linejoin:round; stroke-width:4; stroke-opacity:1; fill:none\" points=\"1622.81,1474.16 1622.81,1455.27 \"/>\n",
       "<path clip-path=\"url(#clip240)\" d=\"M614.538 1548.29 L622.177 1548.29 L622.177 1521.92 L613.867 1523.59 L613.867 1519.33 L622.131 1517.66 L626.807 1517.66 L626.807 1548.29 L634.446 1548.29 L634.446 1552.22 L614.538 1552.22 L614.538 1548.29 Z\" fill=\"#000000\" fill-rule=\"nonzero\" fill-opacity=\"1\" /><path clip-path=\"url(#clip240)\" d=\"M653.89 1520.74 Q650.279 1520.74 648.45 1524.31 Q646.645 1527.85 646.645 1534.98 Q646.645 1542.09 648.45 1545.65 Q650.279 1549.19 653.89 1549.19 Q657.524 1549.19 659.33 1545.65 Q661.158 1542.09 661.158 1534.98 Q661.158 1527.85 659.33 1524.31 Q657.524 1520.74 653.89 1520.74 M653.89 1517.04 Q659.7 1517.04 662.756 1521.65 Q665.834 1526.23 665.834 1534.98 Q665.834 1543.71 662.756 1548.31 Q659.7 1552.9 653.89 1552.9 Q648.08 1552.9 645.001 1548.31 Q641.945 1543.71 641.945 1534.98 Q641.945 1526.23 645.001 1521.65 Q648.08 1517.04 653.89 1517.04 Z\" fill=\"#000000\" fill-rule=\"nonzero\" fill-opacity=\"1\" /><path clip-path=\"url(#clip240)\" d=\"M665.834 1511.14 L689.946 1511.14 L689.946 1514.34 L665.834 1514.34 L665.834 1511.14 Z\" fill=\"#000000\" fill-rule=\"nonzero\" fill-opacity=\"1\" /><path clip-path=\"url(#clip240)\" d=\"M708.584 1500.04 L698.992 1515.03 L708.584 1515.03 L708.584 1500.04 M707.587 1496.73 L712.365 1496.73 L712.365 1515.03 L716.371 1515.03 L716.371 1518.19 L712.365 1518.19 L712.365 1524.81 L708.584 1524.81 L708.584 1518.19 L695.908 1518.19 L695.908 1514.53 L707.587 1496.73 Z\" fill=\"#000000\" fill-rule=\"nonzero\" fill-opacity=\"1\" /><path clip-path=\"url(#clip240)\" d=\"M1573.08 1548.29 L1580.72 1548.29 L1580.72 1521.92 L1572.41 1523.59 L1572.41 1519.33 L1580.67 1517.66 L1585.35 1517.66 L1585.35 1548.29 L1592.99 1548.29 L1592.99 1552.22 L1573.08 1552.22 L1573.08 1548.29 Z\" fill=\"#000000\" fill-rule=\"nonzero\" fill-opacity=\"1\" /><path clip-path=\"url(#clip240)\" d=\"M1612.43 1520.74 Q1608.82 1520.74 1606.99 1524.31 Q1605.19 1527.85 1605.19 1534.98 Q1605.19 1542.09 1606.99 1545.65 Q1608.82 1549.19 1612.43 1549.19 Q1616.07 1549.19 1617.87 1545.65 Q1619.7 1542.09 1619.7 1534.98 Q1619.7 1527.85 1617.87 1524.31 Q1616.07 1520.74 1612.43 1520.74 M1612.43 1517.04 Q1618.24 1517.04 1621.3 1521.65 Q1624.38 1526.23 1624.38 1534.98 Q1624.38 1543.71 1621.3 1548.31 Q1618.24 1552.9 1612.43 1552.9 Q1606.62 1552.9 1603.54 1548.31 Q1600.49 1543.71 1600.49 1534.98 Q1600.49 1526.23 1603.54 1521.65 Q1606.62 1517.04 1612.43 1517.04 Z\" fill=\"#000000\" fill-rule=\"nonzero\" fill-opacity=\"1\" /><path clip-path=\"url(#clip240)\" d=\"M1624.38 1511.14 L1648.49 1511.14 L1648.49 1514.34 L1624.38 1514.34 L1624.38 1511.14 Z\" fill=\"#000000\" fill-rule=\"nonzero\" fill-opacity=\"1\" /><path clip-path=\"url(#clip240)\" d=\"M1659.96 1521.62 L1673.22 1521.62 L1673.22 1524.81 L1655.39 1524.81 L1655.39 1521.62 Q1657.55 1519.38 1661.28 1515.62 Q1665.02 1511.84 1665.98 1510.75 Q1667.8 1508.7 1668.52 1507.29 Q1669.25 1505.86 1669.25 1504.48 Q1669.25 1502.24 1667.67 1500.83 Q1666.11 1499.42 1663.59 1499.42 Q1661.8 1499.42 1659.81 1500.04 Q1657.83 1500.67 1655.58 1501.93 L1655.58 1498.09 Q1657.87 1497.17 1659.87 1496.7 Q1661.86 1496.23 1663.51 1496.23 Q1667.88 1496.23 1670.47 1498.41 Q1673.07 1500.59 1673.07 1504.24 Q1673.07 1505.97 1672.41 1507.53 Q1671.77 1509.07 1670.06 1511.18 Q1669.59 1511.72 1667.07 1514.34 Q1664.55 1516.93 1659.96 1521.62 Z\" fill=\"#000000\" fill-rule=\"nonzero\" fill-opacity=\"1\" /><polyline clip-path=\"url(#clip242)\" style=\"stroke:#000000; stroke-linecap:round; stroke-linejoin:round; stroke-width:2; stroke-opacity:0.1; fill:none\" points=\"213.607,1470.53 2352.76,1470.53 \"/>\n",
       "<polyline clip-path=\"url(#clip242)\" style=\"stroke:#000000; stroke-linecap:round; stroke-linejoin:round; stroke-width:2; stroke-opacity:0.1; fill:none\" points=\"213.607,684.424 2352.76,684.424 \"/>\n",
       "<polyline clip-path=\"url(#clip240)\" style=\"stroke:#000000; stroke-linecap:round; stroke-linejoin:round; stroke-width:4; stroke-opacity:1; fill:none\" points=\"213.607,1474.16 213.607,47.2441 \"/>\n",
       "<polyline clip-path=\"url(#clip240)\" style=\"stroke:#000000; stroke-linecap:round; stroke-linejoin:round; stroke-width:4; stroke-opacity:1; fill:none\" points=\"213.607,1470.53 232.505,1470.53 \"/>\n",
       "<polyline clip-path=\"url(#clip240)\" style=\"stroke:#000000; stroke-linecap:round; stroke-linejoin:round; stroke-width:4; stroke-opacity:1; fill:none\" points=\"213.607,684.424 232.505,684.424 \"/>\n",
       "<path clip-path=\"url(#clip240)\" d=\"M51.6634 1490.32 L59.3023 1490.32 L59.3023 1463.96 L50.9921 1465.63 L50.9921 1461.37 L59.256 1459.7 L63.9319 1459.7 L63.9319 1490.32 L71.5707 1490.32 L71.5707 1494.26 L51.6634 1494.26 L51.6634 1490.32 Z\" fill=\"#000000\" fill-rule=\"nonzero\" fill-opacity=\"1\" /><path clip-path=\"url(#clip240)\" d=\"M91.0151 1462.78 Q87.404 1462.78 85.5753 1466.34 Q83.7697 1469.89 83.7697 1477.01 Q83.7697 1484.12 85.5753 1487.69 Q87.404 1491.23 91.0151 1491.23 Q94.6493 1491.23 96.4548 1487.69 Q98.2835 1484.12 98.2835 1477.01 Q98.2835 1469.89 96.4548 1466.34 Q94.6493 1462.78 91.0151 1462.78 M91.0151 1459.07 Q96.8252 1459.07 99.8808 1463.68 Q102.959 1468.26 102.959 1477.01 Q102.959 1485.74 99.8808 1490.35 Q96.8252 1494.93 91.0151 1494.93 Q85.2049 1494.93 82.1262 1490.35 Q79.0707 1485.74 79.0707 1477.01 Q79.0707 1468.26 82.1262 1463.68 Q85.2049 1459.07 91.0151 1459.07 Z\" fill=\"#000000\" fill-rule=\"nonzero\" fill-opacity=\"1\" /><path clip-path=\"url(#clip240)\" d=\"M102.959 1453.18 L127.071 1453.18 L127.071 1456.37 L102.959 1456.37 L102.959 1453.18 Z\" fill=\"#000000\" fill-rule=\"nonzero\" fill-opacity=\"1\" /><path clip-path=\"url(#clip240)\" d=\"M135.929 1463.65 L142.136 1463.65 L142.136 1442.23 L135.384 1443.58 L135.384 1440.12 L142.098 1438.77 L145.898 1438.77 L145.898 1463.65 L152.104 1463.65 L152.104 1466.85 L135.929 1466.85 L135.929 1463.65 Z\" fill=\"#000000\" fill-rule=\"nonzero\" fill-opacity=\"1\" /><path clip-path=\"url(#clip240)\" d=\"M167.903 1441.27 Q164.969 1441.27 163.483 1444.17 Q162.016 1447.04 162.016 1452.84 Q162.016 1458.61 163.483 1461.51 Q164.969 1464.39 167.903 1464.39 Q170.855 1464.39 172.322 1461.51 Q173.808 1458.61 173.808 1452.84 Q173.808 1447.04 172.322 1444.17 Q170.855 1441.27 167.903 1441.27 M167.903 1438.26 Q172.623 1438.26 175.106 1442 Q177.607 1445.73 177.607 1452.84 Q177.607 1459.93 175.106 1463.67 Q172.623 1467.39 167.903 1467.39 Q163.182 1467.39 160.68 1463.67 Q158.198 1459.93 158.198 1452.84 Q158.198 1445.73 160.68 1442 Q163.182 1438.26 167.903 1438.26 Z\" fill=\"#000000\" fill-rule=\"nonzero\" fill-opacity=\"1\" /><path clip-path=\"url(#clip240)\" d=\"M76.9787 704.216 L84.6175 704.216 L84.6175 677.85 L76.3074 679.517 L76.3074 675.258 L84.5712 673.591 L89.2471 673.591 L89.2471 704.216 L96.886 704.216 L96.886 708.151 L76.9787 708.151 L76.9787 704.216 Z\" fill=\"#000000\" fill-rule=\"nonzero\" fill-opacity=\"1\" /><path clip-path=\"url(#clip240)\" d=\"M116.33 676.67 Q112.719 676.67 110.891 680.235 Q109.085 683.776 109.085 690.906 Q109.085 698.012 110.891 701.577 Q112.719 705.119 116.33 705.119 Q119.965 705.119 121.77 701.577 Q123.599 698.012 123.599 690.906 Q123.599 683.776 121.77 680.235 Q119.965 676.67 116.33 676.67 M116.33 672.966 Q122.14 672.966 125.196 677.573 Q128.275 682.156 128.275 690.906 Q128.275 699.633 125.196 704.239 Q122.14 708.822 116.33 708.822 Q110.52 708.822 107.441 704.239 Q104.386 699.633 104.386 690.906 Q104.386 682.156 107.441 677.573 Q110.52 672.966 116.33 672.966 Z\" fill=\"#000000\" fill-rule=\"nonzero\" fill-opacity=\"1\" /><path clip-path=\"url(#clip240)\" d=\"M128.275 667.068 L152.386 667.068 L152.386 670.265 L128.275 670.265 L128.275 667.068 Z\" fill=\"#000000\" fill-rule=\"nonzero\" fill-opacity=\"1\" /><path clip-path=\"url(#clip240)\" d=\"M160.624 652.661 L175.539 652.661 L175.539 655.858 L164.103 655.858 L164.103 662.742 Q164.931 662.46 165.759 662.328 Q166.586 662.177 167.414 662.177 Q172.116 662.177 174.862 664.754 Q177.607 667.331 177.607 671.732 Q177.607 676.265 174.786 678.785 Q171.965 681.286 166.831 681.286 Q165.063 681.286 163.22 680.985 Q161.395 680.684 159.439 680.082 L159.439 676.265 Q161.132 677.186 162.937 677.637 Q164.743 678.089 166.755 678.089 Q170.009 678.089 171.909 676.377 Q173.808 674.666 173.808 671.732 Q173.808 668.798 171.909 667.086 Q170.009 665.375 166.755 665.375 Q165.232 665.375 163.709 665.713 Q162.204 666.052 160.624 666.767 L160.624 652.661 Z\" fill=\"#000000\" fill-rule=\"nonzero\" fill-opacity=\"1\" /><polyline clip-path=\"url(#clip242)\" style=\"stroke:#009af9; stroke-linecap:round; stroke-linejoin:round; stroke-width:12; stroke-opacity:1; fill:none\" points=\"2292.21,296.58 2148.07,390.878 2003.92,485.446 1859.77,580.081 1715.62,674.732 1571.48,769.388 1427.33,864.044 1283.18,958.701 1139.03,1053.36 994.887,1148.03 850.739,1242.9 706.592,1340.99 562.444,1433.78 418.297,1322.28 274.149,1224.91 \"/>\n",
       "<circle clip-path=\"url(#clip242)\" cx=\"2292.21\" cy=\"296.58\" r=\"14.4\" fill=\"#009af9\" fill-rule=\"evenodd\" fill-opacity=\"1\" stroke=\"#000000\" stroke-opacity=\"1\" stroke-width=\"3.2\"/>\n",
       "<circle clip-path=\"url(#clip242)\" cx=\"2148.07\" cy=\"390.878\" r=\"14.4\" fill=\"#009af9\" fill-rule=\"evenodd\" fill-opacity=\"1\" stroke=\"#000000\" stroke-opacity=\"1\" stroke-width=\"3.2\"/>\n",
       "<circle clip-path=\"url(#clip242)\" cx=\"2003.92\" cy=\"485.446\" r=\"14.4\" fill=\"#009af9\" fill-rule=\"evenodd\" fill-opacity=\"1\" stroke=\"#000000\" stroke-opacity=\"1\" stroke-width=\"3.2\"/>\n",
       "<circle clip-path=\"url(#clip242)\" cx=\"1859.77\" cy=\"580.081\" r=\"14.4\" fill=\"#009af9\" fill-rule=\"evenodd\" fill-opacity=\"1\" stroke=\"#000000\" stroke-opacity=\"1\" stroke-width=\"3.2\"/>\n",
       "<circle clip-path=\"url(#clip242)\" cx=\"1715.62\" cy=\"674.732\" r=\"14.4\" fill=\"#009af9\" fill-rule=\"evenodd\" fill-opacity=\"1\" stroke=\"#000000\" stroke-opacity=\"1\" stroke-width=\"3.2\"/>\n",
       "<circle clip-path=\"url(#clip242)\" cx=\"1571.48\" cy=\"769.388\" r=\"14.4\" fill=\"#009af9\" fill-rule=\"evenodd\" fill-opacity=\"1\" stroke=\"#000000\" stroke-opacity=\"1\" stroke-width=\"3.2\"/>\n",
       "<circle clip-path=\"url(#clip242)\" cx=\"1427.33\" cy=\"864.044\" r=\"14.4\" fill=\"#009af9\" fill-rule=\"evenodd\" fill-opacity=\"1\" stroke=\"#000000\" stroke-opacity=\"1\" stroke-width=\"3.2\"/>\n",
       "<circle clip-path=\"url(#clip242)\" cx=\"1283.18\" cy=\"958.701\" r=\"14.4\" fill=\"#009af9\" fill-rule=\"evenodd\" fill-opacity=\"1\" stroke=\"#000000\" stroke-opacity=\"1\" stroke-width=\"3.2\"/>\n",
       "<circle clip-path=\"url(#clip242)\" cx=\"1139.03\" cy=\"1053.36\" r=\"14.4\" fill=\"#009af9\" fill-rule=\"evenodd\" fill-opacity=\"1\" stroke=\"#000000\" stroke-opacity=\"1\" stroke-width=\"3.2\"/>\n",
       "<circle clip-path=\"url(#clip242)\" cx=\"994.887\" cy=\"1148.03\" r=\"14.4\" fill=\"#009af9\" fill-rule=\"evenodd\" fill-opacity=\"1\" stroke=\"#000000\" stroke-opacity=\"1\" stroke-width=\"3.2\"/>\n",
       "<circle clip-path=\"url(#clip242)\" cx=\"850.739\" cy=\"1242.9\" r=\"14.4\" fill=\"#009af9\" fill-rule=\"evenodd\" fill-opacity=\"1\" stroke=\"#000000\" stroke-opacity=\"1\" stroke-width=\"3.2\"/>\n",
       "<circle clip-path=\"url(#clip242)\" cx=\"706.592\" cy=\"1340.99\" r=\"14.4\" fill=\"#009af9\" fill-rule=\"evenodd\" fill-opacity=\"1\" stroke=\"#000000\" stroke-opacity=\"1\" stroke-width=\"3.2\"/>\n",
       "<circle clip-path=\"url(#clip242)\" cx=\"562.444\" cy=\"1433.78\" r=\"14.4\" fill=\"#009af9\" fill-rule=\"evenodd\" fill-opacity=\"1\" stroke=\"#000000\" stroke-opacity=\"1\" stroke-width=\"3.2\"/>\n",
       "<circle clip-path=\"url(#clip242)\" cx=\"418.297\" cy=\"1322.28\" r=\"14.4\" fill=\"#009af9\" fill-rule=\"evenodd\" fill-opacity=\"1\" stroke=\"#000000\" stroke-opacity=\"1\" stroke-width=\"3.2\"/>\n",
       "<circle clip-path=\"url(#clip242)\" cx=\"274.149\" cy=\"1224.91\" r=\"14.4\" fill=\"#009af9\" fill-rule=\"evenodd\" fill-opacity=\"1\" stroke=\"#000000\" stroke-opacity=\"1\" stroke-width=\"3.2\"/>\n",
       "<polyline clip-path=\"url(#clip242)\" style=\"stroke:#e26f46; stroke-linecap:round; stroke-linejoin:round; stroke-width:12; stroke-opacity:1; fill:none\" points=\"2292.21,87.6286 2148.07,182.286 2003.92,276.942 1859.77,371.599 1715.62,466.256 1571.48,560.913 1427.33,655.57 1283.18,750.227 1139.03,844.884 994.887,939.541 850.739,1034.2 706.592,1128.85 562.444,1223.51 418.297,1318.17 274.149,1412.83 \"/>\n",
       "<path clip-path=\"url(#clip240)\" d=\"M284.912 250.328 L587.646 250.328 L587.646 94.8081 L284.912 94.8081  Z\" fill=\"#ffffff\" fill-rule=\"evenodd\" fill-opacity=\"1\"/>\n",
       "<polyline clip-path=\"url(#clip240)\" style=\"stroke:#000000; stroke-linecap:round; stroke-linejoin:round; stroke-width:4; stroke-opacity:1; fill:none\" points=\"284.912,250.328 587.646,250.328 587.646,94.8081 284.912,94.8081 284.912,250.328 \"/>\n",
       "<polyline clip-path=\"url(#clip240)\" style=\"stroke:#009af9; stroke-linecap:round; stroke-linejoin:round; stroke-width:12; stroke-opacity:1; fill:none\" points=\"308.681,146.648 451.291,146.648 \"/>\n",
       "<circle clip-path=\"url(#clip240)\" cx=\"379.986\" cy=\"146.648\" r=\"19.8069\" fill=\"#009af9\" fill-rule=\"evenodd\" fill-opacity=\"1\" stroke=\"#000000\" stroke-opacity=\"1\" stroke-width=\"4.55111\"/>\n",
       "<path clip-path=\"url(#clip240)\" d=\"M475.059 129.368 L496.911 129.368 L496.911 133.303 L479.735 133.303 L479.735 143.535 L496.193 143.535 L496.193 147.47 L479.735 147.47 L479.735 159.993 L497.327 159.993 L497.327 163.928 L475.059 163.928 L475.059 129.368 Z\" fill=\"#000000\" fill-rule=\"nonzero\" fill-opacity=\"1\" /><path clip-path=\"url(#clip240)\" d=\"M519.85 141.984 Q519.133 141.567 518.276 141.382 Q517.443 141.174 516.424 141.174 Q512.813 141.174 510.869 143.535 Q508.948 145.873 508.948 150.271 L508.948 163.928 L504.665 163.928 L504.665 138.002 L508.948 138.002 L508.948 142.03 Q510.29 139.669 512.443 138.535 Q514.596 137.377 517.674 137.377 Q518.114 137.377 518.647 137.447 Q519.179 137.493 519.827 137.609 L519.85 141.984 Z\" fill=\"#000000\" fill-rule=\"nonzero\" fill-opacity=\"1\" /><path clip-path=\"url(#clip240)\" d=\"M538.508 141.984 Q537.79 141.567 536.934 141.382 Q536.1 141.174 535.082 141.174 Q531.471 141.174 529.526 143.535 Q527.605 145.873 527.605 150.271 L527.605 163.928 L523.323 163.928 L523.323 138.002 L527.605 138.002 L527.605 142.03 Q528.948 139.669 531.1 138.535 Q533.253 137.377 536.332 137.377 Q536.772 137.377 537.304 137.447 Q537.836 137.493 538.485 137.609 L538.508 141.984 Z\" fill=\"#000000\" fill-rule=\"nonzero\" fill-opacity=\"1\" /><path clip-path=\"url(#clip240)\" d=\"M551.98 140.988 Q548.554 140.988 546.563 143.674 Q544.572 146.336 544.572 150.988 Q544.572 155.641 546.54 158.326 Q548.531 160.988 551.98 160.988 Q555.383 160.988 557.373 158.303 Q559.364 155.618 559.364 150.988 Q559.364 146.382 557.373 143.697 Q555.383 140.988 551.98 140.988 M551.98 137.377 Q557.535 137.377 560.707 140.988 Q563.878 144.6 563.878 150.988 Q563.878 157.354 560.707 160.988 Q557.535 164.599 551.98 164.599 Q546.401 164.599 543.23 160.988 Q540.082 157.354 540.082 150.988 Q540.082 144.6 543.23 140.988 Q546.401 137.377 551.98 137.377 Z\" fill=\"#000000\" fill-rule=\"nonzero\" fill-opacity=\"1\" /><polyline clip-path=\"url(#clip240)\" style=\"stroke:#e26f46; stroke-linecap:round; stroke-linejoin:round; stroke-width:12; stroke-opacity:1; fill:none\" points=\"308.681,198.488 451.291,198.488 \"/>\n",
       "<path clip-path=\"url(#clip240)\" d=\"M496.772 200.12 L496.772 215.768 L492.513 215.768 L492.513 200.259 Q492.513 196.578 491.077 194.75 Q489.642 192.921 486.772 192.921 Q483.323 192.921 481.332 195.12 Q479.341 197.319 479.341 201.115 L479.341 215.768 L475.059 215.768 L475.059 179.75 L479.341 179.75 L479.341 193.87 Q480.869 191.532 482.929 190.375 Q485.013 189.217 487.721 189.217 Q492.188 189.217 494.48 191.995 Q496.772 194.75 496.772 200.12 Z\" fill=\"#000000\" fill-rule=\"nonzero\" fill-opacity=\"1\" /><path clip-path=\"url(#clip240)\" d=\"M507.003 197.666 L516.818 197.666 L516.818 200.305 L502.975 200.305 L502.975 197.759 Q503.763 197.041 505.221 195.745 Q513.184 188.685 513.184 186.509 Q513.184 184.981 511.98 184.055 Q510.776 183.106 508.809 183.106 Q507.605 183.106 506.193 183.523 Q504.781 183.916 503.114 184.727 L503.114 181.879 Q504.897 181.231 506.425 180.907 Q507.975 180.583 509.295 180.583 Q512.651 180.583 514.665 182.111 Q516.679 183.639 516.679 186.139 Q516.679 189.356 509.017 195.93 Q507.721 197.041 507.003 197.666 Z\" fill=\"#000000\" fill-rule=\"nonzero\" fill-opacity=\"1\" /></svg>\n"
      ],
      "text/html": [
       "<?xml version=\"1.0\" encoding=\"utf-8\"?>\n",
       "<svg xmlns=\"http://www.w3.org/2000/svg\" xmlns:xlink=\"http://www.w3.org/1999/xlink\" width=\"600\" height=\"400\" viewBox=\"0 0 2400 1600\">\n",
       "<defs>\n",
       "  <clipPath id=\"clip290\">\n",
       "    <rect x=\"0\" y=\"0\" width=\"2400\" height=\"1600\"/>\n",
       "  </clipPath>\n",
       "</defs>\n",
       "<path clip-path=\"url(#clip290)\" d=\"M0 1600 L2400 1600 L2400 0 L0 0  Z\" fill=\"#ffffff\" fill-rule=\"evenodd\" fill-opacity=\"1\"/>\n",
       "<defs>\n",
       "  <clipPath id=\"clip291\">\n",
       "    <rect x=\"480\" y=\"0\" width=\"1681\" height=\"1600\"/>\n",
       "  </clipPath>\n",
       "</defs>\n",
       "<path clip-path=\"url(#clip290)\" d=\"M213.607 1474.16 L2352.76 1474.16 L2352.76 47.2441 L213.607 47.2441  Z\" fill=\"#ffffff\" fill-rule=\"evenodd\" fill-opacity=\"1\"/>\n",
       "<defs>\n",
       "  <clipPath id=\"clip292\">\n",
       "    <rect x=\"213\" y=\"47\" width=\"2140\" height=\"1428\"/>\n",
       "  </clipPath>\n",
       "</defs>\n",
       "<polyline clip-path=\"url(#clip292)\" style=\"stroke:#000000; stroke-linecap:round; stroke-linejoin:round; stroke-width:2; stroke-opacity:0.1; fill:none\" points=\"665.119,1474.16 665.119,47.2441 \"/>\n",
       "<polyline clip-path=\"url(#clip292)\" style=\"stroke:#000000; stroke-linecap:round; stroke-linejoin:round; stroke-width:2; stroke-opacity:0.1; fill:none\" points=\"1622.81,1474.16 1622.81,47.2441 \"/>\n",
       "<polyline clip-path=\"url(#clip290)\" style=\"stroke:#000000; stroke-linecap:round; stroke-linejoin:round; stroke-width:4; stroke-opacity:1; fill:none\" points=\"213.607,1474.16 2352.76,1474.16 \"/>\n",
       "<polyline clip-path=\"url(#clip290)\" style=\"stroke:#000000; stroke-linecap:round; stroke-linejoin:round; stroke-width:4; stroke-opacity:1; fill:none\" points=\"665.119,1474.16 665.119,1455.27 \"/>\n",
       "<polyline clip-path=\"url(#clip290)\" style=\"stroke:#000000; stroke-linecap:round; stroke-linejoin:round; stroke-width:4; stroke-opacity:1; fill:none\" points=\"1622.81,1474.16 1622.81,1455.27 \"/>\n",
       "<path clip-path=\"url(#clip290)\" d=\"M614.538 1548.29 L622.177 1548.29 L622.177 1521.92 L613.867 1523.59 L613.867 1519.33 L622.131 1517.66 L626.807 1517.66 L626.807 1548.29 L634.446 1548.29 L634.446 1552.22 L614.538 1552.22 L614.538 1548.29 Z\" fill=\"#000000\" fill-rule=\"nonzero\" fill-opacity=\"1\" /><path clip-path=\"url(#clip290)\" d=\"M653.89 1520.74 Q650.279 1520.74 648.45 1524.31 Q646.645 1527.85 646.645 1534.98 Q646.645 1542.09 648.45 1545.65 Q650.279 1549.19 653.89 1549.19 Q657.524 1549.19 659.33 1545.65 Q661.158 1542.09 661.158 1534.98 Q661.158 1527.85 659.33 1524.31 Q657.524 1520.74 653.89 1520.74 M653.89 1517.04 Q659.7 1517.04 662.756 1521.65 Q665.834 1526.23 665.834 1534.98 Q665.834 1543.71 662.756 1548.31 Q659.7 1552.9 653.89 1552.9 Q648.08 1552.9 645.001 1548.31 Q641.945 1543.71 641.945 1534.98 Q641.945 1526.23 645.001 1521.65 Q648.08 1517.04 653.89 1517.04 Z\" fill=\"#000000\" fill-rule=\"nonzero\" fill-opacity=\"1\" /><path clip-path=\"url(#clip290)\" d=\"M665.834 1511.14 L689.946 1511.14 L689.946 1514.34 L665.834 1514.34 L665.834 1511.14 Z\" fill=\"#000000\" fill-rule=\"nonzero\" fill-opacity=\"1\" /><path clip-path=\"url(#clip290)\" d=\"M708.584 1500.04 L698.992 1515.03 L708.584 1515.03 L708.584 1500.04 M707.587 1496.73 L712.365 1496.73 L712.365 1515.03 L716.371 1515.03 L716.371 1518.19 L712.365 1518.19 L712.365 1524.81 L708.584 1524.81 L708.584 1518.19 L695.908 1518.19 L695.908 1514.53 L707.587 1496.73 Z\" fill=\"#000000\" fill-rule=\"nonzero\" fill-opacity=\"1\" /><path clip-path=\"url(#clip290)\" d=\"M1573.08 1548.29 L1580.72 1548.29 L1580.72 1521.92 L1572.41 1523.59 L1572.41 1519.33 L1580.67 1517.66 L1585.35 1517.66 L1585.35 1548.29 L1592.99 1548.29 L1592.99 1552.22 L1573.08 1552.22 L1573.08 1548.29 Z\" fill=\"#000000\" fill-rule=\"nonzero\" fill-opacity=\"1\" /><path clip-path=\"url(#clip290)\" d=\"M1612.43 1520.74 Q1608.82 1520.74 1606.99 1524.31 Q1605.19 1527.85 1605.19 1534.98 Q1605.19 1542.09 1606.99 1545.65 Q1608.82 1549.19 1612.43 1549.19 Q1616.07 1549.19 1617.87 1545.65 Q1619.7 1542.09 1619.7 1534.98 Q1619.7 1527.85 1617.87 1524.31 Q1616.07 1520.74 1612.43 1520.74 M1612.43 1517.04 Q1618.24 1517.04 1621.3 1521.65 Q1624.38 1526.23 1624.38 1534.98 Q1624.38 1543.71 1621.3 1548.31 Q1618.24 1552.9 1612.43 1552.9 Q1606.62 1552.9 1603.54 1548.31 Q1600.49 1543.71 1600.49 1534.98 Q1600.49 1526.23 1603.54 1521.65 Q1606.62 1517.04 1612.43 1517.04 Z\" fill=\"#000000\" fill-rule=\"nonzero\" fill-opacity=\"1\" /><path clip-path=\"url(#clip290)\" d=\"M1624.38 1511.14 L1648.49 1511.14 L1648.49 1514.34 L1624.38 1514.34 L1624.38 1511.14 Z\" fill=\"#000000\" fill-rule=\"nonzero\" fill-opacity=\"1\" /><path clip-path=\"url(#clip290)\" d=\"M1659.96 1521.62 L1673.22 1521.62 L1673.22 1524.81 L1655.39 1524.81 L1655.39 1521.62 Q1657.55 1519.38 1661.28 1515.62 Q1665.02 1511.84 1665.98 1510.75 Q1667.8 1508.7 1668.52 1507.29 Q1669.25 1505.86 1669.25 1504.48 Q1669.25 1502.24 1667.67 1500.83 Q1666.11 1499.42 1663.59 1499.42 Q1661.8 1499.42 1659.81 1500.04 Q1657.83 1500.67 1655.58 1501.93 L1655.58 1498.09 Q1657.87 1497.17 1659.87 1496.7 Q1661.86 1496.23 1663.51 1496.23 Q1667.88 1496.23 1670.47 1498.41 Q1673.07 1500.59 1673.07 1504.24 Q1673.07 1505.97 1672.41 1507.53 Q1671.77 1509.07 1670.06 1511.18 Q1669.59 1511.72 1667.07 1514.34 Q1664.55 1516.93 1659.96 1521.62 Z\" fill=\"#000000\" fill-rule=\"nonzero\" fill-opacity=\"1\" /><polyline clip-path=\"url(#clip292)\" style=\"stroke:#000000; stroke-linecap:round; stroke-linejoin:round; stroke-width:2; stroke-opacity:0.1; fill:none\" points=\"213.607,1470.53 2352.76,1470.53 \"/>\n",
       "<polyline clip-path=\"url(#clip292)\" style=\"stroke:#000000; stroke-linecap:round; stroke-linejoin:round; stroke-width:2; stroke-opacity:0.1; fill:none\" points=\"213.607,684.424 2352.76,684.424 \"/>\n",
       "<polyline clip-path=\"url(#clip290)\" style=\"stroke:#000000; stroke-linecap:round; stroke-linejoin:round; stroke-width:4; stroke-opacity:1; fill:none\" points=\"213.607,1474.16 213.607,47.2441 \"/>\n",
       "<polyline clip-path=\"url(#clip290)\" style=\"stroke:#000000; stroke-linecap:round; stroke-linejoin:round; stroke-width:4; stroke-opacity:1; fill:none\" points=\"213.607,1470.53 232.505,1470.53 \"/>\n",
       "<polyline clip-path=\"url(#clip290)\" style=\"stroke:#000000; stroke-linecap:round; stroke-linejoin:round; stroke-width:4; stroke-opacity:1; fill:none\" points=\"213.607,684.424 232.505,684.424 \"/>\n",
       "<path clip-path=\"url(#clip290)\" d=\"M51.6634 1490.32 L59.3023 1490.32 L59.3023 1463.96 L50.9921 1465.63 L50.9921 1461.37 L59.256 1459.7 L63.9319 1459.7 L63.9319 1490.32 L71.5707 1490.32 L71.5707 1494.26 L51.6634 1494.26 L51.6634 1490.32 Z\" fill=\"#000000\" fill-rule=\"nonzero\" fill-opacity=\"1\" /><path clip-path=\"url(#clip290)\" d=\"M91.0151 1462.78 Q87.404 1462.78 85.5753 1466.34 Q83.7697 1469.89 83.7697 1477.01 Q83.7697 1484.12 85.5753 1487.69 Q87.404 1491.23 91.0151 1491.23 Q94.6493 1491.23 96.4548 1487.69 Q98.2835 1484.12 98.2835 1477.01 Q98.2835 1469.89 96.4548 1466.34 Q94.6493 1462.78 91.0151 1462.78 M91.0151 1459.07 Q96.8252 1459.07 99.8808 1463.68 Q102.959 1468.26 102.959 1477.01 Q102.959 1485.74 99.8808 1490.35 Q96.8252 1494.93 91.0151 1494.93 Q85.2049 1494.93 82.1262 1490.35 Q79.0707 1485.74 79.0707 1477.01 Q79.0707 1468.26 82.1262 1463.68 Q85.2049 1459.07 91.0151 1459.07 Z\" fill=\"#000000\" fill-rule=\"nonzero\" fill-opacity=\"1\" /><path clip-path=\"url(#clip290)\" d=\"M102.959 1453.18 L127.071 1453.18 L127.071 1456.37 L102.959 1456.37 L102.959 1453.18 Z\" fill=\"#000000\" fill-rule=\"nonzero\" fill-opacity=\"1\" /><path clip-path=\"url(#clip290)\" d=\"M135.929 1463.65 L142.136 1463.65 L142.136 1442.23 L135.384 1443.58 L135.384 1440.12 L142.098 1438.77 L145.898 1438.77 L145.898 1463.65 L152.104 1463.65 L152.104 1466.85 L135.929 1466.85 L135.929 1463.65 Z\" fill=\"#000000\" fill-rule=\"nonzero\" fill-opacity=\"1\" /><path clip-path=\"url(#clip290)\" d=\"M167.903 1441.27 Q164.969 1441.27 163.483 1444.17 Q162.016 1447.04 162.016 1452.84 Q162.016 1458.61 163.483 1461.51 Q164.969 1464.39 167.903 1464.39 Q170.855 1464.39 172.322 1461.51 Q173.808 1458.61 173.808 1452.84 Q173.808 1447.04 172.322 1444.17 Q170.855 1441.27 167.903 1441.27 M167.903 1438.26 Q172.623 1438.26 175.106 1442 Q177.607 1445.73 177.607 1452.84 Q177.607 1459.93 175.106 1463.67 Q172.623 1467.39 167.903 1467.39 Q163.182 1467.39 160.68 1463.67 Q158.198 1459.93 158.198 1452.84 Q158.198 1445.73 160.68 1442 Q163.182 1438.26 167.903 1438.26 Z\" fill=\"#000000\" fill-rule=\"nonzero\" fill-opacity=\"1\" /><path clip-path=\"url(#clip290)\" d=\"M76.9787 704.216 L84.6175 704.216 L84.6175 677.85 L76.3074 679.517 L76.3074 675.258 L84.5712 673.591 L89.2471 673.591 L89.2471 704.216 L96.886 704.216 L96.886 708.151 L76.9787 708.151 L76.9787 704.216 Z\" fill=\"#000000\" fill-rule=\"nonzero\" fill-opacity=\"1\" /><path clip-path=\"url(#clip290)\" d=\"M116.33 676.67 Q112.719 676.67 110.891 680.235 Q109.085 683.776 109.085 690.906 Q109.085 698.012 110.891 701.577 Q112.719 705.119 116.33 705.119 Q119.965 705.119 121.77 701.577 Q123.599 698.012 123.599 690.906 Q123.599 683.776 121.77 680.235 Q119.965 676.67 116.33 676.67 M116.33 672.966 Q122.14 672.966 125.196 677.573 Q128.275 682.156 128.275 690.906 Q128.275 699.633 125.196 704.239 Q122.14 708.822 116.33 708.822 Q110.52 708.822 107.441 704.239 Q104.386 699.633 104.386 690.906 Q104.386 682.156 107.441 677.573 Q110.52 672.966 116.33 672.966 Z\" fill=\"#000000\" fill-rule=\"nonzero\" fill-opacity=\"1\" /><path clip-path=\"url(#clip290)\" d=\"M128.275 667.068 L152.386 667.068 L152.386 670.265 L128.275 670.265 L128.275 667.068 Z\" fill=\"#000000\" fill-rule=\"nonzero\" fill-opacity=\"1\" /><path clip-path=\"url(#clip290)\" d=\"M160.624 652.661 L175.539 652.661 L175.539 655.858 L164.103 655.858 L164.103 662.742 Q164.931 662.46 165.759 662.328 Q166.586 662.177 167.414 662.177 Q172.116 662.177 174.862 664.754 Q177.607 667.331 177.607 671.732 Q177.607 676.265 174.786 678.785 Q171.965 681.286 166.831 681.286 Q165.063 681.286 163.22 680.985 Q161.395 680.684 159.439 680.082 L159.439 676.265 Q161.132 677.186 162.937 677.637 Q164.743 678.089 166.755 678.089 Q170.009 678.089 171.909 676.377 Q173.808 674.666 173.808 671.732 Q173.808 668.798 171.909 667.086 Q170.009 665.375 166.755 665.375 Q165.232 665.375 163.709 665.713 Q162.204 666.052 160.624 666.767 L160.624 652.661 Z\" fill=\"#000000\" fill-rule=\"nonzero\" fill-opacity=\"1\" /><polyline clip-path=\"url(#clip292)\" style=\"stroke:#009af9; stroke-linecap:round; stroke-linejoin:round; stroke-width:12; stroke-opacity:1; fill:none\" points=\"2292.21,296.58 2148.07,390.878 2003.92,485.446 1859.77,580.081 1715.62,674.732 1571.48,769.388 1427.33,864.044 1283.18,958.701 1139.03,1053.36 994.887,1148.03 850.739,1242.9 706.592,1340.99 562.444,1433.78 418.297,1322.28 274.149,1224.91 \"/>\n",
       "<circle clip-path=\"url(#clip292)\" cx=\"2292.21\" cy=\"296.58\" r=\"14.4\" fill=\"#009af9\" fill-rule=\"evenodd\" fill-opacity=\"1\" stroke=\"#000000\" stroke-opacity=\"1\" stroke-width=\"3.2\"/>\n",
       "<circle clip-path=\"url(#clip292)\" cx=\"2148.07\" cy=\"390.878\" r=\"14.4\" fill=\"#009af9\" fill-rule=\"evenodd\" fill-opacity=\"1\" stroke=\"#000000\" stroke-opacity=\"1\" stroke-width=\"3.2\"/>\n",
       "<circle clip-path=\"url(#clip292)\" cx=\"2003.92\" cy=\"485.446\" r=\"14.4\" fill=\"#009af9\" fill-rule=\"evenodd\" fill-opacity=\"1\" stroke=\"#000000\" stroke-opacity=\"1\" stroke-width=\"3.2\"/>\n",
       "<circle clip-path=\"url(#clip292)\" cx=\"1859.77\" cy=\"580.081\" r=\"14.4\" fill=\"#009af9\" fill-rule=\"evenodd\" fill-opacity=\"1\" stroke=\"#000000\" stroke-opacity=\"1\" stroke-width=\"3.2\"/>\n",
       "<circle clip-path=\"url(#clip292)\" cx=\"1715.62\" cy=\"674.732\" r=\"14.4\" fill=\"#009af9\" fill-rule=\"evenodd\" fill-opacity=\"1\" stroke=\"#000000\" stroke-opacity=\"1\" stroke-width=\"3.2\"/>\n",
       "<circle clip-path=\"url(#clip292)\" cx=\"1571.48\" cy=\"769.388\" r=\"14.4\" fill=\"#009af9\" fill-rule=\"evenodd\" fill-opacity=\"1\" stroke=\"#000000\" stroke-opacity=\"1\" stroke-width=\"3.2\"/>\n",
       "<circle clip-path=\"url(#clip292)\" cx=\"1427.33\" cy=\"864.044\" r=\"14.4\" fill=\"#009af9\" fill-rule=\"evenodd\" fill-opacity=\"1\" stroke=\"#000000\" stroke-opacity=\"1\" stroke-width=\"3.2\"/>\n",
       "<circle clip-path=\"url(#clip292)\" cx=\"1283.18\" cy=\"958.701\" r=\"14.4\" fill=\"#009af9\" fill-rule=\"evenodd\" fill-opacity=\"1\" stroke=\"#000000\" stroke-opacity=\"1\" stroke-width=\"3.2\"/>\n",
       "<circle clip-path=\"url(#clip292)\" cx=\"1139.03\" cy=\"1053.36\" r=\"14.4\" fill=\"#009af9\" fill-rule=\"evenodd\" fill-opacity=\"1\" stroke=\"#000000\" stroke-opacity=\"1\" stroke-width=\"3.2\"/>\n",
       "<circle clip-path=\"url(#clip292)\" cx=\"994.887\" cy=\"1148.03\" r=\"14.4\" fill=\"#009af9\" fill-rule=\"evenodd\" fill-opacity=\"1\" stroke=\"#000000\" stroke-opacity=\"1\" stroke-width=\"3.2\"/>\n",
       "<circle clip-path=\"url(#clip292)\" cx=\"850.739\" cy=\"1242.9\" r=\"14.4\" fill=\"#009af9\" fill-rule=\"evenodd\" fill-opacity=\"1\" stroke=\"#000000\" stroke-opacity=\"1\" stroke-width=\"3.2\"/>\n",
       "<circle clip-path=\"url(#clip292)\" cx=\"706.592\" cy=\"1340.99\" r=\"14.4\" fill=\"#009af9\" fill-rule=\"evenodd\" fill-opacity=\"1\" stroke=\"#000000\" stroke-opacity=\"1\" stroke-width=\"3.2\"/>\n",
       "<circle clip-path=\"url(#clip292)\" cx=\"562.444\" cy=\"1433.78\" r=\"14.4\" fill=\"#009af9\" fill-rule=\"evenodd\" fill-opacity=\"1\" stroke=\"#000000\" stroke-opacity=\"1\" stroke-width=\"3.2\"/>\n",
       "<circle clip-path=\"url(#clip292)\" cx=\"418.297\" cy=\"1322.28\" r=\"14.4\" fill=\"#009af9\" fill-rule=\"evenodd\" fill-opacity=\"1\" stroke=\"#000000\" stroke-opacity=\"1\" stroke-width=\"3.2\"/>\n",
       "<circle clip-path=\"url(#clip292)\" cx=\"274.149\" cy=\"1224.91\" r=\"14.4\" fill=\"#009af9\" fill-rule=\"evenodd\" fill-opacity=\"1\" stroke=\"#000000\" stroke-opacity=\"1\" stroke-width=\"3.2\"/>\n",
       "<polyline clip-path=\"url(#clip292)\" style=\"stroke:#e26f46; stroke-linecap:round; stroke-linejoin:round; stroke-width:12; stroke-opacity:1; fill:none\" points=\"2292.21,87.6286 2148.07,182.286 2003.92,276.942 1859.77,371.599 1715.62,466.256 1571.48,560.913 1427.33,655.57 1283.18,750.227 1139.03,844.884 994.887,939.541 850.739,1034.2 706.592,1128.85 562.444,1223.51 418.297,1318.17 274.149,1412.83 \"/>\n",
       "<path clip-path=\"url(#clip290)\" d=\"M284.912 250.328 L587.646 250.328 L587.646 94.8081 L284.912 94.8081  Z\" fill=\"#ffffff\" fill-rule=\"evenodd\" fill-opacity=\"1\"/>\n",
       "<polyline clip-path=\"url(#clip290)\" style=\"stroke:#000000; stroke-linecap:round; stroke-linejoin:round; stroke-width:4; stroke-opacity:1; fill:none\" points=\"284.912,250.328 587.646,250.328 587.646,94.8081 284.912,94.8081 284.912,250.328 \"/>\n",
       "<polyline clip-path=\"url(#clip290)\" style=\"stroke:#009af9; stroke-linecap:round; stroke-linejoin:round; stroke-width:12; stroke-opacity:1; fill:none\" points=\"308.681,146.648 451.291,146.648 \"/>\n",
       "<circle clip-path=\"url(#clip290)\" cx=\"379.986\" cy=\"146.648\" r=\"19.8069\" fill=\"#009af9\" fill-rule=\"evenodd\" fill-opacity=\"1\" stroke=\"#000000\" stroke-opacity=\"1\" stroke-width=\"4.55111\"/>\n",
       "<path clip-path=\"url(#clip290)\" d=\"M475.059 129.368 L496.911 129.368 L496.911 133.303 L479.735 133.303 L479.735 143.535 L496.193 143.535 L496.193 147.47 L479.735 147.47 L479.735 159.993 L497.327 159.993 L497.327 163.928 L475.059 163.928 L475.059 129.368 Z\" fill=\"#000000\" fill-rule=\"nonzero\" fill-opacity=\"1\" /><path clip-path=\"url(#clip290)\" d=\"M519.85 141.984 Q519.133 141.567 518.276 141.382 Q517.443 141.174 516.424 141.174 Q512.813 141.174 510.869 143.535 Q508.948 145.873 508.948 150.271 L508.948 163.928 L504.665 163.928 L504.665 138.002 L508.948 138.002 L508.948 142.03 Q510.29 139.669 512.443 138.535 Q514.596 137.377 517.674 137.377 Q518.114 137.377 518.647 137.447 Q519.179 137.493 519.827 137.609 L519.85 141.984 Z\" fill=\"#000000\" fill-rule=\"nonzero\" fill-opacity=\"1\" /><path clip-path=\"url(#clip290)\" d=\"M538.508 141.984 Q537.79 141.567 536.934 141.382 Q536.1 141.174 535.082 141.174 Q531.471 141.174 529.526 143.535 Q527.605 145.873 527.605 150.271 L527.605 163.928 L523.323 163.928 L523.323 138.002 L527.605 138.002 L527.605 142.03 Q528.948 139.669 531.1 138.535 Q533.253 137.377 536.332 137.377 Q536.772 137.377 537.304 137.447 Q537.836 137.493 538.485 137.609 L538.508 141.984 Z\" fill=\"#000000\" fill-rule=\"nonzero\" fill-opacity=\"1\" /><path clip-path=\"url(#clip290)\" d=\"M551.98 140.988 Q548.554 140.988 546.563 143.674 Q544.572 146.336 544.572 150.988 Q544.572 155.641 546.54 158.326 Q548.531 160.988 551.98 160.988 Q555.383 160.988 557.373 158.303 Q559.364 155.618 559.364 150.988 Q559.364 146.382 557.373 143.697 Q555.383 140.988 551.98 140.988 M551.98 137.377 Q557.535 137.377 560.707 140.988 Q563.878 144.6 563.878 150.988 Q563.878 157.354 560.707 160.988 Q557.535 164.599 551.98 164.599 Q546.401 164.599 543.23 160.988 Q540.082 157.354 540.082 150.988 Q540.082 144.6 543.23 140.988 Q546.401 137.377 551.98 137.377 Z\" fill=\"#000000\" fill-rule=\"nonzero\" fill-opacity=\"1\" /><polyline clip-path=\"url(#clip290)\" style=\"stroke:#e26f46; stroke-linecap:round; stroke-linejoin:round; stroke-width:12; stroke-opacity:1; fill:none\" points=\"308.681,198.488 451.291,198.488 \"/>\n",
       "<path clip-path=\"url(#clip290)\" d=\"M496.772 200.12 L496.772 215.768 L492.513 215.768 L492.513 200.259 Q492.513 196.578 491.077 194.75 Q489.642 192.921 486.772 192.921 Q483.323 192.921 481.332 195.12 Q479.341 197.319 479.341 201.115 L479.341 215.768 L475.059 215.768 L475.059 179.75 L479.341 179.75 L479.341 193.87 Q480.869 191.532 482.929 190.375 Q485.013 189.217 487.721 189.217 Q492.188 189.217 494.48 191.995 Q496.772 194.75 496.772 200.12 Z\" fill=\"#000000\" fill-rule=\"nonzero\" fill-opacity=\"1\" /><path clip-path=\"url(#clip290)\" d=\"M507.003 197.666 L516.818 197.666 L516.818 200.305 L502.975 200.305 L502.975 197.759 Q503.763 197.041 505.221 195.745 Q513.184 188.685 513.184 186.509 Q513.184 184.981 511.98 184.055 Q510.776 183.106 508.809 183.106 Q507.605 183.106 506.193 183.523 Q504.781 183.916 503.114 184.727 L503.114 181.879 Q504.897 181.231 506.425 180.907 Q507.975 180.583 509.295 180.583 Q512.651 180.583 514.665 182.111 Q516.679 183.639 516.679 186.139 Q516.679 189.356 509.017 195.93 Q507.721 197.041 507.003 197.666 Z\" fill=\"#000000\" fill-rule=\"nonzero\" fill-opacity=\"1\" /></svg>\n"
      ]
     },
     "execution_count": 19,
     "metadata": {},
     "output_type": "execute_result"
    }
   ],
   "source": [
    "α = 1.0\n",
    "β = 1.0\n",
    "\n",
    "n_testes = 16\n",
    "estudo_convergencia(n_testes, f4, u4, α, β)"
   ]
  },
  {
   "cell_type": "code",
   "execution_count": null,
   "id": "f25048aa",
   "metadata": {},
   "outputs": [],
   "source": []
  }
 ],
 "metadata": {
  "kernelspec": {
   "display_name": "Julia 1.10.2",
   "language": "julia",
   "name": "julia-1.10"
  },
  "language_info": {
   "file_extension": ".jl",
   "mimetype": "application/julia",
   "name": "julia",
   "version": "1.10.2"
  }
 },
 "nbformat": 4,
 "nbformat_minor": 5
}
